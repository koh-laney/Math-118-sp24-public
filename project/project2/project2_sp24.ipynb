{
 "cells": [
  {
   "cell_type": "code",
   "execution_count": null,
   "id": "1615f781",
   "metadata": {
    "deletable": false,
    "editable": false
   },
   "outputs": [],
   "source": [
    "# Initialize Otter\n",
    "import otter\n",
    "grader = otter.Notebook(\"project2_sp24.ipynb\")"
   ]
  },
  {
   "cell_type": "markdown",
   "id": "73f92c86",
   "metadata": {},
   "source": [
    "# Project 2: Climate Change—Temperatures and Precipitation\n",
    "\n",
    "In this project, you will investigate data on climate change, or the long-term shifts in temperatures and weather patterns!"
   ]
  },
  {
   "cell_type": "markdown",
   "id": "7cb1e01e",
   "metadata": {},
   "source": [
    "### Logistics\n",
    "\n",
    "**Rules.** Don't share your code with anybody but your partner, if you have one. You are welcome to discuss questions with other students, but don't share the answers. The experience of solving the problems in this project will prepare you for exams (and life). If someone asks you for the answer, resist! Instead, you can demonstrate how you would solve a similar problem.\n",
    "\n",
    "**Support.** You are not alone! Come to office hours and talk to your classmates. If you're ever feeling overwhelmed or don't know how to make progress, email for help.\n",
    "\n",
    "**Tests.** The tests that are given are **not comprehensive** and passing the tests for a question **does not** mean that you answered the question correctly. Tests usually only check that your table has the correct column labels. However, more tests will be applied to verify the correctness of your submission in order to assign your final score, so be careful and check your work! You might want to create your own checks along the way to see if your answers make sense. Additionally, before you submit, make sure that none of your cells take a very long time to run (several minutes).\n",
    "\n",
    "**Free Response Questions:** Make sure that you put the answers to the written questions in the indicated cell we provide. **Every free response question should include an explanation** that adequately answers the question.\n",
    "\n",
    "**Advice.** Develop your answers incrementally. To perform a complicated task, break it up into steps, perform each step on a different line, give a new name to each result, and check that each intermediate result is what you expect. You can add any additional names or functions you want to the provided cells. Make sure that you are using distinct and meaningful variable names throughout the notebook. Along that line, **DO NOT** reuse the variable names that we use when we grade your answers. \n",
    "\n",
    "You **never** have to use just one line in this project or any others. Use intermediate variables and multiple lines as much as you would like!\n",
    "\n",
    "All of the concepts necessary for this project are found in the textbook. If you are stuck on a particular problem, reading through the relevant textbook section often will help clarify the concept.\n",
    "\n",
    "\n",
    "---\n",
    "\n",
    "To get started, load `datascience`, `numpy`, `matplotlib`, and `d8error`. Make sure to also run the first cell of this notebook to load `otter`."
   ]
  },
  {
   "cell_type": "code",
   "execution_count": null,
   "id": "31215fe2",
   "metadata": {
    "execution": {
     "iopub.execute_input": "2022-04-01T19:48:15.381590Z",
     "iopub.status.busy": "2022-04-01T19:48:15.381212Z",
     "iopub.status.idle": "2022-04-01T19:48:16.995289Z",
     "shell.execute_reply": "2022-04-01T19:48:16.994134Z"
    }
   },
   "outputs": [],
   "source": [
    "# Run this cell to set up the notebook, but please don't change it.\n",
    "from datascience import *\n",
    "import numpy as np\n",
    "\n",
    "%matplotlib inline\n",
    "import matplotlib.pyplot as plt\n",
    "plt.style.use('fivethirtyeight')\n",
    "np.set_printoptions(legacy='1.13')\n",
    "\n",
    "import warnings\n",
    "warnings.simplefilter('ignore')\n",
    "import d8error"
   ]
  },
  {
   "cell_type": "markdown",
   "id": "08c7530a",
   "metadata": {},
   "source": [
    "## Part 1: Temperatures"
   ]
  },
  {
   "cell_type": "markdown",
   "id": "b7fdb61a",
   "metadata": {},
   "source": [
    "In the following analysis, we will investigate one of the 21st century's most prominent issues: climate change. While the details of climate science are beyond the scope of this course, we can start to learn about climate change just by analyzing public records of different cities' temperature and precipitation over time.\n",
    "\n",
    "We will analyze a collection of historical daily temperature and precipitation measurements from weather stations in 209 U.S. cities. The dataset was compiled by Yuchuan Lai and David Dzombak [1]; a description of the data from the original authors and the data itself is available [here](https://kilthub.cmu.edu/articles/dataset/Compiled_daily_temperature_and_precipitation_data_for_the_U_S_cities/7890488). \n",
    "\n",
    "[1] Lai, Yuchuan; Dzombak, David (2019): Compiled historical daily temperature and precipitation data for selected 209 U.S. cities. Carnegie Mellon University. Dataset."
   ]
  },
  {
   "cell_type": "markdown",
   "id": "db76fdd0",
   "metadata": {
    "tags": []
   },
   "source": [
    "### Part 1, Section 1: Cities"
   ]
  },
  {
   "cell_type": "markdown",
   "id": "5dcdf2f8",
   "metadata": {},
   "source": [
    "Run the following cell to load information about the `cities` and preview the first few rows."
   ]
  },
  {
   "cell_type": "code",
   "execution_count": null,
   "id": "8642047c",
   "metadata": {
    "execution": {
     "iopub.execute_input": "2022-04-01T19:48:17.000245Z",
     "iopub.status.busy": "2022-04-01T19:48:16.999397Z",
     "iopub.status.idle": "2022-04-01T19:48:17.018421Z",
     "shell.execute_reply": "2022-04-01T19:48:17.016873Z"
    }
   },
   "outputs": [],
   "source": [
    "cities = Table.read_table('city.csv', index_col=0)\n",
    "cities.show(5)"
   ]
  },
  {
   "cell_type": "markdown",
   "id": "3467e440",
   "metadata": {},
   "source": [
    "The `cities` table has one row per weather station and the following columns:\n",
    "\n",
    "1. `\"Name\"`: The name of the US city\n",
    "2. `\"ID\"`: The unique identifier for the US city\n",
    "3. `\"Latitude\"`: The latitude of the US city (measured in degrees of latitude)\n",
    "4. `\"Longitude\"`: The longitude of the US city (measured in degrees of longitude)\n",
    "4. `\"Stn.Name\"`: The name of the weather station in which the data was collected\n",
    "5. `\"Stn.stDate\"`: A string representing the date of the first recording at that particular station\n",
    "6. `\"Stn.edDate\"`: A string representing the date of the last recording at that particular station\n",
    "\n",
    "The data lists the weather stations at which temperature and precipitation data were collected. Note that although some cities have multiple weather stations, only one is collecting data for that city at any given point in time. Thus, we are able to just focus on the cities themselves."
   ]
  },
  {
   "cell_type": "markdown",
   "id": "336dfc5e",
   "metadata": {},
   "source": [
    "<!-- BEGIN QUESTION -->\n",
    "\n",
    "**Question 1.1.1:** In the cell below, produce a scatter plot that plots the latitude and longitude of every city in the `cities` table so that the result places northern cities at the top and western cities at the left.\n",
    "\n",
    "*Note*: It's okay to plot the same point multiple times!\n"
   ]
  },
  {
   "cell_type": "code",
   "execution_count": null,
   "id": "d0b0d5ee",
   "metadata": {
    "execution": {
     "iopub.execute_input": "2022-04-01T19:48:17.023055Z",
     "iopub.status.busy": "2022-04-01T19:48:17.022765Z",
     "iopub.status.idle": "2022-04-01T19:48:17.350971Z",
     "shell.execute_reply": "2022-04-01T19:48:17.349623Z"
    },
    "tags": []
   },
   "outputs": [],
   "source": [
    "..."
   ]
  },
  {
   "cell_type": "markdown",
   "id": "7ae2e338",
   "metadata": {},
   "source": [
    "<!-- END QUESTION -->\n",
    "\n",
    "These cities are all within the continental U.S., and so the general shape of the U.S. should be visible in your plot. The shape will appear distorted compared to most maps for two reasons: the scatter plot is square even though the U.S. is wider than it is tall, and this scatter plot is an [equirectangular projection](https://en.wikipedia.org/wiki/Equirectangular_projection) of the spherical Earth. A geographical map of the same data uses the common [Pseudo-Mercator projection](https://en.wikipedia.org/wiki/Web_Mercator_projection)."
   ]
  },
  {
   "cell_type": "code",
   "execution_count": null,
   "id": "7d8fac7f",
   "metadata": {
    "execution": {
     "iopub.execute_input": "2022-04-01T19:48:17.356104Z",
     "iopub.status.busy": "2022-04-01T19:48:17.355254Z",
     "iopub.status.idle": "2022-04-01T19:48:18.357388Z",
     "shell.execute_reply": "2022-04-01T19:48:18.356174Z"
    }
   },
   "outputs": [],
   "source": [
    "# Just run this cell\n",
    "Marker.map_table(cities.select('Latitude', 'Longitude', 'Name').relabeled('Name', 'labels'))"
   ]
  },
  {
   "cell_type": "markdown",
   "id": "0ba07928",
   "metadata": {},
   "source": [
    "<!-- BEGIN QUESTION -->\n",
    "\n",
    "**Question 1.1.2** How do the city locations reflect the distribution of population centers and geographic diversity across the US?\n"
   ]
  },
  {
   "cell_type": "markdown",
   "id": "add6158d",
   "metadata": {},
   "source": [
    "_Type your answer here, replacing this text._"
   ]
  },
  {
   "cell_type": "markdown",
   "id": "b19d3500",
   "metadata": {},
   "source": [
    "<!-- END QUESTION -->\n",
    "\n",
    "**Question 1.1.3:** Assign `unique_city_count` to the number of unique cities that appear in the `cities` table.\n"
   ]
  },
  {
   "cell_type": "code",
   "execution_count": null,
   "id": "7cfe93f4",
   "metadata": {
    "execution": {
     "iopub.execute_input": "2022-04-01T19:48:18.368079Z",
     "iopub.status.busy": "2022-04-01T19:48:18.367301Z",
     "iopub.status.idle": "2022-04-01T19:48:18.391902Z",
     "shell.execute_reply": "2022-04-01T19:48:18.390553Z"
    },
    "tags": []
   },
   "outputs": [],
   "source": [
    "unique_city_count = ...\n",
    "\n",
    "# Do not change this line\n",
    "print(f\"There are {unique_city_count} unique cities that appear within our dataset.\")"
   ]
  },
  {
   "cell_type": "code",
   "execution_count": null,
   "id": "fa98cdac",
   "metadata": {
    "deletable": false,
    "editable": false
   },
   "outputs": [],
   "source": [
    "grader.check(\"q1_1_3\")"
   ]
  },
  {
   "cell_type": "markdown",
   "id": "cf9b3a13",
   "metadata": {},
   "source": [
    "In order to investigate further, it will be helpful to determine what region of the United States each city was located in: Northeast, Northwest, Southeast, or Southwest. For our purposes, we will be using the following geographical boundaries:\n",
    "\n",
    "<img src= \"usa_coordinates.png\" alt=\"USA Coordinate Map\" width=\"600\"/>\n",
    "\n",
    "1. A station is located in the `\"Northeast\"` region if its latitude is above or equal to 37 degrees and its longtitude is greater than or equal to -100 degrees.\n",
    "2. A station is located in the `\"Northwest\"` region if its latitude is above or equal to 37 degrees and its longtitude is less than -100 degrees.\n",
    "3. A station is located in the `\"Southeast\"` region if its latitude is below 37 degrees and its longtitude is greater than or equal to -100 degrees.\n",
    "4. A station is located in the `\"Southwest\"` region if its latitude is below 37 degrees and its longtitude is less than -100 degrees."
   ]
  },
  {
   "cell_type": "markdown",
   "id": "2a17ab3b",
   "metadata": {},
   "source": [
    "**Question 1.1.4**: Define the `region_coordinates` function below. It should take in two arguments, a city's latitude (`lat`) and longitude (`lon`) coordinates, and output a string representing the region it is located in.\n"
   ]
  },
  {
   "cell_type": "code",
   "execution_count": null,
   "id": "0d4f931f",
   "metadata": {
    "execution": {
     "iopub.execute_input": "2022-04-01T19:48:18.451859Z",
     "iopub.status.busy": "2022-04-01T19:48:18.451565Z",
     "iopub.status.idle": "2022-04-01T19:48:18.457133Z",
     "shell.execute_reply": "2022-04-01T19:48:18.456189Z"
    },
    "tags": []
   },
   "outputs": [],
   "source": [
    "def region_coordinates(...):\n",
    "    ..."
   ]
  },
  {
   "cell_type": "code",
   "execution_count": null,
   "id": "c483e2b1",
   "metadata": {
    "deletable": false,
    "editable": false
   },
   "outputs": [],
   "source": [
    "grader.check(\"q1_1_4\")"
   ]
  },
  {
   "cell_type": "markdown",
   "id": "91a9ce81",
   "metadata": {},
   "source": [
    "**Question 1.1.5**: Add a new column in `cities` labeled `Area` that contains the region in which the city is located. For full credit, you must use the `region_coordinates` function you defined rather than reimplementing its logic.\n"
   ]
  },
  {
   "cell_type": "code",
   "execution_count": null,
   "id": "d0491fa2",
   "metadata": {
    "execution": {
     "iopub.execute_input": "2022-04-01T19:48:18.556390Z",
     "iopub.status.busy": "2022-04-01T19:48:18.555478Z",
     "iopub.status.idle": "2022-04-01T19:48:18.563153Z",
     "shell.execute_reply": "2022-04-01T19:48:18.562375Z"
    },
    "tags": []
   },
   "outputs": [],
   "source": [
    "area_array = ...\n",
    "cities = ...\n",
    "cities.show(5)"
   ]
  },
  {
   "cell_type": "code",
   "execution_count": null,
   "id": "bb29986d",
   "metadata": {
    "deletable": false,
    "editable": false
   },
   "outputs": [],
   "source": [
    "grader.check(\"q1_1_5\")"
   ]
  },
  {
   "cell_type": "markdown",
   "id": "e0164181",
   "metadata": {},
   "source": [
    "To confirm that you've defined your `region_coordinates` function correctly and successfully added the `Area` column to the `cities` table, run the following cell. Each region should have a different color in the result."
   ]
  },
  {
   "cell_type": "code",
   "execution_count": null,
   "id": "9bc2ab4c",
   "metadata": {
    "execution": {
     "iopub.execute_input": "2022-04-01T19:48:18.679008Z",
     "iopub.status.busy": "2022-04-01T19:48:18.678343Z",
     "iopub.status.idle": "2022-04-01T19:48:18.982745Z",
     "shell.execute_reply": "2022-04-01T19:48:18.981716Z"
    }
   },
   "outputs": [],
   "source": [
    "# Just run this cell\n",
    "cities.scatter(\"Longitude\", \"Latitude\", group=\"Area\")"
   ]
  },
  {
   "cell_type": "markdown",
   "id": "3d79284a",
   "metadata": {},
   "source": [
    "**Challenge Question 1.1.6 (OPTIONAL, ungraded)**: Create a new table called `cities_nearest`. It should contain the same columns as the `cities` table and an additional column called `\"Nearest\"` that contains the **name of the nearest city** that is in a different region from the city described by the row.\n",
    "\n",
    "To approximate the distance between two cities, take the square root of the sum of the squared difference between their latitudes and the square difference between their longitudes. Don't use a `for` statement; instead, use the `apply` method and array arithmetic.\n",
    "\n",
    "*Hint*: We have defined a `distance` function for you, which can be called on numbers `lat0` and `lon0` and arrays `lat1` and `lon1`."
   ]
  },
  {
   "cell_type": "code",
   "execution_count": null,
   "id": "515f53f7",
   "metadata": {
    "execution": {
     "iopub.execute_input": "2022-04-01T19:48:18.986752Z",
     "iopub.status.busy": "2022-04-01T19:48:18.986494Z",
     "iopub.status.idle": "2022-04-01T19:48:19.806072Z",
     "shell.execute_reply": "2022-04-01T19:48:19.804837Z"
    },
    "tags": []
   },
   "outputs": [],
   "source": [
    "def distance(lat0, lon0, lat1, lon1):\n",
    "    \"Approximate the distance between point (lat0, lon0) and (lat1, lon1) pairs in the arrays.\"\n",
    "    return np.sqrt((lat0 - lat1) * (lat0 - lat1) + (lon0 - lon1) * (lon0 - lon1))\n",
    "\n",
    "def nearest(name):\n",
    "    row = ...\n",
    "    others = ...\n",
    "    distances = ...\n",
    "    return others.with_column('dist', distances).sort('dist').row(0).item('Name')\n",
    "\n",
    "nearest_array = cities.apply(nearest, \"Name\")\n",
    "\n",
    "cities_nearest = ...\n",
    "cities_nearest.show(5)"
   ]
  },
  {
   "cell_type": "markdown",
   "id": "06260fb0",
   "metadata": {},
   "source": [
    "### Part 1, Section 2: Welcome to Sacramento, California"
   ]
  },
  {
   "cell_type": "markdown",
   "id": "b704addd",
   "metadata": {},
   "source": [
    "Each city has a different CSV file full of daily temperature and precipitation measurements. The file for Sacramento, California is included with this project as `sacramento.csv`. The files for other cities can be downloaded [here](https://kilthub.cmu.edu/articles/dataset/Compiled_daily_temperature_and_precipitation_data_for_the_U_S_cities/7890488) by matching them to the ID of the city in the `cities` table.\n",
    "\n",
    "Since Sacramento is the city located closest to the Bay Area, it is interesting to look at its temperatures.\n",
    "\n",
    "Run the following cell to load in the `sacramento` table. It has one row per day and the following columns:\n",
    "\n",
    "1. `\"Date\"`: The date (a string) representing the date of the recording in **YYYY-MM-DD** format\n",
    "2. `\"tmax\"`: The maximum temperature for the  day (°F)\n",
    "3. `\"tmin\"`: The minimum temperature for the day (°F)\n",
    "4. `\"prcp\"`: The recorded precipitation for the day (inches)"
   ]
  },
  {
   "cell_type": "code",
   "execution_count": null,
   "id": "a3cb457a",
   "metadata": {
    "execution": {
     "iopub.execute_input": "2022-04-01T19:48:19.809733Z",
     "iopub.status.busy": "2022-04-01T19:48:19.809458Z",
     "iopub.status.idle": "2022-04-01T19:48:19.919734Z",
     "shell.execute_reply": "2022-04-01T19:48:19.918491Z"
    }
   },
   "outputs": [],
   "source": [
    "sacramento = Table.read_table(\"sacramento.csv\", index_col=0)\n",
    "sacramento.show(10)"
   ]
  },
  {
   "cell_type": "markdown",
   "id": "77a9bf87",
   "metadata": {},
   "source": [
    "**Question 1.2.1:** Assign the variable `highest_2020_average_temp` to the date of the **highest average temperature** in Sacramento, California for any day between January 1st, 2020 and December 31st, 2020. Your answer should be a string in the \"YYYY-MM-DD\" format. Feel free to use as many lines as you need. An average temperature is calculated as the sum of the max and min temperatures for the day divided by 2.\n",
    "\n",
    "*Hint*: To limit the values in a column to only those that *contain* a certain string, pick the right `are.` predicate from the [Python Reference Sheet](http://data8.org/sp22/python-reference.html).\n",
    "\n",
    "*Note:* Do **not** re-assign the `sacramento` variable; please use the `sacramento_with_averages_2020` variable instead.\n"
   ]
  },
  {
   "cell_type": "code",
   "execution_count": null,
   "id": "f62b88df",
   "metadata": {
    "execution": {
     "iopub.execute_input": "2022-04-01T19:48:19.923597Z",
     "iopub.status.busy": "2022-04-01T19:48:19.923362Z",
     "iopub.status.idle": "2022-04-01T19:48:19.966729Z",
     "shell.execute_reply": "2022-04-01T19:48:19.965765Z"
    },
    "tags": []
   },
   "outputs": [],
   "source": [
    "...\n",
    "sacramento_with_averages_2020 = ...\n",
    "highest_2020_average_date = ...\n",
    "highest_2020_average_date"
   ]
  },
  {
   "cell_type": "code",
   "execution_count": null,
   "id": "5f49abfb",
   "metadata": {
    "deletable": false,
    "editable": false
   },
   "outputs": [],
   "source": [
    "grader.check(\"q1_2_1\")"
   ]
  },
  {
   "cell_type": "markdown",
   "id": "9ee2007e",
   "metadata": {},
   "source": [
    "We can look back to our `sacramento` table to check the temperature readings for our `highest_2020_average_date` to see if anything special is going on. Run the cell below to find the row of the `sacramento` table that corresponds to the date we found above. "
   ]
  },
  {
   "cell_type": "code",
   "execution_count": null,
   "id": "d5ce7fa8",
   "metadata": {
    "execution": {
     "iopub.execute_input": "2022-04-01T19:48:19.988378Z",
     "iopub.status.busy": "2022-04-01T19:48:19.988158Z",
     "iopub.status.idle": "2022-04-01T19:48:20.065916Z",
     "shell.execute_reply": "2022-04-01T19:48:20.065120Z"
    }
   },
   "outputs": [],
   "source": [
    "# Just run this cell\n",
    "sacramento.where(\"Date\", highest_2020_average_date)"
   ]
  },
  {
   "cell_type": "markdown",
   "id": "02454c65",
   "metadata": {},
   "source": [
    "ZOO WEE MAMA! Look at the maximum temperature for that day. That's hot. But not as hot as Sacramento's all-time high temperature reached on September 6, 2022 of 116 degrees!!"
   ]
  },
  {
   "cell_type": "markdown",
   "id": "956525ee",
   "metadata": {},
   "source": [
    "The function `get_month_from_date` takes a date string in the **YYYY-MM-DD** format and returns an integer representing the **month**. The function `get_year_from_date` takes a date string and returns a string describing the **year**. Run this cell, but you do not need to understand how this code works or edit it."
   ]
  },
  {
   "cell_type": "code",
   "execution_count": null,
   "id": "e07377db",
   "metadata": {
    "execution": {
     "iopub.execute_input": "2022-04-01T19:48:20.069363Z",
     "iopub.status.busy": "2022-04-01T19:48:20.069132Z",
     "iopub.status.idle": "2022-04-01T19:48:20.076243Z",
     "shell.execute_reply": "2022-04-01T19:48:20.075163Z"
    }
   },
   "outputs": [],
   "source": [
    "# Just run this cell\n",
    "import calendar\n",
    "\n",
    "def get_month_from_date(date):\n",
    "    \"Return an abbreviation of the name of the month for a string's date.\"\n",
    "    month = date[5:7]\n",
    "    return f'{month} ({calendar.month_abbr[int(date[5:7])]})'\n",
    "\n",
    "def get_year_from_date(date):\n",
    "    \"\"\"Returns an integer corresponding to the year of the input string's date.\"\"\"\n",
    "    return int(date[:4])\n",
    "\n",
    "\n",
    "# Example\n",
    "print('2022-04-01 has month', get_month_from_date('2022-04-01'),\n",
    "      'and year', get_year_from_date('2022-04-01'))"
   ]
  },
  {
   "cell_type": "markdown",
   "id": "4a1fc6a8",
   "metadata": {},
   "source": [
    "**Question 1.2.2:** Add two new columns called `Month` and `Year` to the `sacramento` table that contain the month as a **string** (such as `\"04 (Apr)\"`) and the year as an **integer** for each day, respectively. \n",
    "\n",
    "*Note*: The functions above may be helpful!\n"
   ]
  },
  {
   "cell_type": "code",
   "execution_count": null,
   "id": "22a15f36",
   "metadata": {
    "execution": {
     "iopub.execute_input": "2022-04-01T19:48:20.080472Z",
     "iopub.status.busy": "2022-04-01T19:48:20.080241Z",
     "iopub.status.idle": "2022-04-01T19:48:20.313030Z",
     "shell.execute_reply": "2022-04-01T19:48:20.311830Z"
    },
    "tags": []
   },
   "outputs": [],
   "source": [
    "months_array = ...\n",
    "years_array = ...\n",
    "\n",
    " ...\n",
    "sacramento.show(5)"
   ]
  },
  {
   "cell_type": "code",
   "execution_count": null,
   "id": "e6f6ee9f",
   "metadata": {
    "deletable": false,
    "editable": false
   },
   "outputs": [],
   "source": [
    "grader.check(\"q1_2_2\")"
   ]
  },
  {
   "cell_type": "markdown",
   "id": "8cd92b91",
   "metadata": {},
   "source": [
    "<!-- BEGIN QUESTION -->\n",
    "\n",
    "**Question 1.2.3:** A recent study has found that all species appear to thrive at an \"optimal\" 20 degrees (68 degrees Fahrenheit). Using the `sacramento` table, create a line plot of the **average number of days the maximum temperature was above 68 degrees** for each year between 1920 and 2021. "
   ]
  },
  {
   "cell_type": "code",
   "execution_count": null,
   "id": "bed5cbc0",
   "metadata": {
    "execution": {
     "iopub.execute_input": "2022-04-01T19:48:24.101776Z",
     "iopub.status.busy": "2022-04-01T19:48:24.100683Z",
     "iopub.status.idle": "2022-04-01T19:48:25.549633Z",
     "shell.execute_reply": "2022-04-01T19:48:25.548857Z"
    },
    "tags": []
   },
   "outputs": [],
   "source": [
    "hot_day = ...\n",
    "sacramento_hot = ..."
   ]
  },
  {
   "cell_type": "markdown",
   "id": "ad8ca23c",
   "metadata": {},
   "source": [
    "<!-- END QUESTION -->\n",
    "\n",
    "<!-- BEGIN QUESTION -->\n",
    "\n",
    "**Question 1.2.4:** Although still hotly debated (pun intended), many climate scientists agree that the effects of climate change began to surface in the early 1960s as a result of elevated levels of greenhouse gas emissions. How does the graph you produced in Question 1.2.3 support the claim that modern-day global warming began in the early 1960s? \n"
   ]
  },
  {
   "cell_type": "markdown",
   "id": "818fee2d",
   "metadata": {},
   "source": [
    "_Type your answer here, replacing this text._"
   ]
  },
  {
   "cell_type": "markdown",
   "id": "fa9a4074",
   "metadata": {},
   "source": [
    "<!-- END QUESTION -->\n",
    "\n",
    "Averaging temperatures across an entire year can obscure some effects of climate change. For example, if summers get hotter but winters get colder, the annual average may not change much. Let's investigate how average **monthly** minimum temperatures have changed over time in Sacramento. "
   ]
  },
  {
   "cell_type": "markdown",
   "id": "2fc494ce",
   "metadata": {},
   "source": [
    "**Question 1.2.5:** Create a `monthly_differences` table with one row per month and the following four columns in order: \n",
    "1. `\"Month\"`: The month (such as `\"02 (Feb)\"`)\n",
    "2. `\"Past\"`: The average min temperature in that month from 1900-1979 (inclusive)\n",
    "3. `\"Present\"`: The average min temperature in that month from 2016-2021 (inclusive)\n",
    "4. `\"Increase\"`: The difference between the present and past average min temperatures in that month\n",
    "\n",
    "First make a copy of the `sacramento` table and add a new column containing the corresponding **category** for each row. You may find the `categorize` function helpful. Then, use this new table to construct `monthly_differences`. Feel free to use as many lines as you need.\n",
    "\n",
    "*Hint*: What table method can we use to get each **unique value** as its own column? \n",
    "\n",
    "*Note*: Please do **not** re-assign the `sacramento` variable!\n"
   ]
  },
  {
   "cell_type": "code",
   "execution_count": null,
   "id": "7ce69ddd",
   "metadata": {
    "execution": {
     "iopub.execute_input": "2022-04-01T19:48:25.553330Z",
     "iopub.status.busy": "2022-04-01T19:48:25.552792Z",
     "iopub.status.idle": "2022-04-01T19:48:26.960463Z",
     "shell.execute_reply": "2022-04-01T19:48:26.959613Z"
    },
    "tags": []
   },
   "outputs": [],
   "source": [
    "def categorize(year):\n",
    "    \"Output if a year is in the Past, Present, or Other.\"\n",
    "    if 1900 <= year <= 1979:\n",
    "        return \"Past\"\n",
    "    elif 2016 <= year <= 2021:\n",
    "        return \"Present\"\n",
    "    else:\n",
    "        return \"Other\"\n",
    "    \n",
    "...\n",
    "monthly_differences = ...\n",
    "monthly_differences.show()\n"
   ]
  },
  {
   "cell_type": "code",
   "execution_count": null,
   "id": "2942972f",
   "metadata": {
    "deletable": false,
    "editable": false
   },
   "outputs": [],
   "source": [
    "grader.check(\"q1_2_5\")"
   ]
  },
  {
   "cell_type": "markdown",
   "id": "eb9ca17e",
   "metadata": {},
   "source": [
    "### March in Sacramento"
   ]
  },
  {
   "cell_type": "markdown",
   "id": "ca074d8e",
   "metadata": {},
   "source": [
    "The `\"Past\"` column values are averaged over many decades, and so they are reliable estimates of the average high temperatures in those months before the effects of modern climate change. However, the `\"Present\"` column is based on only six years of observations. February, the shortest month, has the fewest total observations: only 170 days. Run the following cell to see this."
   ]
  },
  {
   "cell_type": "code",
   "execution_count": null,
   "id": "6785dd89",
   "metadata": {
    "execution": {
     "iopub.execute_input": "2022-04-01T19:48:27.008855Z",
     "iopub.status.busy": "2022-04-01T19:48:27.008626Z",
     "iopub.status.idle": "2022-04-01T19:48:27.613516Z",
     "shell.execute_reply": "2022-04-01T19:48:27.612533Z"
    }
   },
   "outputs": [],
   "source": [
    "# Just run this cell\n",
    "feb_present = sacramento.where('Year', are.between_or_equal_to(2016, 2021)).where('Month', '02 (Feb)')\n",
    "feb_present.num_rows"
   ]
  },
  {
   "cell_type": "markdown",
   "id": "4458886b",
   "metadata": {},
   "source": [
    "Given February is a short month, we'll focus on the next closest value which is in March. Look back to your `monthly_differences` table. Compared to the other months, the increase for the month of March is the next smallest. Run the following cell to print out our observed difference."
   ]
  },
  {
   "cell_type": "code",
   "execution_count": null,
   "id": "c26d7b70",
   "metadata": {
    "execution": {
     "iopub.execute_input": "2022-04-01T19:48:27.618250Z",
     "iopub.status.busy": "2022-04-01T19:48:27.617339Z",
     "iopub.status.idle": "2022-04-01T19:48:27.622910Z",
     "shell.execute_reply": "2022-04-01T19:48:27.622002Z"
    }
   },
   "outputs": [],
   "source": [
    "# Just run this cell\n",
    "mar_present = sacramento.where('Year', are.between_or_equal_to(2016, 2021)).where('Month', '03 (Mar)')\n",
    "print(f\"March Difference: {monthly_differences.row(2).item('Increase')}\")"
   ]
  },
  {
   "cell_type": "markdown",
   "id": "1e269d14",
   "metadata": {},
   "source": [
    "Are March months really getting warmer (i.e., is the average minimum temperature increasing)? Perhaps that small difference is somehow due to chance! To investigate this idea requires a thought experiment.\n",
    "\n",
    "We can observe all of the March minimum temperatures from 2016 to 2021 (the present period), so we have access to the census; there's no random sampling involved. But, we can imagine that if more years pass with the same present-day climate, there would be different but similar minimum temperatures in future March days. From the data we observe, we can try to estimate the **average minimum March temperature** in this imaginary collection of all future March days that would occur in our modern climate, assuming the climate doesn't change any further and many years pass.\n",
    "\n",
    "We can also imagine that the minimum temperature each day is like a **random draw from a distribution of temperatures for that month**. Treating actual observations of natural events as if they were each *randomly* sampled from some unknown distribution is a simplifying assumption. These temperatures were not actually sampled at random—instead they occurred due to the complex interactions of the Earth's climate—but treating them as if they were random abstracts away the details of this naturally occuring process and allows us to carry out statistical inference.  Conclusions are only as valid as the assumptions upon which they rest, but in this case thinking of daily temperatures as random samples from some unknown climate distribution seems at least plausible.\n",
    "\n",
    "If we assume that the **actual temperatures were drawn at random from some large population of possible March days** in our modern climate, then we can not only estimate the population average of this distribution, but also quantify our uncertainty about that estimate using a confidence interval.\n",
    "\n",
    "**We will just compute the lower bound of this confidence interval.** The upper bound of a confidence interval for a population average based on a sample is always higher than the sample average. We intend to compare our confidence interval to the historical average (ie. the `Past` value in our `monthly_differences` table). In all months, the sample average we will consider (i.e. the `Present` value in our `monthly_differences` table) is higher than the historical average. As a result, we know in advance that the upper bound of the confidence interval will be higher as well, and there is no need to compute the upper bound explicitly. (But you can if you wish!)"
   ]
  },
  {
   "cell_type": "raw",
   "id": "92069bf8",
   "metadata": {},
   "source": []
  },
  {
   "cell_type": "markdown",
   "id": "45f7d509",
   "metadata": {},
   "source": [
    "**Question 1.2.6.** Complete the implementation of the function `ci_lower`, which takes a one-column table `t` containing sample observations and a confidence `level` percentage such as 95 or 99. It returns the lower bound of a confidence interval for the population mean constructed using 4,000 bootstrap resamples.\n",
    "\n",
    "After defining `ci_lower`, we have provided a line of code that calls `ci_lower` on the present-day March min temperatures to output the upper bound of a 95% confidence interval for the March average min temperature. The result should be around 45.5 degrees.\n"
   ]
  },
  {
   "cell_type": "code",
   "execution_count": null,
   "id": "fa17b43b",
   "metadata": {
    "execution": {
     "iopub.execute_input": "2022-04-01T19:48:27.626753Z",
     "iopub.status.busy": "2022-04-01T19:48:27.626488Z",
     "iopub.status.idle": "2022-04-01T19:48:28.204870Z",
     "shell.execute_reply": "2022-04-01T19:48:28.204070Z"
    },
    "tags": []
   },
   "outputs": [],
   "source": [
    "def ci_lower(t, level):\n",
    "    \"\"\"Compute an upper bound of a level% confidence interval of the \n",
    "    average of the population for which column 0 of Table t contains a sample.\n",
    "    \"\"\"\n",
    " \n",
    "    stats = make_array()\n",
    "    for k in np.arange(4000):\n",
    "        stat = ...\n",
    "        stats = ...\n",
    "    ...\n",
    "\n",
    "# Call ci_lower on the max temperatures in present-day February to find the lower bound of a 95% confidence interval.\n",
    "mar_present_ci = ci_lower(mar_present.select('tmin'), 95)\n",
    "mar_present_ci"
   ]
  },
  {
   "cell_type": "code",
   "execution_count": null,
   "id": "c0cc4326",
   "metadata": {
    "deletable": false,
    "editable": false
   },
   "outputs": [],
   "source": [
    "grader.check(\"q1_2_6\")"
   ]
  },
  {
   "cell_type": "markdown",
   "id": "1e7e0fd4",
   "metadata": {},
   "source": [
    "<!-- BEGIN QUESTION -->\n",
    "\n",
    "**Question 1.2.7** The lower bound of the `mar_present_ci` 95% confidence interval is above the observed past March average minimum temperature of 42.9863 (from the `monthly_increases` table). What conclusion can you draw about the effect of climate change on March minimum temperatures in Sacramento from this information? Use a 5% p-value cutoff.\n",
    "\n",
    "*Note*: If you're stuck on this question, re-reading the paragraphs under the *March* heading (particularly the first few) may be helpful.\n"
   ]
  },
  {
   "cell_type": "markdown",
   "id": "1568118f",
   "metadata": {},
   "source": [
    "_Type your answer here, replacing this text._"
   ]
  },
  {
   "cell_type": "markdown",
   "id": "222ad8ca",
   "metadata": {},
   "source": [
    "<!-- END QUESTION -->\n",
    "\n",
    "### All Months"
   ]
  },
  {
   "cell_type": "markdown",
   "id": "23c3387c",
   "metadata": {},
   "source": [
    "**Question 1.2.8.** Repeat the process of comparing the **lower bound of a 95% confidence interval** to the **past average** for each month. For each month, print out the name of the month (e.g., `02 (Feb)`), the observed past average, and the lower bound of a confidence interval for the present average.\n",
    "\n",
    "Use the provided call to `print` in order to format the result as one line per month.\n",
    "\n",
    "*Hint*: Your code should follow the same format as our code from above (i.e. the *February* section).   \n"
   ]
  },
  {
   "cell_type": "code",
   "execution_count": null,
   "id": "3688e3a8",
   "metadata": {
    "execution": {
     "iopub.execute_input": "2022-04-01T19:48:28.218743Z",
     "iopub.status.busy": "2022-04-01T19:48:28.217687Z",
     "iopub.status.idle": "2022-04-01T19:48:41.740943Z",
     "shell.execute_reply": "2022-04-01T19:48:41.740229Z"
    },
    "tags": []
   },
   "outputs": [],
   "source": [
    "comparisons = make_array()\n",
    "months = ...\n",
    "for month in months:\n",
    "    past_average = ...\n",
    "    present_averages = ...\n",
    "    present_lower_bound = ...\n",
    "    \n",
    "    # Do not change the code below this line\n",
    "    below = past_average < present_lower_bound\n",
    "    if below:\n",
    "        comparison = '**below**'\n",
    "    else:\n",
    "        comparison = '*above*'\n",
    "    comparisons = np.append(comparisons, comparison)\n",
    "    \n",
    "    print('For', month, 'the past avg', round(past_average, 1), \n",
    "          'is', comparison, \n",
    "          'the lower bound', round(present_lower_bound, 1),\n",
    "          'of the 95% CI of the present avg. \\n')"
   ]
  },
  {
   "cell_type": "code",
   "execution_count": null,
   "id": "aecdddc3",
   "metadata": {
    "deletable": false,
    "editable": false
   },
   "outputs": [],
   "source": [
    "grader.check(\"q1_2_8\")"
   ]
  },
  {
   "cell_type": "markdown",
   "id": "43149d7e",
   "metadata": {},
   "source": [
    "<!-- BEGIN QUESTION -->\n",
    "\n",
    "**Question 1.2.9.** Summarize your findings. After comparing the past average to the 95% confidence interval's lower bound for each month, what conclusions can we make about the monthly average minimum temperature in historical (1900-1979) vs. modern (2016-2021) times in the twelve months? In other words, what null hypothesis should you consider, and for which months would you reject or fail to reject the null hypothesis? Use a 5% p-value cutoff.\n"
   ]
  },
  {
   "cell_type": "markdown",
   "id": "29863559",
   "metadata": {},
   "source": [
    "_Type your answer here, replacing this text._"
   ]
  },
  {
   "cell_type": "markdown",
   "id": "8f684c4a",
   "metadata": {
    "tags": []
   },
   "source": [
    "<!-- END QUESTION -->\n",
    "\n",
    "### Congratulations\n",
    "\n",
    "Congratulations, you made it this far!\n"
   ]
  },
  {
   "cell_type": "markdown",
   "id": "bd330c2a",
   "metadata": {},
   "source": [
    "--- \n",
    "The cell below will re-run all of the autograder tests for Part 1 to double check your work."
   ]
  },
  {
   "cell_type": "code",
   "execution_count": null,
   "id": "90c28cb8",
   "metadata": {
    "execution": {
     "iopub.execute_input": "2022-04-01T19:48:41.764541Z",
     "iopub.status.busy": "2022-04-01T19:48:41.763534Z",
     "iopub.status.idle": "2022-04-01T19:48:42.376152Z",
     "shell.execute_reply": "2022-04-01T19:48:42.374888Z"
    }
   },
   "outputs": [],
   "source": [
    "checkpoint_tests = [\"q1_1_3\", \"q1_1_4\", \"q1_1_5\",\n",
    "                    \"q1_2_1\", \"q1_2_2\", \"q1_2_5\", \"q1_2_6\", \"q1_2_8\"]\n",
    "\n",
    "for test in checkpoint_tests:\n",
    "    display(grader.check(test))"
   ]
  },
  {
   "cell_type": "markdown",
   "id": "6e3b7c4d",
   "metadata": {},
   "source": [
    "## Submission\n",
    "If your instructor would like you to submit the work in part one as a checkpoint to the project, follow the instructions below.\n",
    "\n",
    "Make sure you have run all cells in your notebook in order before running the cell below, so that all images/graphs appear in the output. The cell below will generate a zip file for you to submit. **Please save before exporting!**\n",
    "\n",
    "Your instructor may want you to submit your work thus far as a checkpoint.\n",
    "\n",
    "**Reminders**:\n",
    "- Make sure to wait until the autograder finishes running to ensure that your submission was processed properly and that you submitted to the correct assignment."
   ]
  },
  {
   "cell_type": "code",
   "execution_count": null,
   "id": "70959530",
   "metadata": {
    "execution": {
     "iopub.execute_input": "2022-04-01T19:48:42.381061Z",
     "iopub.status.busy": "2022-04-01T19:48:42.380448Z",
     "iopub.status.idle": "2022-04-01T19:48:42.413567Z",
     "shell.execute_reply": "2022-04-01T19:48:42.412827Z"
    }
   },
   "outputs": [],
   "source": [
    "# Save your notebook first, then run this cell to export your submission.\n",
    "grader.export(pdf=False)"
   ]
  },
  {
   "cell_type": "markdown",
   "id": "c2f1691b",
   "metadata": {
    "tags": []
   },
   "source": [
    "# Part 2: Drought"
   ]
  },
  {
   "cell_type": "markdown",
   "id": "278bcc52",
   "metadata": {},
   "source": [
    "California is no stranger to drought; it is a recurring feature of our climate. According to the [California Department of Water Resources](https://water.ca.gov/water-basics/drought#:~:text=We%20recently%20experienced%20the%205,in%20the%201920s%20and%201930s.), California experienced drought periods from 2007-2009 and from 2012-2016. \n",
    "\n",
    "Let's look back at the Sacramento dataset, and consider the precipitation data. The `sacramento.csv` contains precipitation for each year since 1878. We will read in the original dataset again and name the file precipitation since we will be focusing on the precipitation. You may recall that \"prcp\" is the recorded precipitation for the day (inches). Run the cell below to look at the current sacramento dataset."
   ]
  },
  {
   "cell_type": "code",
   "execution_count": null,
   "id": "cf184f11",
   "metadata": {
    "execution": {
     "iopub.execute_input": "2022-04-01T19:48:42.449134Z",
     "iopub.status.busy": "2022-04-01T19:48:42.448288Z",
     "iopub.status.idle": "2022-04-01T19:48:42.460904Z",
     "shell.execute_reply": "2022-04-01T19:48:42.459792Z"
    }
   },
   "outputs": [],
   "source": [
    "sacramento.show(5)"
   ]
  },
  {
   "cell_type": "markdown",
   "id": "99ba9d7a",
   "metadata": {},
   "source": [
    "**Question 2.1.** The Sacramento dataset only has consistent precipitation data since 1960. Create a table `averages` that has one row for each year since 1960 (inclusive) in chronological order. It should contain the following columns:\n",
    "1. `\"Year\"`: The year (a number)\n",
    "2. `\"Total Precipitation\"`: The total precipitation in Sacramento that year\n"
   ]
  },
  {
   "cell_type": "code",
   "execution_count": null,
   "id": "2a27f9e1",
   "metadata": {
    "execution": {
     "iopub.execute_input": "2022-04-01T19:48:42.464953Z",
     "iopub.status.busy": "2022-04-01T19:48:42.464638Z",
     "iopub.status.idle": "2022-04-01T19:48:42.501131Z",
     "shell.execute_reply": "2022-04-01T19:48:42.500283Z"
    },
    "tags": []
   },
   "outputs": [],
   "source": [
    "total_precip = ...\n",
    "total_precip"
   ]
  },
  {
   "cell_type": "code",
   "execution_count": null,
   "id": "956f041e",
   "metadata": {
    "deletable": false,
    "editable": false
   },
   "outputs": [],
   "source": [
    "grader.check(\"q2_1\")"
   ]
  },
  {
   "cell_type": "markdown",
   "id": "e0a74ca2",
   "metadata": {},
   "source": [
    "Run the cell below to plot the total precipitation in Sacramento over time, so that we can try to spot the drought visually. Pay careful attention to the drought years (2007-2009) and (2012-2016) identified by the CA Dept of Water Resources."
   ]
  },
  {
   "cell_type": "code",
   "execution_count": null,
   "id": "c2a039b5",
   "metadata": {
    "execution": {
     "iopub.execute_input": "2022-04-01T19:48:42.581494Z",
     "iopub.status.busy": "2022-04-01T19:48:42.581215Z",
     "iopub.status.idle": "2022-04-01T19:48:42.892093Z",
     "shell.execute_reply": "2022-04-01T19:48:42.890945Z"
    }
   },
   "outputs": [],
   "source": [
    "# Just run this cell\n",
    "total_precip.plot('Year', 'Total Precipitation')"
   ]
  },
  {
   "cell_type": "markdown",
   "id": "aab33be6",
   "metadata": {},
   "source": [
    "This plot isn't very revealing. Each year has a different amount of precipitation, and there is quite a bit of variability across years, as if each year's precipitation is a random draw from a distribution of possible outcomes. \n",
    "\n",
    "Could it be that these so-called \"drought conditions\" from 2007-2009 and 2012-2016 can be explained by chance? In other words, could it be that the annual precipitation amounts in Sacramento for these drought years are like **random draws from the same underlying distribution** as for other years? Perhaps nothing about the Earth's precipitation patterns has really changed, and Sacramento just happened to experience a few dry years close together. \n",
    "\n",
    "To assess this idea, let's conduct an A/B test in which **each year's total precipitation** is an outcome, and the condition is **whether or not the year is in the CA Water Department's drought period**."
   ]
  },
  {
   "cell_type": "markdown",
   "id": "80fb4e6c",
   "metadata": {},
   "source": [
    "This `precip_label` function distinguishes between drought years as described by the CA Water Department above (2007-2009 and 2012-2016) and other years. Note that the label \"other\" is perhaps misleading, since there were other droughts before 2007, such as the massive [1988 drought](https://en.wikipedia.org/wiki/1988%E2%80%9390_North_American_drought) that affected much of the U.S. However, if we're interested in whether these modern drought periods (2007-2009 and 2012-2016) are *normal* or *abnormal*, it makes sense to distinguish the years in this way. "
   ]
  },
  {
   "cell_type": "code",
   "execution_count": null,
   "id": "240222ed",
   "metadata": {
    "execution": {
     "iopub.execute_input": "2022-04-01T19:48:42.898622Z",
     "iopub.status.busy": "2022-04-01T19:48:42.897065Z",
     "iopub.status.idle": "2022-04-01T19:48:42.904852Z",
     "shell.execute_reply": "2022-04-01T19:48:42.903832Z"
    }
   },
   "outputs": [],
   "source": [
    "def precip_label(n):\n",
    "    \"\"\"Return the label for an input year n.\"\"\"\n",
    "    if 2007 <= n <= 2009 or 2012 <= n <= 2016:\n",
    "        return 'drought'\n",
    "    else:\n",
    "        return 'other'"
   ]
  },
  {
   "cell_type": "markdown",
   "id": "30f9187c",
   "metadata": {},
   "source": [
    "<!-- BEGIN QUESTION -->\n",
    "\n",
    "**Question 2.2.** Define null and alternative hypotheses for an A/B test that investigates whether drought years are drier (have less precipitation) than other years.\n",
    "\n",
    "*Note:* Please format your answer using the following structure.\n",
    "\n",
    "- *Null hypothesis:* ...\n",
    "- *Alternative hypothesis:* ...\n"
   ]
  },
  {
   "cell_type": "markdown",
   "id": "a9132158",
   "metadata": {},
   "source": [
    "_Type your answer here, replacing this text._"
   ]
  },
  {
   "cell_type": "markdown",
   "id": "2b8615f6",
   "metadata": {},
   "source": [
    "<!-- END QUESTION -->\n",
    "\n",
    "<!-- BEGIN QUESTION -->\n",
    "\n",
    "**Question 2.3.** First, define the table `precip`. It should contain one row per year and the following two columns:\n",
    "- `\"Label\"`: Denotes if a year is part of a `\"drought\"` year or an `\"other\"` year\n",
    "- `\"Total Precipitation\"`: The total precipitation in Sacramento that year\n",
    "\n",
    "Then, construct an overlaid histogram of two observed distributions: the total precipitation in drought years and the total precipitation in other years. \n",
    "\n",
    "*Note*: Use the provided `bins` when creating your histogram, and do not re-assign the `sacramento` table. Feel free to use as many lines as you need!\n",
    "\n",
    "*Hint*: The optional `group` argument in a certain function might be helpful!\n"
   ]
  },
  {
   "cell_type": "code",
   "execution_count": null,
   "id": "f6b63e97",
   "metadata": {
    "execution": {
     "iopub.execute_input": "2022-04-01T19:48:42.909504Z",
     "iopub.status.busy": "2022-04-01T19:48:42.909147Z",
     "iopub.status.idle": "2022-04-01T19:48:43.268387Z",
     "shell.execute_reply": "2022-04-01T19:48:43.266900Z"
    },
    "tags": []
   },
   "outputs": [],
   "source": [
    "bins = np.arange(1, 35, 3)\n",
    "precip = ...\n",
    "..."
   ]
  },
  {
   "cell_type": "markdown",
   "id": "b1541c3f",
   "metadata": {},
   "source": [
    "<!-- END QUESTION -->\n",
    "\n",
    "Before you continue, inspect the histogram you just created and try to guess the conclusion of the A/B test. Building intuition about the result of hypothesis testing from visualizations is quite useful for data science applications. "
   ]
  },
  {
   "cell_type": "markdown",
   "id": "9035fe97",
   "metadata": {},
   "source": [
    "**Question 2.4.** Our next step is to choose a test statistic based on our alternative hypothesis in Question 2.2. Which of the following options are valid choices for the test statistic? Assign `ab_test_stat` to an array of integers corresponding to valid choices. Assume averages and totals are taken over the total precipitation sums for each year.\n",
    "\n",
    "1. The **absolute** difference between the **total** precipitation in others years and the **total** precipitation in drought years.\n",
    "2. The **total** precipitation in **drought** years.\n",
    "3. The difference between the **total** precipitation in **others** years and the **total** precipitation in **drought** years.\n",
    "4. The **average** precipitation in **drought** years.\n",
    "5. The **absolute** difference between the **total** precipitation in others years and the **total** precipitation in drought years.\n",
    "6. The difference between the **average** precipitation in **drought** years and the **average** precipitation in **other** years.\n"
   ]
  },
  {
   "cell_type": "code",
   "execution_count": null,
   "id": "73806e32",
   "metadata": {
    "execution": {
     "iopub.execute_input": "2022-04-01T19:48:43.273156Z",
     "iopub.status.busy": "2022-04-01T19:48:43.272189Z",
     "iopub.status.idle": "2022-04-01T19:48:43.277227Z",
     "shell.execute_reply": "2022-04-01T19:48:43.276223Z"
    },
    "tags": []
   },
   "outputs": [],
   "source": [
    "ab_test_stat = ..."
   ]
  },
  {
   "cell_type": "code",
   "execution_count": null,
   "id": "438c1395",
   "metadata": {
    "deletable": false,
    "editable": false
   },
   "outputs": [],
   "source": [
    "grader.check(\"q2_4\")"
   ]
  },
  {
   "cell_type": "markdown",
   "id": "c4445b93",
   "metadata": {},
   "source": [
    "<!-- BEGIN QUESTION -->\n",
    "\n",
    "**Question 2.5.** Fellow climate scientists Jim and Tisha point out that there are more **other** years than **drought** years, and we should disregard the **other** years because they are skewing the data. They conclude the only valid test statistic is the **total** precipitation in drought years. Do you agree with them? Why or why not?\n"
   ]
  },
  {
   "cell_type": "markdown",
   "id": "daba84b5",
   "metadata": {},
   "source": [
    "_Type your answer here, replacing this text._"
   ]
  },
  {
   "cell_type": "markdown",
   "id": "2c097275",
   "metadata": {},
   "source": [
    "<!-- END QUESTION -->\n",
    "\n",
    "Before going on, check your `precip` table. It should have two columns `Label` and `Total Precipitation` with 62 rows, 8 of which are for `\"drought\"` years."
   ]
  },
  {
   "cell_type": "code",
   "execution_count": null,
   "id": "279f5339",
   "metadata": {
    "execution": {
     "iopub.execute_input": "2022-04-01T19:48:43.345887Z",
     "iopub.status.busy": "2022-04-01T19:48:43.345576Z",
     "iopub.status.idle": "2022-04-01T19:48:43.351586Z",
     "shell.execute_reply": "2022-04-01T19:48:43.350730Z"
    }
   },
   "outputs": [],
   "source": [
    "precip.show(5)"
   ]
  },
  {
   "cell_type": "code",
   "execution_count": null,
   "id": "e98ecaaa",
   "metadata": {
    "execution": {
     "iopub.execute_input": "2022-04-01T19:48:43.356091Z",
     "iopub.status.busy": "2022-04-01T19:48:43.354997Z",
     "iopub.status.idle": "2022-04-01T19:48:43.363967Z",
     "shell.execute_reply": "2022-04-01T19:48:43.362991Z"
    }
   },
   "outputs": [],
   "source": [
    "precip.group('Label')"
   ]
  },
  {
   "cell_type": "markdown",
   "id": "375c0a47",
   "metadata": {},
   "source": [
    "**Question 2.6.** For our A/B test, we'll use the difference between the average precipitation in drought years and the average precipitation in other years as our test statistic:\n",
    "\n",
    "$$\\text{average precipitation in \"drought\" years} - \\text{average precipitation in \"other\" years}$$\n",
    "\n",
    "First, complete the function `test_stat`. It should take in a two-column table `t` with one row per year and two columns:\n",
    "- `Label`: the label for that year (either `'drought'` or `'other'`)\n",
    "- `Total Precipitation`: the total precipitation in Sacramento that year. \n",
    "\n",
    "Then, use the function you define to assign `observed_stat` to the observed test statistic.\n"
   ]
  },
  {
   "cell_type": "code",
   "execution_count": null,
   "id": "e8898a48",
   "metadata": {
    "execution": {
     "iopub.execute_input": "2022-04-01T19:48:43.368043Z",
     "iopub.status.busy": "2022-04-01T19:48:43.367765Z",
     "iopub.status.idle": "2022-04-01T19:48:43.377561Z",
     "shell.execute_reply": "2022-04-01T19:48:43.376586Z"
    },
    "tags": []
   },
   "outputs": [],
   "source": [
    "def test_stat(t):\n",
    "    ...\n",
    "\n",
    "observed_stat = ...\n",
    "observed_stat"
   ]
  },
  {
   "cell_type": "code",
   "execution_count": null,
   "id": "6ddc2459",
   "metadata": {
    "deletable": false,
    "editable": false
   },
   "outputs": [],
   "source": [
    "grader.check(\"q2_6\")"
   ]
  },
  {
   "cell_type": "markdown",
   "id": "08b03e3b",
   "metadata": {},
   "source": [
    "Now that we have defined our hypotheses and test statistic, we are ready to conduct our hypothesis test. We’ll start by defining a function to simulate the test statistic under the null hypothesis, and then call that function 4,000 times to construct an empirical distribution under the null hypothesis."
   ]
  },
  {
   "cell_type": "markdown",
   "id": "29613a7c",
   "metadata": {},
   "source": [
    "**Question 2.7.** Write a function to simulate the test statistic under the null hypothesis. The `simulate_null` function should simulate the null hypothesis once (not 4,000 times) and return the value of the test statistic for that simulated sample.\n",
    "\n",
    "*Hint*: Using `t.with_column(...)` with a column name that already exists in a table `t` will replace that column with the newly specified values.\n"
   ]
  },
  {
   "cell_type": "code",
   "execution_count": null,
   "id": "7ccf8146",
   "metadata": {
    "execution": {
     "iopub.execute_input": "2022-04-01T19:48:43.464563Z",
     "iopub.status.busy": "2022-04-01T19:48:43.464340Z",
     "iopub.status.idle": "2022-04-01T19:48:43.475250Z",
     "shell.execute_reply": "2022-04-01T19:48:43.474197Z"
    },
    "tags": []
   },
   "outputs": [],
   "source": [
    "def simulate_null():\n",
    "    ...\n",
    "\n",
    "# Run your function a couple times to make sure that it works\n",
    "simulate_null()"
   ]
  },
  {
   "cell_type": "code",
   "execution_count": null,
   "id": "b5e39b9f",
   "metadata": {
    "deletable": false,
    "editable": false
   },
   "outputs": [],
   "source": [
    "grader.check(\"q2_7\")"
   ]
  },
  {
   "cell_type": "markdown",
   "id": "3e3f14e1",
   "metadata": {},
   "source": [
    "**Question 2.8.** Fill in the blanks below to complete the simulation for the hypothesis test. Your simulation should compute 4,000 values of the test statistic under the null hypothesis and store the result in the array `simulated_values`.\n",
    "\n",
    "*Hint:* You should use the `simulate_null` function you wrote in the previous question!\n",
    "\n",
    "*Note:* Running this cell may take a few seconds. If it takes more than a minute, try to find a faster way to implement your `simulate_null` function.\n"
   ]
  },
  {
   "cell_type": "code",
   "execution_count": null,
   "id": "45dbd3c8",
   "metadata": {
    "execution": {
     "iopub.execute_input": "2022-04-01T19:48:45.372177Z",
     "iopub.status.busy": "2022-04-01T19:48:45.371948Z",
     "iopub.status.idle": "2022-04-01T19:48:55.231743Z",
     "shell.execute_reply": "2022-04-01T19:48:55.231132Z"
    },
    "tags": []
   },
   "outputs": [],
   "source": [
    "simulated_values = ...\n",
    "\n",
    "repetitions = ...\n",
    "for i in np.arange(repetitions):\n",
    "    ...\n",
    "\n",
    "# Do not change these lines\n",
    "Table().with_column('Difference Between Means', simulated_values).hist()\n",
    "plt.scatter(observed_stat, 0, c=\"r\", s=50);\n",
    "plt.ylim(-0.01);"
   ]
  },
  {
   "cell_type": "code",
   "execution_count": null,
   "id": "91b4b9a4",
   "metadata": {
    "deletable": false,
    "editable": false
   },
   "outputs": [],
   "source": [
    "grader.check(\"q2_8\")"
   ]
  },
  {
   "cell_type": "markdown",
   "id": "57be9eaa",
   "metadata": {},
   "source": [
    "**Question 2.9.** Compute the p-value for this hypothesis test, and assign it to the variable `p_value`.\n"
   ]
  },
  {
   "cell_type": "code",
   "execution_count": null,
   "id": "6f801ec6",
   "metadata": {
    "execution": {
     "iopub.execute_input": "2022-04-01T19:48:55.268763Z",
     "iopub.status.busy": "2022-04-01T19:48:55.268215Z",
     "iopub.status.idle": "2022-04-01T19:48:55.272869Z",
     "shell.execute_reply": "2022-04-01T19:48:55.272318Z"
    },
    "tags": []
   },
   "outputs": [],
   "source": [
    "p_value = ...\n",
    "p_value"
   ]
  },
  {
   "cell_type": "code",
   "execution_count": null,
   "id": "d67644e8",
   "metadata": {
    "deletable": false,
    "editable": false
   },
   "outputs": [],
   "source": [
    "grader.check(\"q2_9\")"
   ]
  },
  {
   "cell_type": "markdown",
   "id": "32868bda",
   "metadata": {},
   "source": [
    "<!-- BEGIN QUESTION -->\n",
    "\n",
    "**Question 2.10.** State a conclusion from this test using a p-value cutoff of 1%. What have you learned about the CA Water Department's statement on drought?\n"
   ]
  },
  {
   "cell_type": "markdown",
   "id": "5d339720",
   "metadata": {},
   "source": [
    "_Type your answer here, replacing this text._"
   ]
  },
  {
   "cell_type": "markdown",
   "id": "509caaf6",
   "metadata": {},
   "source": [
    "<!-- END QUESTION -->\n",
    "\n",
    "<!-- BEGIN QUESTION -->\n",
    "\n",
    "**Question 2.11.** Does your conclusion from Question 2.10 apply to the entire state of California? Why or why not?\n"
   ]
  },
  {
   "cell_type": "markdown",
   "id": "2593726b",
   "metadata": {},
   "source": [
    "_Type your answer here, replacing this text._"
   ]
  },
  {
   "cell_type": "markdown",
   "id": "3257f075",
   "metadata": {},
   "source": [
    "<!-- END QUESTION -->\n",
    "\n",
    "# Conclusion"
   ]
  },
  {
   "cell_type": "markdown",
   "id": "504fe935",
   "metadata": {},
   "source": [
    "Data science plays a central role in climate change research because massive simulations of the Earth's climate are necessary to assess the implications of climate data recorded from weather stations, satellites, and other sensors. [Berkeley Earth](http://berkeleyearth.org/data/) is a common source of data for these kinds of projects.\n",
    "\n",
    "In this project, we found ways to apply our statistical inference technqiues that rely on random sampling even in situations where the data were not generated randomly, but instead by some complicated natural process that appeared random. We made assumptions about randomness and then came to conclusions based on those assumptions. Great care must be taken to choose assumptions that are realistic, so that the resulting conclusions are not misleading. However, making assumptions about data can be productive when doing so allows inference techniques to apply to novel situations."
   ]
  },
  {
   "cell_type": "markdown",
   "id": "5d1be173",
   "metadata": {},
   "source": [
    "**Congratulations on finishing Project 2! Time to submit.**\n",
    "\n",
    "**Important submission steps:** \n",
    "1. Run the tests and verify that they all pass.\n",
    "2. Choose **Save Notebook** from the **File** menu, then **run the final cell**. \n",
    "3. Click the link to download the zip file.\n",
    "4. Then submit the zip file to the corresponding assignment according to your instructor's directions. \n",
    "\n",
    "**It is your responsibility to make sure your work is saved before running the last cell.**"
   ]
  },
  {
   "cell_type": "markdown",
   "id": "ca398bb2",
   "metadata": {
    "deletable": false,
    "editable": false
   },
   "source": [
    "## Submission\n",
    "\n",
    "Make sure you have run all cells in your notebook in order before running the cell below, so that all images/graphs appear in the output. The cell below will generate a zip file for you to submit. **Please save before exporting!**"
   ]
  },
  {
   "cell_type": "code",
   "execution_count": null,
   "id": "2c878d4a",
   "metadata": {
    "deletable": false,
    "editable": false
   },
   "outputs": [],
   "source": [
    "# Save your notebook first, then run this cell to export your submission.\n",
    "grader.export(pdf=False, run_tests=True)"
   ]
  },
  {
   "cell_type": "markdown",
   "id": "d10dd843",
   "metadata": {},
   "source": [
    " "
   ]
  }
 ],
 "metadata": {
  "celltoolbar": "Edit Metadata",
  "kernelspec": {
   "display_name": "Python 3 (ipykernel)",
   "language": "python",
   "name": "python3"
  },
  "language_info": {
   "codemirror_mode": {
    "name": "ipython",
    "version": 3
   },
   "file_extension": ".py",
   "mimetype": "text/x-python",
   "name": "python",
   "nbconvert_exporter": "python",
   "pygments_lexer": "ipython3",
   "version": "3.10.11"
  },
  "otter": {
   "OK_FORMAT": true,
   "tests": {
    "q1_1_3": {
     "name": "q1_1_3",
     "points": [
      0,
      0
     ],
     "suites": [
      {
       "cases": [
        {
         "code": ">>> type(unique_city_count) in set([int, np.int32, np.int64])\nTrue",
         "hidden": false,
         "locked": false
        },
        {
         "code": ">>> # Make sure that num_unique_cities is greater than zero!\n>>> unique_city_count > 0\nTrue",
         "hidden": false,
         "locked": false
        }
       ],
       "scored": true,
       "setup": "",
       "teardown": "",
       "type": "doctest"
      }
     ]
    },
    "q1_1_4": {
     "name": "q1_1_4",
     "points": [
      1
     ],
     "suites": [
      {
       "cases": [
        {
         "code": ">>> # Make sure the function outputs a string!\n>>> type(region_coordinates(50, 100)) == str\nTrue",
         "hidden": false,
         "locked": false
        }
       ],
       "scored": true,
       "setup": "",
       "teardown": "",
       "type": "doctest"
      }
     ]
    },
    "q1_1_5": {
     "name": "q1_1_5",
     "points": [
      1,
      1,
      0
     ],
     "suites": [
      {
       "cases": [
        {
         "code": ">>> len(cities.labels) == 8\nTrue",
         "hidden": false,
         "locked": false
        },
        {
         "code": ">>> cities.labels[-1] == \"Area\"\nTrue",
         "hidden": false,
         "locked": false
        },
        {
         "code": ">>> cities.row(2).item('Area') == 'Northeast'\nTrue",
         "hidden": false,
         "locked": false
        }
       ],
       "scored": true,
       "setup": "",
       "teardown": "",
       "type": "doctest"
      }
     ]
    },
    "q1_2_1": {
     "name": "q1_2_1",
     "points": [
      0
     ],
     "suites": [
      {
       "cases": [
        {
         "code": ">>> type(highest_2020_average_date) == str\nTrue",
         "hidden": false,
         "locked": false
        }
       ],
       "scored": true,
       "setup": "",
       "teardown": "",
       "type": "doctest"
      }
     ]
    },
    "q1_2_2": {
     "name": "q1_2_2",
     "points": [
      0,
      0,
      1
     ],
     "suites": [
      {
       "cases": [
        {
         "code": ">>> sacramento.num_rows == 52483\nTrue",
         "hidden": false,
         "locked": false
        },
        {
         "code": ">>> len(sacramento.labels) == 6\nTrue",
         "hidden": false,
         "locked": false
        },
        {
         "code": ">>> sacramento.labels == ('Date', 'tmax', 'tmin', 'prcp', 'Month', 'Year')\nTrue",
         "hidden": false,
         "locked": false
        }
       ],
       "scored": true,
       "setup": "",
       "teardown": "",
       "type": "doctest"
      }
     ]
    },
    "q1_2_5": {
     "name": "q1_2_5",
     "points": [
      0,
      1,
      1
     ],
     "suites": [
      {
       "cases": [
        {
         "code": ">>> monthly_differences.num_rows == 12\nTrue",
         "hidden": false,
         "locked": false
        },
        {
         "code": ">>> monthly_differences.labels == ('Month', 'Past', 'Present', 'Increase')\nTrue",
         "hidden": false,
         "locked": false
        },
        {
         "code": ">>> # Make sure your table is sorted from January to December.\n>>> monthly_differences.row(2).item('Month') == '03 (Mar)'\nTrue",
         "hidden": false,
         "locked": false
        }
       ],
       "scored": true,
       "setup": "",
       "teardown": "",
       "type": "doctest"
      }
     ]
    },
    "q1_2_6": {
     "name": "q1_2_6",
     "points": [
      5
     ],
     "suites": [
      {
       "cases": [
        {
         "code": ">>> 45.4 <= mar_present_ci <= 45.6\nTrue",
         "hidden": false,
         "locked": false
        }
       ],
       "scored": true,
       "setup": "",
       "teardown": "",
       "type": "doctest"
      }
     ]
    },
    "q1_2_8": {
     "name": "q1_2_8",
     "points": [
      1
     ],
     "suites": [
      {
       "cases": [
        {
         "code": ">>> type(months) == np.ndarray\nTrue",
         "hidden": false,
         "locked": false
        }
       ],
       "scored": true,
       "setup": "",
       "teardown": "",
       "type": "doctest"
      }
     ]
    },
    "q2_1": {
     "name": "q2_1",
     "points": [
      0,
      1
     ],
     "suites": [
      {
       "cases": [
        {
         "code": ">>> total_precip.num_rows == 62\nTrue",
         "hidden": false,
         "locked": false
        },
        {
         "code": ">>> total_precip.labels == ('Year', 'Total Precipitation')\nTrue",
         "hidden": false,
         "locked": false
        }
       ],
       "scored": true,
       "setup": "",
       "teardown": "",
       "type": "doctest"
      }
     ]
    },
    "q2_4": {
     "name": "q2_4",
     "points": [
      0,
      0,
      2
     ],
     "suites": [
      {
       "cases": [
        {
         "code": ">>> type(ab_test_stat) == np.ndarray\nTrue",
         "hidden": false,
         "locked": false
        },
        {
         "code": ">>> all([1 <= option <= 6 for option in ab_test_stat])\nTrue",
         "hidden": false,
         "locked": false
        },
        {
         "code": ">>> all([type(option) in set([np.int64, np.int32, int]) for option in list(ab_test_stat)])\nTrue",
         "hidden": false,
         "locked": false
        }
       ],
       "scored": true,
       "setup": "",
       "teardown": "",
       "type": "doctest"
      }
     ]
    },
    "q2_6": {
     "name": "q2_6",
     "points": [
      1
     ],
     "suites": [
      {
       "cases": [
        {
         "code": ">>> observed_stat < 0\nTrue",
         "hidden": false,
         "locked": false
        }
       ],
       "scored": true,
       "setup": "",
       "teardown": "",
       "type": "doctest"
      }
     ]
    },
    "q2_7": {
     "name": "q2_7",
     "points": [
      1
     ],
     "suites": [
      {
       "cases": [
        {
         "code": ">>> -50 < simulate_null() < 50\nTrue",
         "hidden": false,
         "locked": false
        }
       ],
       "scored": true,
       "setup": "",
       "teardown": "",
       "type": "doctest"
      }
     ]
    },
    "q2_8": {
     "name": "q2_8",
     "points": [
      0,
      0
     ],
     "suites": [
      {
       "cases": [
        {
         "code": ">>> len(simulated_values) == 4000\nTrue",
         "hidden": false,
         "locked": false
        },
        {
         "code": ">>> np.std(simulated_values) > 0\nTrue",
         "hidden": false,
         "locked": false
        }
       ],
       "scored": true,
       "setup": "",
       "teardown": "",
       "type": "doctest"
      }
     ]
    },
    "q2_9": {
     "name": "q2_9",
     "points": [
      0,
      1
     ],
     "suites": [
      {
       "cases": [
        {
         "code": ">>> type(p_value) in set([float, np.float32, np.float64])\nTrue",
         "hidden": false,
         "locked": false
        },
        {
         "code": ">>> 0 <= p_value <= 1\nTrue",
         "hidden": false,
         "locked": false
        }
       ],
       "scored": true,
       "setup": "",
       "teardown": "",
       "type": "doctest"
      }
     ]
    }
   }
  }
 },
 "nbformat": 4,
 "nbformat_minor": 5
}
