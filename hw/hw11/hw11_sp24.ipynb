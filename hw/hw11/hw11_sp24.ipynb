{
 "cells": [
  {
   "cell_type": "code",
   "execution_count": null,
   "id": "94c6a07a",
   "metadata": {
    "deletable": false,
    "editable": false
   },
   "outputs": [],
   "source": [
    "# Initialize Otter\n",
    "import otter\n",
    "grader = otter.Notebook(\"hw11_sp24.ipynb\")"
   ]
  },
  {
   "cell_type": "markdown",
   "id": "c0dfe546",
   "metadata": {},
   "source": [
    "# Homework 11: Regression Inference"
   ]
  },
  {
   "cell_type": "markdown",
   "id": "4c904535",
   "metadata": {},
   "source": [
    "**Helpful Resource:**\n",
    "\n",
    "- [Python Reference](http://data8.org/sp22/python-reference.html): Cheat sheet of helpful array & table methods used in Data 8!\n",
    "\n",
    "**Recommended Reading**: \n",
    "\n",
    "* [Using Confidence Intervals](https://inferentialthinking.com/chapters/13/4/Using_Confidence_Intervals.html)\n",
    "* [The Regression Line](https://inferentialthinking.com/chapters/15/2/Regression_Line.html#the-regression-line-in-standard-units)\n",
    "* [Inference for Regression](https://www.inferentialthinking.com/chapters/16/Inference_for_Regression.html)"
   ]
  },
  {
   "cell_type": "markdown",
   "id": "b938e5b6",
   "metadata": {},
   "source": [
    "Please complete this notebook by filling in the cells provided. Before you begin, execute the following cell to setup the notebook by importing some helpful libraries. Each time you start your server, you will need to execute this cell again.\n",
    "\n",
    "For all problems that you must write explanations and sentences for, you **must** provide your answer in the designated space. **Moreover, throughout this homework and all future ones, please be sure to not re-assign variables throughout the notebook!** For example, if you use `max_temperature` in your answer to one question, do not reassign it later on. Otherwise, you will fail tests that you thought you were passing previously!\n",
    "\n",
    "\n",
    "**Note: This homework has hidden tests on it. That means even though the tests may say 100% passed, it doesn't mean your final grade will be 100%. We will be running more tests for correctness once everyone turns in the homework.**\n",
    "\n",
    "\n",
    "Directly sharing answers is not okay, but discussing problems with the course staff or with other students is encouraged. \n",
    "\n",
    "You should start early so that you have time to get help if you're stuck."
   ]
  },
  {
   "cell_type": "code",
   "execution_count": null,
   "id": "c71290aa",
   "metadata": {
    "execution": {
     "iopub.execute_input": "2022-04-14T01:43:21.032149Z",
     "iopub.status.busy": "2022-04-14T01:43:21.031511Z",
     "iopub.status.idle": "2022-04-14T01:43:22.636307Z",
     "shell.execute_reply": "2022-04-14T01:43:22.635635Z"
    }
   },
   "outputs": [],
   "source": [
    "# Don't change this cell; just run it. \n",
    "\n",
    "import numpy as np\n",
    "from datascience import *\n",
    "import d8error\n",
    "\n",
    "# These lines do some fancy plotting magic\n",
    "import matplotlib\n",
    "%matplotlib inline\n",
    "import matplotlib.pyplot as plt\n",
    "plt.style.use('fivethirtyeight')\n",
    "import warnings\n",
    "warnings.simplefilter('ignore')\n",
    "from datetime import datetime"
   ]
  },
  {
   "cell_type": "markdown",
   "id": "cde486ac",
   "metadata": {},
   "source": [
    "## An Introduction to Regression Inference"
   ]
  },
  {
   "cell_type": "markdown",
   "id": "f2bc7fac",
   "metadata": {},
   "source": [
    "Previously in this class, we've used confidence intervals to quantify uncertainty about estimates. We can also run hypothesis tests using a confidence interval under the following procedure:\n",
    "\n",
    "1. Define a null and alternative hypothesis (they must be of the form \"The parameter is X\" and \"The parameter is not X\").\n",
    "2. Choose a p-value cutoff, and call it $q$.\n",
    "3. Construct a $(100-q)\\%$ interval using bootstrap sampling (for example, if your p-value cutoff is 0.01, or 1%, then construct a 99% confidence interval).\n",
    "4. Using the confidence interval, determine if your data are more consistent with your null or alternative hypothesis:\n",
    "   * If the null hypothesis parameter X is in your confidence interval, the data are more consistent with the null hypothesis.\n",
    "   * If the null hypothesis parameter X is *not* in your confidence interval, the data are more consistent with the alternative hypothesis.\n",
    "\n",
    "More recently, we've discussed the use of linear regression to make predictions based on correlated variables. For example, we can predict the height of children based on the heights of their parents.\n",
    "\n",
    "We can combine these two topics to make powerful statements about our population by using the following techniques:\n",
    "\n",
    "- Bootstrapped interval for the true slope\n",
    "- Bootstrapped prediction interval for y (given a particular value of x)\n",
    "\n",
    "This homework explores these two methods."
   ]
  },
  {
   "cell_type": "markdown",
   "id": "6845e43b",
   "metadata": {},
   "source": [
    "## The Data\n",
    "[American muscle cars](https://en.wikipedia.org/wiki/Muscle_car) are iconic vehicles celebrated for their powerful engines and bold styling. Known for their presence on roads and in pop culture, these cars represent a passion for speed and power but also come with challenges such as fuel inefficiency and increased emissions.\n",
    "\n",
    "<img src=\"Muscle cars.png\" alt=\"Plover and Eggs\">\n",
    "\n",
    "The data for this assignment pertains to various models of American muscle cars, focusing on the relationship between engine size, horsepower, and vehicle efficiency.\n",
    "\n",
    "\n",
    "The data for this assignment was modeled from automotive testing grounds and manufacturers' specifications. The aim is to analyze how engine size relates to horsepower and fuel efficiency. The greater the horsepower, the more robust the car, but often at the cost of reduced fuel efficiency.\n",
    "\n",
    "<img src=\"Blue Muscle Car.png\" alt=\"Plover and Chick\">\n",
    "\n",
    "Muscle Car Specifications\n",
    "\n",
    "Each row in the dataset corresponds to one muscle car model. Note the robust build and design:\n",
    "\n",
    "- `Engine Size (liters)` and `Horsepower (hp)` are measures of engine capacity and power output, respectively.\n",
    "- `Fuel Efficiency (mpg)` and `Vehicle Weight (lbs)` are also included. For comparison, a typical small car may weigh around 2,500 lbs."
   ]
  },
  {
   "cell_type": "code",
   "execution_count": null,
   "id": "e3a341f3",
   "metadata": {
    "execution": {
     "iopub.execute_input": "2022-04-14T01:43:22.640161Z",
     "iopub.status.busy": "2022-04-14T01:43:22.639787Z",
     "iopub.status.idle": "2022-04-14T01:43:22.652951Z",
     "shell.execute_reply": "2022-04-14T01:43:22.652353Z"
    }
   },
   "outputs": [],
   "source": [
    "muscle_cars = Table.read_table('Muscle_Car_Data.csv')\n",
    "muscle_cars"
   ]
  },
  {
   "cell_type": "markdown",
   "id": "050015f3",
   "metadata": {},
   "source": [
    "In this analysis, we will use `Engine Size (liters)` to predict `Horsepower (hp)`. This relationship is crucial in understanding how the size of an engine influences the horsepower output of muscle cars. Running the cell below will generate a scatter plot of `Engine Size (liters)` and `Horsepower (hp)`, along with their line of best fit."
   ]
  },
  {
   "cell_type": "code",
   "execution_count": null,
   "id": "5441a84e",
   "metadata": {
    "execution": {
     "iopub.execute_input": "2022-04-14T01:43:22.656034Z",
     "iopub.status.busy": "2022-04-14T01:43:22.655803Z",
     "iopub.status.idle": "2022-04-14T01:43:22.939186Z",
     "shell.execute_reply": "2022-04-14T01:43:22.938490Z"
    }
   },
   "outputs": [],
   "source": [
    "# Just run this cell and examine the scatter plot.\n",
    "muscle_cars.scatter('Engine Size (liters)', \"Horsepower (hp)\", fit_line=True)"
   ]
  },
  {
   "cell_type": "markdown",
   "id": "842dab31",
   "metadata": {},
   "source": [
    "## 1. Investigating the Linear Relationship between Engine Size and Horsepower\n",
    "Upon examining the scatter plot of our muscle car dataset, we observe a potential linear relationship between engine size and horsepower. However, it's essential to verify if this apparent relationship holds true in the broader population of muscle cars.\n",
    "\n",
    "We aim to determine if there is indeed a linear relationship between engine size and horsepower for muscle cars. If there is no such relationship, we would expect a correlation coefficient of 0. Consequently, the slope of the regression line would also be 0."
   ]
  },
  {
   "cell_type": "markdown",
   "id": "45e3a6b9",
   "metadata": {},
   "source": [
    "<!-- BEGIN QUESTION -->\n",
    "\n",
    "**Question 1.1.**  We're conducting a hypothesis test using confidence intervals to explore the potential linear relationship between engine size and horsepower in muscle cars. Define the null and alternative hypotheses required for this test. **(8 points)**\n",
    "\n",
    "Please write your answer **in the cell below** using the following format:\n",
    "\n",
    "- **Null Hypothesis:**\n",
    "- **Alternative Hypothesis:**\n",
    "\n",
    "\n"
   ]
  },
  {
   "cell_type": "markdown",
   "id": "19019dbf",
   "metadata": {},
   "source": [
    "_Type your answer here, replacing this text._"
   ]
  },
  {
   "cell_type": "markdown",
   "id": "05de030a",
   "metadata": {},
   "source": [
    "<!-- END QUESTION -->\n",
    "\n",
    "**Question 1.2.** Define the following two functions tailored for analyzing the relationship between engine size and horsepower in muscle cars:\n",
    "\n",
    "1. `std_units`: This function takes in an array of values, such as engine sizes, and returns an array of those values converted to standard units.\n",
    "2. `correlation`: This function takes in a table and two column names (one for *x* and one for *y*) and returns the correlation between these columns. \n",
    "\n",
    "Please write your answer in the cell below, providing the code for each function. **(8 points)**"
   ]
  },
  {
   "cell_type": "code",
   "execution_count": null,
   "id": "83262375",
   "metadata": {
    "ExecuteTime": {
     "end_time": "2018-04-11T12:05:50.894154Z",
     "start_time": "2018-04-11T12:05:50.889145Z"
    },
    "deletable": false,
    "execution": {
     "iopub.execute_input": "2022-04-14T01:43:22.943100Z",
     "iopub.status.busy": "2022-04-14T01:43:22.942471Z",
     "iopub.status.idle": "2022-04-14T01:43:22.947153Z",
     "shell.execute_reply": "2022-04-14T01:43:22.946390Z"
    },
    "tags": []
   },
   "outputs": [],
   "source": [
    "def std_units(arr):\n",
    "    ...\n",
    "\n",
    "def correlation(tbl, x_col, y_col):\n",
    "    ..."
   ]
  },
  {
   "cell_type": "code",
   "execution_count": null,
   "id": "e36e4d16",
   "metadata": {
    "deletable": false,
    "editable": false
   },
   "outputs": [],
   "source": [
    "grader.check(\"q1_2\")"
   ]
  },
  {
   "cell_type": "markdown",
   "id": "360aa873",
   "metadata": {},
   "source": [
    "**Question 1.3.** Using the functions you implemented earlier, create a function called `fit_line` tailored for analyzing the relationship between engine size and horsepower in muscle cars. The function should take a table like  `muscle cars` and the column names associated with *x* and *y* as its arguments. It should return an *array* containing the slope and intercept of the regression line (in that order) that predicts the horsepower using the engine size.\n",
    "\n",
    "Please write your answer in the cell below, providing the code for the `fit_line` function. **(8 points)**\n"
   ]
  },
  {
   "cell_type": "code",
   "execution_count": null,
   "id": "318b7ed6",
   "metadata": {
    "ExecuteTime": {
     "end_time": "2018-04-11T12:05:51.483516Z",
     "start_time": "2018-04-11T12:05:51.472484Z"
    },
    "execution": {
     "iopub.execute_input": "2022-04-14T01:43:22.977113Z",
     "iopub.status.busy": "2022-04-14T01:43:22.976491Z",
     "iopub.status.idle": "2022-04-14T01:43:22.984086Z",
     "shell.execute_reply": "2022-04-14T01:43:22.983317Z"
    },
    "for_assignment_type": "solution",
    "tags": []
   },
   "outputs": [],
   "source": [
    "def fit_line(tbl, x_col, y_col):\n",
    "    ...\n",
    "\n",
    "fit_line(muscle_cars, \"Engine Size (liters)\", \"Horsepower (hp)\")"
   ]
  },
  {
   "cell_type": "code",
   "execution_count": null,
   "id": "86ad66c7",
   "metadata": {
    "deletable": false,
    "editable": false
   },
   "outputs": [],
   "source": [
    "grader.check(\"q1_3\")"
   ]
  },
  {
   "cell_type": "markdown",
   "id": "f0391f98",
   "metadata": {},
   "source": [
    "**Run** this cell to plot the line produced by calling `fit_line` on the `muscle_cars` table.  \n",
    "\n",
    "**Note:** You are not responsible for the code in the cell below, but make sure that your `fit_line` function generated a reasonable line for the data."
   ]
  },
  {
   "cell_type": "code",
   "execution_count": null,
   "id": "d43cceab",
   "metadata": {
    "ExecuteTime": {
     "end_time": "2018-04-11T12:05:51.754766Z",
     "start_time": "2018-04-11T12:05:51.624390Z"
    },
    "execution": {
     "iopub.execute_input": "2022-04-14T01:43:23.052393Z",
     "iopub.status.busy": "2022-04-14T01:43:23.052175Z",
     "iopub.status.idle": "2022-04-14T01:43:23.330757Z",
     "shell.execute_reply": "2022-04-14T01:43:23.330016Z"
    }
   },
   "outputs": [],
   "source": [
    "# Ensure your fit_line function fits a reasonable line \n",
    "# to the data in muscle cars, using the plot below.\n",
    "\n",
    "# Just run this cell\n",
    "slope, intercept = fit_line(muscle_cars, \"Engine Size (liters)\", \"Horsepower (hp)\")\n",
    "muscle_cars.scatter(\"Engine Size (liters)\", \"Horsepower (hp)\")\n",
    "plt.plot([min(muscle_cars.column(\"Engine Size (liters)\")), max(muscle_cars.column(\"Engine Size (liters)\"))], \n",
    "         [slope*min(muscle_cars.column(\"Engine Size (liters)\"))+intercept, slope*max(muscle_cars.column(\"Engine Size (liters)\"))+intercept])\n",
    "plt.show()"
   ]
  },
  {
   "cell_type": "markdown",
   "id": "5cf31e89",
   "metadata": {},
   "source": [
    "Now equipped with the essential tools, we can construct a confidence interval to quantify our uncertainty about the true association between engine size and horsepower in muscle cars."
   ]
  },
  {
   "cell_type": "markdown",
   "id": "77fb5ed5",
   "metadata": {},
   "source": [
    "<!-- BEGIN QUESTION -->\n",
    "\n",
    "**Question 1.4.** Generate an array named `bootstrapped_slopes` containing the slope of the best fit line for 1000 bootstrap resamples of the `muscle_cars` dataset. Visualize the distribution of these slopes using a histogram. **(8 points)**\n",
    "\n",
    "\n",
    "\n",
    "\n",
    "\n",
    "\n"
   ]
  },
  {
   "cell_type": "code",
   "execution_count": null,
   "id": "fea64c9d",
   "metadata": {
    "execution": {
     "iopub.execute_input": "2022-04-14T01:43:23.339692Z",
     "iopub.status.busy": "2022-04-14T01:43:23.339096Z",
     "iopub.status.idle": "2022-04-14T01:43:24.061523Z",
     "shell.execute_reply": "2022-04-14T01:43:24.060474Z"
    },
    "for_assignment_type": "solution",
    "tags": []
   },
   "outputs": [],
   "source": [
    "bootstrapped_slopes = ...\n",
    "\n",
    "for i in np.arange(1000): \n",
    "    muscle_cars_bootstrap = ...\n",
    "    bootstrap_line = ...\n",
    "    one_bootstrap_slope = ...\n",
    "    bootstrapped_slopes = ...\n",
    "    \n",
    "# DO NOT CHANGE THIS LINE\n",
    "Table().with_column(\"Slope estimate\", bootstrapped_slopes).hist()"
   ]
  },
  {
   "cell_type": "code",
   "execution_count": null,
   "id": "558b1ad3",
   "metadata": {
    "deletable": false,
    "editable": false
   },
   "outputs": [],
   "source": [
    "grader.check(\"q1_4\")"
   ]
  },
  {
   "cell_type": "markdown",
   "id": "3616bda5",
   "metadata": {},
   "source": [
    "<!-- END QUESTION -->\n",
    "\n",
    "**Question 1.5.** Use your `bootstrapped slopes` to construct an 90% confidence interval for the true value of the slope. **(8 points)**\n"
   ]
  },
  {
   "cell_type": "code",
   "execution_count": null,
   "id": "92795b75",
   "metadata": {
    "ExecuteTime": {
     "end_time": "2018-04-11T12:05:53.077324Z",
     "start_time": "2018-04-11T12:05:53.072310Z"
    },
    "deletable": false,
    "execution": {
     "iopub.execute_input": "2022-04-14T01:43:24.096078Z",
     "iopub.status.busy": "2022-04-14T01:43:24.095724Z",
     "iopub.status.idle": "2022-04-14T01:43:24.105206Z",
     "shell.execute_reply": "2022-04-14T01:43:24.103702Z"
    },
    "tags": []
   },
   "outputs": [],
   "source": [
    "lower_end = ...\n",
    "upper_end = ...\n",
    "print(\"90% confidence interval for slope: [{:g}, {:g}]\".format(lower_end, upper_end))"
   ]
  },
  {
   "cell_type": "code",
   "execution_count": null,
   "id": "d6d38be7",
   "metadata": {
    "deletable": false,
    "editable": false
   },
   "outputs": [],
   "source": [
    "grader.check(\"q1_5\")"
   ]
  },
  {
   "cell_type": "markdown",
   "id": "14c594bd",
   "metadata": {},
   "source": [
    "<!-- BEGIN QUESTION -->\n",
    "\n",
    "**Question 1.6.** Based on your confidence interval, would you accept or reject the null hypothesis that the true slope is 0?  Why?  What p-value cutoff are you using? **(8 points)**\n"
   ]
  },
  {
   "cell_type": "markdown",
   "id": "aefbd1dc",
   "metadata": {},
   "source": [
    "_Type your answer here, replacing this text._"
   ]
  },
  {
   "cell_type": "markdown",
   "id": "b9ef0c5a",
   "metadata": {},
   "source": [
    "<!-- END QUESTION -->\n",
    "\n",
    "<!-- BEGIN QUESTION -->\n",
    "\n",
    "**Question 1.7.** What do you think the true slope is? You do not need an exact number. How confident are you of this estimate? **(8 points)**\n",
    "\n",
    "*Hint:* Can you provide an interval that you think the true slope falls in?\n"
   ]
  },
  {
   "cell_type": "markdown",
   "id": "0e3ee249",
   "metadata": {},
   "source": [
    "_Type your answer here, replacing this text._"
   ]
  },
  {
   "cell_type": "markdown",
   "id": "cb9d67e4",
   "metadata": {},
   "source": [
    "<!-- END QUESTION -->\n",
    "\n",
    "## 2. Finding the Bootstrap Prediction Interval"
   ]
  },
  {
   "cell_type": "markdown",
   "id": "8ea274e0",
   "metadata": {},
   "source": [
    "Suppose we're exploring a muscle car showroom and come across various engine sizes; we're interested in predicting their horsepower based on these engine sizes. In other words, we aim to utilize our regression line to make predictions about a car's horsepower based on the engine size.\n",
    "\n",
    "However, just as we're uncertain about the slope of the true regression line, we're also uncertain about the predictions made based on the true regression line."
   ]
  },
  {
   "cell_type": "markdown",
   "id": "cb8ce4e6",
   "metadata": {},
   "source": [
    "**Question 2.1.** \n",
    "\n",
    "Define the function `predicted_value` which takes in the following four arguments:\n",
    "\n",
    "1. `table:` a table similar to the `muscle_car` dataset. We'll be predicting the values in the second column using the first.\n",
    "2. `x_column:` the name of the x-column within the input `table`.\n",
    "3. `y_column:` the name of the y-column within the input `table`.\n",
    "4. `given_x:` a number, the value of the explanatory variable for which we'd like to make a prediction.\n",
    "\n",
    "The function should utilize the `fit_line` function defined in Question 1.3 to return the line's prediction for the given engine size. (8 points)\n"
   ]
  },
  {
   "cell_type": "code",
   "execution_count": null,
   "id": "90bbee49",
   "metadata": {
    "ExecuteTime": {
     "end_time": "2018-04-11T12:05:53.935846Z",
     "start_time": "2018-04-11T12:05:53.927826Z"
    },
    "execution": {
     "iopub.execute_input": "2022-04-14T01:43:24.145491Z",
     "iopub.status.busy": "2022-04-14T01:43:24.144626Z",
     "iopub.status.idle": "2022-04-14T01:43:24.155627Z",
     "shell.execute_reply": "2022-04-14T01:43:24.154904Z"
    },
    "for_assignment_type": "solution",
    "tags": []
   },
   "outputs": [],
   "source": [
    "def predicted_value(table, x_column, y_column, given_x):\n",
    "    regression_line = ...\n",
    "    slope = ...\n",
    "    intercept = ...\n",
    "    ...\n",
    "\n",
    "# Here's an example of how predicted_value is used. The code below\n",
    "# computes the prediction for the horsepower (hp), based on\n",
    "# an engine size in liters.\n",
    "engine_size_seven = predicted_value(muscle_cars, \"Engine Size (liters)\", \"Horsepower (hp)\", 7)\n",
    "engine_size_seven"
   ]
  },
  {
   "cell_type": "code",
   "execution_count": null,
   "id": "5a349dbf",
   "metadata": {
    "deletable": false,
    "editable": false
   },
   "outputs": [],
   "source": [
    "grader.check(\"q2_1\")"
   ]
  },
  {
   "cell_type": "markdown",
   "id": "cd2c321f",
   "metadata": {},
   "source": [
    "**Question 2.2.** Jonathon, the expert on muscle cars at our testing facility, informs us that a Dodge Challenger Scatpack R/T he's been closely monitoring has an engine size of 6.2 liters. Utilizing the `predicted_value` function defined earlier, assign the variable `experts_horsepower` to the predicted horsepower for Jonathon's muscle car."
   ]
  },
  {
   "cell_type": "code",
   "execution_count": null,
   "id": "962c7b93",
   "metadata": {
    "ExecuteTime": {
     "end_time": "2018-04-11T12:05:54.430725Z",
     "start_time": "2018-04-11T12:05:54.424720Z"
    },
    "deletable": false,
    "execution": {
     "iopub.execute_input": "2022-04-14T01:43:24.176633Z",
     "iopub.status.busy": "2022-04-14T01:43:24.176382Z",
     "iopub.status.idle": "2022-04-14T01:43:24.186028Z",
     "shell.execute_reply": "2022-04-14T01:43:24.185139Z"
    },
    "tags": []
   },
   "outputs": [],
   "source": [
    "experts_horsepower = ...\n",
    "experts_horsepower"
   ]
  },
  {
   "cell_type": "code",
   "execution_count": null,
   "id": "a47b97fd",
   "metadata": {
    "deletable": false,
    "editable": false
   },
   "outputs": [],
   "source": [
    "grader.check(\"q2_2\")"
   ]
  },
  {
   "cell_type": "code",
   "execution_count": null,
   "id": "0f94572c",
   "metadata": {
    "execution": {
     "iopub.execute_input": "2022-04-14T01:43:24.235295Z",
     "iopub.status.busy": "2022-04-14T01:43:24.234701Z",
     "iopub.status.idle": "2022-04-14T01:43:24.240238Z",
     "shell.execute_reply": "2022-04-14T01:43:24.239342Z"
    },
    "scrolled": true
   },
   "outputs": [],
   "source": [
    "# Let's look at the number of rows in the muscle car table.\n",
    "muscle_cars.num_rows"
   ]
  },
  {
   "cell_type": "markdown",
   "id": "e7394134",
   "metadata": {},
   "source": [
    "A fellow automotive enthusiast raises the following objection to your prediction:\n",
    "\n",
    "> \"Your prediction depends on your sample of muscle cars. You only used 100 muscle cars. Wouldn't your prediction change if you had a different sample of muscle cars?\"\n",
    "\n",
    "Drawing upon your knowledge from the course materials, you understand the significance of sample variability in regression analysis. Indeed, had the sample of muscle cars been different, the regression line would have varied as well. Consequently, this would lead to different predictions. To accurately assess the reliability of our prediction, we must gauge the variability in our predictions across different samples of muscle cars.\n",
    "\n",
    "*Hint:* you can find the answer to in [16.3](https://inferentialthinking.com/chapters/16/3/Prediction_Intervals.html) of the textbook."
   ]
  },
  {
   "cell_type": "markdown",
   "id": "cbc5fea7",
   "metadata": {},
   "source": [
    "**Question 2.3.**\n",
    "Define a function called `compute_bootstrapped_line` that takes in a table `table` and two column names `x_column` and `y_column`. It should return an array containing the parameters of the best fit line (slope and intercept) for one bootstrapped resample of the dataset."
   ]
  },
  {
   "cell_type": "code",
   "execution_count": null,
   "id": "3699333f",
   "metadata": {
    "execution": {
     "iopub.execute_input": "2022-04-14T01:43:24.244246Z",
     "iopub.status.busy": "2022-04-14T01:43:24.243856Z",
     "iopub.status.idle": "2022-04-14T01:43:24.250061Z",
     "shell.execute_reply": "2022-04-14T01:43:24.248994Z"
    },
    "tags": []
   },
   "outputs": [],
   "source": [
    "def compute_bootstrapped_line(table, x_column, y_column):\n",
    "    bootstrapped = ...\n",
    "    bootstrapped_line = ...\n",
    "    ..."
   ]
  },
  {
   "cell_type": "code",
   "execution_count": null,
   "id": "d895e7c9",
   "metadata": {
    "deletable": false,
    "editable": false
   },
   "outputs": [],
   "source": [
    "grader.check(\"q2_3\")"
   ]
  },
  {
   "cell_type": "markdown",
   "id": "236fb942",
   "metadata": {},
   "source": [
    "**Run** the following cell below in order to define the function `bootstrap_lines`.  It takes in four arguments:\n",
    "1. `table`: a table like `muscle_cars`\n",
    "2. `x_column`: the name of our x-column within the input `table`\n",
    "3. `y_column`: the name of our y-column within the input `table`\n",
    "4. `number_bootstraps`: an integer, a number of bootstraps to run.\n",
    "\n",
    "It returns a *table* with one row for each bootstrap resample and the following two columns:\n",
    "1. `Slope`: the bootstrapped slopes \n",
    "2. `Intercept`: the corresponding bootstrapped intercepts "
   ]
  },
  {
   "cell_type": "code",
   "execution_count": null,
   "id": "d5f027c7",
   "metadata": {
    "ExecuteTime": {
     "end_time": "2018-04-11T12:05:55.698074Z",
     "start_time": "2018-04-11T12:05:55.243866Z"
    },
    "execution": {
     "iopub.execute_input": "2022-04-14T01:43:24.280014Z",
     "iopub.status.busy": "2022-04-14T01:43:24.279421Z",
     "iopub.status.idle": "2022-04-14T01:43:24.711992Z",
     "shell.execute_reply": "2022-04-14T01:43:24.710973Z"
    },
    "for_assignment_type": "solution"
   },
   "outputs": [],
   "source": [
    "# Just run this cell\n",
    "def bootstrap_lines(table, x_column, y_column, number_bootstraps):\n",
    "    reused_slopes = make_array()\n",
    "    reused_intercepts = make_array() \n",
    "    for i in np.arange(number_bootstraps): \n",
    "        reused_line = compute_bootstrapped_line(table, x_column, y_column) \n",
    "        reused_slope = reused_line.item(0) \n",
    "        reused_intercept = reused_line.item(1) \n",
    "        reused_slopes = np.append(reused_slopes,reused_slope)\n",
    "        reused_intercepts = np.append(reused_intercepts,reused_intercept)\n",
    "    table_lines = Table().with_columns('Slope', reused_slopes, 'Intercept', reused_intercepts)\n",
    "    return table_lines\n",
    "\n",
    "regress_lines = bootstrap_lines(muscle_cars, \"Engine Size (liters)\", \"Horsepower (hp)\", 1000)\n",
    "regress_lines"
   ]
  },
  {
   "cell_type": "markdown",
   "id": "f0e05df0",
   "metadata": {},
   "source": [
    "<!-- BEGIN QUESTION -->\n",
    "\n",
    "**Question 2.4.** Generate an array named `predictions_for_seven` containing the predicted horsepower based on an engine size of 7 liters for each regression line in `regress_lines` **(8 points)**"
   ]
  },
  {
   "cell_type": "code",
   "execution_count": null,
   "id": "059e63e3",
   "metadata": {
    "ExecuteTime": {
     "end_time": "2018-04-11T12:05:55.991855Z",
     "start_time": "2018-04-11T12:05:55.759236Z"
    },
    "deletable": false,
    "execution": {
     "iopub.execute_input": "2022-04-14T01:43:24.716835Z",
     "iopub.status.busy": "2022-04-14T01:43:24.716309Z",
     "iopub.status.idle": "2022-04-14T01:43:25.049380Z",
     "shell.execute_reply": "2022-04-14T01:43:25.048385Z"
    },
    "scrolled": true,
    "tags": []
   },
   "outputs": [],
   "source": [
    "predictions_for_seven = ...\n",
    "\n",
    "# This will make a histogram of your predictions:\n",
    "table_of_predictions = Table().with_column('Predictions at Horsepower=7', predictions_for_seven)\n",
    "table_of_predictions.hist('Predictions at Horsepower=7', bins=20)"
   ]
  },
  {
   "cell_type": "code",
   "execution_count": null,
   "id": "edb09984",
   "metadata": {
    "deletable": false,
    "editable": false
   },
   "outputs": [],
   "source": [
    "grader.check(\"q2_4\")"
   ]
  },
  {
   "cell_type": "markdown",
   "id": "18bb9b1c",
   "metadata": {},
   "source": [
    "<!-- END QUESTION -->\n",
    "\n",
    "**Question 2.5.** Create an approximate 90% confidence interval for these predictions. **(6 points)**\n"
   ]
  },
  {
   "cell_type": "code",
   "execution_count": null,
   "id": "ef5adec3",
   "metadata": {
    "ExecuteTime": {
     "end_time": "2018-04-11T12:05:56.097136Z",
     "start_time": "2018-04-11T12:05:56.089117Z"
    },
    "deletable": false,
    "execution": {
     "iopub.execute_input": "2022-04-14T01:43:25.063279Z",
     "iopub.status.busy": "2022-04-14T01:43:25.062954Z",
     "iopub.status.idle": "2022-04-14T01:43:25.072055Z",
     "shell.execute_reply": "2022-04-14T01:43:25.071189Z"
    },
    "scrolled": true,
    "tags": []
   },
   "outputs": [],
   "source": [
    "lower_bound = ...\n",
    "upper_bound = ...\n",
    "\n",
    "print('90% Confidence interval for predictions for x=7: (', lower_bound,\",\", upper_bound, ')')"
   ]
  },
  {
   "cell_type": "code",
   "execution_count": null,
   "id": "a2866243",
   "metadata": {
    "deletable": false,
    "editable": false
   },
   "outputs": [],
   "source": [
    "grader.check(\"q2_5\")"
   ]
  },
  {
   "cell_type": "markdown",
   "id": "66b7dec0",
   "metadata": {},
   "source": [
    "**Question 2.6.** Set `car_statements` to an array of integer(s) that correspond to statement(s) that are true. **(6 points)**\n",
    "\n",
    "1. The 90% confidence interval covers 90% of the predicted horsepower values for muscle cars with an engine size of seven liters.\n",
    "\n",
    "2. The 90% confidence interval quantifies the uncertainty in our estimation of how engine size influences horsepower in `muscle_cars`.\n",
    "\n",
    "3. The 90% confidence interval provides insight into the variability of actual horsepower values relative to the predicted values.\n"
   ]
  },
  {
   "cell_type": "code",
   "execution_count": null,
   "id": "40c0018b",
   "metadata": {
    "ExecuteTime": {
     "end_time": "2018-04-11T12:05:56.479878Z",
     "start_time": "2018-04-11T12:05:56.476869Z"
    },
    "deletable": false,
    "execution": {
     "iopub.execute_input": "2022-04-14T01:43:25.106109Z",
     "iopub.status.busy": "2022-04-14T01:43:25.105264Z",
     "iopub.status.idle": "2022-04-14T01:43:25.137456Z",
     "shell.execute_reply": "2022-04-14T01:43:25.136452Z"
    },
    "tags": []
   },
   "outputs": [],
   "source": [
    "car_statements = ..."
   ]
  },
  {
   "cell_type": "code",
   "execution_count": null,
   "id": "63bdebaa",
   "metadata": {
    "deletable": false,
    "editable": false
   },
   "outputs": [],
   "source": [
    "grader.check(\"q2_6\")"
   ]
  },
  {
   "cell_type": "markdown",
   "id": "b8d13fc2",
   "metadata": {},
   "source": [
    "You're done with Homework 11!  \n",
    "\n",
    "**Important submission steps:** \n",
    "1. Run the tests and verify that they all pass.\n",
    "2. Choose **Save Notebook** from the **File** menu, then **run the final cell**. \n",
    "3. Click the link to download the zip file.\n",
    "4. Then submit the zip file to the corresponding assignment according to your instructor's directions. \n",
    "\n",
    "**It is your responsibility to make sure your work is saved before running the last cell.**"
   ]
  },
  {
   "cell_type": "code",
   "execution_count": null,
   "id": "a0de30bf",
   "metadata": {},
   "outputs": [],
   "source": []
  },
  {
   "cell_type": "markdown",
   "id": "1765ed72",
   "metadata": {
    "deletable": false,
    "editable": false
   },
   "source": [
    "## Submission\n",
    "\n",
    "Make sure you have run all cells in your notebook in order before running the cell below, so that all images/graphs appear in the output. The cell below will generate a zip file for you to submit. **Please save before exporting!**"
   ]
  },
  {
   "cell_type": "code",
   "execution_count": null,
   "id": "f591f772",
   "metadata": {
    "deletable": false,
    "editable": false
   },
   "outputs": [],
   "source": [
    "# Save your notebook first, then run this cell to export your submission.\n",
    "grader.export(pdf=False, run_tests=True)"
   ]
  },
  {
   "cell_type": "markdown",
   "id": "5c1c2f85",
   "metadata": {},
   "source": [
    " "
   ]
  }
 ],
 "metadata": {
  "kernelspec": {
   "display_name": "Python 3 (ipykernel)",
   "language": "python",
   "name": "python3"
  },
  "language_info": {
   "codemirror_mode": {
    "name": "ipython",
    "version": 3
   },
   "file_extension": ".py",
   "mimetype": "text/x-python",
   "name": "python",
   "nbconvert_exporter": "python",
   "pygments_lexer": "ipython3",
   "version": "3.10.11"
  },
  "otter": {
   "OK_FORMAT": true,
   "tests": {
    "q1_2": {
     "name": "q1_2",
     "points": [
      0
     ],
     "suites": [
      {
       "cases": [
        {
         "code": ">>> # Ensure your correlation function returns one number between -1 and 1\n>>> abs(correlation(Table().with_columns('a', np.random.normal(0, 1, 10),'b', np.random.normal(0, 1, 10)), \"a\", \"b\")) <= 1\nTrue",
         "hidden": false,
         "locked": false
        }
       ],
       "scored": true,
       "setup": "",
       "teardown": "",
       "type": "doctest"
      }
     ]
    },
    "q1_3": {
     "name": "q1_3",
     "points": [
      0,
      0,
      2
     ],
     "suites": [
      {
       "cases": [
        {
         "code": ">>> type(fit_line(Table().with_columns('x', make_array(0, 1), 'y', make_array(1, 3)), \"x\", \"y\")) == np.ndarray\nTrue",
         "hidden": false,
         "locked": false
        },
        {
         "code": ">>> len(fit_line(Table().with_columns('x', make_array(0, 1), 'y', make_array(1, 3)), \"x\", \"y\")) == 2\nTrue",
         "hidden": false,
         "locked": false
        },
        {
         "code": ">>> np.allclose(np.round(fit_line(Table().with_columns('x', make_array(0, 1), 'y', make_array(1, 3)), \"x\", \"y\"), 5), np.array([2, 1]))\nTrue",
         "hidden": false,
         "locked": false
        }
       ],
       "scored": true,
       "setup": "",
       "teardown": "",
       "type": "doctest"
      }
     ]
    },
    "q1_4": {
     "name": "q1_4",
     "points": null,
     "suites": [
      {
       "cases": [
        {
         "code": ">>> len(bootstrapped_slopes) == 1000\nTrue",
         "hidden": false,
         "locked": false
        }
       ],
       "scored": true,
       "setup": "",
       "teardown": "",
       "type": "doctest"
      }
     ]
    },
    "q1_5": {
     "name": "q1_5",
     "points": [
      0,
      0
     ],
     "suites": [
      {
       "cases": [
        {
         "code": ">>> lower_end > 75\nTrue",
         "hidden": false,
         "locked": false
        },
        {
         "code": ">>> 80 < upper_end < 95\nTrue",
         "hidden": false,
         "locked": false
        }
       ],
       "scored": true,
       "setup": "",
       "teardown": "",
       "type": "doctest"
      }
     ]
    },
    "q2_1": {
     "name": "q2_1",
     "points": [
      0
     ],
     "suites": [
      {
       "cases": [
        {
         "code": ">>> type(engine_size_seven) in set([float, np.float32, np.float64])\nTrue",
         "hidden": false,
         "locked": false
        }
       ],
       "scored": true,
       "setup": "",
       "teardown": "",
       "type": "doctest"
      }
     ]
    },
    "q2_2": {
     "name": "q2_2",
     "points": [
      0
     ],
     "suites": [
      {
       "cases": [
        {
         "code": ">>> type(experts_horsepower) in set([float, np.float32, np.float64])\nTrue",
         "hidden": false,
         "locked": false
        }
       ],
       "scored": true,
       "setup": "",
       "teardown": "",
       "type": "doctest"
      }
     ]
    },
    "q2_3": {
     "name": "q2_3",
     "points": [
      0
     ],
     "suites": [
      {
       "cases": [
        {
         "code": ">>> len(compute_bootstrapped_line(Table().with_columns('x', make_array(0, 1), 'y', make_array(1, 3)), \"x\", \"y\")) == 2\nTrue",
         "hidden": false,
         "locked": false
        }
       ],
       "scored": true,
       "setup": "",
       "teardown": "",
       "type": "doctest"
      }
     ]
    },
    "q2_4": {
     "name": "q2_4",
     "points": null,
     "suites": [
      {
       "cases": [
        {
         "code": ">>> len(predictions_for_seven) == regress_lines.num_rows\nTrue",
         "hidden": false,
         "locked": false
        }
       ],
       "scored": true,
       "setup": "",
       "teardown": "",
       "type": "doctest"
      }
     ]
    },
    "q2_5": {
     "name": "q2_5",
     "points": [
      0,
      0
     ],
     "suites": [
      {
       "cases": [
        {
         "code": ">>> lower_bound > 780\nTrue",
         "hidden": false,
         "locked": false
        },
        {
         "code": ">>> 750 <upper_bound < 850\nTrue",
         "hidden": false,
         "locked": false
        }
       ],
       "scored": true,
       "setup": "",
       "teardown": "",
       "type": "doctest"
      }
     ]
    },
    "q2_6": {
     "name": "q2_6",
     "points": [
      0
     ],
     "suites": [
      {
       "cases": [
        {
         "code": ">>> type(car_statements) == np.ndarray\nTrue",
         "hidden": false,
         "locked": false
        }
       ],
       "scored": true,
       "setup": "",
       "teardown": "",
       "type": "doctest"
      }
     ]
    }
   }
  }
 },
 "nbformat": 4,
 "nbformat_minor": 5
}
