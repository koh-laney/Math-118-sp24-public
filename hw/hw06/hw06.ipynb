{
 "cells": [
  {
   "cell_type": "code",
   "execution_count": null,
   "id": "ce41358b",
   "metadata": {
    "deletable": false,
    "editable": false
   },
   "outputs": [],
   "source": [
    "# Initialize Otter\n",
    "import otter\n",
    "grader = otter.Notebook(\"hw06.ipynb\")"
   ]
  },
  {
   "cell_type": "markdown",
   "id": "f6e11180",
   "metadata": {},
   "source": [
    "# Homework 6: Probability, Simulation, Estimation, and Assessing Models\n",
    "\n",
    "Please complete this notebook by filling in the cells provided. Before you begin, execute the previous cell to load the provided tests."
   ]
  },
  {
   "cell_type": "markdown",
   "id": "34065da5",
   "metadata": {},
   "source": [
    "**Helpful Resource:**\n",
    "- [Python Reference](http://data8.org/sp22/python-reference.html): Cheat sheet of helpful array & table methods used in Data 8!\n",
    "\n",
    "**Recommended Readings**: \n",
    "* [Randomness](https://www.inferentialthinking.com/chapters/09/Randomness.html)\n",
    "* [Sampling and Empirical Distributions](https://www.inferentialthinking.com/chapters/10/Sampling_and_Empirical_Distributions.html)\n",
    "* [Testing Hypotheses](https://www.inferentialthinking.com/chapters/11/Testing_Hypotheses.html)"
   ]
  },
  {
   "cell_type": "markdown",
   "id": "911a8911",
   "metadata": {},
   "source": [
    "Please complete this notebook by filling in the cells provided. Before you begin, execute the following cell to setup the notebook by importing some helpful libraries. Each time you start your server, you will need to execute this cell again.\n",
    "\n",
    "For all problems that you must write explanations and sentences for, you **must** provide your answer in the designated space. **Moreover, throughout this homework and all future ones, please be sure to not re-assign variables throughout the notebook!** For example, if you use `max_temperature` in your answer to one question, do not reassign it later on. Otherwise, you will fail tests that you thought you were passing previously!\n",
    "\n",
    "\n",
    "**Note: This homework has hidden tests on it. That means even though the tests may say 100% passed, it doesn't mean your final grade will be 100%. We will be running more tests for correctness once everyone turns in the homework.**\n",
    "\n",
    "\n",
    "Directly sharing answers is not okay, but discussing problems with the course staff or with other students is encouraged. \n",
    "\n",
    "You should start early so that you have time to get help if you're stuck."
   ]
  },
  {
   "cell_type": "markdown",
   "id": "40f867cb",
   "metadata": {},
   "source": [
    "## 1. Sic Bo"
   ]
  },
  {
   "cell_type": "code",
   "execution_count": null,
   "id": "b4b5afd5",
   "metadata": {
    "execution": {
     "iopub.execute_input": "2022-02-27T07:01:08.707564Z",
     "iopub.status.busy": "2022-02-27T07:01:08.706492Z",
     "iopub.status.idle": "2022-02-27T07:01:10.245324Z",
     "shell.execute_reply": "2022-02-27T07:01:10.244675Z"
    }
   },
   "outputs": [],
   "source": [
    "# Run this cell to set up the notebook, but please don't change it.\n",
    "\n",
    "# These lines import the Numpy and Datascience modules.\n",
    "import numpy as np\n",
    "from datascience import *\n",
    "import d8error\n",
    "\n",
    "# These lines do some fancy plotting magic.\n",
    "import matplotlib\n",
    "%matplotlib inline\n",
    "import matplotlib.pyplot as plt\n",
    "plt.style.use('fivethirtyeight')\n",
    "import warnings\n",
    "warnings.simplefilter('ignore', FutureWarning)"
   ]
  },
  {
   "cell_type": "markdown",
   "id": "94268394",
   "metadata": {},
   "source": [
    "Sic Bo is a popular dice game often found in casinos, where players wager on the outcome of the roll of three six-sided dice. If a player's combined outcome of each die amounts to any number between 4 and 10, the player is said to have a **SMALL**. For a combined outcome between 11 and 17, the player is said to have a **BIG**. \n",
    "\n",
    "In our simulation, inspired by Sic Bo, players can place bets on either a **SMALL** or **BIG** and win accordingly. The table `rolls` shows all the possible combinations of 3 dice rolls and their respective outcomes."
   ]
  },
  {
   "cell_type": "markdown",
   "id": "49fc615f",
   "metadata": {},
   "source": [
    "Run the cell below to load the `rolls` table."
   ]
  },
  {
   "cell_type": "code",
   "execution_count": null,
   "id": "8f4b0771",
   "metadata": {},
   "outputs": [],
   "source": [
    "#rolls = Table.read_table('rolls.csv').drop(0)\n",
    "rolls = Table.read_table('rolls.csv').drop(0)\n",
    "rolls"
   ]
  },
  {
   "cell_type": "markdown",
   "id": "9025487a",
   "metadata": {},
   "source": [
    "### Betting on SMALL ###\n",
    "If you bet on **SMALL**, you are betting that the outcome of rolling the dice will be a number between 4 and 10. This bet *pays 1 to 1*. That means if you place a one-dollar bet on a **SMALL**, then:\n",
    "\n",
    "- If the outcome of the dice roll is between 4 and 10, your gain is 1 dollar. \n",
    "- If the outcome of the dice roll is not between 4 and 10, you lose your dollar. In other words, your gain is -1 dollars.\n",
    "\n",
    "Let's see if you can make money by betting on a **SMALL** in Sic Bo."
   ]
  },
  {
   "cell_type": "markdown",
   "id": "c4a31218",
   "metadata": {},
   "source": [
    "**Question 1.** Define a function `dollar_bet_on_small` that takes the result of the outcome of a roll and returns your gain in dollars if the outcome is a **SMALL** and you had placed a one-dollar bet on **SMALL**. Remember that the gain can be negative. Make sure your function returns an integer. **(4 points)**\n",
    "\n",
    "*Note:* You can assume that the arguments passed to the function will only be numbers from the `Outcome` column. Your function doesn't have to check  for this condition.\n"
   ]
  },
  {
   "cell_type": "code",
   "execution_count": null,
   "id": "f392308f",
   "metadata": {
    "execution": {
     "iopub.execute_input": "2022-02-27T07:01:10.266520Z",
     "iopub.status.busy": "2022-02-27T07:01:10.266026Z",
     "iopub.status.idle": "2022-02-27T07:01:10.268709Z",
     "shell.execute_reply": "2022-02-27T07:01:10.268286Z"
    },
    "tags": []
   },
   "outputs": [],
   "source": [
    "def dollar_bet_on_small(...):\n",
    "    ..."
   ]
  },
  {
   "cell_type": "code",
   "execution_count": null,
   "id": "f1558348",
   "metadata": {
    "deletable": false,
    "editable": false
   },
   "outputs": [],
   "source": [
    "grader.check(\"q1_1\")"
   ]
  },
  {
   "cell_type": "markdown",
   "id": "4c031fc0",
   "metadata": {},
   "source": [
    "Run the cell below to make sure your function is working."
   ]
  },
  {
   "cell_type": "code",
   "execution_count": null,
   "id": "f7ef951f",
   "metadata": {
    "execution": {
     "iopub.execute_input": "2022-02-27T07:01:10.287937Z",
     "iopub.status.busy": "2022-02-27T07:01:10.287457Z",
     "iopub.status.idle": "2022-02-27T07:01:10.289972Z",
     "shell.execute_reply": "2022-02-27T07:01:10.289503Z"
    }
   },
   "outputs": [],
   "source": [
    "print(dollar_bet_on_small(4))\n",
    "print(dollar_bet_on_small(9))\n",
    "print(dollar_bet_on_small(18))"
   ]
  },
  {
   "cell_type": "markdown",
   "id": "f08e1b77",
   "metadata": {},
   "source": [
    "**Question 2.** Add a column labeled `Winnings: Small` to the table `rolls`. For each outcome, the column should contain your gain in dollars if that outcome won and you had bet one dollar on **SMALL**. Your code should use the function `dollar_bet_on_small`. **(4 points)**\n"
   ]
  },
  {
   "cell_type": "code",
   "execution_count": null,
   "id": "92b89d96",
   "metadata": {
    "execution": {
     "iopub.execute_input": "2022-02-27T07:01:10.295863Z",
     "iopub.status.busy": "2022-02-27T07:01:10.295377Z",
     "iopub.status.idle": "2022-02-27T07:01:10.298076Z",
     "shell.execute_reply": "2022-02-27T07:01:10.298429Z"
    },
    "scrolled": true,
    "tags": []
   },
   "outputs": [],
   "source": [
    "small_winnings = ...\n",
    "rolls = ...\n",
    "rolls"
   ]
  },
  {
   "cell_type": "code",
   "execution_count": null,
   "id": "9f4bd933",
   "metadata": {
    "deletable": false,
    "editable": false
   },
   "outputs": [],
   "source": [
    "grader.check(\"q1_2\")"
   ]
  },
  {
   "cell_type": "markdown",
   "id": "06496f08",
   "metadata": {},
   "source": [
    "### Simulating 10 Bets on SMALL\n",
    "For each dice roll, the winning outcome is equally likely to be any of the 216 outcomes regardless of the results of all other rolls. Let's see what would happen if we decided to bet one dollar on **SMALL** each round.\n",
    "\n",
    "**Question 3.** Create a table named `ten_bets` by sampling the rolls table to simulate 10 rolls of three dice. Ensure that your table has the same four column labels as in `rolls`. Once you've created that table, set `sum_bets` to your net gain in all 10 bets, assuming that you bet one dollar on **SMALL** each time. **(4 points)**\n",
    "\n",
    "*Hint:* It may be helpful to print out `ten_bets` after you create it!\n"
   ]
  },
  {
   "cell_type": "code",
   "execution_count": null,
   "id": "7cfee66b",
   "metadata": {
    "execution": {
     "iopub.execute_input": "2022-02-27T07:01:10.317383Z",
     "iopub.status.busy": "2022-02-27T07:01:10.314765Z",
     "iopub.status.idle": "2022-02-27T07:01:10.319998Z",
     "shell.execute_reply": "2022-02-27T07:01:10.320357Z"
    },
    "tags": []
   },
   "outputs": [],
   "source": [
    "ten_bets = ...\n",
    "sum_bets = ...(ten_bets.column('Winnings: Small'))\n",
    "sum_bets"
   ]
  },
  {
   "cell_type": "code",
   "execution_count": null,
   "id": "f1c70509",
   "metadata": {
    "deletable": false,
    "editable": false
   },
   "outputs": [],
   "source": [
    "grader.check(\"q1_3\")"
   ]
  },
  {
   "cell_type": "markdown",
   "id": "f5d26def",
   "metadata": {},
   "source": [
    "Run the cells above a few times to see how much money you would make if you made 10 one-dollar bets on **SMALL**. Making a negative amount of money doesn't feel good, but it is a reality in gambling. Casinos are a business, and they make money when gamblers lose."
   ]
  },
  {
   "cell_type": "markdown",
   "id": "f2bd954e",
   "metadata": {},
   "source": [
    "**Question 4.** Let's see what would happen if you made more bets. Define a function `net_gain_small` that takes the number of bets and returns the net gain in that number of one-dollar bets on **SMALL**. **(4 points)**\n",
    "\n",
    "*Hint:* You should use the `rolls` table within your function.\n"
   ]
  },
  {
   "cell_type": "code",
   "execution_count": null,
   "id": "16706ba9",
   "metadata": {
    "execution": {
     "iopub.execute_input": "2022-02-27T07:01:10.339738Z",
     "iopub.status.busy": "2022-02-27T07:01:10.339230Z",
     "iopub.status.idle": "2022-02-27T07:01:10.341526Z",
     "shell.execute_reply": "2022-02-27T07:01:10.341924Z"
    },
    "tags": []
   },
   "outputs": [],
   "source": [
    "def net_gain_small(...):\n",
    "    ..."
   ]
  },
  {
   "cell_type": "code",
   "execution_count": null,
   "id": "d7bb58e0",
   "metadata": {
    "deletable": false,
    "editable": false
   },
   "outputs": [],
   "source": [
    "grader.check(\"q1_4\")"
   ]
  },
  {
   "cell_type": "markdown",
   "id": "d7870b0d",
   "metadata": {},
   "source": [
    "Run the cell below a few times to make sure that the results are similar to those you observed in the previous exercise."
   ]
  },
  {
   "cell_type": "code",
   "execution_count": null,
   "id": "515ddc97",
   "metadata": {
    "execution": {
     "iopub.execute_input": "2022-02-27T07:01:10.467435Z",
     "iopub.status.busy": "2022-02-27T07:01:10.466912Z",
     "iopub.status.idle": "2022-02-27T07:01:10.469903Z",
     "shell.execute_reply": "2022-02-27T07:01:10.469502Z"
    }
   },
   "outputs": [],
   "source": [
    "net_gain_small(10)"
   ]
  },
  {
   "cell_type": "markdown",
   "id": "6c641512",
   "metadata": {},
   "source": [
    "**Question 5.** Complete the cell below to simulate the net gain in 200 one-dollar bets on **SMALL**, repeating the process 10,000 times. After the cell is run, `all_gains_small` should be an array with 10,000 entries, each of which is the net gain in 200 one-dollar bets on **SMALL**. **(4 points)**\n",
    "\n",
    "*Hint:* Think about which computational tool might be helpful for simulating a process multiple times. Lab 5 might be a good resource to look at!\n",
    "\n",
    "*Note:* This cell might take a few seconds to run.\n"
   ]
  },
  {
   "cell_type": "code",
   "execution_count": null,
   "id": "79f8c4ad",
   "metadata": {
    "execution": {
     "iopub.execute_input": "2022-02-27T07:01:10.482677Z",
     "iopub.status.busy": "2022-02-27T07:01:10.481816Z",
     "iopub.status.idle": "2022-02-27T07:01:14.645566Z",
     "shell.execute_reply": "2022-02-27T07:01:14.645024Z"
    },
    "tags": []
   },
   "outputs": [],
   "source": [
    "num_bets = ...\n",
    "repetitions = ...\n",
    "\n",
    "all_gains_small = ...\n",
    "...\n",
    "\n",
    "len(all_gains_small) # Do not change this line! Check that all_gains_small is length 10000."
   ]
  },
  {
   "cell_type": "code",
   "execution_count": null,
   "id": "ce592f86",
   "metadata": {
    "deletable": false,
    "editable": false
   },
   "outputs": [],
   "source": [
    "grader.check(\"q1_5\")"
   ]
  },
  {
   "cell_type": "markdown",
   "id": "54e02ee4",
   "metadata": {},
   "source": [
    "Run the cell below to visualize the results of your simulation."
   ]
  },
  {
   "cell_type": "code",
   "execution_count": null,
   "id": "092ce843",
   "metadata": {
    "execution": {
     "iopub.execute_input": "2022-02-27T07:01:14.700790Z",
     "iopub.status.busy": "2022-02-27T07:01:14.700123Z",
     "iopub.status.idle": "2022-02-27T07:01:15.007968Z",
     "shell.execute_reply": "2022-02-27T07:01:15.007403Z"
    }
   },
   "outputs": [],
   "source": [
    "gains = Table().with_columns('Net Gain on Small', all_gains_small)\n",
    "gains.hist(bins=np.arange(-80, 70, 10), edgecolor='black') \n"
   ]
  },
  {
   "cell_type": "markdown",
   "id": "7e1cada0",
   "metadata": {},
   "source": [
    "**Question 6:** Using the histogram above, decide whether the following statement is true or false:\n",
    "\n",
    ">If you make 200 one-dollar bets on a small, your chance of losing money is more than 50%.\n",
    "\n",
    "Assign `loss_more_than_50` to either `True` or `False` depending on your answer to the question. **(4 points)**\n"
   ]
  },
  {
   "cell_type": "code",
   "execution_count": null,
   "id": "a0ac309b",
   "metadata": {
    "execution": {
     "iopub.execute_input": "2022-02-27T07:01:15.012354Z",
     "iopub.status.busy": "2022-02-27T07:01:15.011807Z",
     "iopub.status.idle": "2022-02-27T07:01:15.014415Z",
     "shell.execute_reply": "2022-02-27T07:01:15.013865Z"
    },
    "tags": []
   },
   "outputs": [],
   "source": [
    "loss_more_than_50 = ..."
   ]
  },
  {
   "cell_type": "code",
   "execution_count": null,
   "id": "0ce9b487",
   "metadata": {
    "deletable": false,
    "editable": false
   },
   "outputs": [],
   "source": [
    "grader.check(\"q1_6\")"
   ]
  },
  {
   "cell_type": "markdown",
   "id": "46becf1d",
   "metadata": {},
   "source": [
    "### Betting on a Single ###\n",
    "Let's try a different type of bet. In our simulated game, a bet on a *single* is a wager that a specific number will appear on a specific one of the three dice. First, specify one of the three dice. Then choose a single number from 1 to 6, and if your number appears on your chosen die, the payout is 5 to 1. For example, if you place a one-dollar bet on Die 1 landing on 6, then:\n",
    "\n",
    "- If Die 1 lands on a 6, your gain is 5 dollars.\n",
    "- If Die 1 does not land on a 6, you lose your dollar, so your gain is -1 dollars.\n",
    "\n",
    "**Question 7.** Define a function called `dollar_bet_on_six` that takes a specific die number from 1 to 6 as input, and calculates your gain in dollars (either 5 dollars or -1 dollars). The function should determine the outcome of betting a dollar on 6.  **(4 points)**\n",
    "\n",
    "*Note*: We will focus on the outcome of rolling only a single die for the purpose of this exercise."
   ]
  },
  {
   "cell_type": "code",
   "execution_count": null,
   "id": "0bc63b0c",
   "metadata": {
    "execution": {
     "iopub.execute_input": "2022-02-27T07:01:15.034590Z",
     "iopub.status.busy": "2022-02-27T07:01:15.034089Z",
     "iopub.status.idle": "2022-02-27T07:01:15.036129Z",
     "shell.execute_reply": "2022-02-27T07:01:15.036546Z"
    },
    "tags": []
   },
   "outputs": [],
   "source": [
    "def dollar_bet_on_six(...):\n",
    "    ..."
   ]
  },
  {
   "cell_type": "code",
   "execution_count": null,
   "id": "51138e2a",
   "metadata": {
    "deletable": false,
    "editable": false
   },
   "outputs": [],
   "source": [
    "grader.check(\"q1_7\")"
   ]
  },
  {
   "cell_type": "markdown",
   "id": "74d03d3d",
   "metadata": {},
   "source": [
    "Run the cell below to check that your function is doing what it should."
   ]
  },
  {
   "cell_type": "code",
   "execution_count": null,
   "id": "f2187a8b",
   "metadata": {
    "execution": {
     "iopub.execute_input": "2022-02-27T07:01:15.084432Z",
     "iopub.status.busy": "2022-02-27T07:01:15.083831Z",
     "iopub.status.idle": "2022-02-27T07:01:15.086660Z",
     "shell.execute_reply": "2022-02-27T07:01:15.086271Z"
    },
    "scrolled": true
   },
   "outputs": [],
   "source": [
    "print(dollar_bet_on_six(3))\n",
    "print(dollar_bet_on_six(4))\n",
    "print(dollar_bet_on_six(6))\n",
    "print(dollar_bet_on_six(5))"
   ]
  },
  {
   "cell_type": "markdown",
   "id": "c6bf07b4",
   "metadata": {},
   "source": [
    "**Question 8.** Add a column `Winnings: Single` to the `rolls` table. Pick a single die (either Die 1, Die 2 or Die 3). For each bet (i.e., roll of the 3 dice), the `Winnings: Single` column should contain your gain in dollars if the chosen Die lands on a 6 and you had bet one dollar. **(4 points)**\n",
    "\n",
    "*Note*: Each die is equally likely to land on the number 6. The Die you choose does not impact the outcome.\n"
   ]
  },
  {
   "cell_type": "code",
   "execution_count": null,
   "id": "15146dc7",
   "metadata": {
    "execution": {
     "iopub.execute_input": "2022-02-27T07:01:15.092146Z",
     "iopub.status.busy": "2022-02-27T07:01:15.091578Z",
     "iopub.status.idle": "2022-02-27T07:01:15.096137Z",
     "shell.execute_reply": "2022-02-27T07:01:15.095659Z"
    },
    "scrolled": true,
    "tags": []
   },
   "outputs": [],
   "source": [
    "# Any \"Die\" column is correct\n",
    "single_winnings = ...\n",
    "rolls = ...\n",
    "rolls.show(5) # Do not change this line."
   ]
  },
  {
   "cell_type": "code",
   "execution_count": null,
   "id": "31af1d28",
   "metadata": {
    "deletable": false,
    "editable": false
   },
   "outputs": [],
   "source": [
    "grader.check(\"q1_8\")"
   ]
  },
  {
   "cell_type": "markdown",
   "id": "997a42af",
   "metadata": {},
   "source": [
    "**Question 9.** Simulate the net gain in 200 one-dollar bets on the single 6, repeating the process 10,000 times and saving your gains in the array `all_gains_single`. **(4 points)**\n",
    "\n",
    "*Hint:* Your code in Questions 4 and 5 may be helpful here!\n"
   ]
  },
  {
   "cell_type": "code",
   "execution_count": null,
   "id": "b87b7f11",
   "metadata": {
    "execution": {
     "iopub.execute_input": "2022-02-27T07:01:15.122928Z",
     "iopub.status.busy": "2022-02-27T07:01:15.120246Z",
     "iopub.status.idle": "2022-02-27T07:01:20.885279Z",
     "shell.execute_reply": "2022-02-27T07:01:20.885661Z"
    },
    "scrolled": true,
    "tags": []
   },
   "outputs": [],
   "source": [
    "all_gains_single = ...\n",
    "\n",
    "...\n",
    "\n",
    "# Do not change the two lines below\n",
    "gains = gains.with_columns('Net Gain on Single', all_gains_single)\n",
    "gains.hist(bins = np.arange(-200, 150, 20))"
   ]
  },
  {
   "cell_type": "code",
   "execution_count": null,
   "id": "da48d2d8",
   "metadata": {
    "deletable": false,
    "editable": false
   },
   "outputs": [],
   "source": [
    "grader.check(\"q1_9\")"
   ]
  },
  {
   "cell_type": "markdown",
   "id": "46527351",
   "metadata": {},
   "source": [
    "**Question 10.** Look carefully at the visualization above, and assign `histogram_statements` to an array of the numbers of each statement below that can be correctly inferred from the overlaid histogram. **(4 points)**\n",
    "\n",
    "1. If you bet one dollar 200 times on a small, your chance of loosing money is more than 50%.\n",
    "2. If you bet one dollar 200 times in our simulaton, your chance of loosing more than 50 dollars is greater if you bet on a small each time than if you bet on a single each time.\n",
    "3. If you bet one dollar 200 times in our simulaton, your chance of making more than 50 dollars is greater if you bet on a single each time than if you bet on small each time.\n",
    "\n",
    "*Hint:* We've already seen one of these statements in a prior question.\n"
   ]
  },
  {
   "cell_type": "code",
   "execution_count": null,
   "id": "8b4076b6",
   "metadata": {
    "execution": {
     "iopub.execute_input": "2022-02-27T07:01:20.906442Z",
     "iopub.status.busy": "2022-02-27T07:01:20.904915Z",
     "iopub.status.idle": "2022-02-27T07:01:20.908692Z",
     "shell.execute_reply": "2022-02-27T07:01:20.908299Z"
    },
    "tags": []
   },
   "outputs": [],
   "source": [
    "histogram_statements = ..."
   ]
  },
  {
   "cell_type": "code",
   "execution_count": null,
   "id": "05ee5835",
   "metadata": {
    "deletable": false,
    "editable": false
   },
   "outputs": [],
   "source": [
    "grader.check(\"q1_10\")"
   ]
  },
  {
   "cell_type": "markdown",
   "id": "adf226a4",
   "metadata": {},
   "source": [
    "## 2. Chances"
   ]
  },
  {
   "cell_type": "markdown",
   "id": "77fd49fe",
   "metadata": {},
   "source": [
    "Before you do this exercise, make sure you understand the logic behind all the examples in [Section 9.5](https://inferentialthinking.com/chapters/09/5/Finding_Probabilities.html). \n",
    "\n",
    "Good ways to approach probability calculations include:\n",
    "\n",
    "- Thinking one trial at a time: What does the first one have to be? Then what does the next one have to be?\n",
    "- Breaking up the event into distinct ways in which it can happen.\n",
    "- Seeing if it is easier to find the chance that the event does not happen."
   ]
  },
  {
   "cell_type": "markdown",
   "id": "361781a2",
   "metadata": {},
   "source": [
    "### Finding Chances\n",
    "\n",
    "When rolling 3 dice, there are 6 possible outcomes for each die you roll. These outcomes are equally likely regardless of the results of other rolls. Among these outcomes, various combinations lead to different results. In each section below, provide an expression that calculates the probability of the specified event."
   ]
  },
  {
   "cell_type": "markdown",
   "id": "525f36d5",
   "metadata": {},
   "source": [
    "**Question 1.** Rolling 3 fives on your first try. **(4 points)**\n",
    "\n",
    "*Hint:* We are rolling 3 dice at time.\n"
   ]
  },
  {
   "cell_type": "code",
   "execution_count": null,
   "id": "9133fbbf",
   "metadata": {
    "execution": {
     "iopub.execute_input": "2022-02-27T07:01:20.937159Z",
     "iopub.status.busy": "2022-02-27T07:01:20.936576Z",
     "iopub.status.idle": "2022-02-27T07:01:20.938631Z",
     "shell.execute_reply": "2022-02-27T07:01:20.939061Z"
    },
    "tags": []
   },
   "outputs": [],
   "source": [
    "first_roll_all_five = ..."
   ]
  },
  {
   "cell_type": "code",
   "execution_count": null,
   "id": "016b7afe",
   "metadata": {
    "deletable": false,
    "editable": false
   },
   "outputs": [],
   "source": [
    "grader.check(\"q2_1\")"
   ]
  },
  {
   "cell_type": "markdown",
   "id": "a54a86cb",
   "metadata": {},
   "source": [
    "**Question 2.** Not rolling 3 fives on you first try. **(4 points)**\n"
   ]
  },
  {
   "cell_type": "code",
   "execution_count": null,
   "id": "a4fba8a1",
   "metadata": {
    "execution": {
     "iopub.execute_input": "2022-02-27T07:01:20.989412Z",
     "iopub.status.busy": "2022-02-27T07:01:20.988918Z",
     "iopub.status.idle": "2022-02-27T07:01:20.991252Z",
     "shell.execute_reply": "2022-02-27T07:01:20.990857Z"
    },
    "tags": []
   },
   "outputs": [],
   "source": [
    "no_five = ..."
   ]
  },
  {
   "cell_type": "code",
   "execution_count": null,
   "id": "b3f98e77",
   "metadata": {
    "deletable": false,
    "editable": false
   },
   "outputs": [],
   "source": [
    "grader.check(\"q2_2\")"
   ]
  },
  {
   "cell_type": "markdown",
   "id": "1ec637bf",
   "metadata": {},
   "source": [
    "**Question 3.** At least one of the 3 dice rolled is a four. **(4 points)**\n"
   ]
  },
  {
   "cell_type": "code",
   "execution_count": null,
   "id": "4a07a9cc",
   "metadata": {
    "execution": {
     "iopub.execute_input": "2022-02-27T07:01:21.010085Z",
     "iopub.status.busy": "2022-02-27T07:01:21.009592Z",
     "iopub.status.idle": "2022-02-27T07:01:21.012033Z",
     "shell.execute_reply": "2022-02-27T07:01:21.011548Z"
    },
    "tags": []
   },
   "outputs": [],
   "source": [
    "at_least_one_four = ...\n",
    "at_least_one_four"
   ]
  },
  {
   "cell_type": "code",
   "execution_count": null,
   "id": "b75f2e62",
   "metadata": {
    "deletable": false,
    "editable": false
   },
   "outputs": [],
   "source": [
    "grader.check(\"q2_3\")"
   ]
  },
  {
   "cell_type": "markdown",
   "id": "d5dd3f36",
   "metadata": {},
   "source": [
    "**Question 4.** You don't roll a double or a triple. In other words, all three dice have unique numbers. **(4 points)**\n",
    "\n",
    "*Hint:* Consider how many possible outcomes there and how many of them are doubles or triples. Note for example, that rolling a 1, a 2, and a 1 consistitutes a double since 2 dice are the same. \n"
   ]
  },
  {
   "cell_type": "code",
   "execution_count": null,
   "id": "cd67a5c2",
   "metadata": {
    "execution": {
     "iopub.execute_input": "2022-02-27T07:01:21.032040Z",
     "iopub.status.busy": "2022-02-27T07:01:21.031350Z",
     "iopub.status.idle": "2022-02-27T07:01:21.034478Z",
     "shell.execute_reply": "2022-02-27T07:01:21.033937Z"
    },
    "tags": []
   },
   "outputs": [],
   "source": [
    "lone_winners = ..."
   ]
  },
  {
   "cell_type": "code",
   "execution_count": null,
   "id": "0a8875bf",
   "metadata": {
    "deletable": false,
    "editable": false
   },
   "outputs": [],
   "source": [
    "grader.check(\"q2_4\")"
   ]
  },
  {
   "cell_type": "markdown",
   "id": "d348fbd0",
   "metadata": {},
   "source": [
    "### Comparing Chances\n",
    "In each of Questions 5-7, two events A and B are described. Choose from one of the following three options and set each answer variable to a single integer:\n",
    "\n",
    "1. Event A is more likely than Event B\n",
    "2. Event B is more likely than Event A\n",
    "3. The two events have the same chance.\n",
    "\n",
    "You should be able to make the choices **without calculation**. Good ways to approach this exercise include imagining carrying out the chance experiments yourself, one trial at a time, and by thinking about the [law of averages](https://inferentialthinking.com/chapters/10/1/Empirical_Distributions.html#the-law-of-averages)."
   ]
  },
  {
   "cell_type": "markdown",
   "id": "0257d086",
   "metadata": {},
   "source": [
    "**Question 5.** A gardener selects three times at random from a basket containing three different types of flowers: roses, tulips, and daisies. **(4 points)**\n",
    "\n",
    "- Event A: all three different flowers are picked (assuming the gardener picks with replacement)\n",
    "- Event B: all three different flowers are picked (assuming the gardener picks without replacement)\n"
   ]
  },
  {
   "cell_type": "code",
   "execution_count": null,
   "id": "09ef4403",
   "metadata": {
    "execution": {
     "iopub.execute_input": "2022-02-27T07:01:21.087599Z",
     "iopub.status.busy": "2022-02-27T07:01:21.086494Z",
     "iopub.status.idle": "2022-02-27T07:01:21.089816Z",
     "shell.execute_reply": "2022-02-27T07:01:21.090229Z"
    },
    "tags": []
   },
   "outputs": [],
   "source": [
    "flowers_option = ..."
   ]
  },
  {
   "cell_type": "code",
   "execution_count": null,
   "id": "8bb4f20d",
   "metadata": {
    "deletable": false,
    "editable": false
   },
   "outputs": [],
   "source": [
    "grader.check(\"q2_5\")"
   ]
  },
  {
   "cell_type": "markdown",
   "id": "55eb1c29",
   "metadata": {},
   "source": [
    "**Question 6.** In a raffle, two tickets are drawn at random without replacement from a bag containing tickets numbered 1 through 500. **(4 points)**\n",
    "\n",
    "- Event A: The numbers 500 and 1 are picked on the first and second draws, respectively\n",
    "- Event B: The numbers 10 and 15 are picked on the first and second draws, respectively\n"
   ]
  },
  {
   "cell_type": "code",
   "execution_count": null,
   "id": "a1f40cc7",
   "metadata": {
    "execution": {
     "iopub.execute_input": "2022-02-27T07:01:21.117730Z",
     "iopub.status.busy": "2022-02-27T07:01:21.117177Z",
     "iopub.status.idle": "2022-02-27T07:01:21.119647Z",
     "shell.execute_reply": "2022-02-27T07:01:21.120044Z"
    },
    "tags": []
   },
   "outputs": [],
   "source": [
    "raffle_option = ..."
   ]
  },
  {
   "cell_type": "code",
   "execution_count": null,
   "id": "fd1a7124",
   "metadata": {
    "deletable": false,
    "editable": false
   },
   "outputs": [],
   "source": [
    "grader.check(\"q2_6\")"
   ]
  },
  {
   "cell_type": "markdown",
   "id": "bbf8673e",
   "metadata": {},
   "source": [
    "**Question 7.** A fair coin is tossed repeatedly. **(4 points)**\n",
    "\n",
    "- Event A: There are 40 or less heads in 100 tosses\n",
    "- Event B: There are 400 or less heads in 1000 tosses\n",
    "\n",
    "*Hint*: Think about the law of averages!\n"
   ]
  },
  {
   "cell_type": "code",
   "execution_count": null,
   "id": "72c93572",
   "metadata": {
    "execution": {
     "iopub.execute_input": "2022-02-27T07:01:21.147930Z",
     "iopub.status.busy": "2022-02-27T07:01:21.147425Z",
     "iopub.status.idle": "2022-02-27T07:01:21.181283Z",
     "shell.execute_reply": "2022-02-27T07:01:21.149734Z"
    },
    "tags": []
   },
   "outputs": [],
   "source": [
    "coin_option = ..."
   ]
  },
  {
   "cell_type": "code",
   "execution_count": null,
   "id": "59fb2c40",
   "metadata": {
    "deletable": false,
    "editable": false
   },
   "outputs": [],
   "source": [
    "grader.check(\"q2_7\")"
   ]
  },
  {
   "cell_type": "markdown",
   "id": "8cf4c313",
   "metadata": {},
   "source": [
    "## 3. Three Ways Python Draws Random Samples"
   ]
  },
  {
   "cell_type": "markdown",
   "id": "546d2b2e",
   "metadata": {},
   "source": [
    "You have learned three ways to draw random samples using Python:\n",
    "\n",
    "- `tbl.sample` draws a random sample of rows from the table `tbl`. The output is a table consisting of the sampled rows. \n",
    "\n",
    "- `np.random.choice` draws a random sample from a population whose elements are in an array. The output is an array consisting of the sampled elements.\n",
    "\n",
    "- `sample_proportions` draws from a categorical distribution whose proportions are in an array. The output is an array consisting of the sampled proportions in all the categories. "
   ]
  },
  {
   "cell_type": "code",
   "execution_count": null,
   "id": "c324dbf4",
   "metadata": {
    "execution": {
     "iopub.execute_input": "2022-02-27T07:01:21.207220Z",
     "iopub.status.busy": "2022-02-27T07:01:21.206667Z",
     "iopub.status.idle": "2022-02-27T07:01:21.214603Z",
     "shell.execute_reply": "2022-02-27T07:01:21.215047Z"
    }
   },
   "outputs": [],
   "source": [
    "# Look through this code and run this cell for questions 1 and 2\n",
    "top = Table.read_table('top_movies_2017.csv').select(0, 1)\n",
    "top.show(3)"
   ]
  },
  {
   "cell_type": "code",
   "execution_count": null,
   "id": "3c986ca8",
   "metadata": {
    "execution": {
     "iopub.execute_input": "2022-02-27T07:01:21.229664Z",
     "iopub.status.busy": "2022-02-27T07:01:21.229049Z",
     "iopub.status.idle": "2022-02-27T07:01:21.233271Z",
     "shell.execute_reply": "2022-02-27T07:01:21.232854Z"
    }
   },
   "outputs": [],
   "source": [
    "# Look through this code and run this cell for questions 1 and 2\n",
    "studios_with_counts = top.group('Studio').sort('count', descending=True)\n",
    "studios_with_counts.show(3)"
   ]
  },
  {
   "cell_type": "code",
   "execution_count": null,
   "id": "51531321",
   "metadata": {
    "execution": {
     "iopub.execute_input": "2022-02-27T07:01:21.238499Z",
     "iopub.status.busy": "2022-02-27T07:01:21.237969Z",
     "iopub.status.idle": "2022-02-27T07:01:21.240940Z",
     "shell.execute_reply": "2022-02-27T07:01:21.240562Z"
    }
   },
   "outputs": [],
   "source": [
    "# Look through this code and run this cell for questions 1 and 2\n",
    "studios_of_all_movies = top.column('Studio')\n",
    "distinct_studios = studios_with_counts.column('Studio')\n",
    "\n",
    "print(\"studios_of_all_movies:\", studios_of_all_movies[:10], \"...\")\n",
    "print(\"\\n distinct_studios:\", distinct_studios)"
   ]
  },
  {
   "cell_type": "code",
   "execution_count": null,
   "id": "cabe2496",
   "metadata": {
    "execution": {
     "iopub.execute_input": "2022-02-27T07:01:21.246482Z",
     "iopub.status.busy": "2022-02-27T07:01:21.246019Z",
     "iopub.status.idle": "2022-02-27T07:01:21.248614Z",
     "shell.execute_reply": "2022-02-27T07:01:21.248965Z"
    }
   },
   "outputs": [],
   "source": [
    "# Look through this code and run this cell for questions 1 and 2\n",
    "studio_counts_only = studios_with_counts.column('count')\n",
    "studio_proportions_only = studio_counts_only / sum(studio_counts_only)\n",
    "\n",
    "print(\"studio_counts_only:\", studio_counts_only)\n",
    "print(\"\\n studio_proportions_only:\", studio_proportions_only)"
   ]
  },
  {
   "cell_type": "markdown",
   "id": "8deab144",
   "metadata": {},
   "source": [
    "In Questions 1 and 2, we will present a scenario. Determine which three of the following six options are true in regards to what the question is asking, and list them in the following answer cell. If your answer includes any of (i)-(iii), state what you would fill in the blank to make it true: `top`, `studios_with_counts`, `studios_of_all_movies`, `distinct_studios`, `studio_counts_only` or `studio_proportions_only`.\n",
    "\n",
    "(i) This can be done using `sample` and the table _________.\n",
    "\n",
    "(ii) This can be done using `np.random.choice` and the array ________.\n",
    "\n",
    "(iii) This can be done using `sample_proportions` and the array _______.\n",
    "\n",
    "(iv) This cannot be done using `sample` and the data given.\n",
    "\n",
    "(v) This cannot be done using `np.random.choice` and the data given.\n",
    "\n",
    "(vi) This cannot be done using `sample_proportions` and the data given."
   ]
  },
  {
   "cell_type": "markdown",
   "id": "133c0170",
   "metadata": {},
   "source": [
    "<!-- BEGIN QUESTION -->\n",
    "\n",
    "**Question 1.** Simulate a sample of 10 movies drawn at random with replacement from the 200 movies. Outputs True if the same studio released both the first and last sampled movie. **(4 points)**\n",
    "\n",
    "*Example Answer:* (i) studios_of_all_movies, (iii) top, (v)\n",
    "\n",
    "***Note***: Do not explain your answer for any of the options you've chosen; please follow the structure of the example answer provided.\n"
   ]
  },
  {
   "cell_type": "markdown",
   "id": "f16eabad",
   "metadata": {},
   "source": [
    "_Type your answer here, replacing this text._"
   ]
  },
  {
   "cell_type": "markdown",
   "id": "b7e0fc71",
   "metadata": {},
   "source": [
    "<!-- END QUESTION -->\n",
    "\n",
    "<!-- BEGIN QUESTION -->\n",
    "\n",
    "**Question 2.** Simulate a sample of 10 movies drawn at random with replacement from the 200 movies. Outputs True if Universal appears more often than Disney among studios that released the sampled movies, and False otherwise. **(4 points)**\n",
    "\n",
    "*Example Answer:* (i) studios_of_all_movies, (iii) top, (v)\n",
    "\n",
    "***Note***: Do not explain your answer for any of the options you've chosen; please follow the structure of the example answer provided.\n"
   ]
  },
  {
   "cell_type": "markdown",
   "id": "c540ebc0",
   "metadata": {},
   "source": [
    "_Type your answer here, replacing this text._"
   ]
  },
  {
   "cell_type": "markdown",
   "id": "f28ecc0f",
   "metadata": {
    "tags": []
   },
   "source": [
    "<!-- END QUESTION -->\n",
    "\n",
    "## 4. Assessing Jade's Models\n",
    "\n",
    "Before you begin, [Section 10.4](https://inferentialthinking.com/chapters/10/4/Random_Sampling_in_Python.html) of the textbook is a useful reference for this part."
   ]
  },
  {
   "cell_type": "markdown",
   "id": "996cc107",
   "metadata": {},
   "source": [
    "### Games with Jade\n",
    "Our friend Jade comes over and asks us to play a game with her. The game works like this: \n",
    "\n",
    "> We will draw randomly with replacement from a simplified 13 card deck with 4 face cards (A, J, Q, K), and 9 numbered cards (2, 3, 4, 5, 6, 7, 8, 9, 10). If we draw cards with replacement 13 times, and if the number of numbered cards is greater than or equal to 9, we win.\n",
    "> \n",
    "> Otherwise, Jade wins.\n",
    "\n",
    "We play the game once and we lose, observing 5 total numbered cards. We are angry and accuse Jade of cheating! Jade is adamant, however, that the deck is fair.\n",
    "\n",
    "Jade's model claims that there is an equal chance of getting any of the cards (A, 2, 3, 4, 5, 6, 7, 8, 9, 10, J, Q, K), but we do not believe her. We believe that the deck is clearly rigged, with numbered cards (2, 3, 4, 5, 6, 7, 8, 9, 10) being less likely than the face cards (A, J, Q, K)."
   ]
  },
  {
   "cell_type": "markdown",
   "id": "9131177b",
   "metadata": {},
   "source": [
    "**Question 1.** Assign `deck_model_probabilities` to a two-item array containing the chance of drawing a face card as the first element, and the chance of drawing a numbered, non-face card as the second element under Jade's model. Since we're working with probabilities, make sure your values are between 0 and 1. **(4 Points)**\n"
   ]
  },
  {
   "cell_type": "code",
   "execution_count": null,
   "id": "095d4eef",
   "metadata": {
    "execution": {
     "iopub.execute_input": "2022-02-27T07:01:21.284311Z",
     "iopub.status.busy": "2022-02-27T07:01:21.281573Z",
     "iopub.status.idle": "2022-02-27T07:01:21.287312Z",
     "shell.execute_reply": "2022-02-27T07:01:21.287724Z"
    },
    "tags": []
   },
   "outputs": [],
   "source": [
    "deck_model_probabilities = ...\n",
    "deck_model_probabilities"
   ]
  },
  {
   "cell_type": "code",
   "execution_count": null,
   "id": "e9e6edde",
   "metadata": {
    "deletable": false,
    "editable": false
   },
   "outputs": [],
   "source": [
    "grader.check(\"q4_1\")"
   ]
  },
  {
   "cell_type": "markdown",
   "id": "a9ce2c40",
   "metadata": {},
   "source": [
    "**Question 2.** We believe Jade's model is incorrect. In particular, we believe there to be a *smaller* chance of getting a numbered, non-face card. Which of the following statistics can we use during our simulation to test between the model and our alternative? Assign `statistic_choice` to the correct answer. **(5 Points)**\n",
    "\n",
    "1. The distance (absolute value) between the actual number of non-face cards in 13 draws and 9, the expected number of non-face cards in 13 draws\n",
    "2. The number of non-face cards we get in 13 draws\n",
    "3. The expected number of non-face cards in 13 draws, which is 9\n"
   ]
  },
  {
   "cell_type": "code",
   "execution_count": null,
   "id": "56500739",
   "metadata": {
    "execution": {
     "iopub.execute_input": "2022-02-27T07:01:21.322333Z",
     "iopub.status.busy": "2022-02-27T07:01:21.321836Z",
     "iopub.status.idle": "2022-02-27T07:01:21.324836Z",
     "shell.execute_reply": "2022-02-27T07:01:21.325222Z"
    },
    "tags": []
   },
   "outputs": [],
   "source": [
    "statistic_choice = ...\n",
    "statistic_choice"
   ]
  },
  {
   "cell_type": "code",
   "execution_count": null,
   "id": "cd96284b",
   "metadata": {
    "deletable": false,
    "editable": false
   },
   "outputs": [],
   "source": [
    "grader.check(\"q4_2\")"
   ]
  },
  {
   "cell_type": "markdown",
   "id": "d7cab717",
   "metadata": {},
   "source": [
    "**Question 3.** Define the function `deck_simulation_and_statistic`, which, given a sample size and an array of model proportions (like the one you created in Question 1), returns the number of numbered cards in one simulation of drawing cards under the model specified in `model_proportions`. **(5 Points)**\n",
    "\n",
    "*Hint:* Think about how you can use the function `sample_proportions`. \n"
   ]
  },
  {
   "cell_type": "code",
   "execution_count": null,
   "id": "ffadd323",
   "metadata": {
    "execution": {
     "iopub.execute_input": "2022-02-27T07:01:21.388311Z",
     "iopub.status.busy": "2022-02-27T07:01:21.387627Z",
     "iopub.status.idle": "2022-02-27T07:01:21.392034Z",
     "shell.execute_reply": "2022-02-27T07:01:21.392428Z"
    },
    "tags": []
   },
   "outputs": [],
   "source": [
    "def deck_simulation_and_statistic(sample_size, model_proportions):\n",
    "    ...\n",
    "\n",
    "deck_simulation_and_statistic(13, deck_model_probabilities)"
   ]
  },
  {
   "cell_type": "code",
   "execution_count": null,
   "id": "288648d0",
   "metadata": {
    "deletable": false,
    "editable": false
   },
   "outputs": [],
   "source": [
    "grader.check(\"q4_3\")"
   ]
  },
  {
   "cell_type": "markdown",
   "id": "f1c4670a",
   "metadata": {},
   "source": [
    "**Question 4.** Use your function from above to simulate the drawing of 13 cards 2500 times under the proportions that you specified in Question 1. Keep track of all of your statistics in `deck_statistics`. **(5 Points)**\n"
   ]
  },
  {
   "cell_type": "code",
   "execution_count": null,
   "id": "49a71373",
   "metadata": {
    "execution": {
     "iopub.execute_input": "2022-02-27T07:01:21.405889Z",
     "iopub.status.busy": "2022-02-27T07:01:21.404770Z",
     "iopub.status.idle": "2022-02-27T07:01:21.494869Z",
     "shell.execute_reply": "2022-02-27T07:01:21.494450Z"
    },
    "tags": []
   },
   "outputs": [],
   "source": [
    "repetitions = 2500 \n",
    "...\n",
    "\n",
    "deck_statistics"
   ]
  },
  {
   "cell_type": "code",
   "execution_count": null,
   "id": "d43cbed2",
   "metadata": {
    "deletable": false,
    "editable": false
   },
   "outputs": [],
   "source": [
    "grader.check(\"q4_4\")"
   ]
  },
  {
   "cell_type": "markdown",
   "id": "140b9af4",
   "metadata": {},
   "source": [
    "Let’s take a look at the distribution of simulated statistics."
   ]
  },
  {
   "cell_type": "code",
   "execution_count": null,
   "id": "115e9820",
   "metadata": {
    "execution": {
     "iopub.execute_input": "2022-02-27T07:01:21.536427Z",
     "iopub.status.busy": "2022-02-27T07:01:21.535886Z",
     "iopub.status.idle": "2022-02-27T07:01:21.768152Z",
     "shell.execute_reply": "2022-02-27T07:01:21.767555Z"
    }
   },
   "outputs": [],
   "source": [
    "# Draw a distribution of statistics \n",
    "Table().with_column('Deck Statistics', deck_statistics).hist()"
   ]
  },
  {
   "cell_type": "markdown",
   "id": "15b7121f",
   "metadata": {},
   "source": [
    "<!-- BEGIN QUESTION -->\n",
    "\n",
    "**Question 5.** Given your observed value, do you believe that Jade's model is reasonable, or is our alternative (that our deck is rigged) more likely? Explain your answer using the histogram produced above. **(5 Points)**\n"
   ]
  },
  {
   "cell_type": "markdown",
   "id": "0967bf55",
   "metadata": {},
   "source": [
    "_Type your answer here, replacing this text._"
   ]
  },
  {
   "cell_type": "markdown",
   "id": "1a492935",
   "metadata": {},
   "source": [
    "<!-- END QUESTION -->\n",
    "\n",
    "**Important submission steps:** \n",
    "1. Run the tests and verify that they all pass.\n",
    "2. Choose **Save Notebook** from the **File** menu, then **run the final cell**. \n",
    "3. Click the link to download the zip file.\n",
    "4. Then submit the zip file to the corresponding assignment according to your instructor's directions. \n",
    "\n",
    "**It is your responsibility to make sure your work is saved before running the last cell.**"
   ]
  },
  {
   "cell_type": "markdown",
   "id": "7bb11371",
   "metadata": {
    "deletable": false,
    "editable": false
   },
   "source": [
    "## Submission\n",
    "\n",
    "Make sure you have run all cells in your notebook in order before running the cell below, so that all images/graphs appear in the output. The cell below will generate a zip file for you to submit. **Please save before exporting!**"
   ]
  },
  {
   "cell_type": "code",
   "execution_count": null,
   "id": "6fd534d4",
   "metadata": {
    "deletable": false,
    "editable": false
   },
   "outputs": [],
   "source": [
    "# Save your notebook first, then run this cell to export your submission.\n",
    "grader.export(pdf=False, run_tests=True)"
   ]
  },
  {
   "cell_type": "markdown",
   "id": "edd34124",
   "metadata": {},
   "source": [
    " "
   ]
  }
 ],
 "metadata": {
  "kernelspec": {
   "display_name": "Python 3 (ipykernel)",
   "language": "python",
   "name": "python3"
  },
  "language_info": {
   "codemirror_mode": {
    "name": "ipython",
    "version": 3
   },
   "file_extension": ".py",
   "mimetype": "text/x-python",
   "name": "python",
   "nbconvert_exporter": "python",
   "pygments_lexer": "ipython3",
   "version": "3.10.11"
  },
  "otter": {
   "OK_FORMAT": true,
   "tests": {
    "q1_1": {
     "name": "q1_1",
     "points": [
      2
     ],
     "suites": [
      {
       "cases": [
        {
         "code": ">>> dollar_bet_on_small(6) == 1\nTrue",
         "hidden": false,
         "locked": false
        }
       ],
       "scored": true,
       "setup": "",
       "teardown": "",
       "type": "doctest"
      }
     ]
    },
    "q1_10": {
     "name": "q1_10",
     "points": [
      0,
      0
     ],
     "suites": [
      {
       "cases": [
        {
         "code": ">>> # Make sure histogram_statements is an array.\n>>> import numpy as np\n>>> type(histogram_statements) == np.ndarray\nTrue",
         "hidden": false,
         "locked": false
        },
        {
         "code": ">>> # Make sure you have set histogram_statements to an array with at least 1 number\n>>> 1 <= histogram_statements.item(0) <= 3\nTrue",
         "hidden": false,
         "locked": false
        }
       ],
       "scored": true,
       "setup": "",
       "teardown": "",
       "type": "doctest"
      }
     ]
    },
    "q1_2": {
     "name": "q1_2",
     "points": [
      0
     ],
     "suites": [
      {
       "cases": [
        {
         "code": ">>> # Make sure your column names are correct\n>>> rolls.labels[4] == \"Winnings: Small\"\nTrue",
         "hidden": false,
         "locked": false
        }
       ],
       "scored": true,
       "setup": "",
       "teardown": "",
       "type": "doctest"
      }
     ]
    },
    "q1_3": {
     "name": "q1_3",
     "points": [
      0
     ],
     "suites": [
      {
       "cases": [
        {
         "code": ">>> # If this test isn't passing, try running the cells from the top.\n>>> set([\"Outcome\", \"Die 1\", \"Die 2\", \"Die 3\", \"Winnings: Small\"]) == set(ten_bets.labels)\nTrue",
         "hidden": false,
         "locked": false
        }
       ],
       "scored": true,
       "setup": "",
       "teardown": "",
       "type": "doctest"
      }
     ]
    },
    "q1_4": {
     "name": "q1_4",
     "points": [
      0
     ],
     "suites": [
      {
       "cases": [
        {
         "code": ">>> net_gain_small(10000) != net_gain_small(10000)\nTrue",
         "hidden": false,
         "locked": false
        }
       ],
       "scored": true,
       "setup": "",
       "teardown": "",
       "type": "doctest"
      }
     ]
    },
    "q1_5": {
     "name": "q1_5",
     "points": [
      0
     ],
     "suites": [
      {
       "cases": [
        {
         "code": ">>> len(all_gains_small) == 10000\nTrue",
         "hidden": false,
         "locked": false
        }
       ],
       "scored": true,
       "setup": "",
       "teardown": "",
       "type": "doctest"
      }
     ]
    },
    "q1_6": {
     "name": "q1_6",
     "points": [
      0
     ],
     "suites": [
      {
       "cases": [
        {
         "code": ">>> type(loss_more_than_50) == bool\nTrue",
         "hidden": false,
         "locked": false
        }
       ],
       "scored": true,
       "setup": "",
       "teardown": "",
       "type": "doctest"
      }
     ]
    },
    "q1_7": {
     "name": "q1_7",
     "points": [
      2
     ],
     "suites": [
      {
       "cases": [
        {
         "code": ">>> dollar_bet_on_six(6) == 5\nTrue",
         "hidden": false,
         "locked": false
        }
       ],
       "scored": true,
       "setup": "",
       "teardown": "",
       "type": "doctest"
      }
     ]
    },
    "q1_8": {
     "name": "q1_8",
     "points": [
      0,
      0,
      0
     ],
     "suites": [
      {
       "cases": [
        {
         "code": ">>> # Make sure your column names are correct\n>>> rolls.labels[5] == \"Winnings: Single\"\nTrue",
         "hidden": false,
         "locked": false
        },
        {
         "code": ">>> max(rolls.column(\"Winnings: Single\"))\n5",
         "hidden": false,
         "locked": false
        },
        {
         "code": ">>> \n",
         "hidden": false,
         "locked": false
        }
       ],
       "scored": true,
       "setup": "",
       "teardown": "",
       "type": "doctest"
      }
     ]
    },
    "q1_9": {
     "name": "q1_9",
     "points": [
      0
     ],
     "suites": [
      {
       "cases": [
        {
         "code": ">>> len(all_gains_single) == 10000 \nTrue",
         "hidden": false,
         "locked": false
        }
       ],
       "scored": true,
       "setup": "",
       "teardown": "",
       "type": "doctest"
      }
     ]
    },
    "q2_1": {
     "name": "q2_1",
     "points": [
      0
     ],
     "suites": [
      {
       "cases": [
        {
         "code": ">>> # Your probability output should be a value between 0 and 1.\n>>> 0 < first_roll_all_five < 1\nTrue",
         "hidden": false,
         "locked": false
        }
       ],
       "scored": true,
       "setup": "",
       "teardown": "",
       "type": "doctest"
      }
     ]
    },
    "q2_2": {
     "name": "q2_2",
     "points": [
      0
     ],
     "suites": [
      {
       "cases": [
        {
         "code": ">>> # Your probability output should be a value between 0 and 1.\n>>> 0 < no_five < 1\nTrue",
         "hidden": false,
         "locked": false
        }
       ],
       "scored": true,
       "setup": "",
       "teardown": "",
       "type": "doctest"
      }
     ]
    },
    "q2_3": {
     "name": "q2_3",
     "points": [
      0
     ],
     "suites": [
      {
       "cases": [
        {
         "code": ">>> # Your probability output should be a value between 0 and 1.\n>>> 0 < at_least_one_four < 1\nTrue",
         "hidden": false,
         "locked": false
        }
       ],
       "scored": true,
       "setup": "",
       "teardown": "",
       "type": "doctest"
      }
     ]
    },
    "q2_4": {
     "name": "q2_4",
     "points": [
      0
     ],
     "suites": [
      {
       "cases": [
        {
         "code": ">>> # Your probability output should be a value between 0 and 1.\n>>> 0 < lone_winners < 1\nTrue",
         "hidden": false,
         "locked": false
        }
       ],
       "scored": true,
       "setup": "",
       "teardown": "",
       "type": "doctest"
      }
     ]
    },
    "q2_5": {
     "name": "q2_5",
     "points": [
      0,
      0
     ],
     "suites": [
      {
       "cases": [
        {
         "code": ">>> # Make sure you are setting flowers_option to an int\n>>> type(flowers_option) == int\nTrue",
         "hidden": false,
         "locked": false
        },
        {
         "code": ">>> # flowers_option should be assigned to either 1, 2 or 3.\n>>> 1 <= flowers_option <= 3\nTrue",
         "hidden": false,
         "locked": false
        }
       ],
       "scored": true,
       "setup": "",
       "teardown": "",
       "type": "doctest"
      }
     ]
    },
    "q2_6": {
     "name": "q2_6",
     "points": [
      0,
      0
     ],
     "suites": [
      {
       "cases": [
        {
         "code": ">>> # Make sure you are setting lottery_option to an int\n>>> type(raffle_option) == int\nTrue",
         "hidden": false,
         "locked": false
        },
        {
         "code": ">>> # toys_option should be assigned to either 1, 2 or 3.\n>>> 1 <= raffle_option <= 3\nTrue",
         "hidden": false,
         "locked": false
        }
       ],
       "scored": true,
       "setup": "",
       "teardown": "",
       "type": "doctest"
      }
     ]
    },
    "q2_7": {
     "name": "q2_7",
     "points": [
      0,
      0
     ],
     "suites": [
      {
       "cases": [
        {
         "code": ">>> # Make sure you are setting coin_option to an int\n>>> type(coin_option) == int\nTrue",
         "hidden": false,
         "locked": false
        },
        {
         "code": ">>> 1 <= coin_option <= 3\nTrue",
         "hidden": false,
         "locked": false
        }
       ],
       "scored": true,
       "setup": "",
       "teardown": "",
       "type": "doctest"
      }
     ]
    },
    "q4_1": {
     "name": "q4_1",
     "points": [
      0,
      0
     ],
     "suites": [
      {
       "cases": [
        {
         "code": ">>> # The array should have length 2\n>>> len(deck_model_probabilities) == 2\nTrue",
         "hidden": false,
         "locked": false
        },
        {
         "code": ">>> # The elements in the array should add up to 1.\n>>> sum(deck_model_probabilities) == 1\nTrue",
         "hidden": false,
         "locked": false
        }
       ],
       "scored": true,
       "setup": "",
       "teardown": "",
       "type": "doctest"
      }
     ]
    },
    "q4_2": {
     "name": "q4_2",
     "points": [
      0,
      0
     ],
     "suites": [
      {
       "cases": [
        {
         "code": ">>> # Make sure you are setting statistic_choice to an int\n>>> type(statistic_choice) == int\nTrue",
         "hidden": false,
         "locked": false
        },
        {
         "code": ">>> # statistic_choice should be assigned to either 1, 2 or 3.\n>>> 1 <= statistic_choice <= 3\nTrue",
         "hidden": false,
         "locked": false
        }
       ],
       "scored": true,
       "setup": "",
       "teardown": "",
       "type": "doctest"
      }
     ]
    },
    "q4_3": {
     "name": "q4_3",
     "points": [
      5
     ],
     "suites": [
      {
       "cases": [
        {
         "code": ">>> # The statistic should be between 0 and 13 non-face cards for\n>>> # a sample size of 13\n>>> num_face = deck_simulation_and_statistic(13, deck_model_probabilities)\n>>> 0 <= num_face <= 13\nTrue",
         "hidden": false,
         "locked": false
        }
       ],
       "scored": true,
       "setup": "",
       "teardown": "",
       "type": "doctest"
      }
     ]
    },
    "q4_4": {
     "name": "q4_4",
     "points": [
      2,
      3
     ],
     "suites": [
      {
       "cases": [
        {
         "code": ">>> # There should be exactly as many elements in deck_statistics\n>>> # as the number 'repetitions'\n>>> len(deck_statistics) == repetitions\nTrue",
         "hidden": false,
         "locked": false
        },
        {
         "code": ">>> # Each element of deck_statistics should be between 0\n>>> # and 13 inclusive\n>>> all([0 <= k <= 13 for k in deck_statistics])\nTrue",
         "hidden": false,
         "locked": false
        }
       ],
       "scored": true,
       "setup": "",
       "teardown": "",
       "type": "doctest"
      }
     ]
    }
   }
  }
 },
 "nbformat": 4,
 "nbformat_minor": 5
}
