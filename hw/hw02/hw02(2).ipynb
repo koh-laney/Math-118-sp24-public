{
 "cells": [
  {
   "cell_type": "code",
   "execution_count": null,
   "id": "7a3e3166",
   "metadata": {
    "deletable": false,
    "editable": false
   },
   "outputs": [],
   "source": [
    "# Initialize Otter\n",
    "import otter\n",
    "grader = otter.Notebook(\"hw02.ipynb\")"
   ]
  },
  {
   "cell_type": "markdown",
   "id": "fa029d89",
   "metadata": {},
   "source": [
    "# Homework 2: Arrays and Tables\n",
    "\n",
    "Please complete this notebook by filling in the cells provided. Before you begin, execute the previous cell to load the provided tests."
   ]
  },
  {
   "cell_type": "code",
   "execution_count": null,
   "id": "1bb8406e",
   "metadata": {
    "execution": {
     "iopub.execute_input": "2022-01-27T05:12:41.675421Z",
     "iopub.status.busy": "2022-01-27T05:12:41.674519Z",
     "iopub.status.idle": "2022-01-27T05:12:42.207153Z",
     "shell.execute_reply": "2022-01-27T05:12:42.207769Z"
    }
   },
   "outputs": [],
   "source": [
    "# Run this cell and ignore the output. It is checking to see if you ran the first cell! \n",
    "# If you get a NameError, please run the cell at the very TOP of this notebook!\n",
    "\n",
    "#grader"
   ]
  },
  {
   "cell_type": "markdown",
   "id": "6dac4e26",
   "metadata": {},
   "source": [
    "**Helpful Resource:**\n",
    "- [Python Reference](http://data8.org/sp22/python-reference.html): Cheat sheet of helpful array & table methods used in Data 8!\n",
    "\n",
    "**Recommended Readings:**\n",
    "- [Arrays](https://inferentialthinking.com/chapters/05/1/Arrays.html)\n",
    "- [What is Data Science?](http://www.inferentialthinking.com/chapters/01/what-is-data-science.html)\n",
    "- [Causality and Experiments](http://www.inferentialthinking.com/chapters/02/causality-and-experiments.html) \n",
    "- [Programming in Python](http://www.inferentialthinking.com/chapters/03/programming-in-python.html)\n",
    "\n",
    "For all problems that you must write explanations and sentences for, you **must** provide your answer in the designated space. Moreover, throughout this homework and all future ones, **please be sure to not re-assign variables throughout the notebook!** For example, if you use `max_temperature` in your answer to one question, do not reassign it later on. Otherwise, you will fail tests that you thought you were passing previously!\n",
    "\n",
    "\n",
    "**Note: This homework has hidden tests on it. That means even though tests may say 100% passed, it doesn't mean your final grade will be 100%. We will be running more tests for correctness once everyone turns in the homework.**\n",
    "\n",
    "Directly sharing answers is not okay, but discussing problems with the course staff or with other students is encouraged. Refer to the policies page to learn more about how to learn cooperatively.\n",
    "\n",
    "You should start early so that you have time to get help if you're stuck."
   ]
  },
  {
   "cell_type": "markdown",
   "id": "6e81baf7",
   "metadata": {},
   "source": [
    "## 1. Creating Arrays"
   ]
  },
  {
   "cell_type": "code",
   "execution_count": null,
   "id": "67beee67",
   "metadata": {
    "execution": {
     "iopub.execute_input": "2022-01-27T05:12:42.214263Z",
     "iopub.status.busy": "2022-01-27T05:12:42.213475Z",
     "iopub.status.idle": "2022-01-27T05:12:43.829444Z",
     "shell.execute_reply": "2022-01-27T05:12:43.828774Z"
    }
   },
   "outputs": [],
   "source": [
    "# Run this cell to set up the notebook, but please don't change it.\n",
    "\n",
    "import numpy as np\n",
    "from datascience import *\n",
    "import d8error\n",
    "import warnings\n",
    "warnings.simplefilter('ignore', FutureWarning)"
   ]
  },
  {
   "cell_type": "markdown",
   "id": "96ab5135",
   "metadata": {
    "deletable": false,
    "editable": false
   },
   "source": [
    "**Question 1.** Create an array called `strange_numbers` containing the following numbers (in the given order) **(4 Points)**:\n",
    "\n",
    "1. `pi`\n",
    "2. the floor of 25\n",
    "3. the floor of `pi`\n",
    "4. 10 plus the ceil of 8.3\n",
    "\n",
    "*Hint:* `floor`, `ceil`, and `pi`  are functions in the `math` module. Importing modules is covered in Lab 2!\n",
    "\n",
    "*Note:* Python lists are different/behave differently than NumPy arrays. In Math118, we use NumPy arrays, so please make an **array**, not a Python list.\n"
   ]
  },
  {
   "cell_type": "code",
   "execution_count": null,
   "id": "195cde35",
   "metadata": {
    "execution": {
     "iopub.execute_input": "2022-01-27T05:12:43.843194Z",
     "iopub.status.busy": "2022-01-27T05:12:43.842594Z",
     "iopub.status.idle": "2022-01-27T05:12:43.846666Z",
     "shell.execute_reply": "2022-01-27T05:12:43.846080Z"
    },
    "tags": []
   },
   "outputs": [],
   "source": [
    "# Our solution involved one extra line of code before creating\n",
    "# strange_numbers.\n",
    "...\n",
    "strange_numbers = ...\n",
    "strange_numbers"
   ]
  },
  {
   "cell_type": "code",
   "execution_count": null,
   "id": "5ff22b33",
   "metadata": {
    "deletable": false,
    "editable": false
   },
   "outputs": [],
   "source": [
    "grader.check(\"q1_1\")"
   ]
  },
  {
   "cell_type": "markdown",
   "id": "0ae95ef7",
   "metadata": {
    "deletable": false,
    "editable": false
   },
   "source": [
    "**Question 2.** Make an array called `anime_characters` containing the following three strings: \"Naruto\", \"Sasuke\", and \"and Sakura\". **(4 Points)**\n"
   ]
  },
  {
   "cell_type": "code",
   "execution_count": null,
   "id": "c51414b6",
   "metadata": {
    "execution": {
     "iopub.execute_input": "2022-01-27T05:12:43.880231Z",
     "iopub.status.busy": "2022-01-27T05:12:43.876841Z",
     "iopub.status.idle": "2022-01-27T05:12:43.883885Z",
     "shell.execute_reply": "2022-01-27T05:12:43.884487Z"
    },
    "tags": []
   },
   "outputs": [],
   "source": [
    "anime_characters = ...\n",
    "anime_characters"
   ]
  },
  {
   "cell_type": "code",
   "execution_count": null,
   "id": "eb094af0",
   "metadata": {
    "deletable": false,
    "editable": false
   },
   "outputs": [],
   "source": [
    "grader.check(\"q1_2\")"
   ]
  },
  {
   "cell_type": "markdown",
   "id": "a807367e",
   "metadata": {
    "deletable": false,
    "editable": false
   },
   "source": [
    "Strings have a method called `join`.  `join` takes one argument, an array of strings.  It returns a single string.  Specifically, the value of `a_string.join(an_array)` is a single string that's the [concatenation](https://en.wikipedia.org/wiki/Concatenation) (\"putting together\") of all the strings in `an_array`, **except** `a_string` is inserted in between each string.\n",
    "\n",
    "**Question 3.** Use the array `anime_characters` and the method `join` to make two strings **(4 Points)**:\n",
    "\n",
    "1. \"Naruto, Sasuke, and Sakura\" (call this one `with_commas`)\n",
    "2. \"Naruto Sasuke and Sakura\" (call this one `without_commas`)\n",
    "\n",
    "*Hint:* If you're not sure what `join` does, first try just calling, for example, `\"math118\".join(anime_characters)` .\n"
   ]
  },
  {
   "cell_type": "code",
   "execution_count": null,
   "id": "52b551cb",
   "metadata": {
    "execution": {
     "iopub.execute_input": "2022-01-27T05:12:43.969569Z",
     "iopub.status.busy": "2022-01-27T05:12:43.968984Z",
     "iopub.status.idle": "2022-01-27T05:12:43.972188Z",
     "shell.execute_reply": "2022-01-27T05:12:43.972636Z"
    },
    "tags": []
   },
   "outputs": [],
   "source": [
    "with_commas = ...\n",
    "without_commas = ...\n",
    "\n",
    "# These lines are provided just to print out your answers.\n",
    "print('with_commas:', with_commas)\n",
    "print('without_commas:', without_commas)"
   ]
  },
  {
   "cell_type": "code",
   "execution_count": null,
   "id": "0c97c423",
   "metadata": {
    "deletable": false,
    "editable": false
   },
   "outputs": [],
   "source": [
    "grader.check(\"q1_3\")"
   ]
  },
  {
   "cell_type": "markdown",
   "id": "e4d69a75",
   "metadata": {},
   "source": [
    "## 2. Indexing Arrays"
   ]
  },
  {
   "cell_type": "markdown",
   "id": "7f02b880",
   "metadata": {},
   "source": [
    "These exercises give you practice accessing individual elements of arrays.  In Python (and in many programming languages), each element is accessed by its *index*; for example, the first element is the element at index 0. Indices must be **integers**.\n",
    "\n",
    "***Note:* If you have previous coding experience, you may be familiar with bracket notation. DO NOT use bracket notation when indexing (i.e. `arr[0]`), as this can yield different data type outputs than what we will be expecting. This can cause you to fail an autograder test.**\n",
    "\n",
    "Be sure to refer to the [Python Reference](http://data8.org/sp22/python-reference.html) on the website if you feel stuck!"
   ]
  },
  {
   "cell_type": "markdown",
   "id": "9ee04e4a",
   "metadata": {
    "deletable": false,
    "editable": false
   },
   "source": [
    "**Question 1.** The cell below creates an array of some numbers.  Set `third_element` to the third element of `random_numbers`. **(4 Points)**\n"
   ]
  },
  {
   "cell_type": "code",
   "execution_count": null,
   "id": "c7286649",
   "metadata": {
    "execution": {
     "iopub.execute_input": "2022-01-27T05:12:44.030858Z",
     "iopub.status.busy": "2022-01-27T05:12:44.030096Z",
     "iopub.status.idle": "2022-01-27T05:12:44.034640Z",
     "shell.execute_reply": "2022-01-27T05:12:44.034125Z"
    },
    "tags": []
   },
   "outputs": [],
   "source": [
    "random_numbers = make_array(-2, -4, -6, -10, -16)\n",
    "\n",
    "third_element = ...\n",
    "third_element"
   ]
  },
  {
   "cell_type": "code",
   "execution_count": null,
   "id": "2c6ddfdb",
   "metadata": {
    "deletable": false,
    "editable": false
   },
   "outputs": [],
   "source": [
    "grader.check(\"q2_1\")"
   ]
  },
  {
   "cell_type": "markdown",
   "id": "5809b4a3",
   "metadata": {
    "deletable": false,
    "editable": false
   },
   "source": [
    "**Question 2.** The next cell creates a table that displays some information about the elements of `random_numbers` and their order.  Run the cell to see the partially-completed table, then fill in the missing information (the cells that say \"Ellipsis\") by assigning `blank_a`, `blank_b`, `blank_c`, and `blank_d` to the correct elements in the table. **(4 Points)**\n",
    "\n",
    "*Hint:* Replace the `...` with strings or numbers. As a reminder, indices should be **integers**.\n"
   ]
  },
  {
   "cell_type": "code",
   "execution_count": null,
   "id": "35f78c02",
   "metadata": {
    "execution": {
     "iopub.execute_input": "2022-01-27T05:12:44.060267Z",
     "iopub.status.busy": "2022-01-27T05:12:44.059680Z",
     "iopub.status.idle": "2022-01-27T05:12:44.064113Z",
     "shell.execute_reply": "2022-01-27T05:12:44.063532Z"
    },
    "for_assignment_type": "student",
    "tags": []
   },
   "outputs": [],
   "source": [
    "blank_a = ...\n",
    "blank_b = ...\n",
    "blank_c = ...\n",
    "blank_d = ...\n",
    "elements_of_random_numbers = Table().with_columns(\n",
    "    \"English name for position\", make_array(blank_a, \"second\", \"third\", \"fourth\", blank_b),\n",
    "    \"Index\",                     make_array(blank_c, 1, 2, 3, blank_d),\n",
    "    \"Element\",                   random_numbers)\n",
    "elements_of_random_numbers"
   ]
  },
  {
   "cell_type": "code",
   "execution_count": null,
   "id": "548c97b5",
   "metadata": {
    "deletable": false,
    "editable": false
   },
   "outputs": [],
   "source": [
    "grader.check(\"q2_2\")"
   ]
  },
  {
   "cell_type": "markdown",
   "id": "79c30244",
   "metadata": {
    "deletable": false,
    "editable": false
   },
   "source": [
    "**Question 3.** You'll sometimes want to find the **last** element of an array.  Suppose an array has 200 elements.  What is the index of its last element? **(4 Points)**\n"
   ]
  },
  {
   "cell_type": "code",
   "execution_count": null,
   "id": "4e714cdf",
   "metadata": {
    "execution": {
     "iopub.execute_input": "2022-01-27T05:12:44.146528Z",
     "iopub.status.busy": "2022-01-27T05:12:44.145899Z",
     "iopub.status.idle": "2022-01-27T05:12:44.149613Z",
     "shell.execute_reply": "2022-01-27T05:12:44.148795Z"
    },
    "tags": []
   },
   "outputs": [],
   "source": [
    "index_of_last_element = ..."
   ]
  },
  {
   "cell_type": "code",
   "execution_count": null,
   "id": "3a9c2051",
   "metadata": {
    "deletable": false,
    "editable": false
   },
   "outputs": [],
   "source": [
    "grader.check(\"q2_3\")"
   ]
  },
  {
   "cell_type": "markdown",
   "id": "0f3be8e2",
   "metadata": {
    "deletable": false,
    "editable": false
   },
   "source": [
    "More often, you don't know the number of elements in an array, its *length*.  (For example, it might be a large dataset you found on the Internet.)  The function `len` takes a single argument, an array, and returns an integer that represents the `len`gth of that array.\n",
    "\n",
    "**Question 4.** The cell below loads an array called `world_population_years`.  Calling `tbl.column(...)` on a table returns an array of the column specified, in this case the `Year` column of the `world_population_years` table. The last element in that array is the most recent years  of all the world population. Assign the **second most** recent year to `second_most_recent_population_year`. **(4 Points)**\n"
   ]
  },
  {
   "cell_type": "code",
   "execution_count": null,
   "id": "4beb1c46",
   "metadata": {
    "execution": {
     "iopub.execute_input": "2022-01-27T05:12:44.163586Z",
     "iopub.status.busy": "2022-01-27T05:12:44.162992Z",
     "iopub.status.idle": "2022-01-27T05:12:44.173244Z",
     "shell.execute_reply": "2022-01-27T05:12:44.173740Z"
    },
    "tags": []
   },
   "outputs": [],
   "source": [
    "world_population_years = Table.read_table(\"world_population.csv\").column('Year')\n",
    "\n",
    "second_most_recent_population_year= ...\n",
    "second_most_recent_population_year"
   ]
  },
  {
   "cell_type": "code",
   "execution_count": null,
   "id": "9cc1a001",
   "metadata": {
    "deletable": false,
    "editable": false
   },
   "outputs": [],
   "source": [
    "grader.check(\"q2_4\")"
   ]
  },
  {
   "cell_type": "markdown",
   "id": "2e2ad78a",
   "metadata": {
    "deletable": false,
    "editable": false
   },
   "source": [
    "**Question 5.** Finally, assign `min_of_population_years` to the minimum of the first, eighth, and last population years listed in `world_population_years`. **(4 Points)**\n"
   ]
  },
  {
   "cell_type": "code",
   "execution_count": null,
   "id": "758a51c8",
   "metadata": {
    "execution": {
     "iopub.execute_input": "2022-01-27T05:12:44.187984Z",
     "iopub.status.busy": "2022-01-27T05:12:44.187397Z",
     "iopub.status.idle": "2022-01-27T05:12:44.191655Z",
     "shell.execute_reply": "2022-01-27T05:12:44.191065Z"
    },
    "tags": []
   },
   "outputs": [],
   "source": [
    "min_of_population_years = ...\n",
    "min_of_population_years"
   ]
  },
  {
   "cell_type": "code",
   "execution_count": null,
   "id": "1263dac3",
   "metadata": {
    "deletable": false,
    "editable": false
   },
   "outputs": [],
   "source": [
    "grader.check(\"q2_5\")"
   ]
  },
  {
   "cell_type": "markdown",
   "id": "585aaa6d",
   "metadata": {},
   "source": [
    "## 3. Basic Array Arithmetic"
   ]
  },
  {
   "cell_type": "markdown",
   "id": "0c21f71f",
   "metadata": {
    "deletable": false,
    "editable": false
   },
   "source": [
    "**Question 1.** Divide the numbers 50, -505, 505050505, and 250 by 10. Assign each variable below such that `first_division` is assigned to the result of $50 // 10$, `second_division` is assigned to the result of $-505 // 10$, and so on. **(4 Points)**\n",
    "\n",
    "*Note*: For this question, **don't** use arrays.\n",
    "\n",
    "*Note*: Use the double slash operator `//` for this entire question. This operator `//` performs floor division by dividing the first number by the second number and rounding down the result to the nearest integer (whole number).\n"
   ]
  },
  {
   "cell_type": "code",
   "execution_count": null,
   "id": "c050cabe",
   "metadata": {
    "execution": {
     "iopub.execute_input": "2022-01-27T05:12:44.248606Z",
     "iopub.status.busy": "2022-01-27T05:12:44.247879Z",
     "iopub.status.idle": "2022-01-27T05:12:44.253960Z",
     "shell.execute_reply": "2022-01-27T05:12:44.253499Z"
    },
    "tags": []
   },
   "outputs": [],
   "source": [
    "first_division = ...\n",
    "second_division = ...\n",
    "third_division = ...\n",
    "fourth_division = ...\n",
    "print(\"First Division:\", first_division)\n",
    "print(\"Second Division:\", second_division)\n",
    "print(\"Third Division:\", third_division)\n",
    "print(\"Fourth Division:\", fourth_division)"
   ]
  },
  {
   "cell_type": "code",
   "execution_count": null,
   "id": "1c92c6a3",
   "metadata": {
    "deletable": false,
    "editable": false
   },
   "outputs": [],
   "source": [
    "grader.check(\"q3_1\")"
   ]
  },
  {
   "cell_type": "markdown",
   "id": "b0eea5f8",
   "metadata": {
    "deletable": false,
    "editable": false
   },
   "source": [
    "**Question 2.** Now, do the same calculation, but using an array called `digits` and only a single division n (`//`) operator.  Store the 4 results in an array named `divisions`. **(4 Points)**\n"
   ]
  },
  {
   "cell_type": "code",
   "execution_count": null,
   "id": "4aec861e",
   "metadata": {
    "execution": {
     "iopub.execute_input": "2022-01-27T05:12:44.279657Z",
     "iopub.status.busy": "2022-01-27T05:12:44.278901Z",
     "iopub.status.idle": "2022-01-27T05:12:44.283500Z",
     "shell.execute_reply": "2022-01-27T05:12:44.282978Z"
    },
    "tags": []
   },
   "outputs": [],
   "source": [
    "digits = ...\n",
    "divisions = ...\n",
    "divisions"
   ]
  },
  {
   "cell_type": "code",
   "execution_count": null,
   "id": "3a777eb7",
   "metadata": {
    "deletable": false,
    "editable": false
   },
   "outputs": [],
   "source": [
    "grader.check(\"q3_2\")"
   ]
  },
  {
   "cell_type": "markdown",
   "id": "fc26104c",
   "metadata": {
    "deletable": false,
    "editable": false
   },
   "source": [
    "**Question 3.** Darn it, we made a mistake!  Instead of 10, we wanted to divide each number by 5.  Compute the correct divisions in the cell below using array arithmetic.  Notice that your job is really easy if you previously defined an array containing the 4 numbers. **(4 Points)**\n",
    "\n",
    "Note! use `//`."
   ]
  },
  {
   "cell_type": "code",
   "execution_count": null,
   "id": "8385ab7f",
   "metadata": {
    "execution": {
     "iopub.execute_input": "2022-01-27T05:12:44.349544Z",
     "iopub.status.busy": "2022-01-27T05:12:44.348545Z",
     "iopub.status.idle": "2022-01-27T05:12:44.352876Z",
     "shell.execute_reply": "2022-01-27T05:12:44.352263Z"
    },
    "tags": []
   },
   "outputs": [],
   "source": [
    "correct_division = ...\n",
    "correct_division"
   ]
  },
  {
   "cell_type": "code",
   "execution_count": null,
   "id": "4c9de56c",
   "metadata": {
    "deletable": false,
    "editable": false
   },
   "outputs": [],
   "source": [
    "grader.check(\"q3_3\")"
   ]
  },
  {
   "cell_type": "markdown",
   "id": "ba60c2dd",
   "metadata": {
    "deletable": false,
    "editable": false
   },
   "source": [
    "**Question 4.** We've loaded an array of temperatures in the next cell.  Each number is the highest temperature observed on a day at a climate observation station, mostly from the US.  Since they're from the US government agency [NOAA](https://www.noaa.gov/), all the temperatures are in Fahrenheit.\n",
    "\n",
    "Convert all the temperatures to Kelvin by first subtracting 32 from them, then multiplying the results by $\\frac{5}{9}$, then adding 273.15 ie. Here is the formula $K = (F - 32) * \\frac{5}{9} + 273.15$. After converting the temperatures to Kelvin, make sure to **ROUND** the final result  to the nearest integer using the `np.round` function. **(4 Points)**\n"
   ]
  },
  {
   "cell_type": "code",
   "execution_count": null,
   "id": "a50eb911",
   "metadata": {
    "execution": {
     "iopub.execute_input": "2022-01-27T05:12:44.377841Z",
     "iopub.status.busy": "2022-01-27T05:12:44.376856Z",
     "iopub.status.idle": "2022-01-27T05:12:44.450650Z",
     "shell.execute_reply": "2022-01-27T05:12:44.451082Z"
    },
    "tags": []
   },
   "outputs": [],
   "source": [
    "min_temperatures = Table.read_table(\"temperatures.csv\").column(\"Daily Min Temperature\")\n",
    "\n",
    "kelvin_min_temperatures = ...\n",
    "kelvin_min_temperatures"
   ]
  },
  {
   "cell_type": "code",
   "execution_count": null,
   "id": "9b7ad052",
   "metadata": {
    "deletable": false,
    "editable": false
   },
   "outputs": [],
   "source": [
    "grader.check(\"q3_4\")"
   ]
  },
  {
   "cell_type": "markdown",
   "id": "cc4011d6",
   "metadata": {
    "deletable": false,
    "editable": false
   },
   "source": [
    "**Question 5.** The cell below loads all the *maximum* temperatures from each day (in Fahrenheit).  Compute the daily temperature range for each day. That is, compute the difference between each daily maximum temperature and the corresponding daily minimum temperature.  **Pay attention to the units and give your answer in Kelvin!** Make sure **NOT** to round your answer for this question! **(4 Points)**\n",
    "\n",
    "*Note:* Remember that in Question 4, `kelvin_min_temperatures` was rounded, so you might not want to use that variable in this question.\n",
    "\n"
   ]
  },
  {
   "cell_type": "code",
   "execution_count": null,
   "id": "cfc53cca",
   "metadata": {
    "execution": {
     "iopub.execute_input": "2022-01-27T05:12:44.529711Z",
     "iopub.status.busy": "2022-01-27T05:12:44.527097Z",
     "iopub.status.idle": "2022-01-27T05:12:44.564639Z",
     "shell.execute_reply": "2022-01-27T05:12:44.564127Z"
    },
    "tags": []
   },
   "outputs": [],
   "source": [
    "max_temperatures = Table.read_table(\"temperatures.csv\").column(\"Daily Max Temperature\")\n",
    "\n",
    "kelvin_temperature_ranges = ...\n",
    "kelvin_temperature_ranges"
   ]
  },
  {
   "cell_type": "code",
   "execution_count": null,
   "id": "08e74b32",
   "metadata": {
    "deletable": false,
    "editable": false
   },
   "outputs": [],
   "source": [
    "grader.check(\"q3_5\")"
   ]
  },
  {
   "cell_type": "markdown",
   "id": "cced0cb1",
   "metadata": {},
   "source": [
    "## 4. Old Faithful"
   ]
  },
  {
   "cell_type": "markdown",
   "id": "a930a372",
   "metadata": {},
   "source": [
    "Old Faithful is a geyser in Yellowstone that erupts every 44 to 125 minutes (according to [Wikipedia](https://en.wikipedia.org/wiki/Old_Faithful)). People are [often told that the geyser erupts every hour](http://yellowstone.net/geysers/old-faithful/), but in fact the waiting time between eruptions is more variable. Let's take a look."
   ]
  },
  {
   "cell_type": "markdown",
   "id": "068abe64",
   "metadata": {
    "deletable": false,
    "editable": false
   },
   "source": [
    "**Question 1.** The first line below assigns `waiting_times` to an array of 272 consecutive waiting times between eruptions, taken from a classic 1938 dataset. Assign the names `shortest`, `longest`, and `average` so that the `print` statement is correct. **(4 Points)**\n"
   ]
  },
  {
   "cell_type": "code",
   "execution_count": null,
   "id": "518a6bfd",
   "metadata": {
    "execution": {
     "iopub.execute_input": "2022-01-27T05:12:44.603245Z",
     "iopub.status.busy": "2022-01-27T05:12:44.602713Z",
     "iopub.status.idle": "2022-01-27T05:12:44.633708Z",
     "shell.execute_reply": "2022-01-27T05:12:44.634119Z"
    },
    "tags": []
   },
   "outputs": [],
   "source": [
    "waiting_times = Table.read_table('old_faithful.csv').column('waiting')\n",
    "waiting_times\n",
    "\n",
    "shortest = ...\n",
    "longest = ...\n",
    "average = ...\n",
    "\n",
    "print(\"Old Faithful erupts every\", shortest, \"to\", longest, \"minutes and every\", average, \"minutes on average.\")"
   ]
  },
  {
   "cell_type": "code",
   "execution_count": null,
   "id": "624ab572",
   "metadata": {
    "deletable": false,
    "editable": false
   },
   "outputs": [],
   "source": [
    "grader.check(\"q4_1\")"
   ]
  },
  {
   "cell_type": "markdown",
   "id": "252c013f",
   "metadata": {
    "deletable": false,
    "editable": false
   },
   "source": [
    "**Question 2.** Assign `biggest_increase` to the biggest increase in waiting time between two consecutive eruptions. For example, the second eruption occurred after 54 minutes and the third after 74 minutes, so the increase in waiting time was 74 - 54 = 20 minutes. **(4 Points)**\n",
    "\n",
    "*Hint*: We want to return the biggest increase.\n",
    "\n",
    "*Note*: `np.diff()` calculates the difference between subsequent values in an array. For example, calling `np.diff()` on the array `make_array(1, 8, 3, 5)` evaluates to `array([8 - 1, 3 - 8, 5 - 3])`, or `array([7, -5, 2])`.\n"
   ]
  },
  {
   "cell_type": "code",
   "execution_count": null,
   "id": "e2018485",
   "metadata": {
    "execution": {
     "iopub.execute_input": "2022-01-27T05:12:44.675299Z",
     "iopub.status.busy": "2022-01-27T05:12:44.674698Z",
     "iopub.status.idle": "2022-01-27T05:12:44.679010Z",
     "shell.execute_reply": "2022-01-27T05:12:44.678524Z"
    },
    "tags": []
   },
   "outputs": [],
   "source": [
    "# np.diff() calculates the difference between subsequent values  \n",
    "# in a NumPy array.\n",
    "differences = np.diff(waiting_times)\n",
    "biggest_increase = ...\n",
    "biggest_increase"
   ]
  },
  {
   "cell_type": "code",
   "execution_count": null,
   "id": "e3bac79b",
   "metadata": {
    "deletable": false,
    "editable": false
   },
   "outputs": [],
   "source": [
    "grader.check(\"q4_2\")"
   ]
  },
  {
   "cell_type": "markdown",
   "id": "141766c5",
   "metadata": {
    "deletable": false,
    "editable": false
   },
   "source": [
    "**Question 3.** The `faithful_with_eruption_nums` table contains two columns: `eruption_number`, which represents the number of that eruption, and `waiting`, which represents the time spent waiting after that eruption. For example, take the first two rows of the table:\n",
    "\n",
    "| eruption number | waiting |\n",
    "|-----------------|---------|\n",
    "| 1               | 79      |\n",
    "| 2               | 54      |\n",
    "\n",
    "We can read this as follows: after the first eruption, we waited 79 minutes for the second eruption. Then, after the second eruption, we waited 54 minutes for the third eruption.\n",
    "\n",
    "Suppose Yuji and Megumi started watching Old Faithful at the start of the first eruption. Assume that they watch until the end of the seventh eruption. For some of that time they will be watching eruptions, and for the rest of the time they will be waiting for Old Faithful to erupt. How many minutes will they spend on average waiting between eruptions? **(4 Points)**\n",
    "\n",
    "*Hint #1:* One way to approach this problem is to use the `take` or `where` method on the table `faithful_with_eruption_nums`. \n",
    "\n",
    "*Hint #2:* `first_six_waiting_times` must be an array.\n"
   ]
  },
  {
   "cell_type": "code",
   "execution_count": null,
   "id": "bb5e224f",
   "metadata": {
    "execution": {
     "iopub.execute_input": "2022-01-27T05:12:44.748589Z",
     "iopub.status.busy": "2022-01-27T05:12:44.747995Z",
     "iopub.status.idle": "2022-01-27T05:12:44.756387Z",
     "shell.execute_reply": "2022-01-27T05:12:44.755777Z"
    },
    "tags": []
   },
   "outputs": [],
   "source": [
    "# The following two lines load in our faithful_with_eruption_nums table\n",
    "faithful = Table.read_table('old_faithful.csv').drop(\"eruptions\")\n",
    "faithful_with_eruption_nums = faithful.with_column(\"eruption number\", np.arange(faithful.num_rows) + 1).select(1, 0)\n",
    "\n",
    "first_six_waiting_times = ...\n",
    "total_waiting_time_until_seventh = ...\n",
    "total_waiting_time_until_seventh"
   ]
  },
  {
   "cell_type": "code",
   "execution_count": null,
   "id": "5ef69aa6",
   "metadata": {
    "deletable": false,
    "editable": false
   },
   "outputs": [],
   "source": [
    "grader.check(\"q4_3\")"
   ]
  },
  {
   "cell_type": "markdown",
   "id": "af953ab7",
   "metadata": {
    "deletable": false,
    "editable": false
   },
   "source": [
    "**Question 4.** Let’s imagine your guess for the next waiting time was always just the length of the previous waiting time. If you always guessed the previous waiting time, how big would your error in guessing the waiting times be, on average? **(4 Points)**\n",
    "\n",
    "For example, since the first four waiting times are 79, 54, 74, and 62, the average difference between your guess and the actual time for just the second, third, and fourth eruptions would be $\\frac{|79-54|+ |54-74|+ |74-62|}{3} = 19$.\n"
   ]
  },
  {
   "cell_type": "code",
   "execution_count": null,
   "id": "1ba07aa0",
   "metadata": {
    "execution": {
     "iopub.execute_input": "2022-01-27T05:12:44.779676Z",
     "iopub.status.busy": "2022-01-27T05:12:44.779055Z",
     "iopub.status.idle": "2022-01-27T05:12:44.783450Z",
     "shell.execute_reply": "2022-01-27T05:12:44.782826Z"
    },
    "tags": []
   },
   "outputs": [],
   "source": [
    "differences = np.diff(waiting_times)\n",
    "average_error = ...\n",
    "average_error"
   ]
  },
  {
   "cell_type": "code",
   "execution_count": null,
   "id": "bc8844fa",
   "metadata": {
    "deletable": false,
    "editable": false
   },
   "outputs": [],
   "source": [
    "grader.check(\"q4_4\")"
   ]
  },
  {
   "cell_type": "markdown",
   "id": "589fc817",
   "metadata": {},
   "source": [
    "## 5. Tables"
   ]
  },
  {
   "cell_type": "markdown",
   "id": "2e4224a5",
   "metadata": {
    "deletable": false,
    "editable": false
   },
   "source": [
    "**Question 1.** Create a table that illustrates that you have 12 bananas, 9 pineapples, and 6 peaches(Perhaps you're using Python to create a grocery list).  It should have two columns: `fruit` and `quantity`.  Assign the new table to the variable `grocery_fruits`. **(4 Points)**\n",
    "\n",
    "*Note:* Use lower-case and singular words for the name of each fruit, like `\"banana\"`.\n"
   ]
  },
  {
   "cell_type": "code",
   "execution_count": null,
   "id": "05e641a3",
   "metadata": {
    "execution": {
     "iopub.execute_input": "2022-01-27T05:12:44.843208Z",
     "iopub.status.busy": "2022-01-27T05:12:44.842392Z",
     "iopub.status.idle": "2022-01-27T05:12:44.846572Z",
     "shell.execute_reply": "2022-01-27T05:12:44.845943Z"
    },
    "tags": []
   },
   "outputs": [],
   "source": [
    "# Our solution uses 1 statement split over 3 lines.\n",
    "grocery_fruits = ...\n",
    "        ...\n",
    "        ...\n",
    "grocery_fruits"
   ]
  },
  {
   "cell_type": "code",
   "execution_count": null,
   "id": "518c5523",
   "metadata": {
    "deletable": false,
    "editable": false
   },
   "outputs": [],
   "source": [
    "grader.check(\"q5_1\")"
   ]
  },
  {
   "cell_type": "markdown",
   "id": "b7ff8fcf",
   "metadata": {
    "deletable": false,
    "editable": false
   },
   "source": [
    "**Question 2.** The file `inventory.csv` contains information about the inventory of fruit at a grocery store.  Each row represents the contents of one box of fruit. Load it as a table named `fruit_inventory` using the `Table.read_table()` function. `Table.read_table(...)` takes one argument (data file name in string format) and returns a table. **(4 Points)**\n"
   ]
  },
  {
   "cell_type": "code",
   "execution_count": null,
   "id": "b96919a5",
   "metadata": {
    "execution": {
     "iopub.execute_input": "2022-01-27T05:12:44.861185Z",
     "iopub.status.busy": "2022-01-27T05:12:44.860639Z",
     "iopub.status.idle": "2022-01-27T05:12:44.871294Z",
     "shell.execute_reply": "2022-01-27T05:12:44.870723Z"
    },
    "tags": []
   },
   "outputs": [],
   "source": [
    "fruit_inventory = ...\n",
    "fruit_inventory"
   ]
  },
  {
   "cell_type": "code",
   "execution_count": null,
   "id": "dc296efc",
   "metadata": {
    "deletable": false,
    "editable": false
   },
   "outputs": [],
   "source": [
    "grader.check(\"q5_2\")"
   ]
  },
  {
   "cell_type": "markdown",
   "id": "1fa9ac06",
   "metadata": {
    "deletable": false,
    "editable": false
   },
   "source": [
    "**Question 3.** Does strawberry appear more than three times in the `fruit_inventory` table? Set `straw_three_times` to `True` if strawberry appear more than three times or to `False` if it does not. **(4 Points)**\n",
    "\n",
    "*Hint:* You don't have to write code to calculate the True/False value for `straw_three_times`. Just look at the `fruit_inventory` table and assign `straw_three_times` to either `True` or `False` according to what you can see from the table in answering the question.\n"
   ]
  },
  {
   "cell_type": "code",
   "execution_count": null,
   "id": "afe3f900",
   "metadata": {
    "execution": {
     "iopub.execute_input": "2022-01-27T05:12:44.887693Z",
     "iopub.status.busy": "2022-01-27T05:12:44.886708Z",
     "iopub.status.idle": "2022-01-27T05:12:44.928420Z",
     "shell.execute_reply": "2022-01-27T05:12:44.928882Z"
    },
    "tags": []
   },
   "outputs": [],
   "source": [
    "straw_three_times = ...\n",
    "straw_three_times"
   ]
  },
  {
   "cell_type": "code",
   "execution_count": null,
   "id": "3179d1de",
   "metadata": {
    "deletable": false,
    "editable": false
   },
   "outputs": [],
   "source": [
    "grader.check(\"q5_3\")"
   ]
  },
  {
   "cell_type": "markdown",
   "id": "c9dc0daa",
   "metadata": {
    "deletable": false,
    "editable": false
   },
   "source": [
    "**Question 4.** The file `sales.csv` contains the number of fruit sold from each box last Saturday.  It has an extra column called `price per fruit ($)` that's the price *per item of fruit* for fruit in that box.  The rows are in the same order as the `fruit_inventory` table.  Load these data into a table called `sales`. **(5 Points)**\n"
   ]
  },
  {
   "cell_type": "code",
   "execution_count": null,
   "id": "34af9b41",
   "metadata": {
    "execution": {
     "iopub.execute_input": "2022-01-27T05:12:44.952160Z",
     "iopub.status.busy": "2022-01-27T05:12:44.951367Z",
     "iopub.status.idle": "2022-01-27T05:12:44.960652Z",
     "shell.execute_reply": "2022-01-27T05:12:44.961159Z"
    },
    "tags": []
   },
   "outputs": [],
   "source": [
    "sales = ...\n",
    "sales"
   ]
  },
  {
   "cell_type": "code",
   "execution_count": null,
   "id": "ac3a51d6",
   "metadata": {
    "deletable": false,
    "editable": false
   },
   "outputs": [],
   "source": [
    "grader.check(\"q5_4\")"
   ]
  },
  {
   "cell_type": "markdown",
   "id": "4cb9beeb",
   "metadata": {
    "deletable": false,
    "editable": false
   },
   "source": [
    "**Question 5.** How many strawberries did the store sell in total on that day? **(5 Points)**\n"
   ]
  },
  {
   "cell_type": "code",
   "execution_count": null,
   "id": "8866b983",
   "metadata": {
    "execution": {
     "iopub.execute_input": "2022-01-27T05:12:44.976215Z",
     "iopub.status.busy": "2022-01-27T05:12:44.975584Z",
     "iopub.status.idle": "2022-01-27T05:12:44.979498Z",
     "shell.execute_reply": "2022-01-27T05:12:44.978966Z"
    },
    "tags": []
   },
   "outputs": [],
   "source": [
    "strawberry_sold = ...\n",
    "strawberry_sold"
   ]
  },
  {
   "cell_type": "code",
   "execution_count": null,
   "id": "81da3685",
   "metadata": {
    "deletable": false,
    "editable": false
   },
   "outputs": [],
   "source": [
    "grader.check(\"q5_5\")"
   ]
  },
  {
   "cell_type": "markdown",
   "id": "f0894189",
   "metadata": {
    "deletable": false,
    "editable": false
   },
   "source": [
    "**Question 6.** What was the store's total strawberry revenue (the total price of all strawberries sold) on that day in DOLLARS? **(5 Points)**\n",
    "\n",
    "*Hint:* If you're stuck, think first about how you computed strawberry sales in previous problem. How might you used that code to form new code here?\n",
    "\n",
    "*Hint:* Round your answer to the nearest **dollar**."
   ]
  },
  {
   "cell_type": "code",
   "execution_count": null,
   "id": "d6422d02",
   "metadata": {
    "execution": {
     "iopub.execute_input": "2022-01-27T05:12:45.035799Z",
     "iopub.status.busy": "2022-01-27T05:12:45.035091Z",
     "iopub.status.idle": "2022-01-27T05:12:45.039554Z",
     "shell.execute_reply": "2022-01-27T05:12:45.039012Z"
    },
    "tags": []
   },
   "outputs": [],
   "source": [
    "strw_total_revenue = ...\n",
    "\n",
    "strawberry_total_revenue = round(strw_total_revenue)\n",
    "strawberry_total_revenue"
   ]
  },
  {
   "cell_type": "code",
   "execution_count": null,
   "id": "3274825f",
   "metadata": {
    "deletable": false,
    "editable": false
   },
   "outputs": [],
   "source": [
    "grader.check(\"q5_6\")"
   ]
  },
  {
   "cell_type": "markdown",
   "id": "2ef3764d",
   "metadata": {
    "deletable": false,
    "editable": false
   },
   "source": [
    "*Question 7.** Make a new table called `remaining_straw_inventory`.  It should have the same rows and columns as `fruit_inventory`, except that the amount of strawberries sold from each box should be subtracted from that strawberries box's **original** count, so that the `count` column is **updated to be** the amount of strawberries remaining after Saturday. **(5 Points)**\n"
   ]
  },
  {
   "cell_type": "code",
   "execution_count": null,
   "id": "d9468f9a",
   "metadata": {
    "execution": {
     "iopub.execute_input": "2022-01-27T05:12:45.065342Z",
     "iopub.status.busy": "2022-01-27T05:12:45.064391Z",
     "iopub.status.idle": "2022-01-27T05:12:45.068707Z",
     "shell.execute_reply": "2022-01-27T05:12:45.068162Z"
    },
    "tags": []
   },
   "outputs": [],
   "source": [
    "remaining_straw_inventory = ...\n",
    "    ...\n",
    "    ...\n",
    "    ...\n",
    "remaining_straw_inventory"
   ]
  },
  {
   "cell_type": "code",
   "execution_count": null,
   "id": "6f177d86",
   "metadata": {
    "deletable": false,
    "editable": false
   },
   "outputs": [],
   "source": [
    "grader.check(\"q5_7\")"
   ]
  },
  {
   "cell_type": "markdown",
   "id": "3422e68e",
   "metadata": {},
   "source": [
    "You're done with Homework 2!  \n",
    "\n",
    "**Important submission steps:** \n",
    "1. Run the tests and verify that they all pass.\n",
    "2. Choose **Save Notebook** from the **File** menu, then **run the final cell**. \n",
    "3. Click the link to download the zip file.\n",
    "4. Then submit the zip file to the corresponding assignment according to your instructor's directions. \n",
    "\n",
    "**It is your responsibility to make sure your work is saved before running the last cell.**\n"
   ]
  },
  {
   "cell_type": "markdown",
   "id": "58e15fec",
   "metadata": {
    "deletable": false,
    "editable": false
   },
   "source": [
    "## Submission\n",
    "\n",
    "Make sure you have run all cells in your notebook in order before running the cell below, so that all images/graphs appear in the output. The cell below will generate a zip file for you to submit. **Please save before exporting!**"
   ]
  },
  {
   "cell_type": "code",
   "execution_count": null,
   "id": "98d9d65a",
   "metadata": {
    "deletable": false,
    "editable": false
   },
   "outputs": [],
   "source": [
    "# Save your notebook first, then run this cell to export your submission.\n",
    "grader.export(pdf=False, run_tests=True)"
   ]
  },
  {
   "cell_type": "markdown",
   "id": "69faaf14",
   "metadata": {},
   "source": [
    " "
   ]
  }
 ],
 "metadata": {
  "kernelspec": {
   "display_name": "Python 3 (ipykernel)",
   "language": "python",
   "name": "python3"
  },
  "language_info": {
   "codemirror_mode": {
    "name": "ipython",
    "version": 3
   },
   "file_extension": ".py",
   "mimetype": "text/x-python",
   "name": "python",
   "nbconvert_exporter": "python",
   "pygments_lexer": "ipython3",
   "version": "3.11.6"
  },
  "otter": {
   "OK_FORMAT": true,
   "tests": {
    "q1_1": {
     "name": "q1_1",
     "points": [
      0,
      0
     ],
     "suites": [
      {
       "cases": [
        {
         "code": ">>> import numpy as np\n>>> type(strange_numbers) == np.ndarray\nTrue",
         "hidden": false,
         "locked": false
        },
        {
         "code": ">>> len(strange_numbers) == 4\nTrue",
         "hidden": false,
         "locked": false
        }
       ],
       "scored": true,
       "setup": "",
       "teardown": "",
       "type": "doctest"
      }
     ]
    },
    "q1_2": {
     "name": "q1_2",
     "points": [
      0,
      0,
      0,
      0,
      4
     ],
     "suites": [
      {
       "cases": [
        {
         "code": ">>> import numpy as np\n>>> type(anime_characters) == np.ndarray\nTrue",
         "hidden": false,
         "locked": false
        },
        {
         "code": ">>> not any([',' in text for text in anime_characters])\nTrue",
         "hidden": false,
         "locked": false
        },
        {
         "code": ">>> 'and ' in anime_characters.item(2)\nTrue",
         "hidden": false,
         "locked": false
        },
        {
         "code": ">>> len(anime_characters)\n3",
         "hidden": false,
         "locked": false
        },
        {
         "code": ">>> anime_characters.item(0) == 'Naruto' and anime_characters.item(1) == 'Sasuke' and (anime_characters.item(2) == 'and Sakura')\nTrue",
         "hidden": false,
         "locked": false
        }
       ],
       "scored": true,
       "setup": "",
       "teardown": "",
       "type": "doctest"
      }
     ]
    },
    "q1_3": {
     "name": "q1_3",
     "points": [
      2,
      2
     ],
     "suites": [
      {
       "cases": [
        {
         "code": ">>> with_commas == 'Naruto, Sasuke, and Sakura'\nTrue",
         "hidden": false,
         "locked": false
        },
        {
         "code": ">>> without_commas == 'Naruto Sasuke and Sakura'\nTrue",
         "hidden": false,
         "locked": false
        }
       ],
       "scored": true,
       "setup": "",
       "teardown": "",
       "type": "doctest"
      }
     ]
    },
    "q2_1": {
     "name": "q2_1",
     "points": [
      0,
      4
     ],
     "suites": [
      {
       "cases": [
        {
         "code": ">>> fourth_element != -6\nTrue",
         "hidden": false,
         "locked": false
        },
        {
         "code": ">>> fourth_element == -10\nTrue",
         "hidden": false,
         "locked": false
        }
       ],
       "scored": true,
       "setup": "",
       "teardown": "",
       "type": "doctest"
      }
     ]
    },
    "q2_2": {
     "name": "q2_2",
     "points": [
      1,
      1,
      1,
      1
     ],
     "suites": [
      {
       "cases": [
        {
         "code": ">>> elements_of_random_numbers.column(0).item(2) == 'third'\nTrue",
         "hidden": false,
         "locked": false
        },
        {
         "code": ">>> elements_of_random_numbers.column(0).item(3) == 'fourth'\nTrue",
         "hidden": false,
         "locked": false
        },
        {
         "code": ">>> elements_of_random_numbers.column(1).item(0) == 0\nTrue",
         "hidden": false,
         "locked": false
        },
        {
         "code": ">>> elements_of_random_numbers.column(1).item(3) == 3\nTrue",
         "hidden": false,
         "locked": false
        }
       ],
       "scored": true,
       "setup": "",
       "teardown": "",
       "type": "doctest"
      }
     ]
    },
    "q2_3": {
     "name": "q2_3",
     "points": [
      4
     ],
     "suites": [
      {
       "cases": [
        {
         "code": ">>> index_of_last_element == 199\nTrue",
         "hidden": false,
         "locked": false
        }
       ],
       "scored": true,
       "setup": "",
       "teardown": "",
       "type": "doctest"
      }
     ]
    },
    "q2_4": {
     "name": "q2_4",
     "points": [
      4
     ],
     "suites": [
      {
       "cases": [
        {
         "code": ">>> second_most_recent_population_year == 2014\nTrue",
         "hidden": false,
         "locked": false
        }
       ],
       "scored": true,
       "setup": "",
       "teardown": "",
       "type": "doctest"
      }
     ]
    },
    "q2_5": {
     "name": "q2_5",
     "points": [
      0
     ],
     "suites": [
      {
       "cases": [
        {
         "code": ">>> min_of_population_years > 0\nTrue",
         "hidden": false,
         "locked": false
        }
       ],
       "scored": true,
       "setup": "",
       "teardown": "",
       "type": "doctest"
      }
     ]
    },
    "q3_1": {
     "name": "q3_1",
     "points": [
      0
     ],
     "suites": [
      {
       "cases": [
        {
         "code": ">>> (first_division > 0, second_division < 0, third_division > 0, fourth_division > 0)\n(True, True, True, True)",
         "hidden": false,
         "locked": false
        }
       ],
       "scored": true,
       "setup": "",
       "teardown": "",
       "type": "doctest"
      }
     ]
    },
    "q3_2": {
     "name": "q3_2",
     "points": [
      0
     ],
     "suites": [
      {
       "cases": [
        {
         "code": ">>> len(divisions) == 4\nTrue",
         "hidden": false,
         "locked": false
        }
       ],
       "scored": true,
       "setup": "",
       "teardown": "",
       "type": "doctest"
      }
     ]
    },
    "q3_3": {
     "name": "q3_3",
     "points": [
      0
     ],
     "suites": [
      {
       "cases": [
        {
         "code": ">>> len(correct_division) == 4\nTrue",
         "hidden": false,
         "locked": false
        }
       ],
       "scored": true,
       "setup": "",
       "teardown": "",
       "type": "doctest"
      }
     ]
    },
    "q3_4": {
     "name": "q3_4",
     "points": [
      1,
      1,
      1,
      1
     ],
     "suites": [
      {
       "cases": [
        {
         "code": ">>> sum(kelvin_min_temperatures) != 356705.0\nTrue",
         "hidden": false,
         "locked": false
        },
        {
         "code": ">>> sum(kelvin_min_temperatures)\n18264353.0",
         "hidden": false,
         "locked": false
        },
        {
         "code": ">>> len(kelvin_min_temperatures)\n65000",
         "hidden": false,
         "locked": false
        },
        {
         "code": ">>> kelvin_min_temperatures.item(2003)\n290.0",
         "hidden": false,
         "locked": false
        }
       ],
       "scored": true,
       "setup": "",
       "teardown": "",
       "type": "doctest"
      }
     ]
    },
    "q3_5": {
     "name": "q3_5",
     "points": [
      0,
      4,
      0
     ],
     "suites": [
      {
       "cases": [
        {
         "code": ">>> type(kelvin_temperature_ranges) is np.ndarray\nTrue",
         "hidden": false,
         "locked": false
        },
        {
         "code": ">>> np.isclose(round(sum(kelvin_temperature_ranges)), 768486.67)\nTrue",
         "hidden": false,
         "locked": false
        },
        {
         "code": ">>> len(kelvin_temperature_ranges)\n65000",
         "hidden": false,
         "locked": false
        }
       ],
       "scored": true,
       "setup": "",
       "teardown": "",
       "type": "doctest"
      }
     ]
    },
    "q4_1": {
     "name": "q4_1",
     "points": [
      0,
      0
     ],
     "suites": [
      {
       "cases": [
        {
         "code": ">>> 40 <= shortest <= 50\nTrue",
         "hidden": false,
         "locked": false
        },
        {
         "code": ">>> shortest <= average <= longest\nTrue",
         "hidden": false,
         "locked": false
        }
       ],
       "scored": true,
       "setup": "",
       "teardown": "",
       "type": "doctest"
      }
     ]
    },
    "q4_2": {
     "name": "q4_2",
     "points": [
      0,
      0
     ],
     "suites": [
      {
       "cases": [
        {
         "code": ">>> biggest_increase == 47\nTrue",
         "hidden": false,
         "locked": false
        },
        {
         "code": ">>> 30 <= biggest_increase < 49\nTrue",
         "hidden": false,
         "locked": false
        }
       ],
       "scored": true,
       "setup": "",
       "teardown": "",
       "type": "doctest"
      }
     ]
    },
    "q4_3": {
     "name": "q4_3",
     "points": [
      0,
      4
     ],
     "suites": [
      {
       "cases": [
        {
         "code": ">>> len(first_six_waiting_times)\n6",
         "hidden": false,
         "locked": false
        },
        {
         "code": ">>> total_waiting_time_until_seventh\n68.166666666666671",
         "hidden": false,
         "locked": false
        }
       ],
       "scored": true,
       "setup": "",
       "teardown": "",
       "type": "doctest"
      }
     ]
    },
    "q4_4": {
     "name": "q4_4",
     "points": [
      0
     ],
     "suites": [
      {
       "cases": [
        {
         "code": ">>> 15 <= average_error <= 25\nTrue",
         "hidden": false,
         "locked": false
        }
       ],
       "scored": true,
       "setup": "",
       "teardown": "",
       "type": "doctest"
      }
     ]
    },
    "q5_1": {
     "name": "q5_1",
     "points": [
      4
     ],
     "suites": [
      {
       "cases": [
        {
         "code": ">>> grocery_fruits.sort(0)\nfruit     | quantity\nbanana    | 12\npeach     | 6\npineapple | 9",
         "hidden": false,
         "locked": false
        }
       ],
       "scored": true,
       "setup": "",
       "teardown": "",
       "type": "doctest"
      }
     ]
    },
    "q5_2": {
     "name": "q5_2",
     "points": [
      4
     ],
     "suites": [
      {
       "cases": [
        {
         "code": ">>> fruit_inventory.sort(0).column(0).item(0)\n25274",
         "hidden": false,
         "locked": false
        }
       ],
       "scored": true,
       "setup": "",
       "teardown": "",
       "type": "doctest"
      }
     ]
    },
    "q5_3": {
     "name": "q5_3",
     "points": [
      0
     ],
     "suites": [
      {
       "cases": [
        {
         "code": ">>> straw_three_times in {True, False}\nTrue",
         "hidden": false,
         "locked": false
        }
       ],
       "scored": true,
       "setup": "",
       "teardown": "",
       "type": "doctest"
      }
     ]
    },
    "q5_4": {
     "name": "q5_4",
     "points": [
      5
     ],
     "suites": [
      {
       "cases": [
        {
         "code": ">>> sales.sort(0)\nbox ID | fruit name | count sold | price per fruit ($)\n25274  | apple      | 0          | 0.8\n26187  | strawberry | 25         | 0.15\n43566  | peach      | 17         | 0.8\n48800  | orange     | 35         | 0.6\n52357  | strawberry | 102        | 0.25\n53686  | kiwi       | 3          | 0.5\n57181  | strawberry | 101        | 0.2\n57930  | grape      | 355        | 0.06",
         "hidden": false,
         "locked": false
        }
       ],
       "scored": true,
       "setup": "",
       "teardown": "",
       "type": "doctest"
      }
     ]
    },
    "q5_5": {
     "name": "q5_5",
     "points": [
      0
     ],
     "suites": [
      {
       "cases": [
        {
         "code": ">>> strawberry_sold > 10\nTrue",
         "hidden": false,
         "locked": false
        }
       ],
       "scored": true,
       "setup": "",
       "teardown": "",
       "type": "doctest"
      }
     ]
    },
    "q5_6": {
     "name": "q5_6",
     "points": [
      0
     ],
     "suites": [
      {
       "cases": [
        {
         "code": ">>> 45 <= strawberry_total_revenue <= 75\nTrue",
         "hidden": false,
         "locked": false
        }
       ],
       "scored": true,
       "setup": "",
       "teardown": "",
       "type": "doctest"
      }
     ]
    },
    "q5_7": {
     "name": "q5_7",
     "points": [
      0,
      2,
      3
     ],
     "suites": [
      {
       "cases": [
        {
         "code": ">>> remaining_straw_inventory.num_columns\n3",
         "hidden": false,
         "locked": false
        },
        {
         "code": ">>> remaining_straw_inventory.column('count').item(0) != 45\nTrue",
         "hidden": false,
         "locked": false
        },
        {
         "code": ">>> remaining_straw_inventory.where(1, 'strawberry')\nbox ID | fruit name | count\n57181  | strawberry | 22\n26187  | strawberry | 230\n52357  | strawberry | 0",
         "hidden": false,
         "locked": false
        }
       ],
       "scored": true,
       "setup": "",
       "teardown": "",
       "type": "doctest"
      }
     ]
    }
   }
  }
 },
 "nbformat": 4,
 "nbformat_minor": 5
}
