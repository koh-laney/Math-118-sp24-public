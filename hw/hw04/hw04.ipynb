{
 "cells": [
  {
   "cell_type": "code",
   "execution_count": null,
   "id": "c3fa3b72",
   "metadata": {
    "deletable": false,
    "editable": false
   },
   "outputs": [],
   "source": [
    "# Initialize Otter\n",
    "import otter\n",
    "grader = otter.Notebook(\"hw04.ipynb\")"
   ]
  },
  {
   "cell_type": "markdown",
   "id": "fa0979e2",
   "metadata": {},
   "source": [
    "# Homework 4: Functions, Tables, and Groups\n",
    "\n",
    "Please complete this notebook by filling in the cells provided. Before you begin, execute the previous cell to load the provided tests."
   ]
  },
  {
   "cell_type": "markdown",
   "id": "41799486",
   "metadata": {},
   "source": [
    "**Helpful Resource:**\n",
    "- [Python Reference](http://data8.org/sp22/python-reference.html): Cheat sheet of helpful array & table methods used in Data 8!\n",
    "\n",
    "**Recommended Readings**: \n",
    "\n",
    "* [Visualizing Numerical Distributions](https://www.inferentialthinking.com/chapters/07/2/Visualizing_Numerical_Distributions.html)\n",
    "* [Functions and Tables](https://www.inferentialthinking.com/chapters/08/Functions_and_Tables.html)"
   ]
  },
  {
   "cell_type": "markdown",
   "id": "555772bb",
   "metadata": {},
   "source": [
    "Please complete this notebook by filling in the cells provided. Before you begin, execute the following cell to setup the notebook by importing some helpful libraries. Each time you start your server, you will need to execute this cell again.\n",
    "\n",
    "For all problems that you must write explanations and sentences for, you **must** provide your answer in the designated space. **Moreover, throughout this homework and all future ones, please be sure to not re-assign variables throughout the notebook!** For example, if you use `max_temperature` in your answer to one question, do not reassign it later on. Otherwise, you will fail tests that you thought you were passing previously!\n",
    "\n",
    "\n",
    "**Note: This homework has hidden tests on it. That means even though the tests may say 100% passed, it doesn't mean your final grade will be 100%. We will be running more tests for correctness once everyone turns in the homework.**\n",
    "\n",
    "\n",
    "Directly sharing answers is not okay, but discussing problems with the course staff or with other students is encouraged. \n",
    "\n",
    "You should start early so that you have time to get help if you're stuck."
   ]
  },
  {
   "cell_type": "markdown",
   "id": "88854102",
   "metadata": {},
   "source": [
    "## 1. Game On: Analyzing the Gaming Industry"
   ]
  },
  {
   "cell_type": "code",
   "execution_count": null,
   "id": "e6797dad",
   "metadata": {
    "execution": {
     "iopub.execute_input": "2022-02-09T23:31:00.037069Z",
     "iopub.status.busy": "2022-02-09T23:31:00.035981Z",
     "iopub.status.idle": "2022-02-09T23:31:01.922106Z",
     "shell.execute_reply": "2022-02-09T23:31:01.921458Z"
    }
   },
   "outputs": [],
   "source": [
    "# Run this cell to set up the notebook, but please don't change it.\n",
    "\n",
    "# These lines import the Numpy and Datascience modules.\n",
    "import numpy as np\n",
    "from datascience import *\n",
    "import d8error\n",
    "\n",
    "# These lines do some fancy plotting magic.\n",
    "import matplotlib\n",
    "%matplotlib inline\n",
    "import matplotlib.pyplot as plt\n",
    "plt.style.use('fivethirtyeight')\n",
    "\n",
    "import warnings\n",
    "warnings.simplefilter('ignore', FutureWarning)\n",
    "warnings.filterwarnings(\"ignore\")"
   ]
  },
  {
   "cell_type": "markdown",
   "id": "c671be41",
   "metadata": {},
   "source": [
    "Dream Craft Studios, a game development studio is planning to create a new video game and wants to conduct market analysis to make informed decisions about the game's potential sales performance in the North American and European markets. Their Partner, Gaming Metrics Market Research Firm, has provided them with two comprehensive datasets containing valuable information on platform, genre, and current sales performance from previous games, collected (and cleaned from): https://www.kaggle.com/datasets/gregorut/videogamesales"
   ]
  },
  {
   "cell_type": "markdown",
   "id": "7cffefe7",
   "metadata": {},
   "source": [
    "The following cell reads in a table called `sales` which contains North American, European and Global Sales (all in millions).\n",
    "\n",
    "\n",
    "It also reads in a table called `game_specs` which contains the Platform, Year, Genre, and Publisher for each game."
   ]
  },
  {
   "cell_type": "code",
   "execution_count": null,
   "id": "f10b1f12",
   "metadata": {},
   "outputs": [],
   "source": [
    "#Just run this cell\n",
    "sales = Table.read_table(\"sales.csv\").drop(0)\n",
    "sales.show(5)\n",
    "game_specs = Table.read_table(\"game_specs.csv\").drop(0)\n",
    "game_specs.show(5)"
   ]
  },
  {
   "cell_type": "markdown",
   "id": "ab60d449",
   "metadata": {},
   "source": [
    "**Question 1.** It would be easier if we could combine the information in both tables. Assign `games` to the result of joining the two tables together, so that we have a table that with the sales information and specifications for each corresponding game. Each unit of sales (NA_Sales, etc.) is associated with a corresponding gaming platform (Wii, etc.). **(8 Points)**\n",
    "\n",
    "*Note:* It doesn't matter which table you put in as the argument to the table method, either order will work for the autograder tests.\n",
    "\n",
    "*Hint:* If you need help on using the `join` method, refer to the [Python Reference Sheet](http://data8.org/sp22/python-reference.html) or [Section 8.4](https://www.inferentialthinking.com/chapters/08/4/Joining_Tables_by_Columns.html) in the textbook. Also, note that your joined table should have more than twice as many rows as the initial tables."
   ]
  },
  {
   "cell_type": "code",
   "execution_count": null,
   "id": "cee134f3",
   "metadata": {
    "execution": {
     "iopub.execute_input": "2022-02-09T23:31:01.959932Z",
     "iopub.status.busy": "2022-02-09T23:31:01.959318Z",
     "iopub.status.idle": "2022-02-09T23:31:01.963297Z",
     "shell.execute_reply": "2022-02-09T23:31:01.963775Z"
    },
    "scrolled": true,
    "tags": []
   },
   "outputs": [],
   "source": [
    "games = ...\n",
    "games.show(5)"
   ]
  },
  {
   "cell_type": "code",
   "execution_count": null,
   "id": "9fb97c3f",
   "metadata": {
    "deletable": false,
    "editable": false
   },
   "outputs": [],
   "source": [
    "grader.check(\"q1_1\")"
   ]
  },
  {
   "cell_type": "markdown",
   "id": "ed81fb06",
   "metadata": {},
   "source": [
    "<!-- BEGIN QUESTION -->\n",
    "\n",
    "**Question 2.** Let's look at how the sales in North America compare to the sales in Europe using the `games` table. First, assign `na_and_eu` to a table only containing the columns `NA_Sales` and `EU_Sales`. Then, make a scatter plot with European sales on the x-axis and the North American sales on the y-axis. **(8 Points)**\n"
   ]
  },
  {
   "cell_type": "code",
   "execution_count": null,
   "id": "805aacad",
   "metadata": {
    "execution": {
     "iopub.execute_input": "2022-02-09T23:31:02.034880Z",
     "iopub.status.busy": "2022-02-09T23:31:02.025456Z",
     "iopub.status.idle": "2022-02-09T23:31:02.310929Z",
     "shell.execute_reply": "2022-02-09T23:31:02.311354Z"
    },
    "tags": []
   },
   "outputs": [],
   "source": [
    "na_and_eu = ...\n",
    "...\n",
    "\n",
    "# Don't change/edit/remove the following line.\n",
    "# To help you make conclusions, we have plotted a straight line on the graph (y=x).\n",
    "plt.xlim(2, 10)\n",
    "plt.ylim(2, 10)\n",
    "\n",
    "# Plotting the y=x line\n",
    "plt.plot([0, 10], [0, 10], color='red', linestyle='--')\n",
    "\n",
    "plt.show();"
   ]
  },
  {
   "cell_type": "code",
   "execution_count": null,
   "id": "6c7a3291",
   "metadata": {
    "deletable": false,
    "editable": false
   },
   "outputs": [],
   "source": [
    "grader.check(\"q1_2\")"
   ]
  },
  {
   "cell_type": "markdown",
   "id": "699bce3b",
   "metadata": {},
   "source": [
    "<!-- END QUESTION -->\n",
    "\n",
    "<!-- BEGIN QUESTION -->\n",
    "\n",
    "**Question 3.** Looking at the scatter plot you just made in Question 1.2, do you notice any pattern(s) (i.e. is one of the two types of sales consistently higher than the other one)? If so, describe them **briefly** in the cell below. **(8 Points)**\n"
   ]
  },
  {
   "cell_type": "markdown",
   "id": "f3cb8e06",
   "metadata": {},
   "source": [
    "_Type your answer here, replacing this text._"
   ]
  },
  {
   "cell_type": "markdown",
   "id": "b9375161",
   "metadata": {},
   "source": [
    "<!-- END QUESTION -->\n",
    "\n",
    "Here's a refresher on how `.group` works! You can read how `.group` works in the [textbook](https://www.inferentialthinking.com/chapters/08/2/Classifying_by_One_Variable.html), or you can view the video below. The video resource was made by a past UC Berkeley staff member, Divyesh Chotai!\n",
    "\n",
    "You can also use the [Table Functions Visualizer](http://data8.org/interactive_table_functions/) to get some more hands-on experience with the `.group` function."
   ]
  },
  {
   "cell_type": "code",
   "execution_count": null,
   "id": "41e6237b",
   "metadata": {
    "execution": {
     "iopub.execute_input": "2022-02-09T23:31:02.327225Z",
     "iopub.status.busy": "2022-02-09T23:31:02.326631Z",
     "iopub.status.idle": "2022-02-09T23:31:02.409619Z",
     "shell.execute_reply": "2022-02-09T23:31:02.409029Z"
    }
   },
   "outputs": [],
   "source": [
    "from IPython.display import YouTubeVideo\n",
    "YouTubeVideo(\"HLoYTCUP0fc\")"
   ]
  },
  {
   "cell_type": "markdown",
   "id": "baac877e",
   "metadata": {},
   "source": [
    "**Question 4.** There is a variety of FIFA games in the `games` table. As part of Dream Craft Studios's market analysis, we are interested in finding out which FIFA game has the lowest average sales in the European market. \n",
    "\n",
    "Create a new table with two columns: the first column should list the names of the FIFA games, and the second column should display the average sales for each game using EU_Sales data.  **In your calculations, you should only compare games that contain the word \"FIFA\".** For example, there is \"FIFA 17\", \"FIFA 06 Soccer\", \"2014 FIFA World Cup Brazil\", etc. **(9 Points)**\n",
    "\n",
    "*Hint:* If multiple platforms released the same \"2002 FIFA World Cup\" game, what table method can we use to aggregate those together and find the average sales?\n",
    "\n",
    "*Note:* For reference, the staff solution only used one line. However, feel free to break up the solution into multiple lines and steps; just make sure you assign the final output table to `fifa_games`! \n"
   ]
  },
  {
   "cell_type": "code",
   "execution_count": null,
   "id": "e33cf954",
   "metadata": {
    "execution": {
     "iopub.execute_input": "2022-02-09T23:31:02.422246Z",
     "iopub.status.busy": "2022-02-09T23:31:02.415462Z",
     "iopub.status.idle": "2022-02-09T23:31:02.426042Z",
     "shell.execute_reply": "2022-02-09T23:31:02.425599Z"
    },
    "tags": []
   },
   "outputs": [],
   "source": [
    "fifa_games = ...\n",
    "fifa_games"
   ]
  },
  {
   "cell_type": "code",
   "execution_count": null,
   "id": "a8b74ae7",
   "metadata": {
    "deletable": false,
    "editable": false
   },
   "outputs": [],
   "source": [
    "grader.check(\"q1_4\")"
   ]
  },
  {
   "cell_type": "markdown",
   "id": "8422b43d",
   "metadata": {},
   "source": [
    "**Question 5.** Given this new table `fifa_games`, Dream Craft Studios wants to figure out the name of the FIFA Game with the lowest overall average European Sales. Assign `lowest_sold_fifa_game` to a line of code that outputs the string that represents the name of the FIFA Game with the lowest overall average European Sales. *If multiple FIFA games satisfy this criteria, you can output any one of them.* **(8 Points)**\n"
   ]
  },
  {
   "cell_type": "code",
   "execution_count": null,
   "id": "b78e0503",
   "metadata": {
    "execution": {
     "iopub.execute_input": "2022-02-09T23:31:02.459872Z",
     "iopub.status.busy": "2022-02-09T23:31:02.459142Z",
     "iopub.status.idle": "2022-02-09T23:31:02.463161Z",
     "shell.execute_reply": "2022-02-09T23:31:02.462693Z"
    },
    "tags": []
   },
   "outputs": [],
   "source": [
    "lowest_sold_fifa_game = ...\n",
    "lowest_sold_fifa_game"
   ]
  },
  {
   "cell_type": "code",
   "execution_count": null,
   "id": "0345d2e9",
   "metadata": {
    "deletable": false,
    "editable": false
   },
   "outputs": [],
   "source": [
    "grader.check(\"q1_5\")"
   ]
  },
  {
   "cell_type": "markdown",
   "id": "5afef15f",
   "metadata": {},
   "source": [
    "<!-- BEGIN QUESTION -->\n",
    "\n",
    "**Question 6.** Dream Craft Studios wants to know which year had the most game releases. Plot a histogram that visualizes the distribution of release years for the games in the `games` table. Also use the provided `bins` variable when making your histogram, so that the histogram is more visually informative. **(8 Points)**\n"
   ]
  },
  {
   "cell_type": "code",
   "execution_count": null,
   "id": "d705a455",
   "metadata": {
    "execution": {
     "iopub.execute_input": "2022-02-09T23:31:02.512551Z",
     "iopub.status.busy": "2022-02-09T23:31:02.496494Z",
     "iopub.status.idle": "2022-02-09T23:31:02.804389Z",
     "shell.execute_reply": "2022-02-09T23:31:02.805071Z"
    },
    "tags": []
   },
   "outputs": [],
   "source": [
    "# Create a Histogram\n",
    "bins = np.arange(1980, 2021, 2)\n",
    "\n",
    "# Please also use the provided bins\n",
    "..."
   ]
  },
  {
   "cell_type": "markdown",
   "id": "e603ff4f",
   "metadata": {},
   "source": [
    "<!-- END QUESTION -->\n",
    "\n",
    "**Question 7.** What percentage of games were released after 2014? Assign `released_after_2014` to your answer, which should be between 0 and 100. You should only use the histogram above to answer the question. Do not use code on the table to to find the answer, just eyeball the heights and use Python to evaluate your arithmetic! **(8 Points)**\n",
    "\n",
    "*Note*: Your answer does not have to be exact, but it should be within a couple percentages of the staff answer.\n"
   ]
  },
  {
   "cell_type": "code",
   "execution_count": null,
   "id": "3300de2b",
   "metadata": {
    "tags": []
   },
   "outputs": [],
   "source": [
    "released_after_2014 = ..."
   ]
  },
  {
   "cell_type": "code",
   "execution_count": null,
   "id": "4809e530",
   "metadata": {
    "deletable": false,
    "editable": false
   },
   "outputs": [],
   "source": [
    "grader.check(\"q1_7\")"
   ]
  },
  {
   "cell_type": "markdown",
   "id": "6a38adbc",
   "metadata": {},
   "source": [
    "## 2. Jobs in Data Salary Analysis"
   ]
  },
  {
   "cell_type": "markdown",
   "id": "af00ebe3",
   "metadata": {},
   "source": [
    "This exercise is designed to give you practice with using the Table methods `.pivot` and `.group`. Here is a link to the [Python Reference Sheet](http://data8.org/sp22/python-reference.html) in case you need a quick refresher. The [Table Function Visualizer](http://data8.org/interactive_table_functions/) may also be a helpful tool.\n",
    "\n",
    "Run the cell below to view a demo on how you can use pivot on a table. (Thank you to past UC Berkeley staff Divyesh Chotai!)"
   ]
  },
  {
   "cell_type": "code",
   "execution_count": null,
   "id": "49064f93",
   "metadata": {
    "execution": {
     "iopub.execute_input": "2022-02-09T23:31:02.851982Z",
     "iopub.status.busy": "2022-02-09T23:31:02.850982Z",
     "iopub.status.idle": "2022-02-09T23:31:02.883975Z",
     "shell.execute_reply": "2022-02-09T23:31:02.884604Z"
    },
    "scrolled": true
   },
   "outputs": [],
   "source": [
    "from IPython.display import YouTubeVideo\n",
    "YouTubeVideo(\"4WzXo8eKLAg\")"
   ]
  },
  {
   "cell_type": "markdown",
   "id": "ffc2a80e",
   "metadata": {},
   "source": [
    "The data source we will use within this portion of the homework is [publicly provided](https://www.kaggle.com/datasets/hummaamqaasim/jobs-in-data) by Kaggle. We have filtered it to retain just the relevant columns and restricted the data to data jobs within the United States. Run the following cell to load our data into a table called `data_jobs`."
   ]
  },
  {
   "cell_type": "code",
   "execution_count": null,
   "id": "fda30f28",
   "metadata": {},
   "outputs": [],
   "source": [
    "data_jobs = Table.read_table(\"data_jobs.csv\").drop(0)\n",
    "data_jobs.show(5)"
   ]
  },
  {
   "cell_type": "code",
   "execution_count": null,
   "id": "1fc7523c",
   "metadata": {},
   "outputs": [],
   "source": [
    "data_jobs.num_rows"
   ]
  },
  {
   "cell_type": "markdown",
   "id": "c64666a3",
   "metadata": {},
   "source": [
    "The table provides information on individuals within the data job landscape, with each entry representing a distinct role in the field.\n",
    "\n",
    "The first four columns describe the individual's job title, job category, salary, and experience level. For example, the individual in the third row of the table is a \"Data Scientist\". We will call this the individual's *position* or *job title*. The job was in a job category called \"Data Science and Research\" (hence the Data Scientist title), and has a salary of 212k (USD) in a Senior-Level role. You will mostly be working with the `job_title` column.\n",
    "\n",
    "The next three columns contain the employment type, work setting, and company size.\n",
    "\n",
    "For this homework, we will be using the following columns:\n",
    "1. `job_title`: The specific title of the job role, like **'Data Scientist'**, **'Data Engineer'**, or **'Data Analyst'**.\n",
    "2. `job_category`: A classification of the job role into broader categories for easier analysis. This might include areas like **'Data Analysis'**, **'Machine Learning'**, **'Data Engineering'**, etc.\n",
    "3. `experience_level`: Classifies the professional experience level of the employee. \n",
    "4. `salary`: The annual gross salary of the role in United States Dollars (USD).\n",
    "\n",
    "\n",
    "Run the following cell to select the relevant columns and create a new table named `jobs`."
   ]
  },
  {
   "cell_type": "code",
   "execution_count": null,
   "id": "44a2d6a3",
   "metadata": {
    "execution": {
     "iopub.execute_input": "2022-02-09T23:31:03.292599Z",
     "iopub.status.busy": "2022-02-09T23:31:03.291702Z",
     "iopub.status.idle": "2022-02-09T23:31:03.363661Z",
     "shell.execute_reply": "2022-02-09T23:31:03.364134Z"
    }
   },
   "outputs": [],
   "source": [
    "jobs = data_jobs.select(\"job_title\", \"job_category\", \"experience_level\",  \"salary\")\n",
    "jobs.show(5)"
   ]
  },
  {
   "cell_type": "markdown",
   "id": "6c138bc4",
   "metadata": {},
   "source": [
    "We want to use this table to generate arrays with the job titles of the members of each **Organization Group**."
   ]
  },
  {
   "cell_type": "markdown",
   "id": "5315bcb4",
   "metadata": {},
   "source": [
    "**Question 1.** Set `job_titles` to a table with two columns. The first column should be called `job_title` and have the name of every \"job title\" once, and the second column should be called `experience` with each row in that second column containing an *array* of the names of all the experience levels within that \"job title\". Don't worry if there are multiple of the same experience levels. **(9 Points)**\n",
    "\n",
    "*Hint:* Think about how `group` works: it collects values into an array and then applies a function to that array. We have defined two functions below for you, and you will need to use one of them in your call to `group`. \n"
   ]
  },
  {
   "cell_type": "code",
   "execution_count": null,
   "id": "7465d884",
   "metadata": {
    "execution": {
     "iopub.execute_input": "2022-02-09T23:31:03.411336Z",
     "iopub.status.busy": "2022-02-09T23:31:03.371189Z",
     "iopub.status.idle": "2022-02-09T23:31:04.539757Z",
     "shell.execute_reply": "2022-02-09T23:31:04.539023Z"
    },
    "tags": []
   },
   "outputs": [],
   "source": [
    "# Pick one of the two functions defined below in your call to group.\n",
    "def first_item(array):\n",
    "    '''Returns the first item'''\n",
    "    return array.item(0)\n",
    "\n",
    "def full_array(array):\n",
    "    '''Returns the array that is passed through'''\n",
    "    return array \n",
    "\n",
    "# Make a call to group using one of the functions above when you define job_titles\n",
    "job_titles = ...\n",
    "job_titles"
   ]
  },
  {
   "cell_type": "code",
   "execution_count": null,
   "id": "ac08caa8",
   "metadata": {
    "deletable": false,
    "editable": false
   },
   "outputs": [],
   "source": [
    "grader.check(\"q2_1\")"
   ]
  },
  {
   "cell_type": "markdown",
   "id": "21ddd24d",
   "metadata": {},
   "source": [
    "#### Understanding the code you just wrote in 2.1 is important for moving forward with the class! If you made a lucky guess, take some time to look at the code, step by step. Office hours is always a great resource!"
   ]
  },
  {
   "cell_type": "markdown",
   "id": "2f148371",
   "metadata": {},
   "source": [
    "<!-- BEGIN QUESTION -->\n",
    "\n",
    "**Question 2.** At the moment, the `job_title` column of the `jobs` table is not sorted (no particular order). Would the arrays you generated in the `job_title` column of the previous question be the same if we had sorted alphabetically instead before generating them? Explain your answer. To receive full credit, your answer should reference *how* the `.group` method works, and how sorting the `job_title` column would affect this.  **(8 Points)**\n",
    "\n",
    "*Note:* Two arrays are the **same** if they contain the same number of elements and the elements located at corresponding indexes in the two arrays are identical. An example of arrays that are NOT the same: `array([1,2]) != array([2,1])`.\n"
   ]
  },
  {
   "cell_type": "markdown",
   "id": "82c2cf02",
   "metadata": {},
   "source": [
    "_Type your answer here, replacing this text._"
   ]
  },
  {
   "cell_type": "markdown",
   "id": "692216cf",
   "metadata": {},
   "source": [
    "<!-- END QUESTION -->\n",
    "\n",
    "**Question 3.** Set `title_ranges` to a table containing experience levels as the rows, and the job title groups as the columns. The values in the rows should correspond to a total salary range, where range is defined as the **difference between the highest total salary and the lowest total salary in the experience level for that job title**. **(9 Points)**\n",
    "\n",
    "*Hint 1:* First you'll need to define a new function `salary_range` which takes in an array of salaries and returns the range of salaries in that array.\n",
    "\n",
    "*Hint 2:* What table function allows you to specify the rows and columns of a new table? You probably watched a video on it earlier in the homework!\n"
   ]
  },
  {
   "cell_type": "code",
   "execution_count": null,
   "id": "03461dbd",
   "metadata": {
    "tags": []
   },
   "outputs": [],
   "source": [
    "# Define salary_range first\n",
    "...\n",
    "    ...\n",
    "\n",
    "title_ranges = ...\n",
    "title_ranges"
   ]
  },
  {
   "cell_type": "code",
   "execution_count": null,
   "id": "8fe7a9b3",
   "metadata": {
    "deletable": false,
    "editable": false
   },
   "outputs": [],
   "source": [
    "grader.check(\"q2_3\")"
   ]
  },
  {
   "cell_type": "markdown",
   "id": "28a81da0",
   "metadata": {},
   "source": [
    "<!-- BEGIN QUESTION -->\n",
    "\n",
    "**Question 4.** Give an explanation as to why some of the row values are `0` in the `title_ranges` table from the previous question. **(8 Points)**\n"
   ]
  },
  {
   "cell_type": "markdown",
   "id": "db931350",
   "metadata": {},
   "source": [
    "_Type your answer here, replacing this text._"
   ]
  },
  {
   "cell_type": "markdown",
   "id": "ce5b4d0e",
   "metadata": {},
   "source": [
    "<!-- END QUESTION -->\n",
    "\n",
    "**Question 5.** Find the number of job titles appearing in the `jobs` table that have an average total salary of less than 100,000 dollars; assign this value to the variable `num_under_100k`. **(9 Points)**\n",
    "\n",
    "*Hint:* The variable names provided are meant to help guide the intermediate steps and general thought process. Feel free to delete them if you'd prefer to start from scratch, but make sure your final answer is assigned to `num_under_100k`!\n"
   ]
  },
  {
   "cell_type": "code",
   "execution_count": null,
   "id": "811f6d2f",
   "metadata": {
    "execution": {
     "iopub.execute_input": "2022-02-09T23:31:06.295690Z",
     "iopub.status.busy": "2022-02-09T23:31:06.294760Z",
     "iopub.status.idle": "2022-02-09T23:31:07.380145Z",
     "shell.execute_reply": "2022-02-09T23:31:07.379724Z"
    },
    "tags": []
   },
   "outputs": [],
   "source": [
    "title_and_salary = ...\n",
    "avg_of_title = ...\n",
    "num_under_100k = ...\n",
    "num_under_100k"
   ]
  },
  {
   "cell_type": "code",
   "execution_count": null,
   "id": "71b21a7f",
   "metadata": {
    "deletable": false,
    "editable": false
   },
   "outputs": [],
   "source": [
    "grader.check(\"q2_5\")"
   ]
  },
  {
   "cell_type": "markdown",
   "id": "d7799fad",
   "metadata": {},
   "source": [
    "You're done with Homework 4!  \n",
    "\n",
    "**Important submission steps:** \n",
    "1. Run the tests and verify that they all pass.\n",
    "2. Choose **Save Notebook** from the **File** menu, then **run the final cell**. \n",
    "3. Click the link to download the zip file.\n",
    "4. Then submit the zip file to the corresponding assignment according to your instructor's directions. \n",
    "\n",
    "**It is your responsibility to make sure your work is saved before running the last cell.**"
   ]
  },
  {
   "cell_type": "code",
   "execution_count": null,
   "id": "b2fa2d1d",
   "metadata": {},
   "outputs": [],
   "source": []
  },
  {
   "cell_type": "markdown",
   "id": "6096322d",
   "metadata": {
    "deletable": false,
    "editable": false
   },
   "source": [
    "## Submission\n",
    "\n",
    "Make sure you have run all cells in your notebook in order before running the cell below, so that all images/graphs appear in the output. The cell below will generate a zip file for you to submit. **Please save before exporting!**"
   ]
  },
  {
   "cell_type": "code",
   "execution_count": null,
   "id": "9f03673a",
   "metadata": {
    "deletable": false,
    "editable": false
   },
   "outputs": [],
   "source": [
    "# Save your notebook first, then run this cell to export your submission.\n",
    "grader.export(pdf=False, run_tests=True)"
   ]
  },
  {
   "cell_type": "markdown",
   "id": "8df61585",
   "metadata": {},
   "source": [
    " "
   ]
  }
 ],
 "metadata": {
  "celltoolbar": "Edit Metadata",
  "kernelspec": {
   "display_name": "Python 3 (ipykernel)",
   "language": "python",
   "name": "python3"
  },
  "language_info": {
   "codemirror_mode": {
    "name": "ipython",
    "version": 3
   },
   "file_extension": ".py",
   "mimetype": "text/x-python",
   "name": "python",
   "nbconvert_exporter": "python",
   "pygments_lexer": "ipython3",
   "version": "3.10.11"
  },
  "otter": {
   "OK_FORMAT": true,
   "tests": {
    "q1_1": {
     "name": "q1_1",
     "points": [
      0,
      0
     ],
     "suites": [
      {
       "cases": [
        {
         "code": ">>> # Make sure you have all the columns from both tables\n>>> set([\"Name\", \"Platform\", \"Year\", \"Genre\", \"Publisher\", \"NA_Sales\",\"EU_Sales\",\"Global_Sales\"]) == set(games.labels)\nTrue",
         "hidden": false,
         "locked": false
        },
        {
         "code": ">>> games.num_rows == 34373\nTrue",
         "hidden": false,
         "locked": false
        }
       ],
       "scored": true,
       "setup": "",
       "teardown": "",
       "type": "doctest"
      }
     ]
    },
    "q1_2": {
     "name": "q1_2",
     "points": null,
     "suites": [
      {
       "cases": [
        {
         "code": ">>> # Make sure you are using the correct table! \n>>> na_and_eu.num_rows == 34373\nTrue",
         "hidden": false,
         "locked": false
        }
       ],
       "scored": true,
       "setup": "",
       "teardown": "",
       "type": "doctest"
      }
     ]
    },
    "q1_4": {
     "name": "q1_4",
     "points": [
      1,
      1
     ],
     "suites": [
      {
       "cases": [
        {
         "code": ">>> # Number of columns should be 2\n>>> fifa_games.num_columns == 2\nTrue",
         "hidden": false,
         "locked": false
        },
        {
         "code": ">>> # Number of rows should be 39\n>>> fifa_games.num_rows == 38\nTrue",
         "hidden": false,
         "locked": false
        }
       ],
       "scored": true,
       "setup": "",
       "teardown": "",
       "type": "doctest"
      }
     ]
    },
    "q1_5": {
     "name": "q1_5",
     "points": [
      0
     ],
     "suites": [
      {
       "cases": [
        {
         "code": ">>> # Your answer should be a string\n>>> type(lowest_sold_fifa_game) == str\nTrue",
         "hidden": false,
         "locked": false
        }
       ],
       "scored": true,
       "setup": "",
       "teardown": "",
       "type": "doctest"
      }
     ]
    },
    "q1_7": {
     "name": "q1_7",
     "points": [
      0
     ],
     "suites": [
      {
       "cases": [
        {
         "code": ">>> # Your answer should be between 0 and 100.\n>>> 0 <= released_after_2014 <= 100\nTrue",
         "hidden": false,
         "locked": false
        }
       ],
       "scored": true,
       "setup": "",
       "teardown": "",
       "type": "doctest"
      }
     ]
    },
    "q2_1": {
     "name": "q2_1",
     "points": [
      0,
      0,
      0,
      0
     ],
     "suites": [
      {
       "cases": [
        {
         "code": ">>> job_titles.num_columns\n2",
         "hidden": false,
         "locked": false
        },
        {
         "code": ">>> job_titles.num_rows\n101",
         "hidden": false,
         "locked": false
        },
        {
         "code": ">>> # Make sure that you have the correct column labels!\n>>> np.asarray(job_titles.labels).item(1) != \"experience level full_array\"\nTrue",
         "hidden": false,
         "locked": false
        },
        {
         "code": ">>> # Make sure that you have the correct column labels!\n>>> np.asarray(job_titles.labels).item(1) == \"experience\"\nTrue",
         "hidden": false,
         "locked": false
        }
       ],
       "scored": true,
       "setup": "",
       "teardown": "",
       "type": "doctest"
      }
     ]
    },
    "q2_3": {
     "name": "q2_3",
     "points": [
      0,
      0,
      2
     ],
     "suites": [
      {
       "cases": [
        {
         "code": ">>> # Double check that your salary_range function is correct\n>>> salary_range(make_array(5, 1, 20, 1000)) == 999\nTrue",
         "hidden": false,
         "locked": false
        },
        {
         "code": ">>> # Make sure that the table has experience levels as the rows and job titles as the columns.\n>>> set([\"experience_level\",\"AI Architect\",\"AI Developer\",\"AI Engineer\",\"AI Scientist\",\"AWS Data Architect\",\"Analytics Engineer\",\"Applied Data Scientist\",\"Applied Machine Learning Engineer\",\"Applied Machine Learning Scientist\",\"Applied Scientist\",\"BI Analyst\",\"BI Data Analyst\",\"BI Data Engineer\",\"BI Developer\",\"Big Data Engineer\",\"Business Data Analyst\",\"Business Intelligence Analyst\",\"Business Intelligence Data Analyst\",\"Business Intelligence Developer\",\"Business Intelligence Engineer\",\"Business Intelligence Manager\",\"Business Intelligence Specialist\",\"Cloud Data Architect\",\"Cloud Database Engineer\",\"Compliance Data Analyst\",\"Computer Vision Engineer\",\"Computer Vision Software Engineer\",\"Data Analyst\",\"Data Analytics Consultant\",\"Data Analytics Engineer\",\"Data Analytics Lead\",\"Data Analytics Manager\",\"Data Analytics Specialist\",\"Data Architect\",\"Data Developer\",\"Data Engineer\",\"Data Infrastructure Engineer\",\"Data Integration Engineer\",\"Data Integration Specialist\",\"Data Lead\",\"Data Management Analyst\",\"Data Management Specialist\",\"Data Manager\",\"Data Modeler\",\"Data Operations Analyst\",\"Data Operations Engineer\",\"Data Operations Manager\",\"Data Operations Specialist\",\"Data Product Manager\",\"Data Quality Analyst\",\"Data Quality Engineer\",\"Data Science Consultant\",\"Data Science Director\",\"Data Science Engineer\",\"Data Science Lead\",\"Data Science Manager\",\"Data Science Practitioner\",\"Data Science Tech Lead\",\"Data Scientist\",\"Data Scientist Lead\",\"Data Specialist\",\"Data Strategist\",\"Data Strategy Manager\",\"Data Visualization Analyst\",\"Data Visualization Engineer\",\"Data Visualization Specialist\",\"Decision Scientist\",\"Deep Learning Engineer\",\"Director of Data Science\",\"ETL Developer\",\"Financial Data Analyst\",\"Head of Data\",\"Head of Data Science\",\"Head of Machine Learning\",\"Lead Data Analyst\",\"Lead Data Engineer\",\"Lead Data Scientist\",\"ML Engineer\",\"MLOps Engineer\",\"Machine Learning Developer\",\"Machine Learning Engineer\",\"Machine Learning Infrastructure Engineer\",\"Machine Learning Manager\",\"Machine Learning Modeler\",\"Machine Learning Researcher\",\"Machine Learning Scientist\",\"Machine Learning Software Engineer\",\"Manager Data Management\",\"Managing Director Data Science\",\"NLP Engineer\",\"Principal Data Analyst\",\"Principal Data Engineer\",\"Principal Data Scientist\",\"Principal Machine Learning Engineer\",\"Product Data Analyst\",\"Research Analyst\",\"Research Engineer\",\"Research Scientist\",\"Software Data Engineer\",\"Staff Data Scientist\",\"Staff Machine Learning Engineer\"]) == set(title_ranges.labels)\nTrue",
         "hidden": false,
         "locked": false
        },
        {
         "code": ">>> sum(title_ranges.column(1))\n183100",
         "hidden": false,
         "locked": false
        }
       ],
       "scored": true,
       "setup": "",
       "teardown": "",
       "type": "doctest"
      }
     ]
    },
    "q2_5": {
     "name": "q2_5",
     "points": [
      2,
      2
     ],
     "suites": [
      {
       "cases": [
        {
         "code": ">>> # Make sure that your final answer is a number\n>>> isinstance(num_under_100k, int)\nTrue",
         "hidden": false,
         "locked": false
        },
        {
         "code": ">>> # Make sure that your answer makes sense given the jobs table\n>>> 0 <= num_under_100k <= 101\nTrue",
         "hidden": false,
         "locked": false
        }
       ],
       "scored": true,
       "setup": "",
       "teardown": "",
       "type": "doctest"
      }
     ]
    }
   }
  }
 },
 "nbformat": 4,
 "nbformat_minor": 5
}
