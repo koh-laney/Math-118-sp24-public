{
 "cells": [
  {
   "cell_type": "code",
   "execution_count": null,
   "id": "dd5dd73d",
   "metadata": {
    "deletable": false,
    "editable": false
   },
   "outputs": [],
   "source": [
    "# Initialize Otter\n",
    "import otter\n",
    "grader = otter.Notebook(\"hw05.ipynb\")"
   ]
  },
  {
   "cell_type": "markdown",
   "id": "75ff5c71",
   "metadata": {},
   "source": [
    "# Homework 5: Applying Functions and Iteration\n",
    "\n",
    "Please complete this notebook by filling in the cells provided. Before you begin, execute the previous cell to load the provided tests."
   ]
  },
  {
   "cell_type": "markdown",
   "id": "3f8d97d3",
   "metadata": {},
   "source": [
    "**Helpful Resource:**\n",
    "- [Python Reference](http://data8.org/sp22/python-reference.html): Cheat sheet of helpful array & table methods used in Data 8!\n",
    "\n",
    "**Recommended Readings**: \n",
    "\n",
    "* [Tabular Thinking Guide](https://drive.google.com/file/d/13HaWu4rrjeowEOs6S_vaQGM3GremzXQ3/view?usp=sharing)\n",
    "* [Applying Functions](https://www.inferentialthinking.com/chapters/08/1/Applying_a_Function_to_a_Column.html)\n",
    "* [Conditionals](https://www.inferentialthinking.com/chapters/09/1/Conditional_Statements.html)\n",
    "* [Iteration](https://www.inferentialthinking.com/chapters/09/2/Iteration.html)"
   ]
  },
  {
   "cell_type": "markdown",
   "id": "55cb5b7e",
   "metadata": {},
   "source": [
    "Please complete this notebook by filling in the cells provided. Before you begin, execute the following cell to setup the notebook by importing some helpful libraries. Each time you start your server, you will need to execute this cell again.\n",
    "\n",
    "For all problems that you must write explanations and sentences for, you **must** provide your answer in the designated space. **Moreover, throughout this homework and all future ones, please be sure to not re-assign variables throughout the notebook!** For example, if you use `max_temperature` in your answer to one question, do not reassign it later on. Otherwise, you will fail tests that you thought you were passing previously!\n",
    "\n",
    "\n",
    "**Note: This homework has hidden tests on it. That means even though the tests may say 100% passed, it doesn't mean your final grade will be 100%. We will be running more tests for correctness once everyone turns in the homework.**\n",
    "\n",
    "\n",
    "Directly sharing answers is not okay, but discussing problems with the course staff or with other students is encouraged. \n",
    "\n",
    "You should start early so that you have time to get help if you're stuck."
   ]
  },
  {
   "cell_type": "markdown",
   "id": "3ecd46db",
   "metadata": {},
   "source": [
    "## 1. NBA Los Angeles Lakers Season"
   ]
  },
  {
   "cell_type": "code",
   "execution_count": null,
   "id": "27820810",
   "metadata": {
    "execution": {
     "iopub.execute_input": "2022-02-16T22:50:19.972612Z",
     "iopub.status.busy": "2022-02-16T22:50:19.971675Z",
     "iopub.status.idle": "2022-02-16T22:50:21.473863Z",
     "shell.execute_reply": "2022-02-16T22:50:21.474499Z"
    }
   },
   "outputs": [],
   "source": [
    "# Run this cell to set up the notebook, but please don't change it.\n",
    "\n",
    "# These lines import the numpy and datascience modules.\n",
    "import numpy as np\n",
    "from datascience import *\n",
    "import d8error\n",
    "import warnings\n",
    "warnings.simplefilter('ignore', FutureWarning)"
   ]
  },
  {
   "cell_type": "markdown",
   "id": "ef491e2e",
   "metadata": {},
   "source": [
    "Magic Johnson, former NBA player, and Laker legend, is trying to analyze how well the Los Angeles Lakers (LAL) performed from the 80s when he played to the 2010s when Kobe Bryant played. The table below has several columns detailing \"Home Wins\", \"Home Loss\", \"Away Wins\", \"Away loss\" of the history of the LAL from 1980 - 2010. The number of wins and losses that the Lakers have historically accumulated is stored in a table called `NBA Updated.csv`."
   ]
  },
  {
   "cell_type": "code",
   "execution_count": null,
   "id": "8488e9a4",
   "metadata": {},
   "outputs": [],
   "source": [
    "#DO NOT EDIT\n",
    "# Just run this cell\n",
    "# Read in the \"NBA Updated.csv\" csv file\n",
    "LAL_record = Table().read_table(\"NBA Updated.csv\").where(\"Year\", are.above(1979)).select(\"Year\", \"Team\",\\\n",
    "\"Home Wins\", \"Home Loss\", \"Away Wins\", \"Away Loss\").where(\"Team\", \"Los Angeles Lakers\").\\\n",
    "relabeled(\"Home Loss\", \"Home Losses\").relabeled(\"Away Loss\", \"Away Losses\")\n",
    "LAL_record.show()"
   ]
  },
  {
   "cell_type": "markdown",
   "id": "e3d6ef96",
   "metadata": {},
   "source": [
    "Each season, the LA Lakers accumulate wins from both home and away games, as well as losses from home and away games. Let's start by finding the total wins and losses for each season. \n",
    "\n",
    "**Question 1.** Write a function called `partial_record`.  It should take two arguments, each argument representing the number of home wins and away wins (or home losses and away losses) for the LA Lakers in a particular season. The function should return a partial record of wins (or losses) for that season. **(20 Points)**\n",
    "\n",
    "*Note:* Don't overthink this question!\n",
    "\n",
    "*Note:* Each row represents a season!\n",
    "\n",
    "*Note:* It is partial record because you are only looking for total wins **OR** total losses."
   ]
  },
  {
   "cell_type": "code",
   "execution_count": null,
   "id": "737977cb",
   "metadata": {
    "execution": {
     "iopub.execute_input": "2022-02-16T22:50:21.500140Z",
     "iopub.status.busy": "2022-02-16T22:50:21.499476Z",
     "iopub.status.idle": "2022-02-16T22:50:21.503043Z",
     "shell.execute_reply": "2022-02-16T22:50:21.502615Z"
    },
    "tags": []
   },
   "outputs": [],
   "source": [
    "def partial_record(...):\n",
    "    '''Returns the partial record calculated by adding up the home and away wins (or home and away losses) each year'''\n",
    "    ...\n",
    "\n",
    "partial_record(30, 27) #DO NOT CHANGE THIS LINE"
   ]
  },
  {
   "cell_type": "code",
   "execution_count": null,
   "id": "3a7676eb",
   "metadata": {
    "deletable": false,
    "editable": false
   },
   "outputs": [],
   "source": [
    "grader.check(\"q1_1\")"
   ]
  },
  {
   "cell_type": "markdown",
   "id": "6a083e46",
   "metadata": {},
   "source": [
    "**Question 2.** Create a new table `final_record` with three columns in this *specific* order: `Year`, `Wins`, and `Losses`. You will have to create the `Wins` and `Losses` columns. Use the function `partial_record` you just defined in the previous question for this problem. **(20 Points)**\n",
    "\n",
    "*Hint:* If you want to apply a function that takes in multiple arguments, you can pass multiple column names as arguments in `tbl.apply()`. The column values will be passed into the corresponding arguments of the function. Take a look at the Python Reference Sheet and Lecture 13's demo for syntax.\n",
    "\n",
    "*Note:* If you’re running into issues creating `final_record`, check that `Wins` and `Losses` output what you want. \n"
   ]
  },
  {
   "cell_type": "code",
   "execution_count": null,
   "id": "c1d73302",
   "metadata": {
    "execution": {
     "iopub.execute_input": "2022-02-16T22:50:21.528539Z",
     "iopub.status.busy": "2022-02-16T22:50:21.527939Z",
     "iopub.status.idle": "2022-02-16T22:50:21.532020Z",
     "shell.execute_reply": "2022-02-16T22:50:21.531493Z"
    },
    "tags": []
   },
   "outputs": [],
   "source": [
    "lal_wins = LAL_record.apply(partial_record, \"Home Wins\", \"Away Wins\", )\n",
    "lal_losses = LAL_record.apply(partial_record, \"Home Losses\", \"Away Losses\")\n",
    "final_record = ...\n",
    "final_record.show()"
   ]
  },
  {
   "cell_type": "code",
   "execution_count": null,
   "id": "af5cd6e2",
   "metadata": {
    "deletable": false,
    "editable": false
   },
   "outputs": [],
   "source": [
    "grader.check(\"q1_2\")"
   ]
  },
  {
   "cell_type": "markdown",
   "id": "d2737a1c",
   "metadata": {},
   "source": [
    "We can get specific row objects from a table. You can use `tbl.row(n)` to get the `n`th row of a table. `row.item(\"column_name\")` will allow you to select the element that corresponds to `column_name` in a particular row. Here's an example:"
   ]
  },
  {
   "cell_type": "code",
   "execution_count": null,
   "id": "745c0402",
   "metadata": {},
   "outputs": [],
   "source": [
    "# Just run this cell\n",
    "LAL_record.row(23).item(\"Away Wins\")"
   ]
  },
  {
   "cell_type": "code",
   "execution_count": null,
   "id": "cc21b3c2",
   "metadata": {},
   "outputs": [],
   "source": []
  },
  {
   "cell_type": "markdown",
   "id": "ed0ca1ab",
   "metadata": {},
   "source": [
    "**Question 3.** We want to see for a particular season whether the LA Lakers had a losing season (more losses than wins). Write a function called `did_lal_lose`.  It should take one argument: a **row object** from the `final_record` table. It should return either `True` if LAL's losses were more than their wins, and `False` otherwise. **(20 Points)**\n",
    "\n",
    "*Note 1*: \"Row object\" means a row from the table that contains all the data for that specific row. It is **not** the index of a row. Do not try and call `final_record.row(row)` inside of the function.\n",
    "\n",
    "\n",
    "*Note 2*: If you still need clarification on row objects, try printing out final_record.row(1) in a new cell to see what it looks like visually! This piece of code pulls out the row object located at index 1 of the final_record table and returns it. When you display it in a cell, you'll see that it is not located within a table, but is instead a standalone row object!\n"
   ]
  },
  {
   "cell_type": "code",
   "execution_count": null,
   "id": "68767f58",
   "metadata": {
    "execution": {
     "iopub.execute_input": "2022-02-16T22:50:21.606018Z",
     "iopub.status.busy": "2022-02-16T22:50:21.605432Z",
     "iopub.status.idle": "2022-02-16T22:50:21.608945Z",
     "shell.execute_reply": "2022-02-16T22:50:21.608474Z"
    },
    "tags": []
   },
   "outputs": [],
   "source": [
    "def did_lal_lose(row):\n",
    "    ...\n",
    "\n",
    "did_lal_lose(final_record.row(14)) #DO NOT CHANGE THIS LINE"
   ]
  },
  {
   "cell_type": "code",
   "execution_count": null,
   "id": "7010ec29",
   "metadata": {
    "deletable": false,
    "editable": false
   },
   "outputs": [],
   "source": [
    "grader.check(\"q1_3\")"
   ]
  },
  {
   "cell_type": "markdown",
   "id": "0e928e3e",
   "metadata": {},
   "source": [
    "**Question 4.** Magic Johnson wants to know the number of winning and losing seasons the Los Angeles Lakers had from 1980 to 2010. **Note: each year is a season.** Using the `final_record` table:\n",
    "\n",
    "1. Assign `season_record` to an array of `True` and `False` values that correspond to whether or not LAL had a losing season.\n",
    "2. Add the `season_record` array to the `final_record` table in a column named `Record`, and assign this to `final_record_with_results`.\n",
    "3. Then, respectively assign the number of wins and losses LAL had to `lal_defeat` and `lal_victory`.\n",
    "\n",
    "**(20 Points)**\n",
    "\n",
    "*Hint 1*: `True` and `False` are **not** strings. What data type are they?\n",
    "\n",
    "*Hint 2*: `tbl.num_rows` might be helpful too.\n",
    "\n",
    "*Hint 3*: When you only pass a function name and no column labels through `tbl.apply()`, the function gets applied to every row in `tbl`.\n",
    "\n"
   ]
  },
  {
   "cell_type": "code",
   "execution_count": null,
   "id": "ca0baf4d",
   "metadata": {
    "execution": {
     "iopub.execute_input": "2022-02-16T22:50:21.640543Z",
     "iopub.status.busy": "2022-02-16T22:50:21.640001Z",
     "iopub.status.idle": "2022-02-16T22:50:21.643598Z",
     "shell.execute_reply": "2022-02-16T22:50:21.642863Z"
    },
    "tags": []
   },
   "outputs": [],
   "source": [
    "season_record = ...\n",
    "final_record_with_results = ...\n",
    "lal_defeat = ...\n",
    "lal_victory = ...\n",
    "\n",
    "\n",
    "#Don't delete or edit the following line:\n",
    "print(f\"Fom 1980 to 2010, the LA Lakers had {lal_victory} winning seasons and {lal_defeat} losing seasons. Go Laker Nation!\")"
   ]
  },
  {
   "cell_type": "code",
   "execution_count": null,
   "id": "bd91f9a3",
   "metadata": {
    "deletable": false,
    "editable": false
   },
   "outputs": [],
   "source": [
    "grader.check(\"q1_4\")"
   ]
  },
  {
   "cell_type": "markdown",
   "id": "06e7b1e2",
   "metadata": {},
   "source": [
    "**Question 5:** Sometimes in the NBA, teams have great seasons where they win most of their games. Other times, they have seasons where they have lost a majority of their games or barely won more games than lost. Let's define a **great season** to be a season in which the LA Lakers won more than 59 games.\n",
    "\n",
    "Use your `final_record` table to assign `great_win_season` to an array to the years that LAL had more that 59 games won. You may find the `is_great_win_season` function defined below helpful to you! **(20 Points)**\n"
   ]
  },
  {
   "cell_type": "code",
   "execution_count": null,
   "id": "79ec089e",
   "metadata": {
    "execution": {
     "iopub.execute_input": "2022-02-16T22:50:21.720329Z",
     "iopub.status.busy": "2022-02-16T22:50:21.719719Z",
     "iopub.status.idle": "2022-02-16T22:50:21.722589Z",
     "shell.execute_reply": "2022-02-16T22:50:21.722968Z"
    },
    "tags": []
   },
   "outputs": [],
   "source": [
    "def is_great_win_season(row):\n",
    "    '''Return a boolean to describe whether or not a season (row) is a great season'''\n",
    "    games_won = row.item(\"Wins\")\n",
    "    \n",
    "    if  games_won > 59:\n",
    "        return True\n",
    "    else:\n",
    "        return False\n",
    "\n",
    "great_win_season = make_array()\n",
    "\n",
    "for row in final_record.rows: # This will help us iterate through rows of final_scores table\n",
    "    great_season = ...\n",
    "   \n",
    "    if is_great_win_season(row):\n",
    "        great_win_season = np.append(great_win_season, great_season)# Do not change this line - Adds character to the end of some_string\n",
    "great_win_season"
   ]
  },
  {
   "cell_type": "code",
   "execution_count": null,
   "id": "bbe79b0a",
   "metadata": {
    "tags": []
   },
   "outputs": [],
   "source": []
  },
  {
   "cell_type": "code",
   "execution_count": null,
   "id": "42b671ff",
   "metadata": {
    "deletable": false,
    "editable": false
   },
   "outputs": [],
   "source": [
    "grader.check(\"q1_5\")"
   ]
  },
  {
   "cell_type": "markdown",
   "id": "a955fd5d",
   "metadata": {},
   "source": [
    "You're done with the required section of Homework 5! Continue on to the optional section for some more practice with iterations and for loops.\n",
    "\n",
    "Make sure to **run the submit cell located at the bottom of this notebook.**"
   ]
  },
  {
   "cell_type": "markdown",
   "id": "d4abf80d",
   "metadata": {},
   "source": [
    "## 2. Unrolling Loops (Optional)"
   ]
  },
  {
   "cell_type": "markdown",
   "id": "c64ed734",
   "metadata": {},
   "source": [
    "**This section of HW5 is optional. Do it for your own practice, but it will not be incorporated into the final grading!**\n",
    "\n",
    "\"Unrolling\" a `for` loop means to manually write out all the code that it executes.  The result is code that does the same thing as the loop, but without the structure of the loop.  For example, for the following loop:\n",
    "\n",
    "    for num in np.arange(3):\n",
    "        print(\"The number is\", num)\n",
    "\n",
    "The unrolled version would look like this:\n",
    "\n",
    "    print(\"The number is\", 0)\n",
    "    print(\"The number is\", 1)\n",
    "    print(\"The number is\", 2)\n",
    "\n",
    "\n",
    "Unrolling a `for` loop is a great way to understand what the loop is doing during each step. In this exercise, you'll practice unrolling a `for` loop.\n",
    "\n",
    "\n",
    "In the question below, write code that does the same thing as the given code, but with any `for` loops unrolled.  It's a good idea to run both your answer and the original code to verify that they do the same thing.  (Of course, if the code does something random, you'll get a different random outcome than the original code!)"
   ]
  },
  {
   "cell_type": "markdown",
   "id": "eb3fd468",
   "metadata": {},
   "source": [
    "**Optional Question 1.** Unroll the code below."
   ]
  },
  {
   "cell_type": "code",
   "execution_count": null,
   "id": "2c0fed2b",
   "metadata": {
    "execution": {
     "iopub.execute_input": "2022-02-16T22:50:21.751270Z",
     "iopub.status.busy": "2022-02-16T22:50:21.750621Z",
     "iopub.status.idle": "2022-02-16T22:50:21.787773Z",
     "shell.execute_reply": "2022-02-16T22:50:21.787271Z"
    },
    "tags": []
   },
   "outputs": [],
   "source": [
    "for joke_iteration in np.arange(3):\n",
    "    print(\"Knock, knock.\")\n",
    "    print(\"Who's there?\")\n",
    "    print(\"Banana.\")\n",
    "    print(\"Banana who?\")\n",
    "print(\"Knock, knock.\")\n",
    "print(\"Who's there?\")\n",
    "print(\"Orange.\")\n",
    "print(\"Orange who?\")\n",
    "print(\"Orange you glad I didn't say banana?\")"
   ]
  },
  {
   "cell_type": "code",
   "execution_count": null,
   "id": "e1d4f4ca",
   "metadata": {
    "execution": {
     "iopub.execute_input": "2022-02-16T22:50:21.794285Z",
     "iopub.status.busy": "2022-02-16T22:50:21.793534Z",
     "iopub.status.idle": "2022-02-16T22:50:21.799135Z",
     "shell.execute_reply": "2022-02-16T22:50:21.798688Z"
    },
    "for_assignment_type": "solution"
   },
   "outputs": [],
   "source": [
    "\"\"\" # BEGIN PROMPT\n",
    "...\n",
    "\"\"\"; # END PROMPT\n",
    "# BEGIN SOLUTION NO PROMPT\n",
    "print(\"Knock, knock.\")\n",
    "print(\"Who's there?\")\n",
    "print(\"Banana.\")\n",
    "print(\"Banana who?\")\n",
    "print(\"Knock, knock.\")\n",
    "print(\"Who's there?\")\n",
    "print(\"Banana.\")\n",
    "print(\"Banana who?\")\n",
    "print(\"Knock, knock.\")\n",
    "print(\"Who's there?\")\n",
    "print(\"Banana.\")\n",
    "print(\"Banana who?\")\n",
    "print(\"Knock, knock.\")\n",
    "print(\"Who's there?\")\n",
    "print(\"Orange.\")\n",
    "print(\"Orange who?\")\n",
    "print(\"Orange you glad I didn't say banana?\")\n",
    "# END SOLUTION"
   ]
  },
  {
   "cell_type": "markdown",
   "id": "96b5fe92",
   "metadata": {},
   "source": [
    "Congratulations, you are done with Homework 5!\n",
    "\n",
    "**Important submission steps:** \n",
    "1. Run the tests and verify that they all pass.\n",
    "2. Choose **Save Notebook** from the **File** menu, then **run the final cell**. \n",
    "3. Click the link to download the zip file.\n",
    "4. Then submit the zip file to the corresponding assignment according to your instructor's directions. \n",
    "\n",
    "**It is your responsibility to make sure your work is saved before running the last cell.** "
   ]
  },
  {
   "cell_type": "code",
   "execution_count": null,
   "id": "3411063f",
   "metadata": {},
   "outputs": [],
   "source": []
  },
  {
   "cell_type": "markdown",
   "id": "71f9e30e",
   "metadata": {
    "deletable": false,
    "editable": false
   },
   "source": [
    "## Submission\n",
    "\n",
    "Make sure you have run all cells in your notebook in order before running the cell below, so that all images/graphs appear in the output. The cell below will generate a zip file for you to submit. **Please save before exporting!**"
   ]
  },
  {
   "cell_type": "code",
   "execution_count": null,
   "id": "e55860e2",
   "metadata": {
    "deletable": false,
    "editable": false
   },
   "outputs": [],
   "source": [
    "# Save your notebook first, then run this cell to export your submission.\n",
    "grader.export(pdf=False, run_tests=True)"
   ]
  },
  {
   "cell_type": "markdown",
   "id": "64cf85ee",
   "metadata": {},
   "source": [
    " "
   ]
  }
 ],
 "metadata": {
  "celltoolbar": "Edit Metadata",
  "kernelspec": {
   "display_name": "Python 3 (ipykernel)",
   "language": "python",
   "name": "python3"
  },
  "language_info": {
   "codemirror_mode": {
    "name": "ipython",
    "version": 3
   },
   "file_extension": ".py",
   "mimetype": "text/x-python",
   "name": "python",
   "nbconvert_exporter": "python",
   "pygments_lexer": "ipython3",
   "version": "3.10.11"
  },
  "otter": {
   "OK_FORMAT": true,
   "tests": {
    "q1_1": {
     "name": "q1_1",
     "points": [
      10,
      10
     ],
     "suites": [
      {
       "cases": [
        {
         "code": ">>> partial_record(13,13)\n26",
         "hidden": false,
         "locked": false
        },
        {
         "code": ">>> partial_record(22,12,)\n34",
         "hidden": false,
         "locked": false
        }
       ],
       "scored": true,
       "setup": "",
       "teardown": "",
       "type": "doctest"
      }
     ]
    },
    "q1_2": {
     "name": "q1_2",
     "points": [
      0,
      0
     ],
     "suites": [
      {
       "cases": [
        {
         "code": ">>> final_record.num_columns\n3",
         "hidden": false,
         "locked": false
        },
        {
         "code": ">>> set(['Year', 'Wins', 'Losses']) == set(final_record.labels)\nTrue",
         "hidden": false,
         "locked": false
        }
       ],
       "scored": true,
       "setup": "",
       "teardown": "",
       "type": "doctest"
      }
     ]
    },
    "q1_3": {
     "name": "q1_3",
     "points": [
      0,
      10
     ],
     "suites": [
      {
       "cases": [
        {
         "code": ">>> 'did_lal_lose' in globals()\nTrue",
         "hidden": false,
         "locked": false
        },
        {
         "code": ">>> did_lal_lose(final_record.row(1))\nFalse",
         "hidden": false,
         "locked": false
        }
       ],
       "scored": true,
       "setup": "",
       "teardown": "",
       "type": "doctest"
      }
     ]
    },
    "q1_4": {
     "name": "q1_4",
     "points": [
      0,
      0
     ],
     "suites": [
      {
       "cases": [
        {
         "code": ">>> 0 <= lal_victory <= 30\nTrue",
         "hidden": false,
         "locked": false
        },
        {
         "code": ">>> 0 <= lal_defeat <= 10\nTrue",
         "hidden": false,
         "locked": false
        }
       ],
       "scored": true,
       "setup": "",
       "teardown": "",
       "type": "doctest"
      }
     ]
    },
    "q1_5": {
     "name": "q1_5",
     "points": [
      5,
      5
     ],
     "suites": [
      {
       "cases": [
        {
         "code": ">>> is_great_win_season(final_record.row(4)) is True\nTrue",
         "hidden": false,
         "locked": false
        },
        {
         "code": ">>> # Make sure big_wins is an array.\n>>> import numpy as np\n>>> type(great_win_season) == np.ndarray\nTrue",
         "hidden": false,
         "locked": false
        }
       ],
       "scored": true,
       "setup": "",
       "teardown": "",
       "type": "doctest"
      }
     ]
    }
   }
  }
 },
 "nbformat": 4,
 "nbformat_minor": 5
}
