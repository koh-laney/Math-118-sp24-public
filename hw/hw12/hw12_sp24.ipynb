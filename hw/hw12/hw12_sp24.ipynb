{
 "cells": [
  {
   "cell_type": "code",
   "execution_count": null,
   "id": "0b74140f",
   "metadata": {
    "deletable": false,
    "editable": false
   },
   "outputs": [],
   "source": [
    "# Initialize Otter\n",
    "import otter\n",
    "grader = otter.Notebook(\"hw12_sp24.ipynb\")"
   ]
  },
  {
   "cell_type": "markdown",
   "id": "8e927e1f",
   "metadata": {},
   "source": [
    "# Homework 12: Classification"
   ]
  },
  {
   "cell_type": "markdown",
   "id": "4a7cd9a2",
   "metadata": {},
   "source": [
    "**Helpful Resource:**\n",
    "\n",
    "- [Python Reference](http://data8.org/sp22/python-reference.html): Cheat sheet of helpful array & table methods used in Data 8!\n",
    "\n",
    "**Recommended Reading**: \n",
    "\n",
    "* [Classification](https://www.inferentialthinking.com/chapters/17/Classification.html)"
   ]
  },
  {
   "cell_type": "markdown",
   "id": "27465fc8",
   "metadata": {},
   "source": [
    "Please complete this notebook by filling in the cells provided. Before you begin, execute the following cell to setup the notebook by importing some helpful libraries. Each time you start your server, you will need to execute this cell again.\n",
    "\n",
    "For all problems that you must write explanations and sentences for, you **must** provide your answer in the designated space. **Moreover, throughout this homework and all future ones, please be sure to not re-assign variables throughout the notebook!** For example, if you use `max_temperature` in your answer to one question, do not reassign it later on. Otherwise, you will fail tests that you thought you were passing previously!\n",
    "\n",
    "\n",
    "**Note: This homework has hidden tests on it. That means even though the tests may say 100% passed, it doesn't mean your final grade will be 100%. We will be running more tests for correctness once everyone turns in the homework.**\n",
    "\n",
    "\n",
    "Directly sharing answers is not okay, but discussing problems with the course staff or with other students is encouraged. \n",
    "\n",
    "You should start early so that you have time to get help if you're stuck."
   ]
  },
  {
   "cell_type": "code",
   "execution_count": null,
   "id": "1eb46616",
   "metadata": {
    "execution": {
     "iopub.execute_input": "2022-04-22T03:48:26.317486Z",
     "iopub.status.busy": "2022-04-22T03:48:26.316855Z",
     "iopub.status.idle": "2022-04-22T03:48:27.876568Z",
     "shell.execute_reply": "2022-04-22T03:48:27.875794Z"
    }
   },
   "outputs": [],
   "source": [
    "# Don't change this cell; just run it. \n",
    "\n",
    "import numpy as np\n",
    "from datascience import *\n",
    "import d8error\n",
    "\n",
    "# These lines do some fancy plotting magic\n",
    "import matplotlib\n",
    "%matplotlib inline\n",
    "import matplotlib.pyplot as plt\n",
    "plt.style.use('fivethirtyeight')\n",
    "import warnings\n",
    "warnings.simplefilter('ignore')\n",
    "from datetime import datetime"
   ]
  },
  {
   "cell_type": "markdown",
   "id": "5134f43a",
   "metadata": {},
   "source": [
    "## 1. Nba Team Coordinates with Classification"
   ]
  },
  {
   "cell_type": "markdown",
   "id": "158d2316",
   "metadata": {},
   "source": [
    "Welcome to Homework 12! This homework is about k-Nearest Neighbors classification (k-NN). This topic is covered in depth in Project 3. The purpose of this homework is to reinforce the basics of this method. You can and should reuse a lot of code that you wrote for Project 3 for this homework, or use code from this homework on Project 3!"
   ]
  },
  {
   "cell_type": "markdown",
   "id": "d21ad467",
   "metadata": {},
   "source": [
    "### Our Dearest Neighbors"
   ]
  },
  {
   "cell_type": "markdown",
   "id": "4663b428",
   "metadata": {},
   "source": [
    "Tyla is trying to classify NBA staff as either affiliated with the Golden State Warriors or the Sacramento Kings. To classify these individuals, Tyla has access to the coordinates of their primary residence. First, load in the `staff_coordinates.csv` table.\n",
    "\n"
   ]
  },
  {
   "cell_type": "code",
   "execution_count": null,
   "id": "cf7e1bba",
   "metadata": {},
   "outputs": [],
   "source": [
    "# Just run this cell!\n",
    "location = Table.read_table('staff_coordinates.csv')\n",
    "location.show(5)"
   ]
  },
  {
   "cell_type": "markdown",
   "id": "d94b69f3",
   "metadata": {},
   "source": [
    "As usual, let's investigate our data visually before performing any kind of numerical analysis."
   ]
  },
  {
   "cell_type": "code",
   "execution_count": null,
   "id": "6feadf28",
   "metadata": {},
   "outputs": [],
   "source": [
    "# Just run this cell!\n",
    "location.scatter(\"longitude\", \"latitude\", group=\"team\")"
   ]
  },
  {
   "cell_type": "markdown",
   "id": "8c37d77f",
   "metadata": {},
   "source": [
    "The locations of the points on this scatter plot might be familiar - run the following cell to see what they correspond to."
   ]
  },
  {
   "cell_type": "code",
   "execution_count": null,
   "id": "adf9d137",
   "metadata": {},
   "outputs": [],
   "source": [
    "# Just run this cell!\n",
    "colors = {\"Golden State Warriors\":\"gold\", \"Sacramento Kings\":\"purple\"}\n",
    "t = Table().with_columns(\"lat\", location.column(0), \n",
    "                                      \"lon\", location.column(1), \n",
    "                                      \"color\", location.apply(colors.get, 2)\n",
    "                        )\n",
    "Circle.map_table(t, radius=5, fill_opacity=1)"
   ]
  },
  {
   "cell_type": "markdown",
   "id": "3f6a85ef",
   "metadata": {},
   "source": [
    "**Question 1.1.** Let's begin implementing the k-Nearest Neighbors algorithm. Define the `distance` function, which takes in two arguments: an array of numerical features (`array1`), and a different array of numerical features (`array2`). The function should return the [Euclidean distance](https://en.wikipedia.org/wiki/Euclidean_distance)  between the two arrays. Euclidean distance is often referred to as the straight-line distance formula that you may have learned previously.  **(10 points)**\n"
   ]
  },
  {
   "cell_type": "code",
   "execution_count": null,
   "id": "3c762109",
   "metadata": {
    "deletable": false,
    "execution": {
     "iopub.execute_input": "2022-04-22T03:48:28.358207Z",
     "iopub.status.busy": "2022-04-22T03:48:28.358004Z",
     "iopub.status.idle": "2022-04-22T03:48:28.364652Z",
     "shell.execute_reply": "2022-04-22T03:48:28.363883Z"
    },
    "tags": []
   },
   "outputs": [],
   "source": [
    "def distance(array1, array2):\n",
    "    ...\n",
    "\n",
    "# Don't change/delete the code below in this cell\n",
    "distance_example = distance(make_array(1, 2, 3), make_array(4, 5, 6))\n",
    "distance_example"
   ]
  },
  {
   "cell_type": "code",
   "execution_count": null,
   "id": "b67c610b",
   "metadata": {
    "deletable": false,
    "editable": false
   },
   "outputs": [],
   "source": [
    "grader.check(\"q1_1\")"
   ]
  },
  {
   "cell_type": "markdown",
   "id": "fd7cc82b",
   "metadata": {},
   "source": [
    "### Splitting the Dataset \n",
    "\n",
    "We'll do two different kinds of things with the `location` dataset:\n",
    "\n",
    "1. We'll build a classifier using coordinates for which we know the associated label; this will teach it to recognize labels of similar coordinate values. This process is known as *training.*\n",
    "2. We'll evaluate or *test* the accuracy of the classifier we build on data we haven't seen before.\n",
    " \n",
    "As discussed in [Section 17.2](https://inferentialthinking.com/chapters/17/2/Training_and_Testing.html#training-and-testing), we want to use separate datasets for *training* and *testing.* As such, we split up our one dataset into two."
   ]
  },
  {
   "cell_type": "markdown",
   "id": "ac69567f",
   "metadata": {},
   "source": [
    "**Question 1.2.** Next, let's split our dataset into a training set and a test set. Since `location` has 200 rows, let's create a training set with the first 150 rows and a test set with the remaining 50 rows. Remember that assignment to each group should be random, so we should shuffle the table first. \n",
    "**(10 points)**\n",
    "\n",
    "*Hint:* As a first step we can shuffle all the rows, then use the `tbl.take` function to split up the rows for each table.\n"
   ]
  },
  {
   "cell_type": "code",
   "execution_count": null,
   "id": "eb50060e",
   "metadata": {
    "execution": {
     "iopub.execute_input": "2022-04-22T03:48:28.384271Z",
     "iopub.status.busy": "2022-04-22T03:48:28.383615Z",
     "iopub.status.idle": "2022-04-22T03:48:28.394265Z",
     "shell.execute_reply": "2022-04-22T03:48:28.393546Z"
    },
    "for_assignment_type": "solution",
    "tags": []
   },
   "outputs": [],
   "source": [
    "shuffled_table = ...\n",
    "training_tbl = ...\n",
    "testing_tbl = ...\n",
    "\n",
    "print(\"Training set:\\t\",   training_tbl.num_rows, \"examples\")\n",
    "print(\"Test set:\\t\",       testing_tbl.num_rows, \"examples\")\n",
    "training_tbl.show(5), testing_tbl.show(5);"
   ]
  },
  {
   "cell_type": "code",
   "execution_count": null,
   "id": "a7646b80",
   "metadata": {
    "deletable": false,
    "editable": false
   },
   "outputs": [],
   "source": [
    "grader.check(\"q1_2\")"
   ]
  },
  {
   "cell_type": "markdown",
   "id": "546cf97c",
   "metadata": {},
   "source": [
    "**Question 1.3.** Assign `attributes` to an array of column names (strings) of the features from the `location` table. ( **(10 points)**\n",
    "\n",
    "*Hint:* Which of the column names in the `location` table are the features, and which of the column names correspond to the class we're trying to predict?\n",
    "\n",
    "*Hint:* No need to modify any tables, just manually create an array of the feature names!"
   ]
  },
  {
   "cell_type": "code",
   "execution_count": null,
   "id": "9e13841d",
   "metadata": {
    "deletable": false,
    "execution": {
     "iopub.execute_input": "2022-04-22T03:48:28.445646Z",
     "iopub.status.busy": "2022-04-22T03:48:28.445435Z",
     "iopub.status.idle": "2022-04-22T03:48:28.450471Z",
     "shell.execute_reply": "2022-04-22T03:48:28.449817Z"
    },
    "tags": []
   },
   "outputs": [],
   "source": [
    "attributes = ...\n",
    "attributes"
   ]
  },
  {
   "cell_type": "code",
   "execution_count": null,
   "id": "9241b5ce",
   "metadata": {
    "deletable": false,
    "editable": false
   },
   "outputs": [],
   "source": [
    "grader.check(\"q1_3\")"
   ]
  },
  {
   "cell_type": "markdown",
   "id": "a2432f45",
   "metadata": {},
   "source": [
    "**Question 1.4.** Now define the `classify` function. This function should take in a `testing_row` from a table like `testing_tbl` and classify it using the k-Nearest Neighbors based on the correct `attributes` and the data in `training_tbl`. A refresher on k-Nearest Neighbors can be found [here](https://www.inferentialthinking.com/chapters/17/4/Implementing_the_Classifier.html). **(10 points)**\n",
    "\n",
    "\n",
    "*Hint 1:* The `distance` function we defined earlier takes in arrays as input, so use the `row_to_array` function we defined for you to convert rows to arrays of features.\n",
    "\n",
    "*Hint 2:* The skeleton code we provided iterates through each row in the training set.\n"
   ]
  },
  {
   "cell_type": "code",
   "execution_count": null,
   "id": "4e5a49e3",
   "metadata": {
    "deletable": false,
    "execution": {
     "iopub.execute_input": "2022-04-22T03:48:28.468750Z",
     "iopub.status.busy": "2022-04-22T03:48:28.468512Z",
     "iopub.status.idle": "2022-04-22T03:48:28.484987Z",
     "shell.execute_reply": "2022-04-22T03:48:28.484004Z"
    },
    "manual_grade": true,
    "manual_problem_id": "sign_lang_2",
    "tags": []
   },
   "outputs": [],
   "source": [
    "def row_to_array(row, attributes):\n",
    "    \"\"\"Converts a row to an array of its features.\"\"\"\n",
    "    arr = make_array()\n",
    "    for attribute in attributes:\n",
    "        arr = np.append(arr, row.item(attribute))\n",
    "    return arr\n",
    "\n",
    "def classify(testing_tbl_row, k, training_tbl):\n",
    "    testing_row_features_array = row_to_array(testing_tbl_row, attributes)\n",
    "    distances = make_array()\n",
    "    for training_row in training_tbl.rows:\n",
    "        training_row_attributes_array = ...\n",
    "        row_distance = ...\n",
    "        distances = ...\n",
    "    train_with_distances = ...\n",
    "    nearest_neighbors = ...\n",
    "    most_common_label = ...\n",
    "    ...\n",
    "\n",
    "# Don't modify/delete the code below\n",
    "first_test = classify(testing_tbl.row(0), 5, training_tbl)\n",
    "first_test"
   ]
  },
  {
   "cell_type": "code",
   "execution_count": null,
   "id": "7ea7758e",
   "metadata": {
    "deletable": false,
    "editable": false
   },
   "outputs": [],
   "source": [
    "grader.check(\"q1_4\")"
   ]
  },
  {
   "cell_type": "markdown",
   "id": "966d850c",
   "metadata": {},
   "source": [
    "<div class=\"hide\">\\pagebreak</div>\n",
    "\n",
    "**Question 1.5.** \n",
    "Define the function `five_classify`, which takes a `row` from the `testing_tbl` set as an argument and classifies the row using a 5-Nearest Neighbors algorithm. After defining this function, use it to determine the `accuracy` of the 5-NN classifier on the entire `testing_tbl` set. Report the `accuracy` as a proportion (not a percentage) of correctly predicted team affiliations.\n",
    "\n",
    "**(10 points)**\n",
    "\n",
    "*Hint:* Make sure to use the distance function you defined earlier to compute the distances between neighbors.\n",
    "\n",
    "*Note:* Typically, before applying a classifier to the test set, we would first validate its performance on a separate validation set. This allows for adjustments to the training approach based on the validation performance before final testing. You won't need to perform this step for this question, but it's an important concept you'll would explore more in advanced courses like Data 100 at UC Berkeley. **(10 points)**"
   ]
  },
  {
   "cell_type": "code",
   "execution_count": null,
   "id": "e1165089",
   "metadata": {
    "deletable": false,
    "execution": {
     "iopub.execute_input": "2022-04-22T03:48:28.542685Z",
     "iopub.status.busy": "2022-04-22T03:48:28.542175Z",
     "iopub.status.idle": "2022-04-22T03:48:28.644268Z",
     "shell.execute_reply": "2022-04-22T03:48:28.643367Z"
    },
    "manual_grade": true,
    "manual_problem_id": "sign_lang_3",
    "tags": []
   },
   "outputs": [],
   "source": [
    "def five_classify(row):\n",
    "    ...\n",
    "\n",
    "test_with_prediction = ...\n",
    "labels_correct = ...\n",
    "accuracy = ...\n",
    "accuracy"
   ]
  },
  {
   "cell_type": "code",
   "execution_count": null,
   "id": "75269e8b",
   "metadata": {
    "deletable": false,
    "editable": false
   },
   "outputs": [],
   "source": [
    "grader.check(\"q1_5\")"
   ]
  },
  {
   "cell_type": "markdown",
   "id": "610731e9",
   "metadata": {},
   "source": [
    "**Question 1.6.** What is the total amount of Golden State Warriors' staff in the `location` table? Assign the value to `k`. **(10 points)**\n"
   ]
  },
  {
   "cell_type": "code",
   "execution_count": null,
   "id": "bc040396",
   "metadata": {
    "execution": {
     "iopub.execute_input": "2022-04-22T03:48:28.681884Z",
     "iopub.status.busy": "2022-04-22T03:48:28.681029Z",
     "iopub.status.idle": "2022-04-22T03:48:28.686863Z",
     "shell.execute_reply": "2022-04-22T03:48:28.686015Z"
    },
    "tags": []
   },
   "outputs": [],
   "source": [
    "k = ...\n",
    "k"
   ]
  },
  {
   "cell_type": "code",
   "execution_count": null,
   "id": "cfca2f4e",
   "metadata": {
    "deletable": false,
    "editable": false
   },
   "outputs": [],
   "source": [
    "grader.check(\"q1_6\")"
   ]
  },
  {
   "cell_type": "markdown",
   "id": "1b7e9e04",
   "metadata": {},
   "source": [
    "<!-- BEGIN QUESTION -->\n",
    "\n",
    "**Question 1.7.** Why do we divide our data into a training and test set? What is the point of a test set, and why do we only want to use the test set once? Explain your answer in 3 sentences or less. **(10 points)**\n",
    "\n",
    "*Hint:* Check out this [section](https://inferentialthinking.com/chapters/17/2/Training_and_Testing.html) in the textbook.\n"
   ]
  },
  {
   "cell_type": "markdown",
   "id": "4208c966",
   "metadata": {},
   "source": [
    "_Type your answer here, replacing this text._"
   ]
  },
  {
   "cell_type": "markdown",
   "id": "4e10b232",
   "metadata": {},
   "source": [
    "<!-- END QUESTION -->\n",
    "\n",
    "<!-- BEGIN QUESTION -->\n",
    "\n",
    "**Question 1.8.** Explain why we would not use `k`= 6 in k-NN. **(10 points)**\n"
   ]
  },
  {
   "cell_type": "markdown",
   "id": "c01a2c41",
   "metadata": {},
   "source": [
    "_Type your answer here, replacing this text._"
   ]
  },
  {
   "cell_type": "markdown",
   "id": "502e1469",
   "metadata": {},
   "source": [
    "<!-- END QUESTION -->\n",
    "\n",
    "**Question 1.9.0. Setup**\n",
    "\n",
    "Thomas has devised a scheme for splitting up the test and training set. For each row from `location`:\n",
    "- Rows for Kings' staff have a 75% chance of being placed in the training set and 25% chance of being placed in the test set.  \n",
    "- Rows for Warriors' staff have a 60% chance of being placed in the training set and 40% chance of being placed in the test set.  \n",
    "\n",
    "\n",
    "*Hint 1:* Remember that there are 100 Warriors' staff and 100 Kings' staff in coordinates.  \n",
    "\n",
    "*Hint 2:* Thomas' last name is Bayes. (So [18.1](https://inferentialthinking.com/chapters/18/1/More_Likely_than_Not_Binary_Classifier.html#bayes-rule) from the textbook may be helpful here!)\n",
    "\n",
    "*Hint 3:* The following tree diagram may be helpful in Questions 1.9.1 and 1.9.2!\n",
    "\n",
    "<img src=\"Kings Warriors training set.png\" width=\"450\">"
   ]
  },
  {
   "cell_type": "markdown",
   "id": "178d66ae",
   "metadata": {},
   "source": [
    "**Question 1.9.1.** Given that a row is in the test set, what is the probability that it corresponds to a Warriors' staff? Assign that probability to `probability_furd`. **(10 points)**\n"
   ]
  },
  {
   "cell_type": "code",
   "execution_count": null,
   "id": "5c005ebe",
   "metadata": {
    "execution": {
     "iopub.execute_input": "2022-04-22T03:48:28.733723Z",
     "iopub.status.busy": "2022-04-22T03:48:28.733486Z",
     "iopub.status.idle": "2022-04-22T03:48:28.738978Z",
     "shell.execute_reply": "2022-04-22T03:48:28.738071Z"
    },
    "tags": []
   },
   "outputs": [],
   "source": [
    "probability_furd = ...\n",
    "probability_furd"
   ]
  },
  {
   "cell_type": "code",
   "execution_count": null,
   "id": "f68c9224",
   "metadata": {
    "deletable": false,
    "editable": false
   },
   "outputs": [],
   "source": [
    "grader.check(\"q1_9_1\")"
   ]
  },
  {
   "cell_type": "raw",
   "id": "a351482e",
   "metadata": {},
   "source": []
  },
  {
   "cell_type": "markdown",
   "id": "729dd4ce",
   "metadata": {},
   "source": [
    "**Question 1.9.2.** Given that a row is Warriors, what is the probability that the staff is in the test set? Assign that probability to `probability_test`. **(10 points)**\n"
   ]
  },
  {
   "cell_type": "code",
   "execution_count": null,
   "id": "b98c18be",
   "metadata": {
    "execution": {
     "iopub.execute_input": "2022-04-22T03:48:28.766714Z",
     "iopub.status.busy": "2022-04-22T03:48:28.766188Z",
     "iopub.status.idle": "2022-04-22T03:48:28.771730Z",
     "shell.execute_reply": "2022-04-22T03:48:28.770892Z"
    },
    "tags": []
   },
   "outputs": [],
   "source": [
    "probability_test = ...\n",
    "probability_test"
   ]
  },
  {
   "cell_type": "code",
   "execution_count": null,
   "id": "20e8e9bb",
   "metadata": {
    "deletable": false,
    "editable": false
   },
   "outputs": [],
   "source": [
    "grader.check(\"q1_9_2\")"
   ]
  },
  {
   "cell_type": "markdown",
   "id": "33db13ee",
   "metadata": {},
   "source": [
    "## (OPTIONAL, NOT IN SCOPE): k-NN for Non-Binary Classification"
   ]
  },
  {
   "cell_type": "markdown",
   "id": "02301c51",
   "metadata": {
    "deletable": false
   },
   "source": [
    "**THIS IS NOT IN SCOPE**. There are no autograder tests for this or code for you to write. It just relies on the function `classify` in Question 1.4. Go ahead and read through this section and run the following cells!\n",
    "\n",
    "In this class, we have taught you how to use the k-NN algorithm to classify data as one of two classes. However, much of the data you will encounter in the real world will not fall nicely into one of two categories. \n",
    "\n",
    "**How can we classify data with non-binary classes?** It turns out we can still use k-NN! That is, we find the distance between a point and all its neighbors, find the nearest neighbors, and take a majority vote among the neighbors to determine this point's class. \n",
    "\n",
    "The only difference is that now the neighboring points have more than two possible classes. This does introduce difficulty because now we have no way of guaranteeing that we will not encounter ties between classes. In the case that we do encounter a tie, we can just arbitrarily choose one of the classes.\n",
    "\n",
    "In fact, you don't even have to modify the code you wrote before at all to enable multi-class classification!"
   ]
  },
  {
   "cell_type": "markdown",
   "id": "e297ef3c",
   "metadata": {
    "deletable": false
   },
   "source": [
    "Let's add some more data to our train table, this time for another NBA facility, staff for the Stockton Kings."
   ]
  },
  {
   "cell_type": "code",
   "execution_count": null,
   "id": "048ac303",
   "metadata": {
    "execution": {
     "iopub.execute_input": "2022-04-22T03:48:28.835112Z",
     "iopub.status.busy": "2022-04-22T03:48:28.834447Z",
     "iopub.status.idle": "2022-04-22T03:48:28.840404Z",
     "shell.execute_reply": "2022-04-22T03:48:28.839725Z"
    }
   },
   "outputs": [],
   "source": [
    "location_multi = location.with_rows([\n",
    "    [37.960108, -121.290780, \"Stockton Kings\"],  \n",
    "    [37.959500, -121.291200, \"Stockton Kings\"],  \n",
    "    [37.957400, -121.287600, \"Stockton Kings\"],  \n",
    "    [37.958800, -121.289500, \"Stockton Kings\"],  \n",
    "    [37.960200, -121.292100, \"Stockton Kings\"],  \n",
    "    [37.960600, -121.291800, \"Stockton Kings\"],  \n",
    "    [37.959800, -121.290300, \"Stockton Kings\"],  \n",
    "    [37.959000, -121.291500, \"Stockton Kings\"],  \n",
    "    [37.957900, -121.287800, \"Stockton Kings\"],  \n",
    "    [37.958300, -121.289200, \"Stockton Kings\"]                              \n",
    "])"
   ]
  },
  {
   "cell_type": "code",
   "execution_count": null,
   "id": "e4dc2915",
   "metadata": {
    "deletable": false,
    "execution": {
     "iopub.execute_input": "2022-04-22T03:48:28.843393Z",
     "iopub.status.busy": "2022-04-22T03:48:28.843193Z",
     "iopub.status.idle": "2022-04-22T03:48:28.854557Z",
     "shell.execute_reply": "2022-04-22T03:48:28.853968Z"
    }
   },
   "outputs": [],
   "source": [
    "classify(location_multi.row(0), 5, location_multi)"
   ]
  },
  {
   "cell_type": "code",
   "execution_count": null,
   "id": "8fc7373b",
   "metadata": {
    "deletable": false,
    "execution": {
     "iopub.execute_input": "2022-04-22T03:48:28.857931Z",
     "iopub.status.busy": "2022-04-22T03:48:28.857326Z",
     "iopub.status.idle": "2022-04-22T03:48:28.869333Z",
     "shell.execute_reply": "2022-04-22T03:48:28.868530Z"
    }
   },
   "outputs": [],
   "source": [
    "classify(location_multi.row(140), 5, location_multi)"
   ]
  },
  {
   "cell_type": "code",
   "execution_count": null,
   "id": "0f826c05",
   "metadata": {
    "deletable": false,
    "execution": {
     "iopub.execute_input": "2022-04-22T03:48:28.872869Z",
     "iopub.status.busy": "2022-04-22T03:48:28.872188Z",
     "iopub.status.idle": "2022-04-22T03:48:28.882637Z",
     "shell.execute_reply": "2022-04-22T03:48:28.881904Z"
    }
   },
   "outputs": [],
   "source": [
    "classify(location_multi.row(205), 5, location_multi)"
   ]
  },
  {
   "cell_type": "markdown",
   "id": "9b315a0a",
   "metadata": {},
   "source": [
    "Our classifier can classify rows as belonging to one of three classes!\n",
    "\n",
    "Classification is one of the most important fields in statistics, data science, and machine learning. There are thousands of different classification algorithms and modifications of algorithms! There are many that you'll learn if you continue down the path of becoming a data scientist!"
   ]
  },
  {
   "cell_type": "markdown",
   "id": "1cccce4b",
   "metadata": {},
   "source": [
    "You're all done with Homework 12! :,)\n",
    "\n",
    "**Important submission steps:** \n",
    "1. Run the tests and verify that they all pass.\n",
    "2. Choose **Save Notebook** from the **File** menu, then **run the final cell**. \n",
    "3. Click the link to download the zip file.\n",
    "4. Then submit the zip file to the corresponding assignment according to your instructor's directions. \n",
    "\n",
    "**It is your responsibility to make sure your work is saved before running the last cell.**"
   ]
  },
  {
   "cell_type": "markdown",
   "id": "0f3cb038",
   "metadata": {
    "deletable": false,
    "editable": false
   },
   "source": [
    "## Submission\n",
    "\n",
    "Make sure you have run all cells in your notebook in order before running the cell below, so that all images/graphs appear in the output. The cell below will generate a zip file for you to submit. **Please save before exporting!**"
   ]
  },
  {
   "cell_type": "code",
   "execution_count": null,
   "id": "cb3ff9ed",
   "metadata": {
    "deletable": false,
    "editable": false
   },
   "outputs": [],
   "source": [
    "# Save your notebook first, then run this cell to export your submission.\n",
    "grader.export(pdf=False, run_tests=True)"
   ]
  },
  {
   "cell_type": "markdown",
   "id": "f6ad5fc0",
   "metadata": {},
   "source": [
    " "
   ]
  }
 ],
 "metadata": {
  "celltoolbar": "Edit Metadata",
  "kernelspec": {
   "display_name": "Python 3 (ipykernel)",
   "language": "python",
   "name": "python3"
  },
  "language_info": {
   "codemirror_mode": {
    "name": "ipython",
    "version": 3
   },
   "file_extension": ".py",
   "mimetype": "text/x-python",
   "name": "python",
   "nbconvert_exporter": "python",
   "pygments_lexer": "ipython3",
   "version": "3.10.11"
  },
  "otter": {
   "OK_FORMAT": true,
   "tests": {
    "q1_1": {
     "name": "q1_1",
     "points": [
      0
     ],
     "suites": [
      {
       "cases": [
        {
         "code": ">>> type(distance_example) in set([float, np.float32, np.float64])\nTrue",
         "hidden": false,
         "locked": false
        }
       ],
       "scored": true,
       "setup": "",
       "teardown": "",
       "type": "doctest"
      }
     ]
    },
    "q1_2": {
     "name": "q1_2",
     "points": [
      0,
      0
     ],
     "suites": [
      {
       "cases": [
        {
         "code": ">>> # Double check that you have the correct number of rows for the `training_tbl` table.\n>>> training_tbl.num_rows == 150\nTrue",
         "hidden": false,
         "locked": false
        },
        {
         "code": ">>> # Double check that you have the correct number of rows for the `testing_tbl` table.\n>>> testing_tbl.num_rows == 50\nTrue",
         "hidden": false,
         "locked": false
        }
       ],
       "scored": true,
       "setup": "",
       "teardown": "",
       "type": "doctest"
      }
     ]
    },
    "q1_3": {
     "name": "q1_3",
     "points": [
      0
     ],
     "suites": [
      {
       "cases": [
        {
         "code": ">>> type(attributes) == np.ndarray\nTrue",
         "hidden": false,
         "locked": false
        }
       ],
       "scored": true,
       "setup": "",
       "teardown": "",
       "type": "doctest"
      }
     ]
    },
    "q1_4": {
     "name": "q1_4",
     "points": [
      0
     ],
     "suites": [
      {
       "cases": [
        {
         "code": ">>> type(first_test) == str or type(first_test) == np.str_\nTrue",
         "hidden": false,
         "locked": false
        }
       ],
       "scored": true,
       "setup": "",
       "teardown": "",
       "type": "doctest"
      }
     ]
    },
    "q1_5": {
     "name": "q1_5",
     "points": [
      4
     ],
     "suites": [
      {
       "cases": [
        {
         "code": ">>> sorted_locations = location.sort(\"team\")\n>>> classify(sorted_locations.row(29), 5, training_tbl) == five_classify(sorted_locations.row(29))\nTrue",
         "hidden": false,
         "locked": false
        }
       ],
       "scored": true,
       "setup": "",
       "teardown": "",
       "type": "doctest"
      }
     ]
    },
    "q1_6": {
     "name": "q1_6",
     "points": [
      0
     ],
     "suites": [
      {
       "cases": [
        {
         "code": ">>> # `k` should be an int\n>>> type(k) == int\nTrue",
         "hidden": false,
         "locked": false
        }
       ],
       "scored": true,
       "setup": "",
       "teardown": "",
       "type": "doctest"
      }
     ]
    },
    "q1_9_1": {
     "name": "q1_9_1",
     "points": [
      0,
      0
     ],
     "suites": [
      {
       "cases": [
        {
         "code": ">>> type(probability_furd) in set([float, np.float32, np.float64])\nTrue",
         "hidden": false,
         "locked": false
        },
        {
         "code": ">>> # Should be a decimal, not a percentage\n>>> 0 <= probability_furd <= 1\nTrue",
         "hidden": false,
         "locked": false
        }
       ],
       "scored": true,
       "setup": "",
       "teardown": "",
       "type": "doctest"
      }
     ]
    },
    "q1_9_2": {
     "name": "q1_9_2",
     "points": [
      0,
      0
     ],
     "suites": [
      {
       "cases": [
        {
         "code": ">>> type(probability_test) in set([float, np.float32, np.float64])\nTrue",
         "hidden": false,
         "locked": false
        },
        {
         "code": ">>> # Should be a decimal, not a percentage\n>>> 0 <= probability_test <= 1\nTrue",
         "hidden": false,
         "locked": false
        }
       ],
       "scored": true,
       "setup": "",
       "teardown": "",
       "type": "doctest"
      }
     ]
    }
   }
  }
 },
 "nbformat": 4,
 "nbformat_minor": 5
}
