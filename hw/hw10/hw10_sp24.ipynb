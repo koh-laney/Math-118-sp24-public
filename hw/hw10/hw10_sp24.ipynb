{
 "cells": [
  {
   "cell_type": "code",
   "execution_count": null,
   "id": "8add6efd",
   "metadata": {
    "deletable": false,
    "editable": false
   },
   "outputs": [],
   "source": [
    "# Initialize Otter\n",
    "import otter\n",
    "grader = otter.Notebook(\"hw10_sp24.ipynb\")"
   ]
  },
  {
   "cell_type": "markdown",
   "id": "b434e8a2",
   "metadata": {},
   "source": [
    "# Homework 10: Linear Regression"
   ]
  },
  {
   "cell_type": "markdown",
   "id": "59688e53",
   "metadata": {},
   "source": [
    "**Helpful Resource:**\n",
    "\n",
    "- [Python Reference](http://data8.org/sp22/python-reference.html): Cheat sheet of helpful array & table methods used in Data 8!\n",
    "\n",
    "**Recommended Readings**: \n",
    "\n",
    "* [The Regression Line](https://www.inferentialthinking.com/chapters/15/2/Regression_Line.html)\n",
    "* [Method of Least Squares](https://www.inferentialthinking.com/chapters/15/3/Method_of_Least_Squares.html)\n",
    "* [Least Squares Regression](https://www.inferentialthinking.com/chapters/15/4/Least_Squares_Regression.html)"
   ]
  },
  {
   "cell_type": "markdown",
   "id": "e0a3b767",
   "metadata": {},
   "source": [
    "Please complete this notebook by filling in the cells provided. Before you begin, execute the following cell to setup the notebook by importing some helpful libraries. Each time you start your server, you will need to execute this cell again.\n",
    "\n",
    "For all problems that you must write explanations and sentences for, you **must** provide your answer in the designated space. **Moreover, throughout this homework and all future ones, please be sure to not re-assign variables throughout the notebook!** For example, if you use `max_temperature` in your answer to one question, do not reassign it later on. Otherwise, you will fail tests that you thought you were passing previously!\n",
    "\n",
    "\n",
    "**Note: This homework has hidden tests on it. That means even though the tests may say 100% passed, it doesn't mean your final grade will be 100%. We will be running more tests for correctness once everyone turns in the homework.**\n",
    "\n",
    "\n",
    "Directly sharing answers is not okay, but discussing problems with the course staff or with other students is encouraged. \n",
    "\n",
    "You should start early so that you have time to get help if you're stuck."
   ]
  },
  {
   "cell_type": "code",
   "execution_count": null,
   "id": "59782660",
   "metadata": {
    "execution": {
     "iopub.execute_input": "2022-04-07T03:32:57.413696Z",
     "iopub.status.busy": "2022-04-07T03:32:57.413416Z",
     "iopub.status.idle": "2022-04-07T03:32:58.917362Z",
     "shell.execute_reply": "2022-04-07T03:32:58.916637Z"
    }
   },
   "outputs": [],
   "source": [
    "# Run this cell to set up the notebook, but please don't change it.\n",
    "\n",
    "import numpy as np\n",
    "from datascience import *\n",
    "\n",
    "# These lines do some fancy plotting magic.\n",
    "import matplotlib\n",
    "%matplotlib inline\n",
    "import matplotlib.pyplot as plt\n",
    "plt.style.use('fivethirtyeight')\n",
    "import warnings\n",
    "warnings.simplefilter('ignore', FutureWarning)\n",
    "from datetime import datetime"
   ]
  },
  {
   "cell_type": "markdown",
   "id": "98915e19",
   "metadata": {},
   "source": [
    "## 1. Free Throws vs. 3 Point Shots"
   ]
  },
  {
   "cell_type": "markdown",
   "id": "b43a5214",
   "metadata": {},
   "source": [
    "Does having a skill in one area of basketball shooting imply skill in another? While both [free throws](https://en.wikipedia.org/wiki/Free_throw) and [three-point shots](https://en.wikipedia.org/wiki/Three-point_field_goal) require precision and technique, they differ significantly in their execution. This exercise investigates whether players who excel at free throws also tend to perform well at three-point shots.\n",
    "Since we're learning about linear regression, we will look specifically for a linear association between skill level in the two types of shots.\n",
    "\n",
    "\n",
    "The dataset includes the 2023-2024 free throw percentages (FT %) and three-point percentages (3PT %) for 50 NBA players. We have selected players with the highest free throw percentages to examine if this skill correlates with a high three-point shooting percentage. In the NBA, a three-point percentage over 35% is considered good, and over 40% is considered excellent.\n",
    "\n",
    "\n",
    "\n"
   ]
  },
  {
   "cell_type": "code",
   "execution_count": null,
   "id": "f922b9d0",
   "metadata": {
    "ExecuteTime": {
     "end_time": "2018-04-03T22:42:22.463984Z",
     "start_time": "2018-04-03T22:42:22.455963Z"
    },
    "execution": {
     "iopub.execute_input": "2022-04-07T03:32:58.921192Z",
     "iopub.status.busy": "2022-04-07T03:32:58.920972Z",
     "iopub.status.idle": "2022-04-07T03:32:58.953207Z",
     "shell.execute_reply": "2022-04-07T03:32:58.952354Z"
    }
   },
   "outputs": [],
   "source": [
    "# Run this cell to load the data\n",
    "shots = Table.read_table('three_vs_freethrow.csv').select(\"FT %\",\"3PT %\")\n",
    "shots"
   ]
  },
  {
   "cell_type": "markdown",
   "id": "d1a344c3",
   "metadata": {},
   "source": [
    "**Question 1.1.** Create a function `std_units` that converts the values in the array `data` to standard units. **(5 points)**\n"
   ]
  },
  {
   "cell_type": "code",
   "execution_count": null,
   "id": "6b047b40",
   "metadata": {
    "execution": {
     "iopub.execute_input": "2022-04-07T03:32:58.956818Z",
     "iopub.status.busy": "2022-04-07T03:32:58.956278Z",
     "iopub.status.idle": "2022-04-07T03:32:58.960645Z",
     "shell.execute_reply": "2022-04-07T03:32:58.959860Z"
    },
    "tags": []
   },
   "outputs": [],
   "source": [
    "def std_units(data):\n",
    "    ..."
   ]
  },
  {
   "cell_type": "code",
   "execution_count": null,
   "id": "6b954984",
   "metadata": {
    "deletable": false,
    "editable": false
   },
   "outputs": [],
   "source": [
    "grader.check(\"q1_1\")"
   ]
  },
  {
   "cell_type": "markdown",
   "id": "2fa520f1",
   "metadata": {},
   "source": [
    "**Question 1.2.** Using the `std_units` function created previously, define a new function named `correlation` which computes the correlation coefficient between two arrays, `x` and `y`. **(5 points)**"
   ]
  },
  {
   "cell_type": "code",
   "execution_count": null,
   "id": "e5e14066",
   "metadata": {
    "execution": {
     "iopub.execute_input": "2022-04-07T03:32:58.998339Z",
     "iopub.status.busy": "2022-04-07T03:32:58.997687Z",
     "iopub.status.idle": "2022-04-07T03:32:59.001531Z",
     "shell.execute_reply": "2022-04-07T03:32:59.000809Z"
    },
    "tags": []
   },
   "outputs": [],
   "source": [
    "def correlation(x, y):\n",
    "    ..."
   ]
  },
  {
   "cell_type": "code",
   "execution_count": null,
   "id": "ddac25cb",
   "metadata": {
    "deletable": false,
    "editable": false
   },
   "outputs": [],
   "source": [
    "grader.check(\"q1_2\")"
   ]
  },
  {
   "cell_type": "markdown",
   "id": "6eb50a26",
   "metadata": {},
   "source": [
    "<!-- BEGIN QUESTION -->\n",
    "\n",
    "**Question 1.3.** Visual analysis of data through plotting is a crucial step in statistical analysis as it helps identify patterns, trends, and potential outliers. Effective visualization can provide immediate insights that are not always obvious through numerical methods alone.\n",
    "\n",
    "Task: Create a scatter plot **that includes the regression line**, with the free throw percentages on the horizontal axis and the three-point percentages on vertical axis. **(5 points)**\n",
    "\n",
    "See the documentation on `scatter` [here](http://data8.org/datascience/_autosummary/datascience.tables.Table.scatter.html#datascience.tables.Table.scatter) for instructions on how to have Python draw the regression line automatically.\n",
    "\n",
    "*Hint:* The `fit_line` argument may be useful here!"
   ]
  },
  {
   "cell_type": "code",
   "execution_count": null,
   "id": "8bd0dc83",
   "metadata": {
    "ExecuteTime": {
     "end_time": "2018-04-03T07:28:04.288689Z",
     "start_time": "2018-04-03T07:28:04.108660Z"
    },
    "deletable": false,
    "execution": {
     "iopub.execute_input": "2022-04-07T03:32:59.041336Z",
     "iopub.status.busy": "2022-04-07T03:32:59.041042Z",
     "iopub.status.idle": "2022-04-07T03:32:59.332567Z",
     "shell.execute_reply": "2022-04-07T03:32:59.331877Z"
    },
    "manual_problem_id": "jumping_1",
    "tags": []
   },
   "outputs": [],
   "source": [
    "..."
   ]
  },
  {
   "cell_type": "markdown",
   "id": "cebfb65e",
   "metadata": {},
   "source": [
    "<!-- END QUESTION -->\n",
    "\n",
    "<!-- BEGIN QUESTION -->\n",
    "\n",
    "**Question 1.4.** By examining the scatter plot provided, with free throw percentages (FT %)  on the horizontal axis and three point (3PT %) on the vertical axis, estimate the correlation coefficient r. Does r appear to be closest to 0, 0.5, or -0.5? Justify your answer with an explanation based on the trend observed in the plot.\n",
    "\n",
    " **(5 points)**\n"
   ]
  },
  {
   "cell_type": "markdown",
   "id": "d310fb98",
   "metadata": {},
   "source": [
    "_Type your answer here, replacing this text._"
   ]
  },
  {
   "cell_type": "markdown",
   "id": "b3376b4b",
   "metadata": {},
   "source": [
    "<!-- END QUESTION -->\n",
    "\n",
    "**Question 1.5.** In order to understand the relationship between two basketball statistics, such as free throw percentages (FT%) and three-point percentages (3PT %), it's useful to calculate key regression statistics that summarize this relationship.\n",
    "\n",
    "Develop a function named `compute_regression_stats` that takes in the argument `tbl`, a data table with two columns. The first column is the x-axis (the explanatory variable), and the second column is the y-axis (the response variable). The function should return an array with three elements: **(1) The correlation coefficient** of the two columns, and the **(2) slope** and **(3) intercept** of the regression line that predicts the second column from the first, in original units. **(5 points)**\n",
    "\n",
    "*Hint:* This is a rare occasion where it’s better to implement the function using column indices instead of column names, in order to be able to call this function on any table. If you need a reminder about how to use column indices to pull out individual columns, please refer to [this](https://www.inferentialthinking.com/chapters/06/Tables.html#accessing-the-data-in-a-column) section of the textbook."
   ]
  },
  {
   "cell_type": "code",
   "execution_count": null,
   "id": "ad375b1a",
   "metadata": {
    "ExecuteTime": {
     "end_time": "2018-04-03T22:42:28.451495Z",
     "start_time": "2018-04-03T22:42:28.441469Z"
    },
    "execution": {
     "iopub.execute_input": "2022-04-07T03:32:59.339558Z",
     "iopub.status.busy": "2022-04-07T03:32:59.339319Z",
     "iopub.status.idle": "2022-04-07T03:32:59.346558Z",
     "shell.execute_reply": "2022-04-07T03:32:59.345782Z"
    },
    "for_assignment_type": "solution",
    "tags": []
   },
   "outputs": [],
   "source": [
    "def compute_regression_stats(tbl):\n",
    "    ...\n",
    "    return make_array(r, slope, intercept)\n",
    "\n",
    "constraints = compute_regression_stats(shots) \n",
    "print('r:', constraints.item(0), '; slope:', constraints.item(1), '; intercept:', constraints.item(2))"
   ]
  },
  {
   "cell_type": "code",
   "execution_count": null,
   "id": "e2a2f826",
   "metadata": {
    "deletable": false,
    "editable": false
   },
   "outputs": [],
   "source": [
    "grader.check(\"q1_5\")"
   ]
  },
  {
   "cell_type": "markdown",
   "id": "0f7e6721",
   "metadata": {},
   "source": [
    "**Question 1.6.**: Now suppose you want to go the other way and predict a free throw percentage (FT %) given a three-point percentage (3PT %). Now 3PT % becomes the explanatory variable used to predict FT % the new response variable. How would various regression statistics be affected? Set `regression_changes` equal to an array that includes the numbers of the correct answer choices below. **(5 points)**\n",
    "\n",
    "1) The correlation coefficient will remain unchanged because it only measures the strength and direction of the *linear* relationship between the two variables, regardless of which is the predictor.\n",
    "\n",
    "2) The value of the slope will remain the same because it only reflects the rate of change between the two variables.\n",
    "\n",
    "3) The value of the intercept may change because it is calculated based on the distribution and scale of the predictor variable.\n",
    "\n",
    "4) The units of the slope will not change because the units of the predictor and response variables are independent of each other."
   ]
  },
  {
   "cell_type": "code",
   "execution_count": null,
   "id": "d98fc183",
   "metadata": {
    "execution": {
     "iopub.execute_input": "2022-04-07T03:32:59.385990Z",
     "iopub.status.busy": "2022-04-07T03:32:59.385315Z",
     "iopub.status.idle": "2022-04-07T03:32:59.391551Z",
     "shell.execute_reply": "2022-04-07T03:32:59.390884Z"
    },
    "tags": []
   },
   "outputs": [],
   "source": [
    "regression_change = ...\n",
    "regression_change"
   ]
  },
  {
   "cell_type": "code",
   "execution_count": null,
   "id": "c2970ae0",
   "metadata": {
    "deletable": false,
    "editable": false
   },
   "outputs": [],
   "source": [
    "grader.check(\"q1_6\")"
   ]
  },
  {
   "cell_type": "markdown",
   "id": "8c3c22ff",
   "metadata": {},
   "source": [
    "**Question 1.7.** Let's use `compute_regression_stats` (from Question 1.5) to predict what certain NBA Players' three point percentage (3PT %) would be given their Free Throw percentage (FT %). **(5 points)**\n",
    "\n",
    "The NBA player with the highest free throw percentage (FT %) is Klay Thompson with 92.7%. What is the prediction for Thompson's three point perecentage (3PT %) using this line?\n",
    "\n"
   ]
  },
  {
   "cell_type": "code",
   "execution_count": null,
   "id": "21dd557c",
   "metadata": {
    "deletable": false,
    "execution": {
     "iopub.execute_input": "2022-04-07T03:32:59.451738Z",
     "iopub.status.busy": "2022-04-07T03:32:59.451227Z",
     "iopub.status.idle": "2022-04-07T03:32:59.455759Z",
     "shell.execute_reply": "2022-04-07T03:32:59.454937Z"
    },
    "tags": []
   },
   "outputs": [],
   "source": [
    "free_throw_3pt_est = ...\n",
    "print(\"Predicted free throw percentage: {:.1f}%\".format(np.round(free_throw_3pt_est, 1)))"
   ]
  },
  {
   "cell_type": "code",
   "execution_count": null,
   "id": "531c1176",
   "metadata": {
    "deletable": false,
    "editable": false
   },
   "outputs": [],
   "source": [
    "grader.check(\"q1_7\")"
   ]
  },
  {
   "cell_type": "markdown",
   "id": "d2463b1a",
   "metadata": {},
   "source": [
    "<!-- BEGIN QUESTION -->\n",
    "\n",
    "**Question 1.8.** Is it reliable to use this line to predict three point percentage (3PT %) of players? **(5 points)**\n",
    "\n",
    "*Hint:* Compare Thompson' three point percentage (3PT %)  to the three point percentage in `shots`. Is it relatively similar to the rest of the data (shown in Question 1.3)? \n"
   ]
  },
  {
   "cell_type": "markdown",
   "id": "79d93e5b",
   "metadata": {},
   "source": [
    "_Type your answer here, replacing this text._"
   ]
  },
  {
   "cell_type": "markdown",
   "id": "c1794ebd",
   "metadata": {},
   "source": [
    "<!-- END QUESTION -->\n",
    "\n",
    "## 2. Smartphone Sales"
   ]
  },
  {
   "cell_type": "markdown",
   "id": "79bd3de0",
   "metadata": {},
   "source": [
    "Imagine you're a business analyst in December 2020. Smartphones are essential consumer goods, heavily influencing both technological trends and consumer behavior, and you want to understand the dynamics between competing models!\n",
    "\n",
    "The two most popular smartphone models are Apple's iPhone 12 and Samsung's Galaxy S20. Each model has daily sales figures, reflecting its market demand. For example, on the first day of sales in 2020, the iPhone 12 sold 1,060 units, and the Galaxy S20 sold 991 units.\n",
    "\n",
    "**You want to predict the sales of the Galaxy S20 on any given day based on the sales figures of the iPhone 12.** Below, we load a table called `iphone_vs_galaxy`. This table has 3 columns:\n",
    "* `Date`, the date\n",
    "* `iPhone Sales`,  the number of iPhone 12 units sold on that day,\n",
    "* `Galaxy Sales`,  the number of Galaxy S20 units sold on that day,\n",
    "* `Day`, the number of days since the start of our data"
   ]
  },
  {
   "cell_type": "code",
   "execution_count": null,
   "id": "77460552",
   "metadata": {
    "ExecuteTime": {
     "end_time": "2018-04-04T09:57:46.445990Z",
     "start_time": "2018-04-04T09:57:46.433958Z"
    },
    "execution": {
     "iopub.execute_input": "2022-04-07T03:32:59.497379Z",
     "iopub.status.busy": "2022-04-07T03:32:59.497125Z",
     "iopub.status.idle": "2022-04-07T03:32:59.509256Z",
     "shell.execute_reply": "2022-04-07T03:32:59.508571Z"
    }
   },
   "outputs": [],
   "source": [
    "iphone_vs_galaxy = Table.read_table('iPhone_vs_Galaxy_Sales.csv')\n",
    "iphone_vs_galaxy.show(20)"
   ]
  },
  {
   "cell_type": "markdown",
   "id": "33b52cfe",
   "metadata": {},
   "source": [
    "<!-- BEGIN QUESTION -->\n",
    "\n",
    "**Question 2.1.** In the cell below, create an overlaid scatter plot that visualizes the iPhones sales and Galaxy sales as a function of the day. Both iPhone and Galaxy sales should be plotted on the same graph. **(5 points)**\n",
    "\n",
    "*Hint*: [Section 7.3](https://inferentialthinking.com/chapters/07/3/Overlaid_Graphs.html#overlaid-line-plots) in the textbook might be helpful!\n",
    "\n",
    "*Note:* Think about how comparable iPhone 12 and Galaxy S20 sales are.\n"
   ]
  },
  {
   "cell_type": "code",
   "execution_count": null,
   "id": "02e67db6",
   "metadata": {
    "deletable": false,
    "execution": {
     "iopub.execute_input": "2022-04-07T03:32:59.552465Z",
     "iopub.status.busy": "2022-04-07T03:32:59.551829Z",
     "iopub.status.idle": "2022-04-07T03:32:59.841018Z",
     "shell.execute_reply": "2022-04-07T03:32:59.840150Z"
    },
    "for_assignment_type": "student",
    "tags": []
   },
   "outputs": [],
   "source": [
    "# Create a scatter plot of iPhone Sales and Galaxy Sales as a function of time\n",
    "..."
   ]
  },
  {
   "cell_type": "markdown",
   "id": "5675f8c5",
   "metadata": {},
   "source": [
    "<!-- END QUESTION -->\n",
    "\n",
    "**Question 2.2.** Now, calculate the correlation coefficient between the sales of Apple iPhone 12 and Galaxy S20 using the `correlation` function you defined earlier. **(5 points)**\n"
   ]
  },
  {
   "cell_type": "code",
   "execution_count": null,
   "id": "23faa732",
   "metadata": {
    "ExecuteTime": {
     "end_time": "2018-04-04T09:57:57.365938Z",
     "start_time": "2018-04-04T09:57:57.357879Z"
    },
    "deletable": false,
    "execution": {
     "iopub.execute_input": "2022-04-07T03:32:59.844739Z",
     "iopub.status.busy": "2022-04-07T03:32:59.844079Z",
     "iopub.status.idle": "2022-04-07T03:32:59.850351Z",
     "shell.execute_reply": "2022-04-07T03:32:59.849673Z"
    },
    "tags": []
   },
   "outputs": [],
   "source": [
    "r = ...\n",
    "r"
   ]
  },
  {
   "cell_type": "code",
   "execution_count": null,
   "id": "bf95cad6",
   "metadata": {
    "deletable": false,
    "editable": false
   },
   "outputs": [],
   "source": [
    "grader.check(\"q2_2\")"
   ]
  },
  {
   "cell_type": "markdown",
   "id": "acc7bcc0",
   "metadata": {},
   "source": [
    "**Question 2.3.** Write a function `galaxy_sales_predictor` which takes daily sales figures for the iPhone 12 and predicts the daily sales of the Galaxy S20. Use the function `compute_regression_stats` that you defined earlier in this homework to assist in this process. **(5 points)**\n",
    "\n",
    "*Hint*: Double-check what the `tbl` input to `compute_regression_stats` must look like!\n",
    "\n",
    "*Note*: Ensure that your `galaxy_sales_predictor` function is using least squares linear regression to make predictions.\n",
    "\n"
   ]
  },
  {
   "cell_type": "code",
   "execution_count": null,
   "id": "59365dc0",
   "metadata": {
    "deletable": false,
    "execution": {
     "iopub.execute_input": "2022-04-07T03:32:59.878802Z",
     "iopub.status.busy": "2022-04-07T03:32:59.878510Z",
     "iopub.status.idle": "2022-04-07T03:32:59.883169Z",
     "shell.execute_reply": "2022-04-07T03:32:59.882405Z"
    },
    "tags": []
   },
   "outputs": [],
   "source": [
    "def galaxy_sales_predictor(iPhone_sales):\n",
    "    parameters = ...\n",
    "    slope = ...\n",
    "    intercept = ...\n",
    "    ..."
   ]
  },
  {
   "cell_type": "code",
   "execution_count": null,
   "id": "e2d2ee57",
   "metadata": {
    "deletable": false,
    "editable": false
   },
   "outputs": [],
   "source": [
    "grader.check(\"q2_3\")"
   ]
  },
  {
   "cell_type": "markdown",
   "id": "3391252b",
   "metadata": {},
   "source": [
    "<!-- BEGIN QUESTION -->\n",
    "\n",
    "**Question 2.4.** Now, using the `galaxy_sales_predictor` function you just defined, make a scatter plot with iPhone 12 sales along the x-axis and both actual and predicted Galaxy S20 sales along the y-axis. The color of the dots for the actual Galaxy S20 sales should be different from the color for the predicted Galaxy S20 sales. **(5 points)**\n",
    "\n",
    "*Hint 1:* An example of such a scatter plot is generated can be found [here](https://inferentialthinking.com/chapters/15/2/Regression_Line.html). </a>\n",
    "\n",
    "*Hint 2*: Think about the table that must be produced and used to generate this scatter plot. The table should include columns for iPhone 12 sales, actual Galaxy S20 sales, and predicted Galaxy S20 sales. Each row in the table should represent a day’s data. Constructing the table will be the main part of this question; once you have this table, generating the scatter plot should be straightforward as usual.\n"
   ]
  },
  {
   "cell_type": "code",
   "execution_count": null,
   "id": "9db99cde",
   "metadata": {
    "execution": {
     "iopub.execute_input": "2022-04-07T03:32:59.904214Z",
     "iopub.status.busy": "2022-04-07T03:32:59.903590Z",
     "iopub.status.idle": "2022-04-07T03:33:00.381009Z",
     "shell.execute_reply": "2022-04-07T03:33:00.380065Z"
    },
    "for_assignment_type": "solution",
    "tags": []
   },
   "outputs": [],
   "source": [
    "iPhone_sales = ...\n",
    "galaxy_pred = ...\n",
    "galaxy_pred_actual = ...\n",
    "..."
   ]
  },
  {
   "cell_type": "markdown",
   "id": "4eb9bb12",
   "metadata": {},
   "source": [
    "<!-- END QUESTION -->\n",
    "\n",
    "<!-- BEGIN QUESTION -->\n",
    "\n",
    "**Question 2.5.** Considering the shape of the scatter plot of the true data, is the model we used reasonable? If so, what features or characteristics make this model reasonable? If not, what features or characteristics make it unreasonable? **(5 points)**\n"
   ]
  },
  {
   "cell_type": "markdown",
   "id": "847c13d7",
   "metadata": {},
   "source": [
    "_Type your answer here, replacing this text._"
   ]
  },
  {
   "cell_type": "markdown",
   "id": "9dc7f745",
   "metadata": {},
   "source": [
    "<!-- END QUESTION -->\n",
    "\n",
    "## 3. Evaluating NFL Game Predictions"
   ]
  },
  {
   "cell_type": "markdown",
   "id": "5d19b205",
   "metadata": {},
   "source": [
    "#### A Brief Introduction to Sports Betting\n",
    "\n",
    "In an NFL game, similar to basketball, the team playing at its home stadium is known as the \"home team\", while the team visiting the stadium is the \"away team\". Each team competes to score points through touchdowns, field goals, and safeties, and at the end of the game, the team with the greater number of points is declared the winner.\n",
    "\n",
    "The difference in score can be expressed through what is known as the **outcome**, which is calculated by **subtracting the home team's score from the away team's score**:\n",
    "\n",
    "\n",
    "\n",
    "$$\\text{outcome} = \\text{points scored by the away team} - \\text{points scored by the home team}$$\n",
    "\n",
    "If this number is positive, the away team won. If the number is negative, the home team won the game.\n",
    "\n",
    "In order to facilitate betting on games, analysts at casinos try to predict the outcome of the game. This prediction of the outcome is called the **spread.** The **spread** is a forecast of the number of points by which a stronger team is expected to defeat a weaker one."
   ]
  },
  {
   "cell_type": "code",
   "execution_count": null,
   "id": "59cd6e66",
   "metadata": {},
   "outputs": [],
   "source": [
    "nfl_spreads = Table.read_table(\"NFL Spread2.csv\")\n",
    "nfl_spreads.show(20)"
   ]
  },
  {
   "cell_type": "markdown",
   "id": "b6811f38",
   "metadata": {},
   "source": [
    "Here's a scatter plot of the outcomes and spreads, with the spreads on the horizontal axis."
   ]
  },
  {
   "cell_type": "code",
   "execution_count": null,
   "id": "1e4fc8cb",
   "metadata": {},
   "outputs": [],
   "source": [
    "nfl_spreads.scatter(\"Spread\", \"Outcome\")"
   ]
  },
  {
   "cell_type": "markdown",
   "id": "e9afb601",
   "metadata": {},
   "source": [
    "Let's investigate how well the casinos are predicting game outcomes.\n",
    "\n",
    "One question we can ask is: Is the casino's prediction correct on average? In other words, for every value of the spread, is the average outcome of games assigned that spread equal to the spread? If not, the casino would apparently be making a systematic error in its predictions."
   ]
  },
  {
   "cell_type": "markdown",
   "id": "3af127d7",
   "metadata": {},
   "source": [
    "**Question 3.1.** Compute the correlation coefficient between outcomes and spreads. **(5 points)**\n",
    "\n",
    "*Note:* It might be helpful to use the `correlation` function.\n"
   ]
  },
  {
   "cell_type": "code",
   "execution_count": null,
   "id": "44961cfd",
   "metadata": {
    "deletable": false,
    "execution": {
     "iopub.execute_input": "2022-04-07T03:33:00.701824Z",
     "iopub.status.busy": "2022-04-07T03:33:00.701552Z",
     "iopub.status.idle": "2022-04-07T03:33:00.708023Z",
     "shell.execute_reply": "2022-04-07T03:33:00.707219Z"
    },
    "tags": []
   },
   "outputs": [],
   "source": [
    "nfl_spread_r = ...\n",
    "nfl_spread_r"
   ]
  },
  {
   "cell_type": "code",
   "execution_count": null,
   "id": "6736074b",
   "metadata": {
    "deletable": false,
    "editable": false
   },
   "outputs": [],
   "source": [
    "grader.check(\"q3_1\")"
   ]
  },
  {
   "cell_type": "markdown",
   "id": "b059a1d6",
   "metadata": {},
   "source": [
    "**Question 3.2.** Among games with a spread between .5 and 3.5 (including both .5 and 3.5), what was the average outcome? **(5 points)**\n"
   ]
  },
  {
   "cell_type": "code",
   "execution_count": null,
   "id": "bc82341e",
   "metadata": {
    "deletable": false,
    "execution": {
     "iopub.execute_input": "2022-04-07T03:33:00.743345Z",
     "iopub.status.busy": "2022-04-07T03:33:00.742709Z",
     "iopub.status.idle": "2022-04-07T03:33:00.761554Z",
     "shell.execute_reply": "2022-04-07T03:33:00.760731Z"
    },
    "tags": []
   },
   "outputs": [],
   "source": [
    "nfl_spreads_around_2 = ...\n",
    "nfl_spread_2_outcome_average = ...\n",
    "print(\"Average outcome for spreads around 2:\", nfl_spread_2_outcome_average)"
   ]
  },
  {
   "cell_type": "code",
   "execution_count": null,
   "id": "92ffff72",
   "metadata": {
    "deletable": false,
    "editable": false
   },
   "outputs": [],
   "source": [
    "grader.check(\"q3_2\")"
   ]
  },
  {
   "cell_type": "markdown",
   "id": "5ad7cd7c",
   "metadata": {},
   "source": [
    "**Question 3.3.** Using the `compute_regression_stats` function that you defined earlier, compute the least squares linear regression line for predicting the actual game outcomes from the provided betting spreads. We have prepared a dataset for you, structured in a two-column format; the first column is labeled `Spread` (predictor variable, x), and the second column is labeled `Outcome` (response variable, y). Use this dataset as an argument to your function to carry out the regression analysis. **(5 points)**\n",
    "\n"
   ]
  },
  {
   "cell_type": "code",
   "execution_count": null,
   "id": "b47a8608",
   "metadata": {
    "deletable": false,
    "execution": {
     "iopub.execute_input": "2022-04-07T03:33:00.781303Z",
     "iopub.status.busy": "2022-04-07T03:33:00.780646Z",
     "iopub.status.idle": "2022-04-07T03:33:00.786958Z",
     "shell.execute_reply": "2022-04-07T03:33:00.786287Z"
    },
    "scrolled": true,
    "tags": []
   },
   "outputs": [],
   "source": [
    "evaluate_table = nfl_spreads.select('Spread', 'Outcome')\n",
    "approximate = ...\n",
    "nfl_spread_slope = ...\n",
    "nfl_spread_intercept = ...\n",
    "print(\"Slope:\", round(nfl_spread_slope, 3))\n",
    "print(\"Intercept\", round(nfl_spread_intercept, 3))"
   ]
  },
  {
   "cell_type": "code",
   "execution_count": null,
   "id": "76c83898",
   "metadata": {
    "deletable": false,
    "editable": false
   },
   "outputs": [],
   "source": [
    "grader.check(\"q3_3\")"
   ]
  },
  {
   "cell_type": "markdown",
   "id": "0d0774bd",
   "metadata": {},
   "source": [
    "<!-- BEGIN QUESTION -->\n",
    "\n",
    "**Question 3.4.** \n",
    "Do you think this regression line will provide casino analysts with a reliable prediction of game outcomes? Provide a rationale for your answer. Include a discussion of the correlation coefficient and the scatter plot in your answer. **(5 points)**\n"
   ]
  },
  {
   "cell_type": "markdown",
   "id": "af16ef3e",
   "metadata": {},
   "source": [
    "_Type your answer here, replacing this text._"
   ]
  },
  {
   "cell_type": "markdown",
   "id": "02a0d12c",
   "metadata": {},
   "source": [
    "<!-- END QUESTION -->\n",
    "\n",
    "### Fitting a Least-Squares Regression Line\n",
    "\n",
    "Recall that the least-squares regression line is the unique straight line that minimizes root mean squared error (RMSE) among all possible fit lines. Using this property, we can find the equation of the regression line by finding the pair of slope and intercept values that minimize root mean squared error. "
   ]
  },
  {
   "cell_type": "markdown",
   "id": "8e60141d",
   "metadata": {},
   "source": [
    "**Question 3.5.** Define a function called `errors`.  It should take three arguments:\n",
    "1. a table `table` like `spreads` (with the same column names and meanings, but not necessarily the same data)\n",
    "2. the `slope` of a line (a number)\n",
    "3. the `intercept` of a line (a number).\n",
    "\n",
    "It should **return an array of the errors** made when a line with that slope and intercept is used to predict outcome from spread for each game in the given table. **(3 points)**\n",
    "\n",
    "*Note*: Make sure you are returning an array of the errors, and not the RMSE. \n"
   ]
  },
  {
   "cell_type": "code",
   "execution_count": null,
   "id": "ea262b20",
   "metadata": {
    "execution": {
     "iopub.execute_input": "2022-04-07T03:33:00.851750Z",
     "iopub.status.busy": "2022-04-07T03:33:00.851115Z",
     "iopub.status.idle": "2022-04-07T03:33:00.855216Z",
     "shell.execute_reply": "2022-04-07T03:33:00.854441Z"
    },
    "tags": []
   },
   "outputs": [],
   "source": [
    "def errors(table, slope, intercept):\n",
    "    ..."
   ]
  },
  {
   "cell_type": "code",
   "execution_count": null,
   "id": "3c21c32b",
   "metadata": {
    "deletable": false,
    "editable": false
   },
   "outputs": [],
   "source": [
    "grader.check(\"q3_5\")"
   ]
  },
  {
   "cell_type": "markdown",
   "id": "c89ae9e5",
   "metadata": {},
   "source": [
    "**Question 3.6.** Using `errors`, compute the errors for the line with slope `2` and intercept `35` on the `spreads` dataset. Name that array `outcome_errors`.  Then, make a scatter plot of the errors. **(3 points)**\n",
    "\n",
    "*Hint:* To make a scatter plot of the errors, plot the error for each outcome in the dataset.  Put the actual spread on the horizontal axis and the outcome error on the vertical axis.\n"
   ]
  },
  {
   "cell_type": "code",
   "execution_count": null,
   "id": "13b656ee",
   "metadata": {
    "execution": {
     "iopub.execute_input": "2022-04-07T03:33:00.883384Z",
     "iopub.status.busy": "2022-04-07T03:33:00.883189Z",
     "iopub.status.idle": "2022-04-07T03:33:01.173679Z",
     "shell.execute_reply": "2022-04-07T03:33:01.172836Z"
    },
    "scrolled": true,
    "tags": []
   },
   "outputs": [],
   "source": [
    "outcome_errors = ...\n",
    "..."
   ]
  },
  {
   "cell_type": "code",
   "execution_count": null,
   "id": "514334c5",
   "metadata": {
    "deletable": false,
    "editable": false
   },
   "outputs": [],
   "source": [
    "grader.check(\"q3_6\")"
   ]
  },
  {
   "cell_type": "markdown",
   "id": "770c1e57",
   "metadata": {},
   "source": [
    "You should find that the errors are almost all negative.  That means our line is not the best fit to our data.  Let's find a better one."
   ]
  },
  {
   "cell_type": "markdown",
   "id": "2fba5b13",
   "metadata": {},
   "source": [
    "**Question 3.7.** Define a function called `fit_line`.  It should take a table like `nfl_spreads` (with the same column names and meanings) as its argument.  It should return an array containing the slope (as the first element) and intercept (as the second element) of the least-squares regression line predicting outcome from spread for that table. **(3 points)**\n",
    "\n",
    "*Hint*: Define a function `rmse` within `fit_line` that takes a slope and intercept as its arguments. `rmse` will use the table passed into `fit_line` to compute predicted outcomes and then return the root mean squared error between the predicted and actual outcomes. Within `fit_line`, you can call `rmse` the way you would any other function.\n",
    "\n",
    "If you haven't tried to use the `minimize` [function](http://data8.org/sp22/python-reference.html) yet, now is a great time to practice. Here's an [example from the textbook](https://www.inferentialthinking.com/chapters/15/3/Method_of_Least_Squares.html#numerical-optimization).\n"
   ]
  },
  {
   "cell_type": "code",
   "execution_count": null,
   "id": "e143bdbc",
   "metadata": {
    "execution": {
     "iopub.execute_input": "2022-04-07T03:33:01.186019Z",
     "iopub.status.busy": "2022-04-07T03:33:01.185798Z",
     "iopub.status.idle": "2022-04-07T03:33:01.210477Z",
     "shell.execute_reply": "2022-04-07T03:33:01.209593Z"
    },
    "tags": []
   },
   "outputs": [],
   "source": [
    "def fit_line(tbl):\n",
    "    # Your code may need more than 1 line below here.\n",
    "    def rmse(..., ...):\n",
    "        return ... \n",
    "    return ... \n",
    "    \n",
    "# Here is an example call to your function.  To test your function,\n",
    "# figure out the right slope and intercept by hand.\n",
    "example_table = Table().with_columns(\n",
    "    \"Spread\", make_array(0, 1),\n",
    "    \"Outcome\", make_array(1, 3))\n",
    "fit_line(example_table)"
   ]
  },
  {
   "cell_type": "code",
   "execution_count": null,
   "id": "dc362322",
   "metadata": {
    "deletable": false,
    "editable": false
   },
   "outputs": [],
   "source": [
    "grader.check(\"q3_7\")"
   ]
  },
  {
   "cell_type": "markdown",
   "id": "0f7e3ced",
   "metadata": {},
   "source": [
    "**Question 3.8.** Use `fit_line` to fit a line to `spreads`, and assign the output to `regression_line`. Assign the first and second elements in `regression_line` to `regression_line_slope` and `regression_line_intercept`, respectively.\n",
    "\n",
    "Then, set `new_errors` to the array of errors that we get by calling `errors` with our new regression line. The provided code will graph the corresponding residual plot with a best fit line. **(3 points)**\n",
    "\n",
    "*Hint:* Make sure that the residual plot makes sense. What qualities should the best fit line of a residual plot have?\n"
   ]
  },
  {
   "cell_type": "code",
   "execution_count": null,
   "id": "23751606",
   "metadata": {
    "execution": {
     "iopub.execute_input": "2022-04-07T03:33:01.340834Z",
     "iopub.status.busy": "2022-04-07T03:33:01.340129Z",
     "iopub.status.idle": "2022-04-07T03:33:01.624862Z",
     "shell.execute_reply": "2022-04-07T03:33:01.623980Z"
    },
    "tags": []
   },
   "outputs": [],
   "source": [
    "regression_line = ...\n",
    "regression_line_slope = ...\n",
    "regression_line_intercept = ...\n",
    "\n",
    "new_errors = ...\n",
    "\n",
    "# This code displays the residual plot, given your values for the regression_line_slope and regression_line_intercept\n",
    "Table().with_columns(\"Spread\", \n",
    "                    nfl_spreads.column(\"Spread\"), \n",
    "                    \"Outcome errors\", \n",
    "                    new_errors\n",
    "                   ).scatter(\"Spread\", \"Outcome errors\", fit_line=True)\n",
    "\n",
    "# This just prints your slope and intercept\n",
    "\"Slope: {:g} | Intercept: {:g}\".format(regression_line_slope, regression_line_intercept)"
   ]
  },
  {
   "cell_type": "code",
   "execution_count": null,
   "id": "2852a286",
   "metadata": {
    "deletable": false,
    "editable": false
   },
   "outputs": [],
   "source": [
    "grader.check(\"q3_8\")"
   ]
  },
  {
   "cell_type": "markdown",
   "id": "abfe4bf8",
   "metadata": {},
   "source": [
    "<!-- BEGIN QUESTION -->\n",
    "\n",
    "**Question 3.9.** How does the process of minimizing the Root Mean Square Error (RMSE) lead to slope and intercept values in Question 3.8 that are consistent with those obtained using previous methods in Question 3.3, even though different techniques are employed? **(3 points)**\n"
   ]
  },
  {
   "cell_type": "markdown",
   "id": "7d1e658d",
   "metadata": {},
   "source": [
    "_Type your answer here, replacing this text._"
   ]
  },
  {
   "cell_type": "markdown",
   "id": "cdffc04d",
   "metadata": {},
   "source": [
    "<!-- END QUESTION -->\n",
    "\n",
    "You're done with Homework 10!  \n",
    "\n",
    "**Important submission steps:** \n",
    "1. Run the tests and verify that they all pass.\n",
    "2. Choose **Save Notebook** from the **File** menu, then **run the final cell**. \n",
    "3. Click the link to download the zip file.\n",
    "4. Then submit the zip file to the corresponding assignment according to your instructor's directions. \n",
    "\n",
    "**It is your responsibility to make sure your work is saved before running the last cell.**"
   ]
  },
  {
   "cell_type": "code",
   "execution_count": null,
   "id": "b3cd30d7",
   "metadata": {},
   "outputs": [],
   "source": []
  },
  {
   "cell_type": "markdown",
   "id": "e671ca9c",
   "metadata": {
    "deletable": false,
    "editable": false
   },
   "source": [
    "## Submission\n",
    "\n",
    "Make sure you have run all cells in your notebook in order before running the cell below, so that all images/graphs appear in the output. The cell below will generate a zip file for you to submit. **Please save before exporting!**"
   ]
  },
  {
   "cell_type": "code",
   "execution_count": null,
   "id": "1f01fb6f",
   "metadata": {
    "deletable": false,
    "editable": false
   },
   "outputs": [],
   "source": [
    "# Save your notebook first, then run this cell to export your submission.\n",
    "grader.export(pdf=False, run_tests=True)"
   ]
  },
  {
   "cell_type": "markdown",
   "id": "0db9840b",
   "metadata": {},
   "source": [
    " "
   ]
  }
 ],
 "metadata": {
  "kernelspec": {
   "display_name": "Python 3 (ipykernel)",
   "language": "python",
   "name": "python3"
  },
  "language_info": {
   "codemirror_mode": {
    "name": "ipython",
    "version": 3
   },
   "file_extension": ".py",
   "mimetype": "text/x-python",
   "name": "python",
   "nbconvert_exporter": "python",
   "pygments_lexer": "ipython3",
   "version": "3.10.11"
  },
  "otter": {
   "OK_FORMAT": true,
   "tests": {
    "q1_1": {
     "name": "q1_1",
     "points": [
      0,
      0,
      0
     ],
     "suites": [
      {
       "cases": [
        {
         "code": ">>> std_units([1,2,3,4,5])\narray([-1.41421356, -0.70710678,  0.        ,  0.70710678,  1.41421356])",
         "hidden": false,
         "locked": false
        },
        {
         "code": ">>> np.isclose(np.mean(std_units([1,2,3,4,5])), 0)\nTrue",
         "hidden": false,
         "locked": false
        },
        {
         "code": ">>> np.isclose(np.std(std_units([1,2,3,4,5])), 0.9999999999999999)\nTrue",
         "hidden": false,
         "locked": false
        }
       ],
       "scored": true,
       "setup": "",
       "teardown": "",
       "type": "doctest"
      }
     ]
    },
    "q1_2": {
     "name": "q1_2",
     "points": [
      0
     ],
     "suites": [
      {
       "cases": [
        {
         "code": ">>> np.isclose(correlation([1,2,3], [4,5,6]), 0.9999999999999999)\nTrue",
         "hidden": false,
         "locked": false
        }
       ],
       "scored": true,
       "setup": "",
       "teardown": "",
       "type": "doctest"
      }
     ]
    },
    "q1_5": {
     "name": "q1_5",
     "points": [
      0,
      0,
      0
     ],
     "suites": [
      {
       "cases": [
        {
         "code": ">>> len(constraints) == 3\nTrue",
         "hidden": false,
         "locked": false
        },
        {
         "code": ">>> # Make sure your function is returning an array!\n>>> type(constraints) == np.ndarray\nTrue",
         "hidden": false,
         "locked": false
        },
        {
         "code": ">>> np.isclose(constraints.item(0), 0.11003088267167993)\nTrue",
         "hidden": false,
         "locked": false
        }
       ],
       "scored": true,
       "setup": "",
       "teardown": "",
       "type": "doctest"
      }
     ]
    },
    "q1_6": {
     "name": "q1_6",
     "points": [
      0,
      0
     ],
     "suites": [
      {
       "cases": [
        {
         "code": ">>> # Make sure regression_changes is a numpy array with 3 items!\n>>> len(regression_change) == 2 and type(regression_change) == np.ndarray\nTrue",
         "hidden": false,
         "locked": false
        },
        {
         "code": ">>> regression_change.item(0) in set([0, 1, False, True])\nTrue",
         "hidden": false,
         "locked": false
        }
       ],
       "scored": true,
       "setup": "",
       "teardown": "",
       "type": "doctest"
      }
     ]
    },
    "q1_7": {
     "name": "q1_7",
     "points": [
      0
     ],
     "suites": [
      {
       "cases": [
        {
         "code": ">>> 35 <= free_throw_3pt_est <= 45\nTrue",
         "hidden": false,
         "locked": false
        }
       ],
       "scored": true,
       "setup": "",
       "teardown": "",
       "type": "doctest"
      }
     ]
    },
    "q2_2": {
     "name": "q2_2",
     "points": [
      0,
      0
     ],
     "suites": [
      {
       "cases": [
        {
         "code": ">>> # Correlation is a number between -1 and 1\n>>> -1 <= r <= 1\nTrue",
         "hidden": false,
         "locked": false
        },
        {
         "code": ">>> # It appears that you implemented std_units, but did so incorrectly\n>>> std_units(np.arange(5)) is None or np.allclose(std_units(np.arange(5)), [-1.41421356, -0.70710678,  0,  0.70710678,  1.41421356])\nTrue",
         "hidden": false,
         "locked": false
        }
       ],
       "scored": true,
       "setup": "",
       "teardown": "",
       "type": "doctest"
      }
     ]
    },
    "q2_3": {
     "name": "q2_3",
     "points": [
      0,
      2
     ],
     "suites": [
      {
       "cases": [
        {
         "code": ">>> galaxy_sales_predictor(np.arange(10,15))\narray([ 308.08464403,  308.73092002,  309.37719601,  310.02347201,\n        310.669748  ])",
         "hidden": false,
         "locked": false
        },
        {
         "code": ">>> 0 < galaxy_sales_predictor(10) < 400\nTrue",
         "hidden": false,
         "locked": false
        }
       ],
       "scored": true,
       "setup": "",
       "teardown": "",
       "type": "doctest"
      }
     ]
    },
    "q3_1": {
     "name": "q3_1",
     "points": [
      0
     ],
     "suites": [
      {
       "cases": [
        {
         "code": ">>> -1 <= nfl_spread_r <= 1\nTrue",
         "hidden": false,
         "locked": false
        }
       ],
       "scored": true,
       "setup": "",
       "teardown": "",
       "type": "doctest"
      }
     ]
    },
    "q3_2": {
     "name": "q3_2",
     "points": [
      0
     ],
     "suites": [
      {
       "cases": [
        {
         "code": ">>> -4 <= nfl_spread_2_outcome_average <= nfl_spread_2_outcome_average\nTrue",
         "hidden": false,
         "locked": false
        }
       ],
       "scored": true,
       "setup": "",
       "teardown": "",
       "type": "doctest"
      }
     ]
    },
    "q3_3": {
     "name": "q3_3",
     "points": [
      0
     ],
     "suites": [
      {
       "cases": [
        {
         "code": ">>> -1 <= nfl_spread_slope < .6\nTrue",
         "hidden": false,
         "locked": false
        }
       ],
       "scored": true,
       "setup": "",
       "teardown": "",
       "type": "doctest"
      }
     ]
    },
    "q3_5": {
     "name": "q3_5",
     "points": [
      0,
      0
     ],
     "suites": [
      {
       "cases": [
        {
         "code": ">>> type(errors(nfl_spreads, 0, 0).item(0)) in set([float, np.float32, np.float64])\nTrue",
         "hidden": false,
         "locked": false
        },
        {
         "code": ">>> len(errors(nfl_spreads, 0, 0)) == 1083\nTrue",
         "hidden": false,
         "locked": false
        }
       ],
       "scored": true,
       "setup": "",
       "teardown": "",
       "type": "doctest"
      }
     ]
    },
    "q3_6": {
     "name": "q3_6",
     "points": [
      3
     ],
     "suites": [
      {
       "cases": [
        {
         "code": ">>> # If you're not passing this test, double check your errors function!\n>>> np.round(outcome_errors.item(0), 2) == -27.0\nTrue",
         "hidden": false,
         "locked": false
        }
       ],
       "scored": true,
       "setup": "",
       "teardown": "",
       "type": "doctest"
      }
     ]
    },
    "q3_7": {
     "name": "q3_7",
     "points": [
      0,
      0
     ],
     "suites": [
      {
       "cases": [
        {
         "code": ">>> type(fit_line(example_table)) == np.ndarray\nTrue",
         "hidden": false,
         "locked": false
        },
        {
         "code": ">>> type(fit_line(example_table).item(0)) in set([float, np.float32, np.float64])\nTrue",
         "hidden": false,
         "locked": false
        }
       ],
       "scored": true,
       "setup": "",
       "teardown": "",
       "type": "doctest"
      }
     ]
    },
    "q3_8": {
     "name": "q3_8",
     "points": [
      0
     ],
     "suites": [
      {
       "cases": [
        {
         "code": ">>> len(new_errors) == 1083\nTrue",
         "hidden": false,
         "locked": false
        }
       ],
       "scored": true,
       "setup": "",
       "teardown": "",
       "type": "doctest"
      }
     ]
    }
   }
  }
 },
 "nbformat": 4,
 "nbformat_minor": 5
}
