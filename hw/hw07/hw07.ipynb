{
 "cells": [
  {
   "cell_type": "code",
   "execution_count": null,
   "id": "1da70893",
   "metadata": {
    "deletable": false,
    "editable": false
   },
   "outputs": [],
   "source": [
    "# Initialize Otter\n",
    "import otter\n",
    "grader = otter.Notebook(\"hw07.ipynb\")"
   ]
  },
  {
   "cell_type": "markdown",
   "id": "229ed599",
   "metadata": {},
   "source": [
    "# Homework 7: Testing Hypotheses\n",
    "\n",
    "Please complete this notebook by filling in the cells provided. Before you begin, execute the previous cell to load the provided tests."
   ]
  },
  {
   "cell_type": "markdown",
   "id": "a81b6e4b",
   "metadata": {},
   "source": [
    "**Helpful Resource:**\n",
    "\n",
    "- [Python Reference](http://data8.org/sp22/python-reference.html): Cheat sheet of helpful array & table methods used in Data 8!\n",
    "\n",
    "**Recommended Readings**: \n",
    "\n",
    "* [Sampling Methods Guide](https://drive.google.com/file/d/1UtNdxDdI5XphWvwgTjODiAUFwArpZtoK/view)\n",
    "* [Testing Hypotheses](https://www.inferentialthinking.com/chapters/11/Testing_Hypotheses.html)\n",
    "* [A/B Testing](https://inferentialthinking.com/chapters/12/1/AB_Testing.html)"
   ]
  },
  {
   "cell_type": "markdown",
   "id": "e62e65d4",
   "metadata": {},
   "source": [
    "Please complete this notebook by filling in the cells provided. Before you begin, execute the following cell to setup the notebook by importing some helpful libraries. Each time you start your server, you will need to execute this cell again.\n",
    "\n",
    "For all problems that you must write explanations and sentences for, you **must** provide your answer in the designated space. **Moreover, throughout this homework and all future ones, please be sure to not re-assign variables throughout the notebook!** For example, if you use `max_temperature` in your answer to one question, do not reassign it later on. Otherwise, you will fail tests that you thought you were passing previously!\n",
    "\n",
    "\n",
    "**Note: This homework has hidden tests on it. That means even though the tests may say 100% passed, it doesn't mean your final grade will be 100%. We will be running more tests for correctness once everyone turns in the homework.**\n",
    "\n",
    "\n",
    "Directly sharing answers is not okay, but discussing problems with the course staff or with other students is encouraged. \n",
    "\n",
    "You should start early so that you have time to get help if you're stuck."
   ]
  },
  {
   "cell_type": "code",
   "execution_count": null,
   "id": "a0368283",
   "metadata": {
    "execution": {
     "iopub.execute_input": "2022-03-02T18:14:41.119098Z",
     "iopub.status.busy": "2022-03-02T18:14:41.118424Z",
     "iopub.status.idle": "2022-03-02T18:14:42.661693Z",
     "shell.execute_reply": "2022-03-02T18:14:42.661135Z"
    }
   },
   "outputs": [],
   "source": [
    "# Run this cell to set up the notebook, but please don't change it.\n",
    "\n",
    "# These lines import the Numpy and Datascience modules.\n",
    "import numpy as np\n",
    "from datascience import *\n",
    "import d8error\n",
    "\n",
    "# These lines do some fancy plotting magic.\n",
    "import matplotlib\n",
    "%matplotlib inline\n",
    "import matplotlib.pyplot as plt\n",
    "plt.style.use('fivethirtyeight')\n",
    "import warnings\n",
    "warnings.simplefilter('ignore', FutureWarning)"
   ]
  },
  {
   "cell_type": "markdown",
   "id": "9e49f1ae",
   "metadata": {},
   "source": [
    "## 1. Coffee Drinkers Delight\n",
    "\n",
    "A popular coffee shop introduces two new seasonal drinks: Drink A and Drink B. Customers visiting the shop are offered one of the two drinks based on the day of the week. Those who visit on Thursday, Friday, Saturday, and Sunday are served Drink A, while visitors on Monday, Tuesday and Wednessday receive Drink B. The coffee shop is never closed.\n",
    "\n",
    "Barista Alex remarks, \"It's practically like flipping a coin where it lands on heads $\\frac{4}{7}$ of the time. Land on heads, you get Drink A; tails, you get Drink B.\"\n",
    "\n",
    "However, Barista Jordan disagrees, stating, \"It's not similar to flipping a coin at all. Our approach is entirely different.\"\n",
    "\n",
    "During one particular week, the coffee shop served Drink A to 260 customers and Drink B to 140 customers. Your task is to conduct a hypothesis test to determine which barista's viewpoint is more consistent with the observed data.\n",
    "\n"
   ]
  },
  {
   "cell_type": "markdown",
   "id": "01642a0b",
   "metadata": {},
   "source": [
    "**Question 1.1.** Given the information above, what was the sample size for the data, and what was the percentage of people who got **Drink A?** **(4 points)**\n",
    "\n",
    "*Note*: Your percent should be a number between 0 and 100.\n"
   ]
  },
  {
   "cell_type": "code",
   "execution_count": null,
   "id": "cc7233d5",
   "metadata": {
    "execution": {
     "iopub.execute_input": "2022-03-02T18:14:42.666790Z",
     "iopub.status.busy": "2022-03-02T18:14:42.666292Z",
     "iopub.status.idle": "2022-03-02T18:14:42.669400Z",
     "shell.execute_reply": "2022-03-02T18:14:42.669023Z"
    },
    "tags": []
   },
   "outputs": [],
   "source": [
    "sample_size = ...\n",
    "percent_DA = ...\n",
    "\n",
    "print(f\"Sample Size: {sample_size}\")\n",
    "print(f\"Drink A Percent: {percent_DA}\")"
   ]
  },
  {
   "cell_type": "code",
   "execution_count": null,
   "id": "64b94a5b",
   "metadata": {
    "deletable": false,
    "editable": false
   },
   "outputs": [],
   "source": [
    "grader.check(\"q1_1\")"
   ]
  },
  {
   "cell_type": "markdown",
   "id": "4b78917d",
   "metadata": {},
   "source": [
    "<!-- BEGIN QUESTION -->\n",
    "\n",
    "**Question 1.2.** State the null hypothesis. It should reflect the position of either Barista Alex or Barista Jordan. **(4 points)**\n",
    "\n",
    "*Note:* Check out [11.3](https://inferentialthinking.com/chapters/11/3/Decisions_and_Uncertainty.html#step-1-the-hypotheses) for a refresher on hypotheses.\n"
   ]
  },
  {
   "cell_type": "markdown",
   "id": "4f29ad98",
   "metadata": {},
   "source": [
    "_Type your answer here, replacing this text._"
   ]
  },
  {
   "cell_type": "markdown",
   "id": "50bcbda9",
   "metadata": {},
   "source": [
    "<!-- END QUESTION -->\n",
    "\n",
    "<!-- BEGIN QUESTION -->\n",
    "\n",
    "**Question 1.3.** State the alternative hypothesis. It should reflect the position of the Barista you did not choose to represent in Question 1.2. **(4 points)**\n",
    "\n",
    "*Note:* Check out [11.3](https://inferentialthinking.com/chapters/11/3/Decisions_and_Uncertainty.html#step-1-the-hypotheses) for a refresher on hypotheses.\n"
   ]
  },
  {
   "cell_type": "markdown",
   "id": "382a884a",
   "metadata": {},
   "source": [
    "_Type your answer here, replacing this text._"
   ]
  },
  {
   "cell_type": "markdown",
   "id": "5c122c01",
   "metadata": {},
   "source": [
    "<!-- END QUESTION -->\n",
    "\n",
    "**Question 1.4.** One of the test statistics below is appropriate for testing these hypotheses. Assign the variable `test_stat` to the number corresponding to the correct test statistic. **(4 points)**\n",
    "\n",
    "*Note:* For simplicity purposes, all values are rounded to the nearest integer. \n",
    "\n",
    "1. |percent of heads - 57|\n",
    "2. |percent of heads - 50|\n",
    "3. percent of heads - 57\n",
    "4. percent of heads - 50\n"
   ]
  },
  {
   "cell_type": "code",
   "execution_count": null,
   "id": "84c3c10c",
   "metadata": {
    "execution": {
     "iopub.execute_input": "2022-03-02T18:14:42.717267Z",
     "iopub.status.busy": "2022-03-02T18:14:42.716560Z",
     "iopub.status.idle": "2022-03-02T18:14:42.719824Z",
     "shell.execute_reply": "2022-03-02T18:14:42.719436Z"
    },
    "tags": []
   },
   "outputs": [],
   "source": [
    "test_stat = ...\n",
    "test_stat"
   ]
  },
  {
   "cell_type": "code",
   "execution_count": null,
   "id": "be8467a2",
   "metadata": {
    "deletable": false,
    "editable": false
   },
   "outputs": [],
   "source": [
    "grader.check(\"q1_4\")"
   ]
  },
  {
   "cell_type": "markdown",
   "id": "cf3875ac",
   "metadata": {},
   "source": [
    "**Question 1.5.** Using your answer from Questions 1.1 and 1.4, find the observed value of the test statistic and assign it to the variable `observed_stat`. **(4 points)**\n"
   ]
  },
  {
   "cell_type": "code",
   "execution_count": null,
   "id": "c3e0b0b0",
   "metadata": {
    "execution": {
     "iopub.execute_input": "2022-03-02T18:14:42.743199Z",
     "iopub.status.busy": "2022-03-02T18:14:42.742546Z",
     "iopub.status.idle": "2022-03-02T18:14:42.745340Z",
     "shell.execute_reply": "2022-03-02T18:14:42.745670Z"
    },
    "tags": []
   },
   "outputs": [],
   "source": [
    "observed_stat = ...\n",
    "observed_stat"
   ]
  },
  {
   "cell_type": "code",
   "execution_count": null,
   "id": "8844b90d",
   "metadata": {
    "deletable": false,
    "editable": false
   },
   "outputs": [],
   "source": [
    "grader.check(\"q1_5\")"
   ]
  },
  {
   "cell_type": "markdown",
   "id": "f211f2da",
   "metadata": {},
   "source": [
    "**Question 1.6.** In order to perform this hypothesis test, you must simulate the test statistic. From the four options below, pick the assumption that is needed for this simulation. Assign `assumption_required` to an integer corresponding to the assumption. **(4 points)**\n",
    "\n",
    "1. No assumptions are needed. We can just simulate the statistic.\n",
    "2. The statistic must be simulated under both hypotheses.\n",
    "3. The statistic must be simulated under the alternative hypothesis.\n",
    "4. The statistic must be simulated under the null hypothesis.\n"
   ]
  },
  {
   "cell_type": "code",
   "execution_count": null,
   "id": "15952de0",
   "metadata": {
    "execution": {
     "iopub.execute_input": "2022-03-02T18:14:42.802230Z",
     "iopub.status.busy": "2022-03-02T18:14:42.801708Z",
     "iopub.status.idle": "2022-03-02T18:14:42.804403Z",
     "shell.execute_reply": "2022-03-02T18:14:42.804775Z"
    },
    "tags": []
   },
   "outputs": [],
   "source": [
    "assumption_required = ...\n",
    "assumption_required"
   ]
  },
  {
   "cell_type": "code",
   "execution_count": null,
   "id": "a04d7d4e",
   "metadata": {
    "deletable": false,
    "editable": false
   },
   "outputs": [],
   "source": [
    "grader.check(\"q1_6\")"
   ]
  },
  {
   "cell_type": "markdown",
   "id": "d77d8cac",
   "metadata": {},
   "source": [
    "<!-- BEGIN QUESTION -->\n",
    "\n",
    "**Question 1.7.** Simulate 15,000 values of the test statistic under the assumption you picked in Question 1.6. **(4 points)** \n",
    "\n",
    "As usual, start by defining a function that simulates one value of the statistic. Your function should use `sample_proportions`. (You may find a variable defined in Question 1.1 useful here!) Then, write a `for` loop to simulate multiple values and collect them in the array `simulated_statistics`.\n",
    "\n",
    "Use as many lines of code as you need. We have included the code that visualizes the distribution of the simulated values. The red dot represents the observed statistic you found in Question 1.5.\n"
   ]
  },
  {
   "cell_type": "code",
   "execution_count": null,
   "id": "4c75b861",
   "metadata": {
    "execution": {
     "iopub.execute_input": "2022-03-02T18:14:42.837273Z",
     "iopub.status.busy": "2022-03-02T18:14:42.836306Z",
     "iopub.status.idle": "2022-03-02T18:14:43.184710Z",
     "shell.execute_reply": "2022-03-02T18:14:43.184203Z"
    },
    "tags": []
   },
   "outputs": [],
   "source": [
    "def one_simulated_statistic():\n",
    "    ...\n",
    "\n",
    "num_simulations = 15000\n",
    "\n",
    "simulated_statistics = ...\n",
    "for ... in ...:\n",
    "    ...\n",
    "\n",
    "# Run the this cell a few times to see how the simulated statistic changes\n",
    "one_simulated_statistic()"
   ]
  },
  {
   "cell_type": "markdown",
   "id": "f62a80f8",
   "metadata": {},
   "source": [
    "<!-- END QUESTION -->\n",
    "\n"
   ]
  },
  {
   "cell_type": "code",
   "execution_count": null,
   "id": "7a32a3e1",
   "metadata": {
    "execution": {
     "iopub.execute_input": "2022-03-02T18:14:43.217326Z",
     "iopub.status.busy": "2022-03-02T18:14:43.193564Z",
     "iopub.status.idle": "2022-03-02T18:14:43.490082Z",
     "shell.execute_reply": "2022-03-02T18:14:43.490471Z"
    }
   },
   "outputs": [],
   "source": [
    "# Run this cell to produce a histogram of the simulated statistics\n",
    "\n",
    "Table().with_columns('Simulated Statistic', simulated_statistics).hist()\n",
    "plt.scatter(observed_stat, -0.002, color='red', s=40);"
   ]
  },
  {
   "cell_type": "markdown",
   "id": "af34918b",
   "metadata": {},
   "source": [
    "**Question 1.8.** Using `simulated_statistics`, `observed_stat`, and `num_simulations`, find the empirical p-value based on the simulation. **(4 points)**\n"
   ]
  },
  {
   "cell_type": "code",
   "execution_count": null,
   "id": "4dc94fc1",
   "metadata": {
    "execution": {
     "iopub.execute_input": "2022-03-02T18:14:43.495832Z",
     "iopub.status.busy": "2022-03-02T18:14:43.495330Z",
     "iopub.status.idle": "2022-03-02T18:14:43.498300Z",
     "shell.execute_reply": "2022-03-02T18:14:43.498685Z"
    },
    "tags": []
   },
   "outputs": [],
   "source": [
    "p_value = ...\n",
    "p_value"
   ]
  },
  {
   "cell_type": "code",
   "execution_count": null,
   "id": "62d44522",
   "metadata": {
    "deletable": false,
    "editable": false
   },
   "outputs": [],
   "source": [
    "grader.check(\"q1_8\")"
   ]
  },
  {
   "cell_type": "markdown",
   "id": "3d4358bc",
   "metadata": {},
   "source": [
    "**Question 1.9.** Assign `correct_barista` to the number corresponding to the correct statement below. Use the 5% cutoff for the p-value. **(4 points)**\n",
    "\n",
    "1. The data support Barista Alex's position more than they support Barista Jordan's.\n",
    "2. The data support Barista Jordan's position more than they support Barista Alex's.\n",
    "\n",
    "As a reminder, here are the two claims made by Barista Alex and Barista Jordan:\n",
    "> **barista Alex:** \"It's practically like flipping a coin where it lands on heads $\\frac{4}{7}$ of the time. Land on heads, you get Drink A; tails, you get Drink B.\"\n",
    "\n",
    ">**Barista Jordan:** \"It's not similar to flipping a coin at all. Our approach is entirely different.\"\n"
   ]
  },
  {
   "cell_type": "code",
   "execution_count": null,
   "id": "e7612b01",
   "metadata": {
    "execution": {
     "iopub.execute_input": "2022-03-02T18:14:43.524479Z",
     "iopub.status.busy": "2022-03-02T18:14:43.524016Z",
     "iopub.status.idle": "2022-03-02T18:14:43.526972Z",
     "shell.execute_reply": "2022-03-02T18:14:43.526497Z"
    },
    "tags": []
   },
   "outputs": [],
   "source": [
    "correct_doctor = ...\n",
    "correct_doctor"
   ]
  },
  {
   "cell_type": "code",
   "execution_count": null,
   "id": "8b8a934c",
   "metadata": {
    "deletable": false,
    "editable": false
   },
   "outputs": [],
   "source": [
    "grader.check(\"q1_9\")"
   ]
  },
  {
   "cell_type": "markdown",
   "id": "34ea37cf",
   "metadata": {},
   "source": [
    "## 2. Using TVD as a Test Statistic\n",
    "\n",
    "Before beginning this section, please read [this section](https://inferentialthinking.com/chapters/11/2/Multiple_Categories.html#a-new-statistic-the-distance-between-two-distributions) of the textbook on TVD!"
   ]
  },
  {
   "cell_type": "markdown",
   "id": "6c99eaf3",
   "metadata": {},
   "source": [
    "**Total variation distance (TVD)** is a special type of test statistic that we use when we want to compare two distributions of *categorical data*. It is often used when we observe that a set of observed proportions/probabilities is different than what we expect under the null model. \n",
    "\n",
    "Consider a six-sided die that we roll 6,000 times. If the die is fair, we would expect that each face comes up $\\frac{1}{6}$ of the time. By random chance, a fair die won't always result in equal proportions (that is, we won't get exactly 1,000 of each face). However, if we suspect that the die might be unfair based on the data, we can conduct a hypothesis test using TVD to compare the expected [$\\frac{1}{6}$, $\\frac{1}{6}$, $\\frac{1}{6}$, $\\frac{1}{6}$, $\\frac{1}{6}$, $\\frac{1}{6}$] distribution to what is actually observed.\n",
    "\n",
    "In this part of the homework, we'll look at how we can use TVD to determine the effect that different factors have on happiness. \n",
    "\n",
    "We will be working with data from the [Gallup World Poll](https://www.gallup.com/analytics/349487/gallup-global-happiness-center.aspx#:~:text=World%20Happiness%20Report&text=Using%20the%20Gallup%20World%20Poll,about%20the%20World%20Happiness%20Report.) that is presented in the World Happiness Report, a survey of the state of global happiness. The survey ranked 155 countries by overall happiness and estimated the influence that economic production, social support, life expectancy, freedom, absence of corruption, and generosity had on population happiness. The study has been repeated for several years, but we'll be looking at data from the 2016 survey.\n",
    "\n",
    "Run the cell below to load in the `happiness_scores` table."
   ]
  },
  {
   "cell_type": "code",
   "execution_count": null,
   "id": "dea37233",
   "metadata": {
    "execution": {
     "iopub.execute_input": "2022-03-02T18:14:43.583982Z",
     "iopub.status.busy": "2022-03-02T18:14:43.583502Z",
     "iopub.status.idle": "2022-03-02T18:14:43.593056Z",
     "shell.execute_reply": "2022-03-02T18:14:43.593408Z"
    }
   },
   "outputs": [],
   "source": [
    "happiness_scores = Table.read_table(\"happiness_scores.csv\")\n",
    "happiness_scores.show(5)"
   ]
  },
  {
   "cell_type": "markdown",
   "id": "33ab009f",
   "metadata": {},
   "source": [
    "Participants in the study were asked to evaluate their life satisfaction from a scale of 0 (worst possible life) to 10 (best possible life). The responses for each country were averaged to create the `Happiness Score`.\n",
    "\n",
    "The columns `Economy (GDP per Capita)`, `Family`, `Health (Life Expectancy)`, `Freedom`, `Trust (Government Corruption)`, and `Generosity` estimate the extent to which each factor influences happiness, both for better or for worse. The happiness score is the sum of these factors; the larger a factor is, the more it contributes to overall happiness. [In other words, if you add up all the factors (in addition to a \"Difference from Dystopia\" value we excluded in the dataset), you get the happiness score.]\n",
    "\n",
    "Let's look at the different factors that affect happiness in the United States. Run the cell below to view the row in `us_happiness` that contains data for the United States."
   ]
  },
  {
   "cell_type": "code",
   "execution_count": null,
   "id": "05c13845",
   "metadata": {
    "execution": {
     "iopub.execute_input": "2022-03-02T18:14:43.598766Z",
     "iopub.status.busy": "2022-03-02T18:14:43.597199Z",
     "iopub.status.idle": "2022-03-02T18:14:43.601813Z",
     "shell.execute_reply": "2022-03-02T18:14:43.601424Z"
    }
   },
   "outputs": [],
   "source": [
    "us_happiness = happiness_scores.where(\"Country\", \"United States\")\n",
    "us_happiness"
   ]
  },
  {
   "cell_type": "markdown",
   "id": "959a82aa",
   "metadata": {},
   "source": [
    "**To compare the different factors, we'll look at the proportion of the happiness score that is attributed to each variable. \n",
    "You can find these proportions in the table `us_happiness_factors` after running the cell below.**\n",
    "\n",
    "*Note:* The factors shown in `us_happiness` don't add up exactly to the happiness score, so we adjusted the proportions to  only account for the data we have access to. The proportions were found by dividing each Happiness Factor value by the sum of all Happiness Factor values in `us_happiness`."
   ]
  },
  {
   "cell_type": "code",
   "execution_count": null,
   "id": "f41a9a36",
   "metadata": {
    "execution": {
     "iopub.execute_input": "2022-03-02T18:14:43.605832Z",
     "iopub.status.busy": "2022-03-02T18:14:43.605320Z",
     "iopub.status.idle": "2022-03-02T18:14:43.612477Z",
     "shell.execute_reply": "2022-03-02T18:14:43.612861Z"
    }
   },
   "outputs": [],
   "source": [
    "us_happiness_factors = Table().read_table(\"us_happiness_factors.csv\")\n",
    "us_happiness_factors"
   ]
  },
  {
   "cell_type": "markdown",
   "id": "a6dcbae8",
   "metadata": {},
   "source": [
    "<!-- BEGIN QUESTION -->\n",
    "\n",
    "**Question 2.1.** Suppose we want to test whether or not each factor contributes the same amount to the overall Happiness Score. Define the null hypothesis, alternative hypothesis, and test statistic in the cell below. Feel free to check your work with another student or course staff. **(4 points)**\n",
    "\n",
    "*Note:* Please format your answer as follows:\n",
    "- Null Hypothesis: ...  \n",
    "- Alternative Hypothesis: ...  \n",
    "- Test Statistic: ...  \n"
   ]
  },
  {
   "cell_type": "markdown",
   "id": "475e3a93",
   "metadata": {},
   "source": [
    "_Type your answer here, replacing this text._"
   ]
  },
  {
   "cell_type": "markdown",
   "id": "fed5bda2",
   "metadata": {},
   "source": [
    "<!-- END QUESTION -->\n",
    "\n",
    "**Question 2.2.** Write a function `calculate_tvd` that takes in the observed distribution (`obs_dist`) and expected distribution under the null hypothesis (`null_dist`) and calculates the total variation distance. Use this function to set `observed_tvd` to be equal to the observed test statistic. **(4 points)**\n"
   ]
  },
  {
   "cell_type": "code",
   "execution_count": null,
   "id": "727010c5",
   "metadata": {
    "execution": {
     "iopub.execute_input": "2022-03-02T18:14:43.618347Z",
     "iopub.status.busy": "2022-03-02T18:14:43.617820Z",
     "iopub.status.idle": "2022-03-02T18:14:43.620642Z",
     "shell.execute_reply": "2022-03-02T18:14:43.620261Z"
    },
    "tags": []
   },
   "outputs": [],
   "source": [
    "null_distribution = np.ones(6) * (1/6)\n",
    "\n",
    "def calculate_tvd(obs_dist, null_dist):\n",
    "    ...\n",
    "    \n",
    "observed_tvd = ...\n",
    "observed_tvd"
   ]
  },
  {
   "cell_type": "code",
   "execution_count": null,
   "id": "85d80044",
   "metadata": {
    "deletable": false,
    "editable": false
   },
   "outputs": [],
   "source": [
    "grader.check(\"q2_2\")"
   ]
  },
  {
   "cell_type": "markdown",
   "id": "c52b0f7f",
   "metadata": {},
   "source": [
    "**Question 2.3.** Create an array called `simulated_tvds` that contains 10,000 simulated values under the null hypothesis. Assume that the original sample consisted of 1,000 individuals. **(4 points)**\n",
    "\n",
    "*Hint:* The `sample_proportions` function may be helpful to you. Refer to the [Python Reference Sheet](http://data8.org/sp22/python-reference.html#:~:text=sample_proportions(sample_size%2C%20model_proportions)) to read up on it!\n"
   ]
  },
  {
   "cell_type": "code",
   "execution_count": null,
   "id": "75458c3c",
   "metadata": {
    "execution": {
     "iopub.execute_input": "2022-03-02T18:14:43.638641Z",
     "iopub.status.busy": "2022-03-02T18:14:43.638194Z",
     "iopub.status.idle": "2022-03-02T18:14:43.850909Z",
     "shell.execute_reply": "2022-03-02T18:14:43.851416Z"
    },
    "tags": []
   },
   "outputs": [],
   "source": [
    "simulated_tvds = ...\n",
    "\n",
    "..."
   ]
  },
  {
   "cell_type": "code",
   "execution_count": null,
   "id": "a29f189a",
   "metadata": {
    "deletable": false,
    "editable": false
   },
   "outputs": [],
   "source": [
    "grader.check(\"q2_3\")"
   ]
  },
  {
   "cell_type": "markdown",
   "id": "36c1b5bc",
   "metadata": {},
   "source": [
    "Run the cell below to plot a histogram of your simulated test statistics, as well as a red dot representing the observed value of the test statistic."
   ]
  },
  {
   "cell_type": "code",
   "execution_count": null,
   "id": "77657abf",
   "metadata": {
    "execution": {
     "iopub.execute_input": "2022-03-02T18:14:43.917214Z",
     "iopub.status.busy": "2022-03-02T18:14:43.912346Z",
     "iopub.status.idle": "2022-03-02T18:14:44.142029Z",
     "shell.execute_reply": "2022-03-02T18:14:44.141505Z"
    }
   },
   "outputs": [],
   "source": [
    "Table().with_column(\"Simulated TVDs\", simulated_tvds).hist()\n",
    "plt.scatter(observed_tvd, 0, color='red', s=70, zorder=2);\n",
    "plt.show();"
   ]
  },
  {
   "cell_type": "markdown",
   "id": "255b5393",
   "metadata": {},
   "source": [
    "**Question 2.4.** Use your simulated statistics to calculate the p-value of your test. Make sure that this number is consistent with what you observed in the histogram above. **(4 points)**\n"
   ]
  },
  {
   "cell_type": "code",
   "execution_count": null,
   "id": "dad22264",
   "metadata": {
    "execution": {
     "iopub.execute_input": "2022-03-02T18:14:44.147197Z",
     "iopub.status.busy": "2022-03-02T18:14:44.146596Z",
     "iopub.status.idle": "2022-03-02T18:14:44.151085Z",
     "shell.execute_reply": "2022-03-02T18:14:44.150555Z"
    },
    "tags": []
   },
   "outputs": [],
   "source": [
    "p_value_tvd = ...\n",
    "p_value_tvd"
   ]
  },
  {
   "cell_type": "code",
   "execution_count": null,
   "id": "fc350f0c",
   "metadata": {
    "deletable": false,
    "editable": false
   },
   "outputs": [],
   "source": [
    "grader.check(\"q2_4\")"
   ]
  },
  {
   "cell_type": "markdown",
   "id": "57a26599",
   "metadata": {},
   "source": [
    "<!-- BEGIN QUESTION -->\n",
    "\n",
    "**Question 2.5.** What can you conclude about how each factor contributes to the overall happiness score in the US? Explain your answer using the results of your hypothesis test. Assume a p-value cutoff of 5%. **(4 points)**\n"
   ]
  },
  {
   "cell_type": "markdown",
   "id": "2d08ec47",
   "metadata": {},
   "source": [
    "_Type your answer here, replacing this text._"
   ]
  },
  {
   "cell_type": "markdown",
   "id": "abaa342d",
   "metadata": {},
   "source": [
    "<!-- END QUESTION -->\n",
    "\n",
    "## 3. Fitness Level Comparison\n",
    "\n",
    "A group of fitness enthusiasts conducted a survey to compare physical fitness levels among individuals. They managed to gather a simple random sample of 300 adults from a broad demographic. Each participant identified as either \"active\" or \"sedentary\" based on their lifestyle choices. Information was collected on various aspects, including the participants' fitness scores. The dataset, named `fitness_scores`, comprises one row per participant, with columns detailing each individual's lifestyle choice.\n",
    "\n"
   ]
  },
  {
   "cell_type": "code",
   "execution_count": null,
   "id": "387d1562",
   "metadata": {},
   "outputs": [],
   "source": [
    "lifestyle_fitness_table = Table.read_table('lifestyles.csv')\n",
    "lifestyle_fitness_table.show(5)"
   ]
  },
  {
   "cell_type": "markdown",
   "id": "00b91b72",
   "metadata": {},
   "source": [
    "**Question 3.1.** How many people were sedentary in our sample? Please use the provided skeleton code. **(4 points)**\n",
    "\n",
    "*Hint:* Keep in mind that `.group` sorts categories in alphabetical order!\n"
   ]
  },
  {
   "cell_type": "code",
   "execution_count": null,
   "id": "632b2555",
   "metadata": {
    "execution": {
     "iopub.execute_input": "2022-03-02T18:14:44.211347Z",
     "iopub.status.busy": "2022-03-02T18:14:44.210602Z",
     "iopub.status.idle": "2022-03-02T18:14:44.213793Z",
     "shell.execute_reply": "2022-03-02T18:14:44.213399Z"
    },
    "tags": []
   },
   "outputs": [],
   "source": [
    "num_sedentary = lifestyle_fitness_table.group(...)...\n",
    "num_sedentary"
   ]
  },
  {
   "cell_type": "code",
   "execution_count": null,
   "id": "7ef69bc5",
   "metadata": {
    "deletable": false,
    "editable": false
   },
   "outputs": [],
   "source": [
    "grader.check(\"q3_1\")"
   ]
  },
  {
   "cell_type": "markdown",
   "id": "a2ce2757",
   "metadata": {},
   "source": [
    "**Question 3.2.** Complete the cell below so that `avg_active_vs_sedentary` evaluates to `True` if the sampled active people have an higher fitness score than the sampled sedentary on average, and `False` otherwise. Use Python code to achieve this. **(4 points)**\n"
   ]
  },
  {
   "cell_type": "code",
   "execution_count": null,
   "id": "7c55df0f",
   "metadata": {
    "execution": {
     "iopub.execute_input": "2022-03-02T18:14:44.247130Z",
     "iopub.status.busy": "2022-03-02T18:14:44.246618Z",
     "iopub.status.idle": "2022-03-02T18:14:44.249534Z",
     "shell.execute_reply": "2022-03-02T18:14:44.249131Z"
    },
    "tags": []
   },
   "outputs": [],
   "source": [
    "group_mean_tbl = lifestyle_fitness_table.group(...)\n",
    "group_means = group_mean_tbl...       # array of mean ages\n",
    "avg_active_vs_sedentary = group_means... > group_means...\n",
    "avg_active_vs_sedentary"
   ]
  },
  {
   "cell_type": "code",
   "execution_count": null,
   "id": "28b95cc8",
   "metadata": {
    "deletable": false,
    "editable": false
   },
   "outputs": [],
   "source": [
    "grader.check(\"q3_2\")"
   ]
  },
  {
   "cell_type": "markdown",
   "id": "ce6babda",
   "metadata": {},
   "source": [
    "**Question 3.3.** The researchers want to use the data to test whether individuals with an \"active\" lifestyle have higher fitness scores than those with a \"sedentary\" lifestyle—or, in other words, whether the fitness scores of the two groups have the same distribution. One of the following statements is their null hypothesis and another is their alternative hypothesis. Assign `null_statement_number` and `alternative_statement_number` to the numbers of the correct statements in the code cell below. **(4 points)**\n",
    "\n",
    "\n",
    "1. In the population, \"active\" and \"sedentary\" individuals have the same distribution of fitness scores; any difference in sample averages of the two groups is due to chance.\n",
    "2. In the sample, \"active\" and \"sedentary\" individuals have the same distribution of fitness scores; any difference in sample averages of the two groups is due to chance.\n",
    "3. The fitness score distributions of \"active\" and \"sedentary\" individuals in the population are different due to chance.\n",
    "4. \"Active\" individuals in the population have higher fitness scores than \"sedentary\" individuals, on average.\n",
    "5. \"Active\" individuals in the sample have higher fitness scores than \"sedentary\" individuals, on average.\n",
    "6. The average fitness scores of \"active\" and \"sedentary\" individuals in the population are different.\n",
    "\n",
    "\n"
   ]
  },
  {
   "cell_type": "code",
   "execution_count": null,
   "id": "b74f8c7d",
   "metadata": {
    "execution": {
     "iopub.execute_input": "2022-03-02T18:14:44.296344Z",
     "iopub.status.busy": "2022-03-02T18:14:44.295816Z",
     "iopub.status.idle": "2022-03-02T18:14:44.298068Z",
     "shell.execute_reply": "2022-03-02T18:14:44.297643Z"
    },
    "tags": []
   },
   "outputs": [],
   "source": [
    "null_statement_number = ...\n",
    "alternative_statement_number = ..."
   ]
  },
  {
   "cell_type": "code",
   "execution_count": null,
   "id": "138066f8",
   "metadata": {
    "deletable": false,
    "editable": false
   },
   "outputs": [],
   "source": [
    "grader.check(\"q3_3\")"
   ]
  },
  {
   "cell_type": "markdown",
   "id": "1df48cc2",
   "metadata": {},
   "source": [
    "**Question 3.4.** The researchers have decided to use a permutation test for their analysis. Assign `permutation_test_reason` to the number corresponding to the reason they made this choice. **(4 points)**\n",
    "\n",
    "\n",
    "1. Since a person's fitness score shouldn't be inherently related to their lifestyle category, it doesn't matter who is labeled \"active\" and who is labeled \"sedentary\", so you can use permutations.\n",
    "2. Under the null hypothesis, permuting the rows of `lifestyle_fitness_table` is equivalent to drawing a new random sample with the same number of \"active\" and \"sedentary\" individuals as in the original sample.\n",
    "3. Under the null hypothesis, permuting the labels in the `lifestyle_fitness_table` is equivalent to drawing a new random sample with the same number of \"active\" and \"sedentary\" individuals as in the original sample.\n"
   ]
  },
  {
   "cell_type": "code",
   "execution_count": null,
   "id": "def4f4cf",
   "metadata": {
    "execution": {
     "iopub.execute_input": "2022-03-02T18:14:44.381699Z",
     "iopub.status.busy": "2022-03-02T18:14:44.381069Z",
     "iopub.status.idle": "2022-03-02T18:14:44.382821Z",
     "shell.execute_reply": "2022-03-02T18:14:44.382153Z"
    },
    "tags": []
   },
   "outputs": [],
   "source": [
    "permutation_test_reason = ...\n",
    "permutation_test_reason"
   ]
  },
  {
   "cell_type": "code",
   "execution_count": null,
   "id": "b1445ba3",
   "metadata": {
    "deletable": false,
    "editable": false
   },
   "outputs": [],
   "source": [
    "grader.check(\"q3_4\")"
   ]
  },
  {
   "cell_type": "markdown",
   "id": "961fb475",
   "metadata": {},
   "source": [
    "**Question 3.5.** To test their hypotheses, the researchers have followed our textbook's advice and chosen a test statistic where the following statement is true: Large values of the test statistic favor the alternative hypothesis.\n",
    "\n",
    "\n",
    "The researchers' test statistic is one of the two options below. Which one is it? Assign the appropriate number to the variable `correct_test_stat.` **(4 points)**\n",
    "\n",
    "\n",
    "1. \"|active fitness score average - sedentary fitness score average|\" in a sample created by randomly shuffling the \"active\"/\"sedentary\" labels.\n",
    "2. \"active fitness score average - sedentary fitness score average\" in a sample created by randomly shuffling the \"active\"/\"sedentary\" labels.\n"
   ]
  },
  {
   "cell_type": "code",
   "execution_count": null,
   "id": "245c6c94",
   "metadata": {
    "execution": {
     "iopub.execute_input": "2022-03-02T18:14:44.407008Z",
     "iopub.status.busy": "2022-03-02T18:14:44.406524Z",
     "iopub.status.idle": "2022-03-02T18:14:44.409458Z",
     "shell.execute_reply": "2022-03-02T18:14:44.409799Z"
    },
    "tags": []
   },
   "outputs": [],
   "source": [
    "correct_test_stat = ...\n",
    "correct_test_stat"
   ]
  },
  {
   "cell_type": "code",
   "execution_count": null,
   "id": "98df8c47",
   "metadata": {
    "deletable": false,
    "editable": false
   },
   "outputs": [],
   "source": [
    "grader.check(\"q3_5\")"
   ]
  },
  {
   "cell_type": "markdown",
   "id": "debf05e1",
   "metadata": {},
   "source": [
    "**Question 3.6.** Complete the cell below so that `observed_statistic_fitness` evaluates to the observed value of the researchers' test statistic based on the fitness scores between \"active\" and \"sedentary\" lifestyle groups. Use as many lines of code as you need, and remember that you can use any quantity, table, or array that you created earlier. **(4 points)**"
   ]
  },
  {
   "cell_type": "code",
   "execution_count": null,
   "id": "419f4306",
   "metadata": {
    "execution": {
     "iopub.execute_input": "2022-03-02T18:14:44.434712Z",
     "iopub.status.busy": "2022-03-02T18:14:44.434282Z",
     "iopub.status.idle": "2022-03-02T18:14:44.437320Z",
     "shell.execute_reply": "2022-03-02T18:14:44.436918Z"
    },
    "tags": []
   },
   "outputs": [],
   "source": [
    "observed_statistic_fitness = ...\n",
    "observed_statistic_fitness"
   ]
  },
  {
   "cell_type": "code",
   "execution_count": null,
   "id": "56824985",
   "metadata": {
    "deletable": false,
    "editable": false
   },
   "outputs": [],
   "source": [
    "grader.check(\"q3_6\")"
   ]
  },
  {
   "cell_type": "markdown",
   "id": "89481a01",
   "metadata": {},
   "source": [
    "**Question 3.7.** Assign `shuffled_labels` to an array of shuffled active/sedentary labels. The rest of the code puts the array in a table along with the data in `lifestyle_fitness_table`. **(4 points)**\n",
    "\n",
    "*Note:* Check out [12.1](https://inferentialthinking.com/chapters/12/1/AB_Testing.html#predicting-the-statistic-under-the-null-hypothesis) for a refresher on random permutations.\n"
   ]
  },
  {
   "cell_type": "code",
   "execution_count": null,
   "id": "a4fde4e4",
   "metadata": {
    "execution": {
     "iopub.execute_input": "2022-03-02T18:14:44.499875Z",
     "iopub.status.busy": "2022-03-02T18:14:44.499156Z",
     "iopub.status.idle": "2022-03-02T18:14:44.502118Z",
     "shell.execute_reply": "2022-03-02T18:14:44.502486Z"
    },
    "tags": []
   },
   "outputs": [],
   "source": [
    "shuffled_labels = ...\n",
    "original_with_shuffled_labels = lifestyle_fitness_table.with_columns('Shuffled Label', shuffled_labels)\n",
    "original_with_shuffled_labels"
   ]
  },
  {
   "cell_type": "code",
   "execution_count": null,
   "id": "132479cd",
   "metadata": {
    "deletable": false,
    "editable": false
   },
   "outputs": [],
   "source": [
    "grader.check(\"q3_7\")"
   ]
  },
  {
   "cell_type": "markdown",
   "id": "d6ff747a",
   "metadata": {},
   "source": [
    "**Question 3.8.** The comparison below uses the array `shuffled_labels` from Question 3.7 and the count `num_sedentary` from Question 3.1.\n",
    "\n",
    "For this comparison, assign the correct number from one of the following options to the variable `correct_q8`. **Pretend this is a midterm problem and solve it without doing the calculation in a code cell.** **(4 points)**\n",
    "\n",
    "`comp = np.count_nonzero(shuffled_labels == 'sedentary') == num_sedentary`\n",
    "\n",
    "1. `comp` is set to `False`.\n",
    "2. `comp` is set to `True`.\n",
    "3. `comp` is set to `True` or `False`, depending on how the shuffle came out.\n"
   ]
  },
  {
   "cell_type": "code",
   "execution_count": null,
   "id": "7bd6d6d7",
   "metadata": {
    "execution": {
     "iopub.execute_input": "2022-03-02T18:14:44.588249Z",
     "iopub.status.busy": "2022-03-02T18:14:44.587531Z",
     "iopub.status.idle": "2022-03-02T18:14:44.590757Z",
     "shell.execute_reply": "2022-03-02T18:14:44.590346Z"
    },
    "tags": []
   },
   "outputs": [],
   "source": [
    "correct_q8 = ...\n",
    "correct_q8"
   ]
  },
  {
   "cell_type": "code",
   "execution_count": null,
   "id": "b2152c33",
   "metadata": {
    "deletable": false,
    "editable": false
   },
   "outputs": [],
   "source": [
    "grader.check(\"q3_8\")"
   ]
  },
  {
   "cell_type": "markdown",
   "id": "53c4760f",
   "metadata": {},
   "source": [
    "**Question 3.9.** Create a function named `generate_one_simulation` that does not accept any arguments and returns a single simulated value of the test statistic based on the comparison of fitness scores between \"active\" and \"sedentary\" lifestyle categories. We have outlined a basic structure for you below, but you are encouraged to adapt this framework in a way that best suits your analysis. Feel free to utilize as many lines of code as necessary. Consider revisiting your previous code from this assignment, as there may be elements that you can efficiently incorporate into this function. **(4 points)**\n",
    "\n",
    "\n"
   ]
  },
  {
   "cell_type": "code",
   "execution_count": null,
   "id": "35f3fcfc",
   "metadata": {
    "execution": {
     "iopub.execute_input": "2022-03-02T18:14:44.617013Z",
     "iopub.status.busy": "2022-03-02T18:14:44.616389Z",
     "iopub.status.idle": "2022-03-02T18:14:44.618342Z",
     "shell.execute_reply": "2022-03-02T18:14:44.618671Z"
    },
    "tags": []
   },
   "outputs": [],
   "source": [
    "def generate_one_simulation():\n",
    "    \"Returns one value of our simulated test statistic\"\n",
    "    shuffled_labels = ...\n",
    "    shuffled_tbl = ...\n",
    "    group_means = ...\n",
    "    ..."
   ]
  },
  {
   "cell_type": "code",
   "execution_count": null,
   "id": "d7b9c3b5",
   "metadata": {
    "deletable": false,
    "editable": false
   },
   "outputs": [],
   "source": [
    "grader.check(\"q3_9\")"
   ]
  },
  {
   "cell_type": "markdown",
   "id": "542b9804",
   "metadata": {},
   "source": [
    "After you have defined your function, run the following cell a few times to see how the statistic varies."
   ]
  },
  {
   "cell_type": "code",
   "execution_count": null,
   "id": "e2a3ba72",
   "metadata": {
    "execution": {
     "iopub.execute_input": "2022-03-02T18:14:44.695041Z",
     "iopub.status.busy": "2022-03-02T18:14:44.694556Z",
     "iopub.status.idle": "2022-03-02T18:14:44.697490Z",
     "shell.execute_reply": "2022-03-02T18:14:44.697101Z"
    }
   },
   "outputs": [],
   "source": [
    " generate_one_simulation()"
   ]
  },
  {
   "cell_type": "markdown",
   "id": "5b25b97b",
   "metadata": {},
   "source": [
    "**Question 3.10.** Write the code to generate 5,000 simulated values for the test statistic, which compares the fitness scores between the \"active\" and \"sedentary\" lifestyle groups. Included in this task is the code to plot the empirical distribution of these simulated statistics alongside the `observed_statistic_fitness` value you calculated in Question 3.6. You are encouraged to utilize as many lines of code as necessary for this simulation. **(4 points)**\n",
    "\n",
    "*Note:* Expect this code to take approximately one minute to execute."
   ]
  },
  {
   "cell_type": "code",
   "execution_count": null,
   "id": "4d59ebd7",
   "metadata": {
    "execution": {
     "iopub.execute_input": "2022-03-02T18:14:44.980733Z",
     "iopub.status.busy": "2022-03-02T18:14:44.949647Z",
     "iopub.status.idle": "2022-03-02T18:15:27.436687Z",
     "shell.execute_reply": "2022-03-02T18:15:27.437136Z"
    },
    "scrolled": true,
    "tags": []
   },
   "outputs": [],
   "source": [
    "repetitions = 5000\n",
    "\n",
    "generated_simulations_ab = make_array()\n",
    "...\n",
    "    generated_simulations_ab = ...\n",
    "\n",
    "# Do not change these lines\n",
    "Table().with_columns('Generated Simulation',generated_simulations_ab ).hist()\n",
    "plt.scatter(observed_statistic_fitness, -0.002, color='red', s=70);"
   ]
  },
  {
   "cell_type": "code",
   "execution_count": null,
   "id": "ca67e605",
   "metadata": {
    "deletable": false,
    "editable": false
   },
   "outputs": [],
   "source": [
    "grader.check(\"q3_10\")"
   ]
  },
  {
   "cell_type": "markdown",
   "id": "301b7bab",
   "metadata": {},
   "source": [
    "**Question 3.11.** Use the simulation to find an empirical approximation to the p-value. Assign `p_val` to the appropriate p-value from this simulation. Then, assign `conclusion` to either `null_hyp` or `alt_hyp`. **(4 points)** \n",
    "\n",
    "*Note:* Assume that we use the 5% cutoff for the p-value.\n"
   ]
  },
  {
   "cell_type": "code",
   "execution_count": null,
   "id": "b52e82c6",
   "metadata": {
    "execution": {
     "iopub.execute_input": "2022-03-02T18:15:27.449296Z",
     "iopub.status.busy": "2022-03-02T18:15:27.448820Z",
     "iopub.status.idle": "2022-03-02T18:15:27.452141Z",
     "shell.execute_reply": "2022-03-02T18:15:27.451706Z"
    },
    "tags": []
   },
   "outputs": [],
   "source": [
    "# These are variables provided for you to use.\n",
    "null_hyp = 'The data are consistent with the null hypothesis.'\n",
    "alt_hyp = 'The data support the alternative more than the null.'\n",
    "\n",
    "p_val = ...\n",
    "conclusion = ...\n",
    "\n",
    "p_val, conclusion # Do not change this line"
   ]
  },
  {
   "cell_type": "code",
   "execution_count": null,
   "id": "80289462",
   "metadata": {
    "deletable": false,
    "editable": false
   },
   "outputs": [],
   "source": [
    "grader.check(\"q3_11\")"
   ]
  },
  {
   "cell_type": "markdown",
   "id": "a42d45ac",
   "metadata": {},
   "source": [
    "You're done with Homework 7!  \n",
    "\n",
    "**Important submission steps:** \n",
    "1. Run the tests and verify that they all pass.\n",
    "2. Choose **Save Notebook** from the **File** menu, then **run the final cell**. \n",
    "3. Click the link to download the zip file.\n",
    "4. Then submit the zip file to the corresponding assignment according to your instructor's directions. \n",
    "\n",
    "**It is your responsibility to make sure your work is saved before running the last cell.**"
   ]
  },
  {
   "cell_type": "code",
   "execution_count": null,
   "id": "a5a22fca",
   "metadata": {},
   "outputs": [],
   "source": []
  },
  {
   "cell_type": "markdown",
   "id": "8bd34010",
   "metadata": {
    "deletable": false,
    "editable": false
   },
   "source": [
    "## Submission\n",
    "\n",
    "Make sure you have run all cells in your notebook in order before running the cell below, so that all images/graphs appear in the output. The cell below will generate a zip file for you to submit. **Please save before exporting!**"
   ]
  },
  {
   "cell_type": "code",
   "execution_count": null,
   "id": "5460e655",
   "metadata": {
    "deletable": false,
    "editable": false
   },
   "outputs": [],
   "source": [
    "# Save your notebook first, then run this cell to export your submission.\n",
    "grader.export(pdf=False, run_tests=True)"
   ]
  },
  {
   "cell_type": "markdown",
   "id": "9b5e9336",
   "metadata": {},
   "source": [
    " "
   ]
  }
 ],
 "metadata": {
  "kernelspec": {
   "display_name": "Python 3 (ipykernel)",
   "language": "python",
   "name": "python3"
  },
  "language_info": {
   "codemirror_mode": {
    "name": "ipython",
    "version": 3
   },
   "file_extension": ".py",
   "mimetype": "text/x-python",
   "name": "python",
   "nbconvert_exporter": "python",
   "pygments_lexer": "ipython3",
   "version": "3.10.11"
  },
  "otter": {
   "OK_FORMAT": true,
   "tests": {
    "q1_1": {
     "name": "q1_1",
     "points": [
      0,
      0,
      0,
      0
     ],
     "suites": [
      {
       "cases": [
        {
         "code": ">>> type(sample_size) == int\nTrue",
         "hidden": false,
         "locked": false
        },
        {
         "code": ">>> type(percent_DA) == float or type(percent_DA) == int\nTrue",
         "hidden": false,
         "locked": false
        },
        {
         "code": ">>> 100 <= sample_size <= 500\nTrue",
         "hidden": false,
         "locked": false
        },
        {
         "code": ">>> 0 <= percent_DA <= 100\nTrue",
         "hidden": false,
         "locked": false
        }
       ],
       "scored": true,
       "setup": "",
       "teardown": "",
       "type": "doctest"
      }
     ]
    },
    "q1_4": {
     "name": "q1_4",
     "points": [
      0,
      0
     ],
     "suites": [
      {
       "cases": [
        {
         "code": ">>> type(test_stat) == int\nTrue",
         "hidden": false,
         "locked": false
        },
        {
         "code": ">>> any((test_stat == x for x in np.arange(1,5)))\nTrue",
         "hidden": false,
         "locked": false
        }
       ],
       "scored": true,
       "setup": "",
       "teardown": "",
       "type": "doctest"
      }
     ]
    },
    "q1_5": {
     "name": "q1_5",
     "points": [
      0,
      0
     ],
     "suites": [
      {
       "cases": [
        {
         "code": ">>> type(observed_stat) == float\nTrue",
         "hidden": false,
         "locked": false
        },
        {
         "code": ">>> 0 <= observed_stat <= 100\nTrue",
         "hidden": false,
         "locked": false
        }
       ],
       "scored": true,
       "setup": "",
       "teardown": "",
       "type": "doctest"
      }
     ]
    },
    "q1_6": {
     "name": "q1_6",
     "points": [
      0,
      0
     ],
     "suites": [
      {
       "cases": [
        {
         "code": ">>> type(assumption_required) == int\nTrue",
         "hidden": false,
         "locked": false
        },
        {
         "code": ">>> 1 <= assumption_required <= 4\nTrue",
         "hidden": false,
         "locked": false
        }
       ],
       "scored": true,
       "setup": "",
       "teardown": "",
       "type": "doctest"
      }
     ]
    },
    "q1_8": {
     "name": "q1_8",
     "points": [
      0,
      0
     ],
     "suites": [
      {
       "cases": [
        {
         "code": ">>> import numpy as np\n>>> type(p_value) == float or type(p_value) == np.float64\nTrue",
         "hidden": false,
         "locked": false
        },
        {
         "code": ">>> 0 <= p_value <= 1\nTrue",
         "hidden": false,
         "locked": false
        }
       ],
       "scored": true,
       "setup": "",
       "teardown": "",
       "type": "doctest"
      }
     ]
    },
    "q1_9": {
     "name": "q1_9",
     "points": [
      0,
      0
     ],
     "suites": [
      {
       "cases": [
        {
         "code": ">>> type(correct_doctor) == int\nTrue",
         "hidden": false,
         "locked": false
        },
        {
         "code": ">>> any((correct_doctor == x for x in (1,2)))\nTrue",
         "hidden": false,
         "locked": false
        }
       ],
       "scored": true,
       "setup": "",
       "teardown": "",
       "type": "doctest"
      }
     ]
    },
    "q2_2": {
     "name": "q2_2",
     "points": [
      2,
      2
     ],
     "suites": [
      {
       "cases": [
        {
         "code": ">>> import numpy as np\n>>> type(observed_tvd) in set([float, np.float32, np.float64])\nTrue",
         "hidden": false,
         "locked": false
        },
        {
         "code": ">>> np.isclose(round(observed_tvd, 6), 0.262086)\nTrue",
         "hidden": false,
         "locked": false
        }
       ],
       "scored": true,
       "setup": "",
       "teardown": "",
       "type": "doctest"
      }
     ]
    },
    "q2_3": {
     "name": "q2_3",
     "points": [
      1,
      1,
      1,
      1
     ],
     "suites": [
      {
       "cases": [
        {
         "code": ">>> len(simulated_tvds) == 10000\nTrue",
         "hidden": false,
         "locked": false
        },
        {
         "code": ">>> all(simulated_tvds >= 0)\nTrue",
         "hidden": false,
         "locked": false
        },
        {
         "code": ">>> # Make sure that your test statistic is not always the same value \n>>> len(np.unique(simulated_tvds)) != 1\nTrue",
         "hidden": false,
         "locked": false
        },
        {
         "code": ">>> # Make sure you're simulating under the null hypothesis\n>>> np.mean(simulated_tvds) < 0.1\nTrue",
         "hidden": false,
         "locked": false
        }
       ],
       "scored": true,
       "setup": "",
       "teardown": "",
       "type": "doctest"
      }
     ]
    },
    "q2_4": {
     "name": "q2_4",
     "points": [
      4
     ],
     "suites": [
      {
       "cases": [
        {
         "code": ">>> 0 <= p_value_tvd <= 1\nTrue",
         "hidden": false,
         "locked": false
        }
       ],
       "scored": true,
       "setup": "",
       "teardown": "",
       "type": "doctest"
      }
     ]
    },
    "q3_1": {
     "name": "q3_1",
     "points": [
      0
     ],
     "suites": [
      {
       "cases": [
        {
         "code": ">>> 0 <= num_sedentary <= 300\nTrue",
         "hidden": false,
         "locked": false
        }
       ],
       "scored": true,
       "setup": "",
       "teardown": "",
       "type": "doctest"
      }
     ]
    },
    "q3_10": {
     "name": "q3_10",
     "points": [
      4
     ],
     "suites": [
      {
       "cases": [
        {
         "code": ">>> len(generated_simulations_ab) == 5000\nTrue",
         "hidden": false,
         "locked": false
        }
       ],
       "scored": true,
       "setup": "",
       "teardown": "",
       "type": "doctest"
      }
     ]
    },
    "q3_11": {
     "name": "q3_11",
     "points": [
      0,
      0,
      0
     ],
     "suites": [
      {
       "cases": [
        {
         "code": ">>> import numpy as np\n>>> type(p_val) in set([float, np.float32, np.float64])\nTrue",
         "hidden": false,
         "locked": false
        },
        {
         "code": ">>> 0 <= p_val <= 1\nTrue",
         "hidden": false,
         "locked": false
        },
        {
         "code": ">>> type(conclusion) == str\nTrue",
         "hidden": false,
         "locked": false
        }
       ],
       "scored": true,
       "setup": "",
       "teardown": "",
       "type": "doctest"
      }
     ]
    },
    "q3_2": {
     "name": "q3_2",
     "points": [
      0
     ],
     "suites": [
      {
       "cases": [
        {
         "code": ">>> import numpy as np\n>>> type(avg_active_vs_sedentary) in set([bool, np.bool_])\nTrue",
         "hidden": false,
         "locked": false
        }
       ],
       "scored": true,
       "setup": "",
       "teardown": "",
       "type": "doctest"
      }
     ]
    },
    "q3_3": {
     "name": "q3_3",
     "points": [
      0,
      0,
      0,
      0,
      0
     ],
     "suites": [
      {
       "cases": [
        {
         "code": ">>> type(null_statement_number) == int\nTrue",
         "hidden": false,
         "locked": false
        },
        {
         "code": ">>> type(alternative_statement_number) == int\nTrue",
         "hidden": false,
         "locked": false
        },
        {
         "code": ">>> any(null_statement_number == x for x in np.arange(1,7))\nTrue",
         "hidden": false,
         "locked": false
        },
        {
         "code": ">>> any(alternative_statement_number == x for x in np.arange(1,7))\nTrue",
         "hidden": false,
         "locked": false
        },
        {
         "code": ">>> null_statement_number != alternative_statement_number\nTrue",
         "hidden": false,
         "locked": false
        }
       ],
       "scored": true,
       "setup": "",
       "teardown": "",
       "type": "doctest"
      }
     ]
    },
    "q3_4": {
     "name": "q3_4",
     "points": [
      0,
      0
     ],
     "suites": [
      {
       "cases": [
        {
         "code": ">>> type(permutation_test_reason) == int\nTrue",
         "hidden": false,
         "locked": false
        },
        {
         "code": ">>> any(permutation_test_reason == x for x in np.arange(1,4))\nTrue",
         "hidden": false,
         "locked": false
        }
       ],
       "scored": true,
       "setup": "",
       "teardown": "",
       "type": "doctest"
      }
     ]
    },
    "q3_5": {
     "name": "q3_5",
     "points": [
      0,
      0
     ],
     "suites": [
      {
       "cases": [
        {
         "code": ">>> type(correct_test_stat) == int\nTrue",
         "hidden": false,
         "locked": false
        },
        {
         "code": ">>> any(correct_test_stat == x for x in np.arange(1,3))\nTrue",
         "hidden": false,
         "locked": false
        }
       ],
       "scored": true,
       "setup": "",
       "teardown": "",
       "type": "doctest"
      }
     ]
    },
    "q3_6": {
     "name": "q3_6",
     "points": [
      0,
      0
     ],
     "suites": [
      {
       "cases": [
        {
         "code": ">>> type(observed_statistic_fitness) == float\nTrue",
         "hidden": false,
         "locked": false
        },
        {
         "code": ">>> observed_statistic_fitness >= 0\nTrue",
         "hidden": false,
         "locked": false
        }
       ],
       "scored": true,
       "setup": "",
       "teardown": "",
       "type": "doctest"
      }
     ]
    },
    "q3_7": {
     "name": "q3_7",
     "points": [
      0,
      0,
      0
     ],
     "suites": [
      {
       "cases": [
        {
         "code": ">>> type(original_with_shuffled_labels) == Table\nTrue",
         "hidden": false,
         "locked": false
        },
        {
         "code": ">>> original_with_shuffled_labels.labels == (\"Lifestyle\", \"Fitness Score\", \"Shuffled Label\")\nTrue",
         "hidden": false,
         "locked": false
        },
        {
         "code": ">>> original_with_shuffled_labels.num_rows == 300\nTrue",
         "hidden": false,
         "locked": false
        }
       ],
       "scored": true,
       "setup": "",
       "teardown": "",
       "type": "doctest"
      }
     ]
    },
    "q3_8": {
     "name": "q3_8",
     "points": [
      0,
      0
     ],
     "suites": [
      {
       "cases": [
        {
         "code": ">>> type(correct_q8) == int\nTrue",
         "hidden": false,
         "locked": false
        },
        {
         "code": ">>> any(correct_q8 == x for x in np.arange(1,4))\nTrue",
         "hidden": false,
         "locked": false
        }
       ],
       "scored": true,
       "setup": "",
       "teardown": "",
       "type": "doctest"
      }
     ]
    },
    "q3_9": {
     "name": "q3_9",
     "points": [
      4
     ],
     "suites": [
      {
       "cases": [
        {
         "code": ">>> -5 < generate_one_simulation() < 5\nTrue",
         "hidden": false,
         "locked": false
        }
       ],
       "scored": true,
       "setup": "",
       "teardown": "",
       "type": "doctest"
      }
     ]
    }
   }
  }
 },
 "nbformat": 4,
 "nbformat_minor": 5
}
