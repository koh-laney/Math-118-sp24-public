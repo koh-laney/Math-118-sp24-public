{
 "cells": [
  {
   "cell_type": "code",
   "execution_count": null,
   "id": "52787108",
   "metadata": {
    "deletable": false,
    "editable": false
   },
   "outputs": [],
   "source": [
    "# Initialize Otter\n",
    "import otter\n",
    "grader = otter.Notebook(\"hw09_sp24.ipynb\")"
   ]
  },
  {
   "cell_type": "markdown",
   "id": "a4cfc6ff",
   "metadata": {},
   "source": [
    "# Homework 9: Sample Sizes and Confidence Intervals"
   ]
  },
  {
   "cell_type": "markdown",
   "id": "dbc445a5",
   "metadata": {},
   "source": [
    "**Helpful Resource:**\n",
    "\n",
    "- [Python Reference](http://data8.org/sp22/python-reference.html): Cheat sheet of helpful array & table methods used in Data 8!\n",
    "\n",
    "**Recommended Readings**: \n",
    "\n",
    "* [Estimation](https://inferentialthinking.com/chapters/13/Estimation.html)\n",
    "* [Why the Mean Matters](https://inferentialthinking.com/chapters/14/Why_the_Mean_Matters.html)"
   ]
  },
  {
   "cell_type": "markdown",
   "id": "fafa6070",
   "metadata": {},
   "source": [
    "Please complete this notebook by filling in the cells provided. Before you begin, execute the following cell to setup the notebook by importing some helpful libraries. Each time you start your server, you will need to execute this cell again.\n",
    "\n",
    "For all problems that you must write explanations and sentences for, you **must** provide your answer in the designated space. **Moreover, throughout this homework and all future ones, please be sure to not re-assign variables throughout the notebook!** For example, if you use `max_temperature` in your answer to one question, do not reassign it later on. Otherwise, you will fail tests that you thought you were passing previously!\n",
    "\n",
    "\n",
    "**Note: This homework has hidden tests on it. That means even though the tests may say 100% passed, it doesn't mean your final grade will be 100%. We will be running more tests for correctness once everyone turns in the homework.**\n",
    "\n",
    "\n",
    "Directly sharing answers is not okay, but discussing problems with the course staff or with other students is encouraged. \n",
    "\n",
    "You should start early so that you have time to get help if you're stuck."
   ]
  },
  {
   "cell_type": "code",
   "execution_count": null,
   "id": "7c1c222e",
   "metadata": {
    "execution": {
     "iopub.execute_input": "2022-03-31T07:51:20.039914Z",
     "iopub.status.busy": "2022-03-31T07:51:20.039629Z",
     "iopub.status.idle": "2022-03-31T07:51:21.455818Z",
     "shell.execute_reply": "2022-03-31T07:51:21.455028Z"
    }
   },
   "outputs": [],
   "source": [
    "# Don't change this cell; just run it. \n",
    "\n",
    "import numpy as np\n",
    "from datascience import *\n",
    "\n",
    "# These lines do some fancy plotting magic.\",\n",
    "import matplotlib\n",
    "%matplotlib inline\n",
    "import matplotlib.pyplot as plt\n",
    "plt.style.use('fivethirtyeight')\n",
    "import warnings\n",
    "warnings.simplefilter('ignore', FutureWarning)"
   ]
  },
  {
   "cell_type": "markdown",
   "id": "8475c0b0",
   "metadata": {},
   "source": [
    "## 1.  Understanding Distributions in NBA Player Careers\n",
    "\n",
    "Recent statistics indicate that the average NBA career lasts 5 years with a standard deviation of 1.5 years. This statistical insight allows us to explore and understand the distribution of players' careers within the league, applying Chebyshev's inequality.\n",
    "\n",
    "In each part below, fill in the blank with a percent that makes the statement true **without further assumptions**, and explain your answer.\n",
    "\n",
    "*Note:* No credit will be given for loose bounds such as \"at least 0%\" or \"at most 100%\". Give the best answer that is possible with the information given."
   ]
  },
  {
   "cell_type": "markdown",
   "id": "5cb801fb",
   "metadata": {},
   "source": [
    "<!-- BEGIN QUESTION -->\n",
    "\n",
    "**Question 1.1.**  (Years in the NBA): At least _______% of NBA players have careers that last between 2 and 8 years in the league. **(6 Points)**\n"
   ]
  },
  {
   "cell_type": "markdown",
   "id": "808d2128",
   "metadata": {},
   "source": [
    "_Type your answer here, replacing this text._"
   ]
  },
  {
   "cell_type": "markdown",
   "id": "36067cc6",
   "metadata": {},
   "source": [
    "<!-- END QUESTION -->\n",
    "\n",
    "<!-- BEGIN QUESTION -->\n",
    "\n",
    "**Question 1.2.** (Outside Career Range): At most _______% of NBA players have careers that do not last between 2 and 8 years in the league.\n",
    "\n",
    " **(6 Points)**\n"
   ]
  },
  {
   "cell_type": "markdown",
   "id": "5eefe7a4",
   "metadata": {},
   "source": [
    "_Type your answer here, replacing this text._"
   ]
  },
  {
   "cell_type": "markdown",
   "id": "c6293412",
   "metadata": {},
   "source": [
    "<!-- END QUESTION -->\n",
    "\n",
    "<!-- BEGIN QUESTION -->\n",
    "\n",
    "**Question 1.3.** (Long Careers): At most _______% of NBA players have careers that last more than 8 years in the league. **(6 Points)**\n",
    "\n",
    "*Hint:* If you're stuck, try thinking about what the distribution may look like in this case.\n"
   ]
  },
  {
   "cell_type": "markdown",
   "id": "487f3917",
   "metadata": {},
   "source": [
    "_Type your answer here, replacing this text._"
   ]
  },
  {
   "cell_type": "markdown",
   "id": "05c509b2",
   "metadata": {},
   "source": [
    "<!-- END QUESTION -->\n",
    "\n",
    "## 2. Sample Size and Confidence Intervals in Basketball Analytics\n",
    "\n",
    "A data science class at a university, renowned for its basketball team, wants to estimate the percentage of students at the school who created a bracket for the NCAA March Madness college basketball tournament. To do this, they plan to take a random sample of students. You can assume their method of sampling is equivalent to drawing at random with replacement from the student body.\n",
    "\n",
    "***Please review [Section 14.6](https://inferentialthinking.com/chapters/14/6/Choosing_a_Sample_Size.html#) of the textbook before proceeding with this section. Your work will go much faster that way!***"
   ]
  },
  {
   "cell_type": "markdown",
   "id": "dc66e080",
   "metadata": {},
   "source": [
    "**Question 2.1.**  Assign `fewest` to the smallest number of students they should sample to ensure that an **95%** confidence interval for the percentage of NBA followers has a width of no more than 4% from left end to right end. **(6 points)**\n",
    "\n",
    "*Hint:* How can our data be represented to show if a student in the sample follows the NBA? Given this, what assumptions can we make for the SD of the population? [Section 14.6](https://inferentialthinking.com/chapters/14/6/Choosing_a_Sample_Size.html#) might be helpful!\n",
    "\n",
    "*Note:* While the true smallest sample size would have to be an integer, please leave your answer in decimal format for the sake of our tests.\n"
   ]
  },
  {
   "cell_type": "code",
   "execution_count": null,
   "id": "e56b7e4e",
   "metadata": {
    "execution": {
     "iopub.execute_input": "2022-03-31T07:51:21.459968Z",
     "iopub.status.busy": "2022-03-31T07:51:21.459741Z",
     "iopub.status.idle": "2022-03-31T07:51:21.466213Z",
     "shell.execute_reply": "2022-03-31T07:51:21.465532Z"
    },
    "tags": []
   },
   "outputs": [],
   "source": [
    "fewest = ...\n",
    "fewest"
   ]
  },
  {
   "cell_type": "code",
   "execution_count": null,
   "id": "7ee5652f",
   "metadata": {
    "deletable": false,
    "editable": false
   },
   "outputs": [],
   "source": [
    "grader.check(\"q2_1\")"
   ]
  },
  {
   "cell_type": "markdown",
   "id": "bf9cdcc3",
   "metadata": {},
   "source": [
    "<!-- BEGIN QUESTION -->\n",
    "\n",
    "**Question 2.2.** Suppose the data science class decides to construct a 99% confidence interval instead of a 95% confidence interval, but they still require that the width of the interval is no more than 4% from left end to right end. Will they need the same sample size as in 2.1? Pick the right answer and explain further without calculation. **(6 Points)**\n",
    "\n",
    "1. Yes, they must use the same sample size.\n",
    "2. No, a smaller sample size will work.\n",
    "3. No, they will need a bigger sample.\n"
   ]
  },
  {
   "cell_type": "markdown",
   "id": "be82abee",
   "metadata": {},
   "source": [
    "_Type your answer here, replacing this text._"
   ]
  },
  {
   "cell_type": "markdown",
   "id": "b9ac5fd5",
   "metadata": {},
   "source": [
    "<!-- END QUESTION -->\n",
    "\n",
    "**Question 2.3:** The professor explains that a 99% confidence interval for the parameter is constructed similarly to a 95% confidence interval, except that you have to go 2.58 SDs on either side of the estimate (± 2.58) instead of 2 SDs on either side (±2). Assign `fewest_num` to the smallest number of students they should sample to ensure that a **99%** confidence interval for the percentage of March Madness followers has a width of no more than 4% from left end to right end. **(6 points)**\n",
    "\n",
    "*Note:* While the true smallest sample size would have to be an integer, please leave your answer in decimal format for the sake of our tests.\n"
   ]
  },
  {
   "cell_type": "code",
   "execution_count": null,
   "id": "95b55421",
   "metadata": {
    "execution": {
     "iopub.execute_input": "2022-03-31T07:51:21.487624Z",
     "iopub.status.busy": "2022-03-31T07:51:21.487428Z",
     "iopub.status.idle": "2022-03-31T07:51:21.491671Z",
     "shell.execute_reply": "2022-03-31T07:51:21.491149Z"
    },
    "tags": []
   },
   "outputs": [],
   "source": [
    "fewest_num = ...\n",
    "fewest_num"
   ]
  },
  {
   "cell_type": "code",
   "execution_count": null,
   "id": "684df3cb",
   "metadata": {
    "deletable": false,
    "editable": false
   },
   "outputs": [],
   "source": [
    "grader.check(\"q2_3\")"
   ]
  },
  {
   "cell_type": "markdown",
   "id": "7247e5df",
   "metadata": {},
   "source": [
    "For this next exercise, please consult [Section 14.3.4](https://inferentialthinking.com/chapters/14/3/SD_and_the_Normal_Curve.html#the-standard-normal-cdf) of the textbook for similar examples.\n",
    "\n",
    "The students are curious about how the professor came up with the value 2.58 in Question 2.3. She says she ran the following two code cells. The first one calls the `datascience` library function `plot_normal_cdf`, which displays the proportion that is at most the specified number of SDs above average under the normal curve plotted with standard units on the horizontal axis. You can find the documentation [here](http://data8.org/datascience/util.html#datascience.util.plot_normal_cdf).\n",
    "\n",
    "*Note:* The acronym `cdf` stands for `cumulative distribution function`. It measures the proportion to the left of a specified point under a probability histogram."
   ]
  },
  {
   "cell_type": "code",
   "execution_count": null,
   "id": "1cb59e5e",
   "metadata": {
    "execution": {
     "iopub.execute_input": "2022-03-31T07:51:21.508257Z",
     "iopub.status.busy": "2022-03-31T07:51:21.508045Z",
     "iopub.status.idle": "2022-03-31T07:51:21.942839Z",
     "shell.execute_reply": "2022-03-31T07:51:21.942128Z"
    }
   },
   "outputs": [],
   "source": [
    "plot_normal_cdf(2.58)"
   ]
  },
  {
   "cell_type": "markdown",
   "id": "edb1661f",
   "metadata": {},
   "source": [
    "To run the second cell, the professor had to first import a Python library for probability and statistics:"
   ]
  },
  {
   "cell_type": "code",
   "execution_count": null,
   "id": "14f7c160",
   "metadata": {
    "execution": {
     "iopub.execute_input": "2022-03-31T07:51:21.946387Z",
     "iopub.status.busy": "2022-03-31T07:51:21.945746Z",
     "iopub.status.idle": "2022-03-31T07:51:21.949406Z",
     "shell.execute_reply": "2022-03-31T07:51:21.948604Z"
    }
   },
   "outputs": [],
   "source": [
    "# Just run this cell\n",
    "from scipy import stats"
   ]
  },
  {
   "cell_type": "markdown",
   "id": "c2522f33",
   "metadata": {},
   "source": [
    "Then she used the `norm.cdf` method in the library to find the gold proportion above."
   ]
  },
  {
   "cell_type": "code",
   "execution_count": null,
   "id": "42542826",
   "metadata": {
    "execution": {
     "iopub.execute_input": "2022-03-31T07:51:21.952739Z",
     "iopub.status.busy": "2022-03-31T07:51:21.952229Z",
     "iopub.status.idle": "2022-03-31T07:51:21.957224Z",
     "shell.execute_reply": "2022-03-31T07:51:21.956624Z"
    }
   },
   "outputs": [],
   "source": [
    "# Just run this cell\n",
    "stats.norm.cdf(2.58)"
   ]
  },
  {
   "cell_type": "markdown",
   "id": "bb037496",
   "metadata": {},
   "source": [
    "*Note*: You do not need to understand how the `scipy` library or how to use the method yourself."
   ]
  },
  {
   "cell_type": "markdown",
   "id": "7167eade",
   "metadata": {},
   "source": [
    "<!-- BEGIN QUESTION -->\n",
    "\n",
    "**Question 2.4:** The professor used a function to show that the percentage in a normal distribution that is at most 2.58 SDs above average is about **99%.** Explain why 2.58 is the right number of SDs to use when constructing a **99%** confidence interval. **(6 Points)**"
   ]
  },
  {
   "cell_type": "markdown",
   "id": "bb136067",
   "metadata": {},
   "source": [
    "_Type your answer here, replacing this text._"
   ]
  },
  {
   "cell_type": "markdown",
   "id": "2d31dab2",
   "metadata": {},
   "source": [
    "<!-- END QUESTION -->\n",
    "\n"
   ]
  },
  {
   "cell_type": "code",
   "execution_count": null,
   "id": "efda7da6",
   "metadata": {
    "execution": {
     "iopub.execute_input": "2022-03-31T07:51:21.960089Z",
     "iopub.status.busy": "2022-03-31T07:51:21.959795Z",
     "iopub.status.idle": "2022-03-31T07:51:21.964749Z",
     "shell.execute_reply": "2022-03-31T07:51:21.964094Z"
    }
   },
   "outputs": [],
   "source": [
    "# Just run this cell, do not change it.\n",
    "stats.norm.cdf(1.285)"
   ]
  },
  {
   "cell_type": "markdown",
   "id": "f971918f",
   "metadata": {},
   "source": [
    "**Question 2.5.** The cell above shows that the proportion that is at most 1.285 SDs above average in a normal distribution is 90%. \n",
    "If you start at the estimate and go 1.285 SDs on either side, then you will get a _______% confidence interval for the parameter. **(6 points)**\n",
    "\n",
    "1. 80\n",
    "2. 90\n",
    "3. 95\n",
    "4. 99\n",
    "\n"
   ]
  },
  {
   "cell_type": "code",
   "execution_count": null,
   "id": "be3295b8",
   "metadata": {
    "execution": {
     "iopub.execute_input": "2022-03-31T07:51:21.981433Z",
     "iopub.status.busy": "2022-03-31T07:51:21.980754Z",
     "iopub.status.idle": "2022-03-31T07:51:21.985506Z",
     "shell.execute_reply": "2022-03-31T07:51:21.984809Z"
    },
    "tags": []
   },
   "outputs": [],
   "source": [
    "option = ...\n",
    "option"
   ]
  },
  {
   "cell_type": "code",
   "execution_count": null,
   "id": "b8bcdaf7",
   "metadata": {
    "deletable": false,
    "editable": false
   },
   "outputs": [],
   "source": [
    "grader.check(\"q2_5\")"
   ]
  },
  {
   "cell_type": "markdown",
   "id": "3b26b570",
   "metadata": {},
   "source": [
    "## 3. Polling and the Normal Distribution"
   ]
  },
  {
   "cell_type": "code",
   "execution_count": null,
   "id": "1f537f86",
   "metadata": {
    "ExecuteTime": {
     "end_time": "2018-03-20T04:34:23.368185Z",
     "start_time": "2018-03-20T04:34:20.823771Z"
    },
    "execution": {
     "iopub.execute_input": "2022-03-31T07:51:22.002027Z",
     "iopub.status.busy": "2022-03-31T07:51:22.001803Z",
     "iopub.status.idle": "2022-03-31T07:51:22.007374Z",
     "shell.execute_reply": "2022-03-31T07:51:22.006738Z"
    }
   },
   "outputs": [],
   "source": [
    "# Don't change this cell; just run it. \n",
    "\n",
    "import numpy as np\n",
    "from datascience import *\n",
    "\n",
    "# These lines do some fancy plotting magic.\",\n",
    "import matplotlib\n",
    "%matplotlib inline\n",
    "import matplotlib.pyplot as plt\n",
    "plt.style.use('fivethirtyeight')\n",
    "import warnings\n",
    "warnings.simplefilter('ignore', FutureWarning)"
   ]
  },
  {
   "cell_type": "markdown",
   "id": "4b00e7dc",
   "metadata": {},
   "source": [
    "The university is facing budget cuts. The university’s admistration is considering a new initiative, Proposition Steal, which would significantly decrease funds allocated to student recreational facilities, particularly basketball courts. They want to gauge student **opposition** for the initiative. If more than 70% of students oppose Proposition Steal, it could set off campus protests and demonstrations.\n",
    "\n",
    "Moesha is a data science consultant hired by the administration. To estimate student opposition, she takes a uniform random sample of university students. In her survey, she finds 420 out of 625 students sampled will oppose Proposition Steal. We have provided a table for you below which has 3 columns: the first two columns are identical to `sample`. The first column indicates support or opposition, the second column indicates the count of students. The third column contains the proportion of the total sampled students that chose each option."
   ]
  },
  {
   "cell_type": "code",
   "execution_count": null,
   "id": "56895dde",
   "metadata": {
    "ExecuteTime": {
     "end_time": "2018-03-20T04:34:23.388186Z",
     "start_time": "2018-03-20T04:34:23.372185Z"
    },
    "deletable": false,
    "execution": {
     "iopub.execute_input": "2022-03-31T07:51:22.009883Z",
     "iopub.status.busy": "2022-03-31T07:51:22.009698Z",
     "iopub.status.idle": "2022-03-31T07:51:22.015818Z",
     "shell.execute_reply": "2022-03-31T07:51:22.015246Z"
    },
    "manual_problem_id": "sample_with_proportions"
   },
   "outputs": [],
   "source": [
    "sample = Table().with_columns(\n",
    "    \"Opinion\",  make_array(\"Support\", \"Oppose\"),\n",
    "    \"Count\", make_array(205,   420))\n",
    "\n",
    "sample_size = sum(sample.column(\"Count\"))\n",
    "sample_with_proportions = sample.with_column(\"Proportion\", sample.column(\"Count\") / sample_size)\n",
    "sample_with_proportions"
   ]
  },
  {
   "cell_type": "markdown",
   "id": "91771868",
   "metadata": {},
   "source": [
    "**Question 3.1.** Moesha wants to use 7,000 bootstrap resamples to compute a confidence interval for the proportion of university students who will oppose Proposition Steal.\n",
    "\n",
    "Using the data from the survey where 420 out of 625 students opposed the initiative, she will create an empirical distribution of support proportions. This process involves using bootstrap resampling to simulate 7,000 survey outcomes, which will help estimate the variability of the sample proportion. Assign `resample_support_proportions` to contain the Oppose proportion of each bootstrap resample. Then, visualize `resample_support_proportions` with a histogram.\n",
    "**(6 points)**\n",
    "\n",
    "*Hint:* `sample_proportions` may be useful here!\n",
    "*Hint* your histogram should have a bell curve shape."
   ]
  },
  {
   "cell_type": "code",
   "execution_count": null,
   "id": "65e5441c",
   "metadata": {
    "ExecuteTime": {
     "end_time": "2018-03-20T04:35:22.190065Z",
     "start_time": "2018-03-20T04:35:21.777769Z"
    },
    "execution": {
     "iopub.execute_input": "2022-03-31T07:51:22.018480Z",
     "iopub.status.busy": "2022-03-31T07:51:22.018291Z",
     "iopub.status.idle": "2022-03-31T07:51:22.526779Z",
     "shell.execute_reply": "2022-03-31T07:51:22.526038Z"
    },
    "manual_problem_id": "resample_yes_proportions",
    "scrolled": true,
    "tags": []
   },
   "outputs": [],
   "source": [
    "resample_oppose_proportions = make_array()\n",
    "for i in np.arange(7000):\n",
    "    resample = ...\n",
    "    resample_oppose_proportions = ...\n",
    "Table().with_column(\"Resample Oppose proportion\", resample_oppose_proportions).hist(bins=np.arange(.2, .8, .01))"
   ]
  },
  {
   "cell_type": "code",
   "execution_count": null,
   "id": "531eeba7",
   "metadata": {
    "deletable": false,
    "editable": false
   },
   "outputs": [],
   "source": [
    "grader.check(\"q3_1\")"
   ]
  },
  {
   "cell_type": "markdown",
   "id": "4c3c377f",
   "metadata": {},
   "source": [
    "<!-- BEGIN QUESTION -->\n",
    "\n",
    "**Question 3.2.** Explain how the Central Limit Theorem (CLT) is relevant to the situation at hand and describe its influence on the observed distribution in the histogram from the bootstrap resamples. **(6 points)**\n"
   ]
  },
  {
   "cell_type": "markdown",
   "id": "f65e81d5",
   "metadata": {},
   "source": [
    "_Type your answer here, replacing this text._"
   ]
  },
  {
   "cell_type": "markdown",
   "id": "56710e07",
   "metadata": {},
   "source": [
    "<!-- END QUESTION -->\n",
    "\n",
    "In a population whose members are 0 and 1, there is a simple formula for the **standard deviation of that population**:\n",
    "\n",
    "$$\\text{standard deviation of population} = \\sqrt{(\\text{proportion of 0s}) \\times (\\text{proportion of 1s})}$$\n",
    "\n",
    "(Figuring out this formula, starting from the definition of the standard deviation, is an fun exercise for those who enjoy algebra.)"
   ]
  },
  {
   "cell_type": "markdown",
   "id": "534532f9",
   "metadata": {},
   "source": [
    "**Question 3.3.** Using only the Central Limit Theorem and the numbers of Support and Oppose opinions in our sample of 625, *algebraically* compute the predicted standard deviation of the `resample_support_proportions` array. Assign this number to `approximate_sd`. **Do not access the data in `resample_not_support_proportions` in any way.** **(6 points)**\n",
    "\n",
    "Remember that the standard deviation of the sample means can be computed from the population SD and the size of the sample (the formula above might be helpful). If we do not know the population SD, we can use the sample SD as a reasonable approximation in its place. [This section](https://inferentialthinking.com/chapters/14/5/Variability_of_the_Sample_Mean.html#the-sd-of-all-the-sample-means) of the textbook also may be helpful.\n"
   ]
  },
  {
   "cell_type": "code",
   "execution_count": null,
   "id": "6c51303e",
   "metadata": {
    "ExecuteTime": {
     "end_time": "2018-03-20T04:35:33.660846Z",
     "start_time": "2018-03-20T04:35:33.652810Z"
    },
    "deletable": false,
    "execution": {
     "iopub.execute_input": "2022-03-31T07:51:22.548498Z",
     "iopub.status.busy": "2022-03-31T07:51:22.547840Z",
     "iopub.status.idle": "2022-03-31T07:51:22.553529Z",
     "shell.execute_reply": "2022-03-31T07:51:22.552853Z"
    },
    "manual_problem_id": "approximate_sd",
    "tags": []
   },
   "outputs": [],
   "source": [
    "approx_pop_sd = ...\n",
    "approximate_sd = ...\n",
    "approximate_sd"
   ]
  },
  {
   "cell_type": "code",
   "execution_count": null,
   "id": "b8697034",
   "metadata": {
    "deletable": false,
    "editable": false
   },
   "outputs": [],
   "source": [
    "grader.check(\"q3_3\")"
   ]
  },
  {
   "cell_type": "markdown",
   "id": "6e5d534a",
   "metadata": {},
   "source": [
    "**Question 3.4.** Calculate the standard deviation of the `resample_oppose_proportions` array. This value serves as an estimated standard deviation of the potential sample proportions and can be used to check the accuracy of your response to the subsequent question **(6 points)**\n"
   ]
  },
  {
   "cell_type": "code",
   "execution_count": null,
   "id": "6b55249c",
   "metadata": {
    "ExecuteTime": {
     "end_time": "2018-03-20T04:35:34.753988Z",
     "start_time": "2018-03-20T04:35:34.745953Z"
    },
    "deletable": false,
    "execution": {
     "iopub.execute_input": "2022-03-31T07:51:22.593367Z",
     "iopub.status.busy": "2022-03-31T07:51:22.593118Z",
     "iopub.status.idle": "2022-03-31T07:51:22.598680Z",
     "shell.execute_reply": "2022-03-31T07:51:22.598082Z"
    },
    "manual_problem_id": "exact_sd",
    "tags": []
   },
   "outputs": [],
   "source": [
    "exact_sd = ...\n",
    "exact_sd"
   ]
  },
  {
   "cell_type": "code",
   "execution_count": null,
   "id": "5e5e754f",
   "metadata": {
    "deletable": false,
    "editable": false
   },
   "outputs": [],
   "source": [
    "grader.check(\"q3_4\")"
   ]
  },
  {
   "cell_type": "markdown",
   "id": "07a52719",
   "metadata": {},
   "source": [
    "**Question 3.5.** **Without referencing the resample_oppose_proportions dataset,** calculate an estimated 95% confidence interval for the proportion of students who oppose Proposition Steal. **(6 points)**\n",
    "\n",
    "The following visualization will display your calculated interval as a red bar beneath the histogram of bootstrap proportions to assist in confirming the plausibility of your calculated interval.\n",
    "\n",
    "\n",
    "*Hint:* How many SDs corresponds to 95% of the distribution promised by the CLT? Recall the discussion in the textbook [here](https://inferentialthinking.com/chapters/14/3/SD_and_the_Normal_Curve.html).\n",
    "\n",
    "*Hint:* The `approximate_sd` that you computed earlier could be useful in this step!\n"
   ]
  },
  {
   "cell_type": "code",
   "execution_count": null,
   "id": "f02df3bd",
   "metadata": {
    "ExecuteTime": {
     "end_time": "2018-03-20T04:35:42.572582Z",
     "start_time": "2018-03-20T04:35:42.560545Z"
    },
    "deletable": false,
    "execution": {
     "iopub.execute_input": "2022-03-31T07:51:22.616458Z",
     "iopub.status.busy": "2022-03-31T07:51:22.616257Z",
     "iopub.status.idle": "2022-03-31T07:51:22.620975Z",
     "shell.execute_reply": "2022-03-31T07:51:22.620228Z"
    },
    "manual_problem_id": "ci_without_data",
    "tags": []
   },
   "outputs": [],
   "source": [
    "lower_limit = ...\n",
    "upper_limit = ...\n",
    "print('lower:', lower_limit, 'upper:', upper_limit)"
   ]
  },
  {
   "cell_type": "code",
   "execution_count": null,
   "id": "40f72425",
   "metadata": {
    "deletable": false,
    "editable": false
   },
   "outputs": [],
   "source": [
    "grader.check(\"q3_5\")"
   ]
  },
  {
   "cell_type": "code",
   "execution_count": null,
   "id": "eadb0a59",
   "metadata": {
    "execution": {
     "iopub.execute_input": "2022-03-31T07:51:22.646169Z",
     "iopub.status.busy": "2022-03-31T07:51:22.645942Z",
     "iopub.status.idle": "2022-03-31T07:51:23.029199Z",
     "shell.execute_reply": "2022-03-31T07:51:23.028329Z"
    }
   },
   "outputs": [],
   "source": [
    "# Run this cell to plot your confidence interval.\n",
    "Table().with_column(\"Resample Oppose proportion\", resample_oppose_proportions).hist(bins=np.arange(.5, .8, .01))\n",
    "plt.plot(make_array(lower_limit, upper_limit), make_array(0, 0), c='r', lw=10);"
   ]
  },
  {
   "cell_type": "markdown",
   "id": "743565c8",
   "metadata": {},
   "source": [
    "<div class=\"hide\">\\pagebreak</div>\n",
    "Your confidence interval should include the proportion 0.7. This means we can't be sure less than 70% of students will oppose Proposition Steal, even though the sample oppose proportion is less than 70%.\n",
    "\n",
    "The administration needs to know whether whether opposition will be below 70%. Absolute certainty would require surveying the entire student body, which is impractical. However, they would be satisfied if the standard deviation of the sample proportion were reduced to 0.007. They ask Moesha to conduct a new survey with a sample size large enough to achieve that. Since conducting the new survey is expensive, they ask the sample not be any larger than necessary.\n",
    "\n",
    "Moesha turns to Chapter 14 of the statistics textbook. Instead of the cautious approach that assumes the maximum variability for a proportion (using 0.5 to represent the spread between support and non-support as binary outcomes), she opts to base her calculations on the observed standard deviation from the sample data.\n",
    "\n",
    "$$\\sqrt{(\\text{Supported proportion in the sample}) \\times (\\text{Not supported proportion in the sample})}.$$\n",
    "\n",
    "Under that assumption, Moesha decides that a sample of 4,460 students would suffice."
   ]
  },
  {
   "cell_type": "markdown",
   "id": "1578c953",
   "metadata": {},
   "source": [
    "**Question 3.6.** Does Moesha's sample size achieve the desired standard deviation of sample means? What SD would you achieve with a smaller sample size? A higher sample size?\n",
    "\n",
    "To explore this, first compute the SD of sample means obtained by using Moesha's sample size. **(6 points)**\n"
   ]
  },
  {
   "cell_type": "code",
   "execution_count": null,
   "id": "7836f2d0",
   "metadata": {
    "ExecuteTime": {
     "end_time": "2018-03-20T04:35:45.882794Z",
     "start_time": "2018-03-20T04:35:45.870760Z"
    },
    "deletable": false,
    "execution": {
     "iopub.execute_input": "2022-03-31T07:51:23.032801Z",
     "iopub.status.busy": "2022-03-31T07:51:23.032579Z",
     "iopub.status.idle": "2022-03-31T07:51:23.038119Z",
     "shell.execute_reply": "2022-03-31T07:51:23.037353Z"
    },
    "manual_problem_id": "michelle_sample_mean_sd",
    "scrolled": true,
    "tags": []
   },
   "outputs": [],
   "source": [
    "estimated_population_sd = ...\n",
    "moesha_sample_size = ...\n",
    "moesha_sample_mean_sd = ...\n",
    "print(\"With Moesha's sample size, you would predict a sample mean SD of %f.\" % moesha_sample_mean_sd)"
   ]
  },
  {
   "cell_type": "code",
   "execution_count": null,
   "id": "d85af9e0",
   "metadata": {
    "deletable": false,
    "editable": false
   },
   "outputs": [],
   "source": [
    "grader.check(\"q3_6\")"
   ]
  },
  {
   "cell_type": "markdown",
   "id": "8d6a8f6a",
   "metadata": {},
   "source": [
    "**Question 3.7.** Now, calculate the standard deviation of the sample means that would result from using a smaller sample size. Choose a sample size that is notably less than what Moesha used, though any size smaller than hers is acceptable. **(5 points)**\n"
   ]
  },
  {
   "cell_type": "code",
   "execution_count": null,
   "id": "fb632c70",
   "metadata": {
    "ExecuteTime": {
     "end_time": "2018-03-20T04:35:47.010246Z",
     "start_time": "2018-03-20T04:35:47.002724Z"
    },
    "deletable": false,
    "execution": {
     "iopub.execute_input": "2022-03-31T07:51:23.090325Z",
     "iopub.status.busy": "2022-03-31T07:51:23.090060Z",
     "iopub.status.idle": "2022-03-31T07:51:23.095558Z",
     "shell.execute_reply": "2022-03-31T07:51:23.094729Z"
    },
    "manual_problem_id": "smaller_sample_size",
    "tags": []
   },
   "outputs": [],
   "source": [
    "smaller_sample_size = ...\n",
    "smaller_sample_mean_sd = ...\n",
    "print(\"With this smaller sample size, you would predict a sample mean SD of %f\" % smaller_sample_mean_sd)"
   ]
  },
  {
   "cell_type": "code",
   "execution_count": null,
   "id": "75089a55",
   "metadata": {
    "deletable": false,
    "editable": false
   },
   "outputs": [],
   "source": [
    "grader.check(\"q3_7\")"
   ]
  },
  {
   "cell_type": "markdown",
   "id": "3a791566",
   "metadata": {},
   "source": [
    "**Question 3.8.** Next, determine the standard deviation of the sample means expected from using a larger sample size. Opting for a significantly larger number will more clearly illustrate the differences, but any size greater than what Moesha utilized will suffice.. **(5 points)**\n",
    "\n"
   ]
  },
  {
   "cell_type": "code",
   "execution_count": null,
   "id": "f16fa21d",
   "metadata": {
    "ExecuteTime": {
     "end_time": "2018-03-20T04:35:48.098047Z",
     "start_time": "2018-03-20T04:35:48.089414Z"
    },
    "deletable": false,
    "execution": {
     "iopub.execute_input": "2022-03-31T07:51:23.114512Z",
     "iopub.status.busy": "2022-03-31T07:51:23.114289Z",
     "iopub.status.idle": "2022-03-31T07:51:23.118941Z",
     "shell.execute_reply": "2022-03-31T07:51:23.118241Z"
    },
    "manual_problem_id": "larger_sample_mean_sd",
    "tags": []
   },
   "outputs": [],
   "source": [
    "larger_sample_size = ...\n",
    "larger_sample_mean_sd = ...\n",
    "print(\"With this larger sample size, you would predict a sample mean SD of %f\" % larger_sample_mean_sd)"
   ]
  },
  {
   "cell_type": "code",
   "execution_count": null,
   "id": "5380a86e",
   "metadata": {
    "deletable": false,
    "editable": false
   },
   "outputs": [],
   "source": [
    "grader.check(\"q3_8\")"
   ]
  },
  {
   "cell_type": "markdown",
   "id": "f19000b3",
   "metadata": {},
   "source": [
    "**Question 3.9.** Considering this analysis, evaluate whether Moesha's chosen sample size was essentially the smallest adequate sample, assuming the sample standard deviation matches the population standard deviation. Set `min_sufficient` to `True` if 4460 was close to the smallest adequate sample size, and to `False` otherwise. **(4 points)**\n",
    "\n",
    "Considering this analysis, evaluate whether Moesha's chosen sample size was essentially the smallest adequate sample, assuming the sample standard deviation matches the population standard deviation. Set `min_sufficient` to `True` if 8,665 was close to the smallest adequate sample size, and to `False` otherwise\n"
   ]
  },
  {
   "cell_type": "code",
   "execution_count": null,
   "id": "5fb3b20d",
   "metadata": {
    "ExecuteTime": {
     "end_time": "2018-03-20T04:35:49.134092Z",
     "start_time": "2018-03-20T04:35:49.126066Z"
    },
    "deletable": false,
    "execution": {
     "iopub.execute_input": "2022-03-31T07:51:23.137161Z",
     "iopub.status.busy": "2022-03-31T07:51:23.136495Z",
     "iopub.status.idle": "2022-03-31T07:51:23.141040Z",
     "shell.execute_reply": "2022-03-31T07:51:23.140466Z"
    },
    "manual_problem_id": "min_sufficient",
    "tags": []
   },
   "outputs": [],
   "source": [
    "min_sufficient = ...\n",
    "min_sufficient"
   ]
  },
  {
   "cell_type": "code",
   "execution_count": null,
   "id": "9afe9db4",
   "metadata": {
    "deletable": false,
    "editable": false
   },
   "outputs": [],
   "source": [
    "grader.check(\"q3_9\")"
   ]
  },
  {
   "cell_type": "markdown",
   "id": "73916fdc",
   "metadata": {},
   "source": [
    "You're done with Homework 9!  \n",
    "\n",
    "**Important submission steps:** \n",
    "1. Run the tests and verify that they all pass.\n",
    "2. Choose **Save Notebook** from the **File** menu, then **run the final cell**. \n",
    "3. Click the link to download the zip file.\n",
    "4. Then submit the zip file to the corresponding assignment according to your instructor's directions. \n",
    "\n",
    "**It is your responsibility to make sure your work is saved before running the last cell.**"
   ]
  },
  {
   "cell_type": "markdown",
   "id": "05c6624d",
   "metadata": {
    "deletable": false,
    "editable": false
   },
   "source": [
    "## Submission\n",
    "\n",
    "Make sure you have run all cells in your notebook in order before running the cell below, so that all images/graphs appear in the output. The cell below will generate a zip file for you to submit. **Please save before exporting!**"
   ]
  },
  {
   "cell_type": "code",
   "execution_count": null,
   "id": "3140b396",
   "metadata": {
    "deletable": false,
    "editable": false
   },
   "outputs": [],
   "source": [
    "# Save your notebook first, then run this cell to export your submission.\n",
    "grader.export(pdf=False, run_tests=True)"
   ]
  },
  {
   "cell_type": "markdown",
   "id": "0619af90",
   "metadata": {},
   "source": [
    " "
   ]
  }
 ],
 "metadata": {
  "celltoolbar": "Edit Metadata",
  "kernelspec": {
   "display_name": "Python 3 (ipykernel)",
   "language": "python",
   "name": "python3"
  },
  "language_info": {
   "codemirror_mode": {
    "name": "ipython",
    "version": 3
   },
   "file_extension": ".py",
   "mimetype": "text/x-python",
   "name": "python",
   "nbconvert_exporter": "python",
   "pygments_lexer": "ipython3",
   "version": "3.10.11"
  },
  "otter": {
   "OK_FORMAT": true,
   "tests": {
    "q2_1": {
     "name": "q2_1",
     "points": [
      0
     ],
     "suites": [
      {
       "cases": [
        {
         "code": ">>> 1100 <= fewest <= 2550\nTrue",
         "hidden": false,
         "locked": false
        }
       ],
       "scored": true,
       "setup": "",
       "teardown": "",
       "type": "doctest"
      }
     ]
    },
    "q2_3": {
     "name": "q2_3",
     "points": [
      0
     ],
     "suites": [
      {
       "cases": [
        {
         "code": ">>> 4000 <= fewest_num <= 4200\nTrue",
         "hidden": false,
         "locked": false
        }
       ],
       "scored": true,
       "setup": "",
       "teardown": "",
       "type": "doctest"
      }
     ]
    },
    "q2_5": {
     "name": "q2_5",
     "points": [
      0
     ],
     "suites": [
      {
       "cases": [
        {
         "code": ">>> type(option) == int\nTrue",
         "hidden": false,
         "locked": false
        }
       ],
       "scored": true,
       "setup": "",
       "teardown": "",
       "type": "doctest"
      }
     ]
    },
    "q3_1": {
     "name": "q3_1",
     "points": [
      1,
      5
     ],
     "suites": [
      {
       "cases": [
        {
         "code": ">>> len(resample_oppose_proportions) == 7000\nTrue",
         "hidden": false,
         "locked": false
        },
        {
         "code": ">>> abs(np.mean(resample_oppose_proportions) - .648) < .025 and np.std(resample_oppose_proportions) < .02\nTrue",
         "hidden": false,
         "locked": false
        }
       ],
       "scored": true,
       "setup": "",
       "teardown": "",
       "type": "doctest"
      }
     ]
    },
    "q3_3": {
     "name": "q3_3",
     "points": [
      0
     ],
     "suites": [
      {
       "cases": [
        {
         "code": ">>> approximate_sd < 0.02\nTrue",
         "hidden": false,
         "locked": false
        }
       ],
       "scored": true,
       "setup": "",
       "teardown": "",
       "type": "doctest"
      }
     ]
    },
    "q3_4": {
     "name": "q3_4",
     "points": [
      0
     ],
     "suites": [
      {
       "cases": [
        {
         "code": ">>> exact_sd < 0.02\nTrue",
         "hidden": false,
         "locked": false
        }
       ],
       "scored": true,
       "setup": "",
       "teardown": "",
       "type": "doctest"
      }
     ]
    },
    "q3_5": {
     "name": "q3_5",
     "points": [
      0
     ],
     "suites": [
      {
       "cases": [
        {
         "code": ">>> 0.6 <= lower_limit < upper_limit <= 0.71\nTrue",
         "hidden": false,
         "locked": false
        }
       ],
       "scored": true,
       "setup": "",
       "teardown": "",
       "type": "doctest"
      }
     ]
    },
    "q3_6": {
     "name": "q3_6",
     "points": [
      0
     ],
     "suites": [
      {
       "cases": [
        {
         "code": ">>> type(moesha_sample_size) == int\nTrue",
         "hidden": false,
         "locked": false
        }
       ],
       "scored": true,
       "setup": "",
       "teardown": "",
       "type": "doctest"
      }
     ]
    },
    "q3_7": {
     "name": "q3_7",
     "points": [
      1
     ],
     "suites": [
      {
       "cases": [
        {
         "code": ">>> smaller_sample_size < moesha_sample_size\nTrue",
         "hidden": false,
         "locked": false
        }
       ],
       "scored": true,
       "setup": "",
       "teardown": "",
       "type": "doctest"
      }
     ]
    },
    "q3_8": {
     "name": "q3_8",
     "points": [
      1
     ],
     "suites": [
      {
       "cases": [
        {
         "code": ">>> larger_sample_size > moesha_sample_size\nTrue",
         "hidden": false,
         "locked": false
        }
       ],
       "scored": true,
       "setup": "",
       "teardown": "",
       "type": "doctest"
      }
     ]
    },
    "q3_9": {
     "name": "q3_9",
     "points": [
      0
     ],
     "suites": [
      {
       "cases": [
        {
         "code": ">>> min_sufficient or not min_sufficient \nTrue",
         "hidden": false,
         "locked": false
        }
       ],
       "scored": true,
       "setup": "",
       "teardown": "",
       "type": "doctest"
      }
     ]
    }
   }
  }
 },
 "nbformat": 4,
 "nbformat_minor": 5
}
