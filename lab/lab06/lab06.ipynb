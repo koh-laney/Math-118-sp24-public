{
 "cells": [
  {
   "cell_type": "code",
   "execution_count": null,
   "id": "979702ca",
   "metadata": {
    "deletable": false,
    "editable": false
   },
   "outputs": [],
   "source": [
    "# Initialize Otter\n",
    "import otter\n",
    "grader = otter.Notebook(\"lab06.ipynb\")"
   ]
  },
  {
   "cell_type": "markdown",
   "id": "e63f9fdb",
   "metadata": {},
   "source": [
    "## Lab 6: Take the Challenge! The Pepsi Challenge\n",
    "\n",
    "Welcome to Lab 6!\n",
    "\n",
    "After such an extensive introduction to programming for data science, we are finally moving into the section of the course where we can apply our new skils to answer real questions.  \n",
    "\n",
    "In this lab, we'll use testing techniques that were introduced in lecture to test the idea of blind taste testing, and wheather we like products because of taste or marketing. \n",
    "\n",
    "\n",
    "**Submission**: Once you’re finished, run all cells besides the last one, select File > Save Notebook, and then execute the final cell. Then submit the downloaded zip file, that includes your notebook,  according to your instructor's directions."
   ]
  },
  {
   "cell_type": "code",
   "execution_count": null,
   "id": "9954705b",
   "metadata": {
    "execution": {
     "iopub.execute_input": "2022-03-01T08:49:10.973945Z",
     "iopub.status.busy": "2022-03-01T08:49:10.971317Z",
     "iopub.status.idle": "2022-03-01T08:49:12.625254Z",
     "shell.execute_reply": "2022-03-01T08:49:12.624276Z"
    }
   },
   "outputs": [],
   "source": [
    "# Run this cell, but please don't change it.\n",
    "\n",
    "# These lines import the Numpy and Datascience modules.\n",
    "import numpy as np\n",
    "from datascience import *\n",
    "\n",
    "# These lines do some fancy plotting magic\n",
    "import matplotlib\n",
    "%matplotlib inline\n",
    "import matplotlib.pyplot as plt\n",
    "plt.style.use('fivethirtyeight')\n",
    "import warnings\n",
    "warnings.simplefilter('ignore', FutureWarning)\n",
    "from matplotlib import patches\n",
    "from ipywidgets import interact, interactive, fixed\n",
    "import ipywidgets as widgets\n",
    "from IPython.display import YouTubeVideo \n",
    "import d8error"
   ]
  },
  {
   "cell_type": "markdown",
   "id": "43b4997a",
   "metadata": {},
   "source": [
    "## 1. What is the Pepsi Challenge\n",
    "The Pepsi Challenge was a direct marketing campaign by PepsiCo to compare the taste of Pepsi to that of its main competitor, Coca-Cola. In a blind taste test, participants were asked to sample two different cola drinks without knowing the brands and then select which one they preferred. The challenge's premise was simple yet effective: if a majority of participants preferred Pepsi over Coca-Cola in a blind taste test, it would suggest that Pepsi's taste was superior, challenging public perceptions and brand loyalty based on taste alone.\n",
    "\n",
    "\n",
    "### The Origins of the Pepsi Challenge\n",
    "[The Pepsi Challenge](https://en.wikipedia.org/wiki/Pepsi_Challenge)  first began in the 1970s as part of PepsiCo's aggressive marketing strategy to compete against Coca-Cola, the market leader. By conducting public blind taste tests, Pepsi aimed to demonstrate that consumers preferred the taste of Pepsi to Coca-Cola, thus encouraging people to rethink their cola preferences based on the taste rather than brand reputation or loyalty.\n"
   ]
  },
  {
   "cell_type": "code",
   "execution_count": null,
   "id": "9a863c48",
   "metadata": {},
   "outputs": [],
   "source": [
    "YouTubeVideo(\"Qgr5kc5QdBU\", height = 600, width = 550)"
   ]
  },
  {
   "cell_type": "markdown",
   "id": "d2631de0",
   "metadata": {},
   "source": [
    "### The Experiment\n",
    "A student, Ramona, wanted to replicate Pepsi's experiment, to find out if Coca-Cola fans can actually tell the difference between Pepsi and Coca-Cola by taste. Ramona was skeptical. She found 200 sworn Coca-Cola fans for our experiment. Participants were given two samples of cola, one of Pepsi and one of Coca-Cola, without any branding or identification. They then were asked to identify which one was Pepsi and which one was Coca-Cola. If a participant was truly a Coca-Cola fan, it would be expected that they could correctly identify the Coca-Cola sample.\n",
    "\n",
    "In total, 200 taste tests were conducted, participants picked the correct cola 55% of the time.\n",
    "\n",
    "Ramona's main goal here was to test whether or not the Coca-Cola fans' guesses were random, like the flip of a coin.\n",
    "\n",
    "We will now begin to formulate this experiment in terms of the terminology we learned in this course."
   ]
  },
  {
   "cell_type": "markdown",
   "id": "d426f33d",
   "metadata": {},
   "source": [
    "**Question 1.1**:  Describe Ramona's model for how likely the Coca-Cola fans are to identify the correct cola. What alternative model is her model meant to discredit? Discuss with students around you to come to a conclusion. Check in with a TA you are stuck.\n"
   ]
  },
  {
   "cell_type": "markdown",
   "id": "6339208a",
   "metadata": {},
   "source": [
    "_Type your answer here, replacing this text._"
   ]
  },
  {
   "cell_type": "markdown",
   "id": "07f08645",
   "metadata": {},
   "source": [
    "**Question 1.2:** In Ramona's version of the Pepsi Challenge, participants identified the right cola 55% (.55) of the time.\n",
    "According to her model, on average, what proportion of times does she expect participants to identify the correct cola? Provide your answer as a decimal between 0 and 1, reflecting the observed proportion in our experiment.\n"
   ]
  },
  {
   "cell_type": "code",
   "execution_count": null,
   "id": "520a6db8",
   "metadata": {
    "execution": {
     "iopub.execute_input": "2022-03-01T08:49:12.633145Z",
     "iopub.status.busy": "2022-03-01T08:49:12.632539Z",
     "iopub.status.idle": "2022-03-01T08:49:12.636232Z",
     "shell.execute_reply": "2022-03-01T08:49:12.635787Z"
    },
    "tags": []
   },
   "outputs": [],
   "source": [
    "expected_correct_prop = ...\n",
    "expected_correct_prop"
   ]
  },
  {
   "cell_type": "code",
   "execution_count": null,
   "id": "e269f1fc",
   "metadata": {
    "deletable": false,
    "editable": false
   },
   "outputs": [],
   "source": [
    "grader.check(\"q1_2\")"
   ]
  },
  {
   "cell_type": "markdown",
   "id": "962b1453",
   "metadata": {},
   "source": [
    "The goal now is to see if our deviation from this expected proportion of correct answers is due to something other than chance. \n",
    "\n",
    "**Question 1.3:** We usually use a statistic to help determine which model the evidence points towards. What is a statistic that we can use to compare outcomes under Ramona's model to what was observed? Assign `viable_stat` to an array of integer(s) representing test statistics that we can use: \n",
    "\n",
    "1. The absolute difference between the expected percent correct and the actual percent correct\n",
    "2. The sum of the expected percent correct and the actual percent correct\n",
    "3. The difference between the expected percent correct and the actual percent correct\n",
    "\n",
    "**NOTE:** Make sure to use `make_array` to create your array of integer(s)!\n"
   ]
  },
  {
   "cell_type": "code",
   "execution_count": null,
   "id": "b66570bb",
   "metadata": {
    "execution": {
     "iopub.execute_input": "2022-03-01T08:49:12.657322Z",
     "iopub.status.busy": "2022-03-01T08:49:12.656794Z",
     "iopub.status.idle": "2022-03-01T08:49:12.659911Z",
     "shell.execute_reply": "2022-03-01T08:49:12.659458Z"
    },
    "tags": []
   },
   "outputs": [],
   "source": [
    "viable_stat = ...\n",
    "viable_stat"
   ]
  },
  {
   "cell_type": "code",
   "execution_count": null,
   "id": "b135030f",
   "metadata": {
    "deletable": false,
    "editable": false
   },
   "outputs": [],
   "source": [
    "grader.check(\"q1_3\")"
   ]
  },
  {
   "cell_type": "markdown",
   "id": "63de9667",
   "metadata": {},
   "source": [
    "**Question 1.4:** Why is the statistic selected in Question 1.3 the appropriate choice for comparing outcomes in the Pepsi Challenge experiment? Discuss how it relates to the models you defined in Question 1.1.\n"
   ]
  },
  {
   "cell_type": "markdown",
   "id": "0976e816",
   "metadata": {},
   "source": [
    "_Type your answer here, replacing this text._"
   ]
  },
  {
   "cell_type": "markdown",
   "id": "79d96d46",
   "metadata": {},
   "source": [
    "**Question 1.5:** Define the function `stat` which takes in an expected proportion and an actual proportion, and returns the value of the statistic chosen in Question 1.3. Assume that the argument takes in proportions, but  return your answer as a percentage. \n",
    "\n",
    "*Hint:* Remember we are asking for a **percentage**, not a proportion. \n"
   ]
  },
  {
   "cell_type": "code",
   "execution_count": null,
   "id": "9abf45d5",
   "metadata": {
    "execution": {
     "iopub.execute_input": "2022-03-01T08:49:12.681866Z",
     "iopub.status.busy": "2022-03-01T08:49:12.681162Z",
     "iopub.status.idle": "2022-03-01T08:49:12.683882Z",
     "shell.execute_reply": "2022-03-01T08:49:12.683314Z"
    },
    "tags": []
   },
   "outputs": [],
   "source": [
    "def stat(expected_prop, actual_prop):\n",
    "    ..."
   ]
  },
  {
   "cell_type": "code",
   "execution_count": null,
   "id": "6a4d65fa",
   "metadata": {
    "deletable": false,
    "editable": false
   },
   "outputs": [],
   "source": [
    "grader.check(\"q1_5\")"
   ]
  },
  {
   "cell_type": "markdown",
   "id": "430290dd",
   "metadata": {},
   "source": [
    "**Question 1.6:** Use your newly defined function to calculate the observed statistic from Pepsi's experiment. \n"
   ]
  },
  {
   "cell_type": "code",
   "execution_count": null,
   "id": "a0cc2cd6",
   "metadata": {
    "execution": {
     "iopub.execute_input": "2022-03-01T08:49:12.704197Z",
     "iopub.status.busy": "2022-03-01T08:49:12.703651Z",
     "iopub.status.idle": "2022-03-01T08:49:12.738812Z",
     "shell.execute_reply": "2022-03-01T08:49:12.739245Z"
    },
    "tags": []
   },
   "outputs": [],
   "source": [
    "observed_stat = ...\n",
    "observed_stat"
   ]
  },
  {
   "cell_type": "code",
   "execution_count": null,
   "id": "be0882dd",
   "metadata": {
    "deletable": false,
    "editable": false
   },
   "outputs": [],
   "source": [
    "grader.check(\"q1_6\")"
   ]
  },
  {
   "cell_type": "markdown",
   "id": "54d2ec3f",
   "metadata": {},
   "source": [
    "**Is this observed statistic consistent with what we expect to see under Ramona’s model?**\n",
    "\n",
    "In order to answer this question, we must simulate the experiment as though Ramona's model was correct, and calculate our statistic for every simulation.\n",
    "\n",
    "### `sample_proportions`\n",
    "\n",
    "`sample_proportions` can be used to randomly sample from multiple categories when you know the proportion of data points that are expected to fall in each category. `sample_proportions` takes two arguments: the sample size and an array that contains the distribution of categories in the population (should sum to 1).\n",
    "\n",
    "Consider flipping a fair coin, where the two outcomes (coin lands heads and coin lands tails) occur with an equal chance. We expect that half of all coin flips will land heads, and half of all coin flips will land tails.\n",
    "\n",
    "Run the following cell to see the simulation of 20 flips of a fair coin. Let the first item of `coin_proportions` be the proportion of heads and the second item of `coin_proportions` be the proportion of tails.\n",
    "\n",
    "*Observe what happens when you run this cell multiple times—the proportion of coin flips that land heads and tails appears to change, as you are simulating flipping 20 coins each time!*"
   ]
  },
  {
   "cell_type": "code",
   "execution_count": null,
   "id": "2afb6e5c",
   "metadata": {
    "execution": {
     "iopub.execute_input": "2022-03-01T08:49:12.751836Z",
     "iopub.status.busy": "2022-03-01T08:49:12.750576Z",
     "iopub.status.idle": "2022-03-01T08:49:12.755362Z",
     "shell.execute_reply": "2022-03-01T08:49:12.754846Z"
    }
   },
   "outputs": [],
   "source": [
    "coin_proportions = make_array(0.5, 0.5) \n",
    "twenty_flips = sample_proportions(20, coin_proportions)\n",
    "twenty_flips"
   ]
  },
  {
   "cell_type": "markdown",
   "id": "a9632cbd",
   "metadata": {},
   "source": [
    "`sample_proportions` returns an array that is the same length as the proportion array that is passed through. It contains the proportion of each category that appears in the sample. \n",
    "\n",
    "In our example, the first item of `twenty_flips` is the simulated proportion of heads and the second item of `twenty_flips` is the simulated proportion of tails."
   ]
  },
  {
   "cell_type": "code",
   "execution_count": null,
   "id": "4cb73def",
   "metadata": {
    "execution": {
     "iopub.execute_input": "2022-03-01T08:49:12.759836Z",
     "iopub.status.busy": "2022-03-01T08:49:12.757937Z",
     "iopub.status.idle": "2022-03-01T08:49:12.763208Z",
     "shell.execute_reply": "2022-03-01T08:49:12.762728Z"
    }
   },
   "outputs": [],
   "source": [
    "simulated_proportion_heads = twenty_flips.item(0)\n",
    "simulated_proportion_tails = twenty_flips.item(1)\n",
    "\n",
    "print(\"In our simulation, \" + str(simulated_proportion_heads) + \" of flips were heads and \" \\\n",
    "      + str(simulated_proportion_tails) + \" of flips were tails.\")"
   ]
  },
  {
   "cell_type": "markdown",
   "id": "a840bfcc",
   "metadata": {},
   "source": [
    "**Question 1.7:** To begin simulating, we should start by creating a representation of Ramona's model to use for our simulation. This will be an array with two items in it. The first item should be the proportion of times a Coca-Cola fan identifies the correct cola, assuming that Ramona's model was correct. The second item should be the proportion of times, under the same assumption, that the Coca-Cola fan identifies the incorrect cola. Assign `model_proportions` to this array. \n",
    "\n",
    "After this, we can simulate 200 taste tests, and find a single statistic to summarize this instance of the simulation. Use the `sample_proportions` function and assign the **proportion of correct taste choices** (out of 200) to `simulation_correct_prop`. Lastly, use your statistic function to assign `one_stat`  to the value of the statistic for this one simulation.\n",
    "\n",
    "*Hint:* `sample_proportions` usage can be found on the [Python Reference](http://data8.org/fa21/python-reference.html).\n"
   ]
  },
  {
   "cell_type": "code",
   "execution_count": null,
   "id": "6b925434",
   "metadata": {
    "execution": {
     "iopub.execute_input": "2022-03-01T08:49:12.769448Z",
     "iopub.status.busy": "2022-03-01T08:49:12.768875Z",
     "iopub.status.idle": "2022-03-01T08:49:12.771785Z",
     "shell.execute_reply": "2022-03-01T08:49:12.772137Z"
    },
    "tags": []
   },
   "outputs": [],
   "source": [
    "# This saves the random state of our code so that we can \n",
    "# generate the same numbers each time we run the code.\n",
    "# Please do not change this line. \n",
    "np.random.seed(16)\n",
    "\n",
    "model_proportions = ...\n",
    "simulation_correct_prop = ...\n",
    "one_stat = ...\n",
    "one_stat"
   ]
  },
  {
   "cell_type": "code",
   "execution_count": null,
   "id": "e1e8ae61",
   "metadata": {
    "deletable": false,
    "editable": false
   },
   "outputs": [],
   "source": [
    "grader.check(\"q1_7\")"
   ]
  },
  {
   "cell_type": "markdown",
   "id": "94af71a1",
   "metadata": {},
   "source": [
    "**Question 1.8:** Let's now see what the distribution of statistics is actually like under Ramona's model. \n",
    "\n",
    "Define the function `simulation_and_stat` to take in the `model_proportions` array and the expected proportion of times a Coca-Cola fan would identify the correct cola under our model. The function should simulate our running through the experiment 200 times and return the statistic of this one simulation. \n",
    "\n",
    "*Hint:* This should follow the same pattern as the code you did in the previous problem.  "
   ]
  },
  {
   "cell_type": "code",
   "execution_count": null,
   "id": "3bc3069e",
   "metadata": {
    "execution": {
     "iopub.execute_input": "2022-03-01T08:49:12.861874Z",
     "iopub.status.busy": "2022-03-01T08:49:12.861307Z",
     "iopub.status.idle": "2022-03-01T08:49:12.863773Z",
     "shell.execute_reply": "2022-03-01T08:49:12.863225Z"
    },
    "for_assignment_type": "solution"
   },
   "outputs": [],
   "source": [
    "def simulation_and_stat(model_proportions, expected_proportion_correct):\n",
    "    '''Simulates 200 Pepsi and Coca-Cola fan taste test. \n",
    "    Returns one statistic from the simulation.'''\n",
    "    # BEGIN SOLUTION\n",
    "    simulated_proportion = sample_proportions(200, model_proportions).item(0)\n",
    "    simulated_stat = stat(expected_proportion_correct, simulated_proportion)\n",
    "    return simulated_stat\n",
    "    # END SOLUTION"
   ]
  },
  {
   "cell_type": "markdown",
   "id": "2e1ecd67",
   "metadata": {},
   "source": [
    "Using this function, assign `simulated_stats` to an array of 1500 statistics that you calculated under the assumption that Ramona's model was true.\n"
   ]
  },
  {
   "cell_type": "code",
   "execution_count": null,
   "id": "66342550",
   "metadata": {
    "execution": {
     "iopub.execute_input": "2022-03-01T08:49:12.870636Z",
     "iopub.status.busy": "2022-03-01T08:49:12.870089Z",
     "iopub.status.idle": "2022-03-01T08:49:12.886491Z",
     "shell.execute_reply": "2022-03-01T08:49:12.886940Z"
    },
    "tags": []
   },
   "outputs": [],
   "source": [
    "num_repetitions = 1500\n",
    "\n",
    "simulated_stats = ...\n",
    "\n",
    "for ... in ...:\n",
    "    ..."
   ]
  },
  {
   "cell_type": "code",
   "execution_count": null,
   "id": "b43408d3",
   "metadata": {
    "deletable": false,
    "editable": false
   },
   "outputs": [],
   "source": [
    "grader.check(\"q1_8\")"
   ]
  },
  {
   "cell_type": "markdown",
   "id": "8c9ec9c2",
   "metadata": {},
   "source": [
    "Let's view the distribution of the simulated statistics under Ramona's model, and visually compare where the observed statistic lies relative to the simulated statistics."
   ]
  },
  {
   "cell_type": "code",
   "execution_count": null,
   "id": "181b47f8",
   "metadata": {
    "execution": {
     "iopub.execute_input": "2022-03-01T08:49:12.971415Z",
     "iopub.status.busy": "2022-03-01T08:49:12.967593Z",
     "iopub.status.idle": "2022-03-01T08:49:13.259610Z",
     "shell.execute_reply": "2022-03-01T08:49:13.260120Z"
    }
   },
   "outputs": [],
   "source": [
    "t = Table().with_column('Simulated Statistics', simulated_stats)\n",
    "t.hist()\n",
    "plt.scatter(observed_stat, 0, color='red', s=100, zorder=2);"
   ]
  },
  {
   "cell_type": "markdown",
   "id": "d69d2dec",
   "metadata": {},
   "source": [
    "We can make a visual argument as to whether we believe the observed statistic is consistent with Ramona's model. Here, since larger values of the test statistic suggest the alternative model (where the chance of guessing the correct cola is something other than 50%), we can formalize our analysis by finding what proportion of simulated statistics were as large or larger than our observed test statistic (the area at or to the right of the observed test statistic). If this area is small enough, we’ll declare that the observed data are inconsistent with our simulated model. Here is the [link](https://inferentialthinking.com/chapters/11/1/Assessing_a_Model.html) to the section in the textbook."
   ]
  },
  {
   "cell_type": "markdown",
   "id": "e8d11f97",
   "metadata": {},
   "source": [
    "**Question 1.9:** Calculate the proportion of simulated statistics greater than or equal to the observed statistic. \n",
    "\n",
    "*Hint:* `np.count_nonzero` usage can be found [here](http://data8.org/fa21/python-reference.html).\n"
   ]
  },
  {
   "cell_type": "code",
   "execution_count": null,
   "id": "f18c3eea",
   "metadata": {
    "execution": {
     "iopub.execute_input": "2022-03-01T08:49:13.266528Z",
     "iopub.status.busy": "2022-03-01T08:49:13.265402Z",
     "iopub.status.idle": "2022-03-01T08:49:13.269000Z",
     "shell.execute_reply": "2022-03-01T08:49:13.269376Z"
    },
    "scrolled": true,
    "tags": []
   },
   "outputs": [],
   "source": [
    "proportion_greater_or_equal = ...\n",
    "proportion_greater_or_equal"
   ]
  },
  {
   "cell_type": "code",
   "execution_count": null,
   "id": "795d39ea",
   "metadata": {
    "deletable": false,
    "editable": false
   },
   "outputs": [],
   "source": [
    "grader.check(\"q1_9\")"
   ]
  },
  {
   "cell_type": "markdown",
   "id": "1603c007",
   "metadata": {},
   "source": [
    "By convention, we often compare the proportion we just calculated to 0.05. If the proportion of simulated stats greater than or equal to the observed stat is sufficiently small (less than or equal to 0.05), then this is evidence against Ramona's model. Conceptually, you may think of this as the case where less than 5% of simulated values are as far or farther away from what we had expected. If this is not the case, we don’t have any reason to doubt our model. \n",
    "\n",
    "This should help you make your own conclusions about our experiment. "
   ]
  },
  {
   "cell_type": "markdown",
   "id": "19215be6",
   "metadata": {},
   "source": [
    "**Question 1.10:** Now, take some time to think to yourself and discuss with your peers:\n",
    "\n",
    "1. Is the data more consistent with Ramona's model (Coca-Cola fans were randomly guessing)?\n",
    "2. What does this mean in terms of Ramona's experiment? Do the Coca-Cola fans' answers follow an even chance model or is there something else at play? \n",
    "\n",
    "Did you talk to your peers? (T/F)\n"
   ]
  },
  {
   "cell_type": "code",
   "execution_count": null,
   "id": "c9558233",
   "metadata": {
    "execution": {
     "iopub.execute_input": "2022-03-01T08:49:13.292151Z",
     "iopub.status.busy": "2022-03-01T08:49:13.291544Z",
     "iopub.status.idle": "2022-03-01T08:49:13.296069Z",
     "shell.execute_reply": "2022-03-01T08:49:13.295311Z"
    },
    "tags": []
   },
   "outputs": [],
   "source": [
    "peer_talk = ...\n",
    "peer_talk"
   ]
  },
  {
   "cell_type": "code",
   "execution_count": null,
   "id": "cbc64091",
   "metadata": {
    "execution": {
     "iopub.execute_input": "2022-03-01T08:49:13.301845Z",
     "iopub.status.busy": "2022-03-01T08:49:13.301222Z",
     "iopub.status.idle": "2022-03-01T08:49:13.304910Z",
     "shell.execute_reply": "2022-03-01T08:49:13.304350Z"
    }
   },
   "outputs": [],
   "source": [
    "peer_talk == True"
   ]
  },
  {
   "cell_type": "markdown",
   "id": "6392cb3b",
   "metadata": {},
   "source": [
    "## 2. Submission\n",
    "\n",
    "<img src=\"appa_momo.jpg\" alt=\"drawing\" width=\"300\"/>\n",
    "\n",
    "Appa and Momo want to congratulate you on completing the lab!! Now you can relax like them! \n",
    "\n",
    "**Important submission steps:** \n",
    "1. Run the tests and verify that they all pass.\n",
    "2. Choose **Save Notebook** from the **File** menu, then **run the final cell**. \n",
    "3. Click the link to download the zip file.\n",
    "4. Then submit the zip file to the corresponding assignment according to your instructor's directions. \n",
    "\n",
    "**It is your responsibility to make sure your work is saved before running the last cell.**"
   ]
  },
  {
   "cell_type": "markdown",
   "id": "2ddcd093",
   "metadata": {
    "deletable": false,
    "editable": false
   },
   "source": [
    "## Submission\n",
    "\n",
    "Make sure you have run all cells in your notebook in order before running the cell below, so that all images/graphs appear in the output. The cell below will generate a zip file for you to submit. **Please save before exporting!**"
   ]
  },
  {
   "cell_type": "code",
   "execution_count": null,
   "id": "5f5b38b1",
   "metadata": {
    "deletable": false,
    "editable": false
   },
   "outputs": [],
   "source": [
    "# Save your notebook first, then run this cell to export your submission.\n",
    "grader.export(pdf=False, run_tests=True)"
   ]
  },
  {
   "cell_type": "markdown",
   "id": "3b16177e",
   "metadata": {},
   "source": [
    " "
   ]
  }
 ],
 "metadata": {
  "kernelspec": {
   "display_name": "Python 3 (ipykernel)",
   "language": "python",
   "name": "python3"
  },
  "language_info": {
   "codemirror_mode": {
    "name": "ipython",
    "version": 3
   },
   "file_extension": ".py",
   "mimetype": "text/x-python",
   "name": "python",
   "nbconvert_exporter": "python",
   "pygments_lexer": "ipython3",
   "version": "3.10.11"
  },
  "otter": {
   "OK_FORMAT": true,
   "tests": {
    "q1_2": {
     "name": "q1_2",
     "points": null,
     "suites": [
      {
       "cases": [
        {
         "code": ">>> 0 <= expected_correct_prop <= 1\nTrue",
         "hidden": false,
         "locked": false
        },
        {
         "code": ">>> expected_correct_prop == 0.5\nTrue",
         "hidden": false,
         "locked": false
        }
       ],
       "scored": true,
       "setup": "",
       "teardown": "",
       "type": "doctest"
      }
     ]
    },
    "q1_3": {
     "name": "q1_3",
     "points": null,
     "suites": [
      {
       "cases": [
        {
         "code": ">>> type(viable_stat) == np.ndarray\nTrue",
         "hidden": false,
         "locked": false
        },
        {
         "code": ">>> int(sum(viable_stat))\n1",
         "hidden": false,
         "locked": false
        }
       ],
       "scored": true,
       "setup": "",
       "teardown": "",
       "type": "doctest"
      }
     ]
    },
    "q1_5": {
     "name": "q1_5",
     "points": null,
     "suites": [
      {
       "cases": [
        {
         "code": ">>> int(round(stat(.5,.5) + stat(.4,.1),1))\n30",
         "hidden": false,
         "locked": false
        },
        {
         "code": ">>> int(stat(.4,.1) - stat(.1,.4))\n0",
         "hidden": false,
         "locked": false
        }
       ],
       "scored": true,
       "setup": "",
       "teardown": "",
       "type": "doctest"
      }
     ]
    },
    "q1_6": {
     "name": "q1_6",
     "points": null,
     "suites": [
      {
       "cases": [
        {
         "code": ">>> int(round(observed_stat,2))\n5",
         "hidden": false,
         "locked": false
        }
       ],
       "scored": true,
       "setup": "",
       "teardown": "",
       "type": "doctest"
      }
     ]
    },
    "q1_7": {
     "name": "q1_7",
     "points": null,
     "suites": [
      {
       "cases": [
        {
         "code": ">>> len(model_proportions) % 2 == 0\nTrue",
         "hidden": false,
         "locked": false
        },
        {
         "code": ">>> len(np.unique(model_proportions))\n1",
         "hidden": false,
         "locked": false
        },
        {
         "code": ">>> sum(model_proportions) == 1\nTrue",
         "hidden": false,
         "locked": false
        },
        {
         "code": ">>> type(simulation_correct_prop) == float\nTrue",
         "hidden": false,
         "locked": false
        },
        {
         "code": ">>> round(simulation_correct_prop, 2)\n0.49",
         "hidden": false,
         "locked": false
        },
        {
         "code": ">>> round(one_stat, 2)\n1.0",
         "hidden": false,
         "locked": false
        }
       ],
       "scored": true,
       "setup": "",
       "teardown": "",
       "type": "doctest"
      }
     ]
    },
    "q1_8": {
     "name": "q1_8",
     "points": null,
     "suites": [
      {
       "cases": [
        {
         "code": ">>> len(simulated_stats) == 1500\nTrue",
         "hidden": false,
         "locked": false
        },
        {
         "code": ">>> np.all(simulated_stats <= 30)\nTrue",
         "hidden": false,
         "locked": false
        },
        {
         "code": ">>> np.all(simulated_stats >= 0)\nTrue",
         "hidden": false,
         "locked": false
        },
        {
         "code": ">>> 0 <= simulation_and_stat(model_proportions, expected_correct_prop) <= 25\nTrue",
         "hidden": false,
         "locked": false
        }
       ],
       "scored": true,
       "setup": "",
       "teardown": "",
       "type": "doctest"
      }
     ]
    },
    "q1_9": {
     "name": "q1_9",
     "points": null,
     "suites": [
      {
       "cases": [
        {
         "code": ">>> 0 <= proportion_greater_or_equal <= 1\nTrue",
         "hidden": false,
         "locked": false
        },
        {
         "code": ">>> proportion_greater_or_equal*1500 == np.count_nonzero(simulated_stats >= observed_stat)\nTrue",
         "hidden": false,
         "locked": false
        }
       ],
       "scored": true,
       "setup": "",
       "teardown": "",
       "type": "doctest"
      }
     ]
    }
   }
  }
 },
 "nbformat": 4,
 "nbformat_minor": 5
}
