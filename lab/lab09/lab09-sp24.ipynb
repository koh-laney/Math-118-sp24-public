{
 "cells": [
  {
   "cell_type": "code",
   "execution_count": null,
   "id": "801d5e3b",
   "metadata": {
    "deletable": false,
    "editable": false
   },
   "outputs": [],
   "source": [
    "# Initialize Otter\n",
    "import otter\n",
    "grader = otter.Notebook(\"lab09-sp24.ipynb\")"
   ]
  },
  {
   "cell_type": "markdown",
   "id": "b9e74ce7",
   "metadata": {},
   "source": [
    "# Lab 9: Regression\n",
    "\n",
    "Welcome to Lab 9!\n",
    "\n",
    "Today we will get some hands-on practice with linear regression. You can find more information about this topic in\n",
    "[Chapter 15.2](https://www.inferentialthinking.com/chapters/15/2/Regression_Line.html#the-regression-line).\n",
    "\n",
    "**Submission**: Once you’re finished, run all cells besides the last one, select File > Save Notebook, and then execute the final cell. Then submit the downloaded zip file, that includes your notebook,  according to your instructor's directions."
   ]
  },
  {
   "cell_type": "code",
   "execution_count": null,
   "id": "047dcea5",
   "metadata": {
    "execution": {
     "iopub.execute_input": "2022-04-12T07:59:19.464204Z",
     "iopub.status.busy": "2022-04-12T07:59:19.463490Z",
     "iopub.status.idle": "2022-04-12T07:59:21.239537Z",
     "shell.execute_reply": "2022-04-12T07:59:21.238550Z"
    }
   },
   "outputs": [],
   "source": [
    "# Run this cell, but please don't change it.\n",
    "\n",
    "# These lines import the Numpy and Datascience modules.\n",
    "import numpy as np\n",
    "from datascience import *\n",
    "\n",
    "# These lines do some fancy plotting magic.\n",
    "import matplotlib\n",
    "%matplotlib inline\n",
    "import matplotlib.pyplot as plots\n",
    "plots.style.use('fivethirtyeight')\n",
    "import warnings\n",
    "warnings.simplefilter('ignore', FutureWarning)\n",
    "\n",
    "import d8error"
   ]
  },
  {
   "cell_type": "markdown",
   "id": "e7612000",
   "metadata": {},
   "source": [
    "# 1. How old is that abalone? \n",
    "\n",
    "Abalone are shellfish, specifically a type of large sea mollusk that thrives in cold waters worldwide. Their shells have a lustrous substance known as mother-of-pearl, making them sought after for jewelry, art, and decoration. Run the cell below to learn about abalone."
   ]
  },
  {
   "cell_type": "code",
   "execution_count": null,
   "id": "6d23f25b",
   "metadata": {
    "execution": {
     "iopub.execute_input": "2022-04-12T07:59:21.244299Z",
     "iopub.status.busy": "2022-04-12T07:59:21.244008Z",
     "iopub.status.idle": "2022-04-12T07:59:21.298826Z",
     "shell.execute_reply": "2022-04-12T07:59:21.297992Z"
    }
   },
   "outputs": [],
   "source": [
    "# For the curious: this is how to display a YouTube video in a\n",
    "# Jupyter notebook.  The argument to YouTubeVideo is the part\n",
    "# of the URL (called a \"query parameter\") that identifies the\n",
    "# video.  For example, the full URL for this video is:\n",
    "#   https://www.youtube.com/watch?v=A2M1yKm_x1M\n",
    "from IPython.display import YouTubeVideo\n",
    "YouTubeVideo(\"A2M1yKm_x1M\")"
   ]
  },
  {
   "cell_type": "markdown",
   "id": "abb62ae1",
   "metadata": {},
   "source": [
    "How old is an abalone? Rings form within the inner shell of the abalone, with one ring typically developing each year. Determining the age of an abalone involves cutting the shell through the cone, staining it, and counting the rings under a microscope — a tedious and time-consuming process. However, alternative measurements exist that are easier to obtain and can be used to predict the age of the abalone.\n",
    " \n",
    "Today, we will use a dataset with abalone measurements and ages to see if we can make such predictions accurately with linear regression.\n",
    "\n",
    "The dataset has one row for each observed abalone.  It includes the following columns:\n",
    "- `Length`: longest shell measurement of the abalone in millimeters (mm) \n",
    "- `Shell weight`: shell weight of the abalone after being dried in grams\n",
    "- `Rings`: number of rings on the abalone shell. Note: the number of rings corresponds to the age of the abalone.\n",
    "\n",
    "Run the next cell to load the dataset."
   ]
  },
  {
   "cell_type": "code",
   "execution_count": null,
   "id": "bf67f7d4",
   "metadata": {
    "execution": {
     "iopub.execute_input": "2022-04-12T07:59:21.302653Z",
     "iopub.status.busy": "2022-04-12T07:59:21.302387Z",
     "iopub.status.idle": "2022-04-12T07:59:21.312837Z",
     "shell.execute_reply": "2022-04-12T07:59:21.311910Z"
    }
   },
   "outputs": [],
   "source": [
    "abalone = Table.read_table(\"abaloneI.csv\")\n",
    "abalone.show(10)"
   ]
  },
  {
   "cell_type": "markdown",
   "id": "6864b985",
   "metadata": {},
   "source": [
    "**Question 1.0.** The following statements are the unordered steps of linear regression.  \n",
    "\n",
    "1. Use the regression line to generate predictions for each x value. \n",
    "2. Visualize the data and calculate the correlation coefficient to assess the whether linear regression is appropriate for modeling the data.\n",
    "3. Calculate the regression line's parameters, including the slope and intercept.\n",
    "4. Analyze the effectiveness of the regression line by computing the RMSE and examining the residuals plot.\n",
    "\n",
    "Make an array called `least_squares_order` that contains the correct order of a linear regression analysis, where the first item of the array is the first step of an linear regression analysis and the last item of the array is the last step of an linear regression analysis.\n"
   ]
  },
  {
   "cell_type": "code",
   "execution_count": null,
   "id": "59bb69f7",
   "metadata": {
    "execution": {
     "iopub.execute_input": "2022-04-12T07:59:21.317576Z",
     "iopub.status.busy": "2022-04-12T07:59:21.317227Z",
     "iopub.status.idle": "2022-04-12T07:59:21.323370Z",
     "shell.execute_reply": "2022-04-12T07:59:21.322045Z"
    },
    "tags": []
   },
   "outputs": [],
   "source": [
    "least_squares_order = ..."
   ]
  },
  {
   "cell_type": "code",
   "execution_count": null,
   "id": "74317a92",
   "metadata": {
    "deletable": false,
    "editable": false
   },
   "outputs": [],
   "source": [
    "grader.check(\"q1_0\")"
   ]
  },
  {
   "cell_type": "markdown",
   "id": "28a629cd",
   "metadata": {},
   "source": [
    "We would like to use linear regression to make predictions, but that won't work well if the data aren't roughly linearly related.  To check that, we should look at the data."
   ]
  },
  {
   "cell_type": "markdown",
   "id": "a4d623a2",
   "metadata": {},
   "source": [
    "**Question 1.1.** Make a scatter plot of the data using shell weight to predict the number of rings on the abalone shell (ie., the age of the abalone).  It's conventional to put the column we want to predict on the vertical axis and the other column on the horizontal axis.\n"
   ]
  },
  {
   "cell_type": "code",
   "execution_count": null,
   "id": "186bd3c0",
   "metadata": {
    "execution": {
     "iopub.execute_input": "2022-04-12T07:59:21.352498Z",
     "iopub.status.busy": "2022-04-12T07:59:21.352231Z",
     "iopub.status.idle": "2022-04-12T07:59:21.637188Z",
     "shell.execute_reply": "2022-04-12T07:59:21.630562Z"
    },
    "tags": []
   },
   "outputs": [],
   "source": [
    "..."
   ]
  },
  {
   "cell_type": "markdown",
   "id": "6aaa12dd",
   "metadata": {},
   "source": [
    "**Question 1.2.** Are shell weight and rings (i.e., age) of the abalone roughly linearly related based on the scatter plot above? Is this relationship positive? **(2 points)**\n"
   ]
  },
  {
   "cell_type": "markdown",
   "id": "4f6ab87d",
   "metadata": {},
   "source": [
    "_Type your answer here, replacing this text._"
   ]
  },
  {
   "cell_type": "markdown",
   "id": "0b455c85",
   "metadata": {},
   "source": [
    "We're going to continue with the assumption that they are linearly related, so it's reasonable to use linear regression to analyze this data.\n",
    "\n",
    "We'd next like to plot the data in standard units. If you don't remember the definition of standard units, textbook section [14.2](https://www.inferentialthinking.com/chapters/14/2/Variability.html#standard-units) might help!"
   ]
  },
  {
   "cell_type": "markdown",
   "id": "e621877f",
   "metadata": {},
   "source": [
    "**Question 1.3.** Compute the mean and standard deviation of the shell lengths and rings.  **Then** create a table called `abalone_standard` containing the shell lengths and rings in standard units.  The columns should be named `Shell weight (standard units)` and `Rings (standard units)`.\n"
   ]
  },
  {
   "cell_type": "code",
   "execution_count": null,
   "id": "9fb765a5",
   "metadata": {
    "execution": {
     "iopub.execute_input": "2022-04-12T07:59:21.641867Z",
     "iopub.status.busy": "2022-04-12T07:59:21.641535Z",
     "iopub.status.idle": "2022-04-12T07:59:21.649032Z",
     "shell.execute_reply": "2022-04-12T07:59:21.648105Z"
    },
    "for_assignment_type": "solution",
    "tags": []
   },
   "outputs": [],
   "source": [
    "weight_mean = ...\n",
    "weight_std = ...\n",
    "rings_mean = ...\n",
    "rings_std = ...\n",
    "\n",
    "abalone_standard = Table().with_columns(\n",
    "    \"Shell weight (standard units)\", ...,\n",
    "    \"Rings (standard units)\", ...)\n",
    "abalone_standard"
   ]
  },
  {
   "cell_type": "code",
   "execution_count": null,
   "id": "01479132",
   "metadata": {
    "deletable": false,
    "editable": false
   },
   "outputs": [],
   "source": [
    "grader.check(\"q1_3\")"
   ]
  },
  {
   "cell_type": "markdown",
   "id": "896b8516",
   "metadata": {},
   "source": [
    "**Question 1.4.** Plot the data again, but this time in standard units.\n"
   ]
  },
  {
   "cell_type": "code",
   "execution_count": null,
   "id": "4cac3154",
   "metadata": {
    "execution": {
     "iopub.execute_input": "2022-04-12T07:59:21.679591Z",
     "iopub.status.busy": "2022-04-12T07:59:21.678786Z",
     "iopub.status.idle": "2022-04-12T07:59:21.969322Z",
     "shell.execute_reply": "2022-04-12T07:59:21.968287Z"
    },
    "tags": []
   },
   "outputs": [],
   "source": [
    "..."
   ]
  },
  {
   "cell_type": "markdown",
   "id": "0dddb964",
   "metadata": {},
   "source": [
    "You'll notice that this plot looks the same as the last one!  However, the data and axes are scaled differently.  So it's important to read the ticks on the axes."
   ]
  },
  {
   "cell_type": "markdown",
   "id": "0e0c95c5",
   "metadata": {},
   "source": [
    "**Question 1.5.** Among the following numbers, which would you guess is closest to the correlation between shell weight and number of rings in this dataset?\n",
    "\n",
    "1. 1\n",
    "2. 0\n",
    "3. -1\n",
    "\n",
    "Assign `correlation` to the number corresponding to your guess (either 1, 2 or 3).\n"
   ]
  },
  {
   "cell_type": "code",
   "execution_count": null,
   "id": "f339b291",
   "metadata": {
    "execution": {
     "iopub.execute_input": "2022-04-12T07:59:21.973280Z",
     "iopub.status.busy": "2022-04-12T07:59:21.973024Z",
     "iopub.status.idle": "2022-04-12T07:59:21.977101Z",
     "shell.execute_reply": "2022-04-12T07:59:21.976354Z"
    },
    "tags": []
   },
   "outputs": [],
   "source": [
    "correlation = ..."
   ]
  },
  {
   "cell_type": "code",
   "execution_count": null,
   "id": "e5dd6743",
   "metadata": {
    "deletable": false,
    "editable": false
   },
   "outputs": [],
   "source": [
    "grader.check(\"q1_5\")"
   ]
  },
  {
   "cell_type": "markdown",
   "id": "93a5949f",
   "metadata": {},
   "source": [
    "**Question 1.6.** Compute the correlation coefficient: `r`.  \n",
    "\n",
    "*Hint:* Use `abalone_standard`.  Section [15.1](https://www.inferentialthinking.com/chapters/15/1/Correlation.html#calculating-r) explains how to do this.\n",
    "\n"
   ]
  },
  {
   "cell_type": "code",
   "execution_count": null,
   "id": "38452dff",
   "metadata": {
    "execution": {
     "iopub.execute_input": "2022-04-12T07:59:21.991470Z",
     "iopub.status.busy": "2022-04-12T07:59:21.991203Z",
     "iopub.status.idle": "2022-04-12T07:59:21.997189Z",
     "shell.execute_reply": "2022-04-12T07:59:21.996510Z"
    },
    "tags": []
   },
   "outputs": [],
   "source": [
    "r = ...\n",
    "r"
   ]
  },
  {
   "cell_type": "code",
   "execution_count": null,
   "id": "e65d15a3",
   "metadata": {
    "deletable": false,
    "editable": false
   },
   "outputs": [],
   "source": [
    "grader.check(\"q1_6\")"
   ]
  },
  {
   "cell_type": "markdown",
   "id": "2248d13d",
   "metadata": {},
   "source": [
    "## 2. The regression line\n",
    "Recall that the **correlation** is the **slope of the regression line when the data are put in standard units**.\n",
    "\n",
    "The next cell plots the regression line in standard units:\n",
    "\n",
    "$$\\text{number of rings (i.e., age) in standard units} = r \\times \\text{shell weight in standard units}$$\n",
    "\n",
    "Then, it plots the data in standard units again, for comparison."
   ]
  },
  {
   "cell_type": "code",
   "execution_count": null,
   "id": "06a000ed",
   "metadata": {
    "execution": {
     "iopub.execute_input": "2022-04-12T07:59:22.042284Z",
     "iopub.status.busy": "2022-04-12T07:59:22.041703Z",
     "iopub.status.idle": "2022-04-12T07:59:22.404891Z",
     "shell.execute_reply": "2022-04-12T07:59:22.403871Z"
    }
   },
   "outputs": [],
   "source": [
    "def plot_data_and_line(dataset, x, y, point_0, point_1):\n",
    "    \"\"\"Makes a scatter plot of the dataset, along with a line passing through two points.\"\"\"\n",
    "    dataset.scatter(x, y, label=\"data\")\n",
    "    xs, ys = zip(point_0, point_1)\n",
    "    plots.plot(xs, ys, label=\"regression line\")\n",
    "    plots.legend(bbox_to_anchor=(1.5,.8))\n",
    "\n",
    "plot_data_and_line(abalone_standard, \n",
    "                   \"Shell weight (standard units)\", \n",
    "                   \"Rings (standard units)\", \n",
    "                   [-2, -2*r], \n",
    "                   [4, 4*r])"
   ]
  },
  {
   "cell_type": "markdown",
   "id": "e0e99b34",
   "metadata": {},
   "source": [
    "How would you take a point in standard units and convert it back to original units?  We'd have to \"stretch\" its horizontal position by `weight_std` and its vertical position by `rings_std`. That means the same thing would happen to the slope of the line.\n",
    "\n",
    "Stretching a line horizontally makes it less steep, so we divide the slope by the stretching factor.  Stretching a line vertically makes it more steep, so we multiply the slope by the stretching factor.\n",
    "\n",
    "**Question 2.1.** Calculate the slope of the regression line in original units, and assign it to `slope`.\n",
    "\n",
    "(If the \"stretching\" explanation is unintuitive, consult section [15.2](https://www.inferentialthinking.com/chapters/15/2/Regression_Line.html#the-equation-of-the-regression-line) in the textbook.)\n"
   ]
  },
  {
   "cell_type": "code",
   "execution_count": null,
   "id": "643fbd8f",
   "metadata": {
    "execution": {
     "iopub.execute_input": "2022-04-12T07:59:22.409194Z",
     "iopub.status.busy": "2022-04-12T07:59:22.408480Z",
     "iopub.status.idle": "2022-04-12T07:59:22.415041Z",
     "shell.execute_reply": "2022-04-12T07:59:22.414029Z"
    },
    "tags": []
   },
   "outputs": [],
   "source": [
    "slope = ...\n",
    "slope"
   ]
  },
  {
   "cell_type": "code",
   "execution_count": null,
   "id": "91d43b18",
   "metadata": {
    "deletable": false,
    "editable": false
   },
   "outputs": [],
   "source": [
    "grader.check(\"q2_1\")"
   ]
  },
  {
   "cell_type": "markdown",
   "id": "fe5156cf",
   "metadata": {},
   "source": [
    "We know that the regression line passes through the point `(weight_mean, rings_mean)`. Recall that the equation of the regression line in the original units is:\n",
    "\n",
    "$$\\text{rings} = \\text{slope} \\times \\text{weight} + (- \\text{slope} \\times \\text{weight\\_mean + rings\\_mean})$$\n",
    "\n",
    "\n",
    "**Question 2.2.** Calculate the intercept in original units and assign it to `intercept`. [Section 15.2.5](https://inferentialthinking.com/chapters/15/2/Regression_Line.html#the-regression-line-in-standard-units) may be helpful.\n"
   ]
  },
  {
   "cell_type": "code",
   "execution_count": null,
   "id": "240e8053",
   "metadata": {
    "execution": {
     "iopub.execute_input": "2022-04-12T07:59:22.451578Z",
     "iopub.status.busy": "2022-04-12T07:59:22.451263Z",
     "iopub.status.idle": "2022-04-12T07:59:22.458029Z",
     "shell.execute_reply": "2022-04-12T07:59:22.457143Z"
    },
    "tags": []
   },
   "outputs": [],
   "source": [
    "intercept = ...\n",
    "intercept"
   ]
  },
  {
   "cell_type": "code",
   "execution_count": null,
   "id": "a1302132",
   "metadata": {
    "deletable": false,
    "editable": false
   },
   "outputs": [],
   "source": [
    "grader.check(\"q2_2\")"
   ]
  },
  {
   "cell_type": "markdown",
   "id": "9d2862fb",
   "metadata": {},
   "source": [
    "## 3. Investigating the regression line\n",
    "The slope and intercept tell you exactly what the regression line looks like.  To predict the age of an abalone, multiply the abalone's shell weight by `slope` and then add `intercept`.\n",
    "\n",
    "**Question 3.1.** Compute the predicted number of rings (i.e., age) for an abalone that has a shell weight of .01 grams, and for an abalone that has a shell weight of .4 grams.\n"
   ]
  },
  {
   "cell_type": "code",
   "execution_count": null,
   "id": "ed99421a",
   "metadata": {
    "execution": {
     "iopub.execute_input": "2022-04-12T07:59:22.482292Z",
     "iopub.status.busy": "2022-04-12T07:59:22.481462Z",
     "iopub.status.idle": "2022-04-12T07:59:22.488986Z",
     "shell.execute_reply": "2022-04-12T07:59:22.488117Z"
    },
    "tags": []
   },
   "outputs": [],
   "source": [
    "point_01_predicted_age = ...\n",
    "point_4_predicted_age = ...\n",
    "\n",
    "# Here is a helper function to print out your predictions.\n",
    "# Don't modify the code below.\n",
    "def print_prediction(weight, predicted_age):\n",
    "    print(\"With a shell weight of\", weight,\n",
    "          \"grams, we predict the abalone is\", predicted_age,\n",
    "          \"years old.\")\n",
    "\n",
    "print_prediction(.01, point_01_predicted_age)\n",
    "print_prediction(.4, point_4_predicted_age)"
   ]
  },
  {
   "cell_type": "code",
   "execution_count": null,
   "id": "82db4af3",
   "metadata": {
    "deletable": false,
    "editable": false
   },
   "outputs": [],
   "source": [
    "grader.check(\"q3_1\")"
   ]
  },
  {
   "cell_type": "markdown",
   "id": "83c662e0",
   "metadata": {},
   "source": [
    "The next cell plots the line that goes between those two points, which is (a segment of) the regression line."
   ]
  },
  {
   "cell_type": "code",
   "execution_count": null,
   "id": "d6cd1beb",
   "metadata": {
    "execution": {
     "iopub.execute_input": "2022-04-12T07:59:22.544244Z",
     "iopub.status.busy": "2022-04-12T07:59:22.543425Z",
     "iopub.status.idle": "2022-04-12T07:59:22.858447Z",
     "shell.execute_reply": "2022-04-12T07:59:22.857355Z"
    },
    "scrolled": true
   },
   "outputs": [],
   "source": [
    "plot_data_and_line(abalone, \"Shell weight\", \"Rings\", \n",
    "                   [.01, point_01_predicted_age], \n",
    "                   [.4, point_4_predicted_age])"
   ]
  },
  {
   "cell_type": "markdown",
   "id": "d8c6c0dd",
   "metadata": {},
   "source": [
    "**Question 3.2.** Make predictions for the number of rings for each abalone in the `abalone` table.  (Of course, we know exactly what the number of rings are for each abalone!  We are doing this so we can see how accurate our predictions are.  Put these numbers into a column in a new table called `abalone_predictions`.  Its first row should look like this:\n",
    "\n",
    "|Length|Shell weight|Rings|predicted Rings|\n",
    "|-|-|-|-|\n",
    "|.33|.055|7|6.28421|\n",
    "\n",
    "*Hint:* Your answer can be just one line, though you are not limited to one line.  There is no need for a `for` loop; use array arithmetic instead.\n"
   ]
  },
  {
   "cell_type": "code",
   "execution_count": null,
   "id": "22975cff",
   "metadata": {
    "execution": {
     "iopub.execute_input": "2022-04-12T07:59:22.863584Z",
     "iopub.status.busy": "2022-04-12T07:59:22.862468Z",
     "iopub.status.idle": "2022-04-12T07:59:22.870702Z",
     "shell.execute_reply": "2022-04-12T07:59:22.869835Z"
    },
    "tags": []
   },
   "outputs": [],
   "source": [
    "abalone_predictions = ...\n",
    "abalone_predictions"
   ]
  },
  {
   "cell_type": "code",
   "execution_count": null,
   "id": "8f6ef725",
   "metadata": {
    "deletable": false,
    "editable": false
   },
   "outputs": [],
   "source": [
    "grader.check(\"q3_2\")"
   ]
  },
  {
   "cell_type": "markdown",
   "id": "76a53a8f",
   "metadata": {},
   "source": [
    "**Question 3.3.** How close were we?  Compute the *residual* for each eruption in the dataset.  The residual is the actual number of rings time minus the predicted number of rings.  Add the residuals to `abalone_predictions` as a new column called `residual` and name the resulting table `abalone_residuals`.\n",
    "\n",
    "*Hint:* Again, your code will be much simpler if you don't use a `for` loop.\n"
   ]
  },
  {
   "cell_type": "code",
   "execution_count": null,
   "id": "22a8618a",
   "metadata": {
    "execution": {
     "iopub.execute_input": "2022-04-12T07:59:22.897028Z",
     "iopub.status.busy": "2022-04-12T07:59:22.896776Z",
     "iopub.status.idle": "2022-04-12T07:59:22.904394Z",
     "shell.execute_reply": "2022-04-12T07:59:22.903516Z"
    },
    "tags": []
   },
   "outputs": [],
   "source": [
    "abalone_residuals = ...\n",
    "abalone_residuals"
   ]
  },
  {
   "cell_type": "code",
   "execution_count": null,
   "id": "049c1c8b",
   "metadata": {
    "deletable": false,
    "editable": false
   },
   "outputs": [],
   "source": [
    "grader.check(\"q3_3\")"
   ]
  },
  {
   "cell_type": "markdown",
   "id": "f23ab28e",
   "metadata": {},
   "source": [
    "Here is a plot of the residuals you computed.  Each point corresponds to one abalone.  It shows how much our prediction over- or under-estimated the age of the abalone."
   ]
  },
  {
   "cell_type": "code",
   "execution_count": null,
   "id": "1f7e459a",
   "metadata": {
    "execution": {
     "iopub.execute_input": "2022-04-12T07:59:22.956472Z",
     "iopub.status.busy": "2022-04-12T07:59:22.956220Z",
     "iopub.status.idle": "2022-04-12T07:59:23.227575Z",
     "shell.execute_reply": "2022-04-12T07:59:23.226434Z"
    }
   },
   "outputs": [],
   "source": [
    "abalone_residuals.scatter(\"Shell weight\", \"residual\", color=\"r\")"
   ]
  },
  {
   "cell_type": "markdown",
   "id": "f3fd2939",
   "metadata": {},
   "source": [
    "There isn't really a pattern in the residuals, which confirms that it was reasonable to try linear regression. "
   ]
  },
  {
   "cell_type": "markdown",
   "id": "fe610f43",
   "metadata": {},
   "source": [
    "## 4. How accurate are different predictions?\n",
    "Earlier, you should have found that the correlation is moderately close to 1, so the line fits moderately well on the training data.  That means the residuals can vary widely (not all points are close to 0) in comparison to the number of rings (ie., age) of the abalone.\n",
    "\n",
    "We can see that visually by plotting the shell weight and residuals together:"
   ]
  },
  {
   "cell_type": "code",
   "execution_count": null,
   "id": "1bd07514",
   "metadata": {
    "execution": {
     "iopub.execute_input": "2022-04-12T07:59:23.237229Z",
     "iopub.status.busy": "2022-04-12T07:59:23.231516Z",
     "iopub.status.idle": "2022-04-12T07:59:23.628427Z",
     "shell.execute_reply": "2022-04-12T07:59:23.626680Z"
    }
   },
   "outputs": [],
   "source": [
    "# Just run this cell.\n",
    "abalone_residuals.scatter(\"Shell weight\", \"Rings\", label=\"actual number of rings\", color=\"blue\")\n",
    "plots.scatter(abalone_residuals.column(\"Shell weight\"), abalone_residuals.column(\"residual\"), label=\"residual\", color=\"r\")\n",
    "plots.plot([0, .5], [point_1_predicted_age, point_3_predicted_age], label=\"regression line\")\n",
    "plots.legend(bbox_to_anchor=(.2,.5));"
   ]
  },
  {
   "cell_type": "markdown",
   "id": "bf04bf5d",
   "metadata": {},
   "source": [
    "Unless you have a strong reason to believe that the linear regression model is true, you should be wary of applying your prediction model to data that are very different from the training data."
   ]
  },
  {
   "cell_type": "markdown",
   "id": "a1b487d7",
   "metadata": {},
   "source": [
    "**Question 4.1.** In the `abalone` dataset, there is no abalone with a shell weight of exactly 0, .244, or 2 grams.  Using this line, what is the predicted age for an abalone with a shell weight of 0 grams?  .244 grams?  2 grams?\n"
   ]
  },
  {
   "cell_type": "code",
   "execution_count": null,
   "id": "43ecc93a",
   "metadata": {
    "execution": {
     "iopub.execute_input": "2022-04-12T07:59:23.638793Z",
     "iopub.status.busy": "2022-04-12T07:59:23.638309Z",
     "iopub.status.idle": "2022-04-12T07:59:23.647977Z",
     "shell.execute_reply": "2022-04-12T07:59:23.646780Z"
    },
    "tags": []
   },
   "outputs": [],
   "source": [
    "zero_grams_predicted_age = ...\n",
    "point_248_grams_predicted_age = ...\n",
    "two_grams_predicted_age = ...\n",
    "\n",
    "print_prediction(0, zero_grams_predicted_age)\n",
    "print_prediction(.248, point_248_grams_predicted_age)\n",
    "print_prediction(2, two_grams_predicted_age)"
   ]
  },
  {
   "cell_type": "code",
   "execution_count": null,
   "id": "89960783",
   "metadata": {
    "deletable": false,
    "editable": false
   },
   "outputs": [],
   "source": [
    "grader.check(\"q4_1\")"
   ]
  },
  {
   "cell_type": "markdown",
   "id": "af7d2db8",
   "metadata": {},
   "source": [
    "**Question 4.2.** For each prediction, state whether you think it's reliable and explain your reasoning. **(2 points)**\n"
   ]
  },
  {
   "cell_type": "markdown",
   "id": "605f9c52",
   "metadata": {},
   "source": [
    "_Type your answer here, replacing this text._"
   ]
  },
  {
   "cell_type": "markdown",
   "id": "9dc09743",
   "metadata": {},
   "source": [
    "## 5. Checking other measurements"
   ]
  },
  {
   "cell_type": "markdown",
   "id": "a21dfe9c",
   "metadata": {},
   "source": [
    "In addition to the abalone's shell weight, other measurements are also taken. The `abalone` dataset also includes the length of the longest shell measurement (in millimeters). "
   ]
  },
  {
   "cell_type": "code",
   "execution_count": null,
   "id": "8fe3a60e",
   "metadata": {
    "execution": {
     "iopub.execute_input": "2022-04-12T07:59:23.692832Z",
     "iopub.status.busy": "2022-04-12T07:59:23.692278Z",
     "iopub.status.idle": "2022-04-12T07:59:24.048235Z",
     "shell.execute_reply": "2022-04-12T07:59:24.045618Z"
    },
    "scrolled": true
   },
   "outputs": [],
   "source": [
    "abalone.scatter(\"Length\", \"Rings\")"
   ]
  },
  {
   "cell_type": "markdown",
   "id": "37bcdfd2",
   "metadata": {},
   "source": [
    "The `standardize` function from lecture appears below, which takes in a table with numerical columns and returns the same table with each column converted into standard units."
   ]
  },
  {
   "cell_type": "code",
   "execution_count": null,
   "id": "2101c98d",
   "metadata": {
    "execution": {
     "iopub.execute_input": "2022-04-12T07:59:24.054863Z",
     "iopub.status.busy": "2022-04-12T07:59:24.053639Z",
     "iopub.status.idle": "2022-04-12T07:59:24.063914Z",
     "shell.execute_reply": "2022-04-12T07:59:24.062151Z"
    }
   },
   "outputs": [],
   "source": [
    "# Just run this cell.\n",
    "\n",
    "def standard_units(any_numbers):\n",
    "    \"Convert any array of numbers to standard units.\"\n",
    "    return (any_numbers - np.mean(any_numbers)) / np.std(any_numbers)  \n",
    "\n",
    "def standardize(t):\n",
    "    \"\"\"Return a table in which all columns of t are converted to standard units.\"\"\"\n",
    "    t_su = Table()\n",
    "    for label in t.labels:\n",
    "        t_su = t_su.with_column(label + ' (su)', standard_units(t.column(label)))\n",
    "    return t_su"
   ]
  },
  {
   "cell_type": "markdown",
   "id": "23480872",
   "metadata": {},
   "source": [
    "**Question 5.1.** Compute the correlation coefficient *r* using the length of the abalone as the explanatory variable. \n"
   ]
  },
  {
   "cell_type": "code",
   "execution_count": null,
   "id": "3acb3d65",
   "metadata": {
    "execution": {
     "iopub.execute_input": "2022-04-12T07:59:24.070305Z",
     "iopub.status.busy": "2022-04-12T07:59:24.069703Z",
     "iopub.status.idle": "2022-04-12T07:59:24.081975Z",
     "shell.execute_reply": "2022-04-12T07:59:24.080610Z"
    },
    "tags": []
   },
   "outputs": [],
   "source": [
    "def corr_coeff(t):\n",
    "    \"\"\"Return the regression coefficient for columns 0 & 1.\"\"\"\n",
    "    t_su = standardize(t)\n",
    "    ...\n",
    "\n",
    "abalone_length = ...\n",
    "abalone_length_r = ...\n",
    "print(\"Using the length of the abalone shell, r is\", abalone_length_r)"
   ]
  },
  {
   "cell_type": "code",
   "execution_count": null,
   "id": "f27ade38",
   "metadata": {
    "deletable": false,
    "editable": false
   },
   "outputs": [],
   "source": [
    "grader.check(\"q5_1\")"
   ]
  },
  {
   "cell_type": "markdown",
   "id": "a7e5ff69",
   "metadata": {},
   "source": [
    "**Question 5.2.** Complete the functions `slope_of` and `intercept_of` below. \n",
    "\n",
    "When you're done, the function `age_abalone_length` should use a different regression line than the one above to predict the age of an abalone based on its length.\n"
   ]
  },
  {
   "cell_type": "code",
   "execution_count": null,
   "id": "6c2944b8",
   "metadata": {
    "execution": {
     "iopub.execute_input": "2022-04-12T07:59:24.111217Z",
     "iopub.status.busy": "2022-04-12T07:59:24.110853Z",
     "iopub.status.idle": "2022-04-12T07:59:24.146215Z",
     "shell.execute_reply": "2022-04-12T07:59:24.144570Z"
    },
    "tags": []
   },
   "outputs": [],
   "source": [
    "def slope_of(table, r):\n",
    "    \"\"\"Return the slope of the regression line for table in original units.\n",
    "    \n",
    "    Assume that column 0 contains x values and column 1 contains y values.\n",
    "    r is the regression coefficient for x and y.\n",
    "    \"\"\"\n",
    "    ...\n",
    "\n",
    "def intercept_of(table, r):\n",
    "    \"\"\"Return the intercept of the regression line for table in original units.\"\"\"\n",
    "    slope = slope_of(table, r)\n",
    "    ...\n",
    "    \n",
    "abalone_length_slope = slope_of(abalone_length, abalone_length_r)\n",
    "abalone_length_intercept = intercept_of(abalone_length, abalone_length_r)\n",
    "\n",
    "def age_abalone_length(length):\n",
    "    return abalone_length_slope * length + abalone_length_intercept"
   ]
  },
  {
   "cell_type": "code",
   "execution_count": null,
   "id": "94112f4f",
   "metadata": {
    "deletable": false,
    "editable": false
   },
   "outputs": [],
   "source": [
    "grader.check(\"q5_2\")"
   ]
  },
  {
   "cell_type": "markdown",
   "id": "f462e062",
   "metadata": {},
   "source": [
    "The plot below shows the scatter plot of length and number of rings (i.e., age) with the new regression line."
   ]
  },
  {
   "cell_type": "code",
   "execution_count": null,
   "id": "c1fb9066",
   "metadata": {
    "execution": {
     "iopub.execute_input": "2022-04-12T07:59:24.167539Z",
     "iopub.status.busy": "2022-04-12T07:59:24.167130Z",
     "iopub.status.idle": "2022-04-12T07:59:24.445467Z",
     "shell.execute_reply": "2022-04-12T07:59:24.444593Z"
    }
   },
   "outputs": [],
   "source": [
    "abalone.scatter(\"Length\", 'Rings', fit_line=True)"
   ]
  },
  {
   "cell_type": "markdown",
   "id": "357b1541",
   "metadata": {},
   "source": [
    "**Question 5.3.** The first row of the table produced in Question 3.2, shows an abalone with a shell weight of 0.055 grams and a length of 0.33mm. Based on the shell weight of 0.055 grams, the predicted number of rings (i.e., age of the abalone) was 6.28421. Now, use the function `age_abalone_length` from above to predict the number of rings using the shell's length, which is 0.33 mm."
   ]
  },
  {
   "cell_type": "code",
   "execution_count": null,
   "id": "5369f7cd",
   "metadata": {
    "execution": {
     "iopub.execute_input": "2022-04-12T07:59:24.449302Z",
     "iopub.status.busy": "2022-04-12T07:59:24.449045Z",
     "iopub.status.idle": "2022-04-12T07:59:24.455308Z",
     "shell.execute_reply": "2022-04-12T07:59:24.454281Z"
    },
    "for_assignment_type": "student",
    "tags": []
   },
   "outputs": [],
   "source": [
    "predicted_age_using_length =\n",
    "    ...\n",
    "\n",
    "# Don't modify the code below.\n",
    "print(\"Using a length of 0.33 mm for the abalone, the abalone's age is\", predicted_age_using_length)"
   ]
  },
  {
   "cell_type": "code",
   "execution_count": null,
   "id": "91cb623b",
   "metadata": {
    "deletable": false,
    "editable": false
   },
   "outputs": [],
   "source": [
    "grader.check(\"q5_3\")"
   ]
  },
  {
   "cell_type": "markdown",
   "id": "b6fd62dc",
   "metadata": {},
   "source": [
    "**Question 5.4.** Do you think the predictions produced using the length of the abalone would be more accurate, less accurate, or about the same as the predictions from the regression line you created in section 2? How could you tell?"
   ]
  },
  {
   "cell_type": "markdown",
   "id": "23474afa",
   "metadata": {},
   "source": [
    "**SOLUTION:** About the same. The pattern of the data and the r value are about the same. "
   ]
  },
  {
   "cell_type": "markdown",
   "id": "22bd43d6",
   "metadata": {},
   "source": [
    "## 6. Submission\n",
    "\n",
    "<img src=\"lab09_pets.jpg\" alt=\"drawing\" width=\"500\"/>\n",
    "\n",
    "Congratulations, you're done with Lab 9!\n",
    "\n",
    "**Important submission steps:** \n",
    "1. Run the tests and verify that they all pass.\n",
    "2. Choose **Save Notebook** from the **File** menu, then **run the final cell**. \n",
    "3. Click the link to download the zip file.\n",
    "4. Then submit the zip file to the corresponding assignment according to your instructor's directions. \n",
    "\n",
    "**It is your responsibility to make sure your work is saved before running the last cell.**"
   ]
  },
  {
   "cell_type": "markdown",
   "id": "f139ecf2",
   "metadata": {
    "deletable": false,
    "editable": false
   },
   "source": [
    "## Submission\n",
    "\n",
    "Make sure you have run all cells in your notebook in order before running the cell below, so that all images/graphs appear in the output. The cell below will generate a zip file for you to submit. **Please save before exporting!**"
   ]
  },
  {
   "cell_type": "code",
   "execution_count": null,
   "id": "25b1acc3",
   "metadata": {
    "deletable": false,
    "editable": false
   },
   "outputs": [],
   "source": [
    "# Save your notebook first, then run this cell to export your submission.\n",
    "grader.export(pdf=False, run_tests=True)"
   ]
  },
  {
   "cell_type": "markdown",
   "id": "21a95a4a",
   "metadata": {},
   "source": [
    " "
   ]
  }
 ],
 "metadata": {
  "kernelspec": {
   "display_name": "Python 3 (ipykernel)",
   "language": "python",
   "name": "python3"
  },
  "language_info": {
   "codemirror_mode": {
    "name": "ipython",
    "version": 3
   },
   "file_extension": ".py",
   "mimetype": "text/x-python",
   "name": "python",
   "nbconvert_exporter": "python",
   "pygments_lexer": "ipython3",
   "version": "3.10.11"
  },
  "otter": {
   "OK_FORMAT": true,
   "tests": {
    "q1_0": {
     "name": "q1_0",
     "points": null,
     "suites": [
      {
       "cases": [
        {
         "code": ">>> len(least_squares_order) == 4\nTrue",
         "hidden": false,
         "locked": false
        },
        {
         "code": ">>> \n>>> import hashlib # This imports a hashing library for the autograder.\n>>> def get_hash(num):\n...     \"\"\"Helper function for assessing correctness.\"\"\"\n...     return hashlib.md5(str(num).encode()).hexdigest()\n>>> \n>>> get_hash(np.array(least_squares_order).astype(int)) # Your ordering is incorrect.\n'1c85b0f38addec933c7f53e97f00b23f'",
         "hidden": false,
         "locked": false
        }
       ],
       "scored": true,
       "setup": "",
       "teardown": "",
       "type": "doctest"
      }
     ]
    },
    "q1_3": {
     "name": "q1_3",
     "points": null,
     "suites": [
      {
       "cases": [
        {
         "code": ">>> abs(sum(abalone.column(0))) <= 858\nTrue",
         "hidden": false,
         "locked": false
        },
        {
         "code": ">>> round(weight_std, 2) == .08\nTrue",
         "hidden": false,
         "locked": false
        },
        {
         "code": ">>> round(rings_std, 2) == 2.51 \nTrue",
         "hidden": false,
         "locked": false
        }
       ],
       "scored": true,
       "setup": "",
       "teardown": "",
       "type": "doctest"
      }
     ]
    },
    "q1_5": {
     "name": "q1_5",
     "points": null,
     "suites": [
      {
       "cases": [
        {
         "code": ">>> \n>>> import hashlib # This imports a hashing library for the autograder.\n>>> def get_hash(num):\n...     \"\"\"Helper function for assessing correctness.\"\"\"\n...     return hashlib.md5(str(num).encode()).hexdigest()\n>>> \n>>> get_hash(int(correlation)) # Your choice is incorrect.\n'c4ca4238a0b923820dcc509a6f75849b'",
         "hidden": false,
         "locked": false
        }
       ],
       "scored": true,
       "setup": "",
       "teardown": "",
       "type": "doctest"
      }
     ]
    },
    "q1_6": {
     "name": "q1_6",
     "points": null,
     "suites": [
      {
       "cases": [
        {
         "code": ">>> -1 <= r <= 1\nTrue",
         "hidden": false,
         "locked": false
        },
        {
         "code": ">>> round(r,3) == 0.734\nTrue",
         "hidden": false,
         "locked": false
        }
       ],
       "scored": true,
       "setup": "",
       "teardown": "",
       "type": "doctest"
      }
     ]
    },
    "q2_1": {
     "name": "q2_1",
     "points": null,
     "suites": [
      {
       "cases": [
        {
         "code": ">>> 1.5 < (slope*13 - 100)/98 <= 1.95\nTrue",
         "hidden": false,
         "locked": false
        },
        {
         "code": ">>> np.round(slope, 4) == 22.061 # Make sure you are plugging in the SD_x and SD_y in the correct spots!\nTrue",
         "hidden": false,
         "locked": false
        }
       ],
       "scored": true,
       "setup": "",
       "teardown": "",
       "type": "doctest"
      }
     ]
    },
    "q2_2": {
     "name": "q2_2",
     "points": null,
     "suites": [
      {
       "cases": [
        {
         "code": ">>> 4 < intercept < 7\nTrue",
         "hidden": false,
         "locked": false
        },
        {
         "code": ">>> np.round(intercept, 3) == 5.071\nTrue",
         "hidden": false,
         "locked": false
        }
       ],
       "scored": true,
       "setup": "",
       "teardown": "",
       "type": "doctest"
      }
     ]
    },
    "q3_1": {
     "name": "q3_1",
     "points": null,
     "suites": [
      {
       "cases": [
        {
         "code": ">>> round(point_01_predicted_age, 3) == 5.291\nTrue",
         "hidden": false,
         "locked": false
        },
        {
         "code": ">>> round(point_4_predicted_age, 3) == 13.895\nTrue",
         "hidden": false,
         "locked": false
        }
       ],
       "scored": true,
       "setup": "",
       "teardown": "",
       "type": "doctest"
      }
     ]
    },
    "q3_2": {
     "name": "q3_2",
     "points": null,
     "suites": [
      {
       "cases": [
        {
         "code": ">>> set(abalone_predictions.labels) == set(['Length','Shell weight', 'Rings', 'predicted Rings']) # Make sure your column labels are correct.\nTrue",
         "hidden": false,
         "locked": false
        },
        {
         "code": ">>> .6 < abs(1 - np.mean(abalone_predictions.column(2))/100) <= 0.93\nTrue",
         "hidden": false,
         "locked": false
        }
       ],
       "scored": true,
       "setup": "",
       "teardown": "",
       "type": "doctest"
      }
     ]
    },
    "q3_3": {
     "name": "q3_3",
     "points": null,
     "suites": [
      {
       "cases": [
        {
         "code": ">>> set(abalone_residuals.labels) == set(['Length', 'Shell weight', 'Rings', 'predicted Rings','residual']) # Make sure your column labels are correct.\nTrue",
         "hidden": false,
         "locked": false
        },
        {
         "code": ">>> abs(sum(abalone_residuals.column('residual'))) <= 1.5e-12\nTrue",
         "hidden": false,
         "locked": false
        }
       ],
       "scored": true,
       "setup": "",
       "teardown": "",
       "type": "doctest"
      }
     ]
    },
    "q4_1": {
     "name": "q4_1",
     "points": null,
     "suites": [
      {
       "cases": [
        {
         "code": ">>> 12 - zero_grams_predicted_age*1.4/4 <= 10.5\nTrue",
         "hidden": false,
         "locked": false
        },
        {
         "code": ">>> 9 < zero_grams_predicted_age + intercept <= 13.4\nTrue",
         "hidden": false,
         "locked": false
        },
        {
         "code": ">>> 1 < 2 - point_248_grams_predicted_age /35 <= 1.75\nTrue",
         "hidden": false,
         "locked": false
        },
        {
         "code": ">>> 1 < (26 - two_grams_predicted_age/30)/10 <= 2.5\nTrue",
         "hidden": false,
         "locked": false
        }
       ],
       "scored": true,
       "setup": "",
       "teardown": "",
       "type": "doctest"
      }
     ]
    },
    "q5_1": {
     "name": "q5_1",
     "points": null,
     "suites": [
      {
       "cases": [
        {
         "code": ">>> 0 < abalone_length_r < 1\nTrue",
         "hidden": false,
         "locked": false
        },
        {
         "code": ">>> round(abalone_length_r, 3) == 0.686\nTrue",
         "hidden": false,
         "locked": false
        }
       ],
       "scored": true,
       "setup": "",
       "teardown": "",
       "type": "doctest"
      }
     ]
    },
    "q5_2": {
     "name": "q5_2",
     "points": null,
     "suites": [
      {
       "cases": [
        {
         "code": ">>> np.allclose([age_abalone_length(.2), age_abalone_length(.3)], \n...             [4.2858693662736052, 5.8685949410477054])\nTrue",
         "hidden": false,
         "locked": false
        }
       ],
       "scored": true,
       "setup": "",
       "teardown": "",
       "type": "doctest"
      }
     ]
    },
    "q5_3": {
     "name": "q5_3",
     "points": null,
     "suites": [
      {
       "cases": [
        {
         "code": ">>> 6 < predicted_age_using_length < 7\nTrue",
         "hidden": false,
         "locked": false
        },
        {
         "code": ">>> np.isclose(predicted_age_using_length, 6.343412613479936)\nTrue",
         "hidden": false,
         "locked": false
        }
       ],
       "scored": true,
       "setup": "",
       "teardown": "",
       "type": "doctest"
      }
     ]
    }
   }
  }
 },
 "nbformat": 4,
 "nbformat_minor": 5
}
