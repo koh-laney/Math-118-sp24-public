{
 "cells": [
  {
   "cell_type": "code",
   "execution_count": null,
   "id": "b4220a2d",
   "metadata": {
    "deletable": false,
    "editable": false
   },
   "outputs": [],
   "source": [
    "# Initialize Otter\n",
    "import otter\n",
    "grader = otter.Notebook(\"lab08-sp24.ipynb\")"
   ]
  },
  {
   "cell_type": "markdown",
   "id": "23be6fc0",
   "metadata": {},
   "source": [
    "# Lab 8: Normal Distribution and Variability of Sample Means\n",
    "\n",
    "Welcome to Lab 8!\n",
    "\n",
    "In today's lab, we will learn about [the variability of sample means](https://inferentialthinking.com/chapters/14/5/Variability_of_the_Sample_Mean.html) as well as [the normal distribution](https://www.inferentialthinking.com/chapters/14/3/SD_and_the_Normal_Curve.html).\n",
    "\n",
    "\n",
    "**Submission**: Once you’re finished, run all cells besides the last one, select File > Save Notebook, and then execute the final cell. Then submit the downloaded zip file, that includes your notebook,  according to your instructor's directions. \n",
    "\n",
    "First, set up the notebook by running the cell below."
   ]
  },
  {
   "cell_type": "code",
   "execution_count": null,
   "id": "187d4bac",
   "metadata": {
    "execution": {
     "iopub.execute_input": "2022-03-29T04:51:51.674747Z",
     "iopub.status.busy": "2022-03-29T04:51:51.674449Z",
     "iopub.status.idle": "2022-03-29T04:51:53.131918Z",
     "shell.execute_reply": "2022-03-29T04:51:53.131226Z"
    }
   },
   "outputs": [],
   "source": [
    "# Run this cell, but please don't change it.\n",
    "\n",
    "# These lines import the Numpy and Datascience modules.\n",
    "import numpy as np\n",
    "from datascience import *\n",
    "\n",
    "# These lines do some fancy plotting magic.\n",
    "import matplotlib\n",
    "%matplotlib inline\n",
    "import matplotlib.pyplot as plots\n",
    "plots.style.use('fivethirtyeight')\n",
    "import warnings\n",
    "warnings.simplefilter('ignore')\n",
    "\n",
    "import d8error"
   ]
  },
  {
   "cell_type": "markdown",
   "id": "da6f2de4",
   "metadata": {},
   "source": [
    "# 1. Normal Distributions\n",
    "\n",
    "When we visualize the distribution of a sample, we are often interested in the mean and the standard deviation of the sample (for the rest of this lab, we will abbreviate “standard deviation” as “SD”). These two sample statistics can give us a bird’s eye view of the distribution -- by letting us know where the distribution sits on the number line and how spread out it is, respectively. "
   ]
  },
  {
   "cell_type": "markdown",
   "id": "eb70afb4",
   "metadata": {},
   "source": [
    "We want to check if the data is linearly related, so we should look at the data."
   ]
  },
  {
   "cell_type": "markdown",
   "id": "f6943f9b",
   "metadata": {},
   "source": [
    "**Question 1.1.** FIFA 23 is a soccer simulation video game developed and published by Electronic Arts under the EA Sports label. The next cell loads a table called `FIFA23` which contains over 17,000 unique players and information about each one, such as the player's age, nationality, and overall rating.\n",
    "\n",
    "Plot the distribution of player’s ages from the table. Don’t change the last line, which will plot the mean of the sample on the distribution itself.\n"
   ]
  },
  {
   "cell_type": "code",
   "execution_count": null,
   "id": "193cf013",
   "metadata": {
    "deletable": false,
    "execution": {
     "iopub.execute_input": "2022-03-29T04:51:53.135692Z",
     "iopub.status.busy": "2022-03-29T04:51:53.135447Z",
     "iopub.status.idle": "2022-03-29T04:51:53.451239Z",
     "shell.execute_reply": "2022-03-29T04:51:53.450482Z"
    },
    "tags": []
   },
   "outputs": [],
   "source": [
    "FIFA = Table.read_table('FIFA23_official_data.csv')\n",
    "...\n",
    "\n",
    "# Do not change anything below this line\n",
    "plots.scatter(np.mean(FIFA.column(\"Age\")), 0, color='red', zorder=2, s=50, label=\"Mean\");\n",
    "plots.ylim(-0.005, 0.07);"
   ]
  },
  {
   "cell_type": "markdown",
   "id": "df2f7e6b",
   "metadata": {},
   "source": [
    "From the plot above, we can see that the mean is the center of gravity or balance point of the distribution. If you cut the distribution out of cardboard, and then placed your finger at the mean, the distribution would perfectly balance on your finger. Since the distribution above is right skewed (which means it has a long right tail), we know that the few large values pull the mean higher. Thus, the mean of the distribution is larger than the median, which is the “halfway” point of the data. Conversely, if the distribution had been left skewed, the few small values would pull the mean lower than the median."
   ]
  },
  {
   "cell_type": "markdown",
   "id": "a49f72e9",
   "metadata": {},
   "source": [
    "**Question 1.2.** Run the following cell to compare the mean (red) and median (blue) of the distribution of players ages.\n"
   ]
  },
  {
   "cell_type": "code",
   "execution_count": null,
   "id": "2e29bdb4",
   "metadata": {
    "execution": {
     "iopub.execute_input": "2022-03-29T04:51:53.455635Z",
     "iopub.status.busy": "2022-03-29T04:51:53.455337Z",
     "iopub.status.idle": "2022-03-29T04:51:53.805245Z",
     "shell.execute_reply": "2022-03-29T04:51:53.804659Z"
    },
    "tags": []
   },
   "outputs": [],
   "source": [
    "FIFA.hist(\"Age\")\n",
    "plots.scatter(np.mean(FIFA.column(\"Age\")), 0, color='red', zorder=2, s=50, label=\"Mean\")\n",
    "plots.scatter(np.median(FIFA.column(\"Age\")), 0, color='blue', zorder=2, s=50, label=\"Median\")\n",
    "plots.legend()\n",
    "plots.ylim(-0.005, 0.07);"
   ]
  },
  {
   "cell_type": "markdown",
   "id": "1890b5ac",
   "metadata": {},
   "source": [
    "We are also interested in the standard deviation of player’s ages. The SD gives us a sense of how variable players' ages are around the average players' age. If the SD is large, then the players' ages should spread over a large range from the mean. If the SD is small, then the players' ages should be tightly clustered around the average player age. \n",
    "\n",
    "**The SD of an array is defined as the root mean square of the deviations where the deviations are the difference between the original elements and their average.**\n",
    "\n",
    "You can read more about Variability and SD in [Chapter 14.2](https://inferentialthinking.com/chapters/14/2/Variability.html). Fun fact! $\\sigma$ (Greek letter sigma) is used to represent the SD and $\\mu$ (Greek letter mu) is used for the mean. "
   ]
  },
  {
   "cell_type": "markdown",
   "id": "e5e6a411",
   "metadata": {},
   "source": [
    "**Question 1.3.** Assign `mean_age` to the mean of the players ages and `sd_age` to the SD of the players ages. Then run the cell below to see the width of one SD (blue) from the sample mean (red) plotted on the histogram of players ages.\n"
   ]
  },
  {
   "cell_type": "code",
   "execution_count": null,
   "id": "7aa131b6",
   "metadata": {
    "execution": {
     "iopub.execute_input": "2022-03-29T04:51:53.808549Z",
     "iopub.status.busy": "2022-03-29T04:51:53.808329Z",
     "iopub.status.idle": "2022-03-29T04:51:54.095078Z",
     "shell.execute_reply": "2022-03-29T04:51:54.094326Z"
    },
    "for_assignment_type": "solution",
    "scrolled": true,
    "tags": []
   },
   "outputs": [],
   "source": [
    "mean_age = ...\n",
    "sd_age = ...\n",
    "FIFA.hist(\"Age\")\n",
    "\n",
    "\n",
    "# Do not change anything below this line\n",
    "plots.scatter(mean_age, 0, color='red', zorder=2, s=50);\n",
    "plots.scatter(mean_age+sd_age, 0, marker='^', color='blue', zorder=2, s=50);\n",
    "plots.scatter(mean_age-sd_age, 0, marker='^', color='blue', zorder=2, s=50);\n",
    "plots.ylim(-0.005, 0.07);"
   ]
  },
  {
   "cell_type": "code",
   "execution_count": null,
   "id": "b8a62421",
   "metadata": {
    "deletable": false,
    "editable": false
   },
   "outputs": [],
   "source": [
    "grader.check(\"q1_3\")"
   ]
  },
  {
   "cell_type": "markdown",
   "id": "3bbbb6fc",
   "metadata": {},
   "source": [
    "In this histogram, the standard deviation is not easy to identify just by looking at the graph.\n",
    "\n",
    "However, the distributions of some variables allow us to easily spot the standard deviation on the plot. For example, if a sample follows a *normal distribution*, the standard deviation is easily spotted at the point of inflection (the point where the curve begins to change the direction of its curvature) of the distribution. "
   ]
  },
  {
   "cell_type": "markdown",
   "id": "5462067d",
   "metadata": {},
   "source": [
    "**Question 1.4.** Fill in the following code to examine the distribution of overall player ratings, which is roughly normally distributed. We’ll plot the standard deviation on the histogram, as before - notice where one standard deviation (blue) away from the mean (red) falls on the plot.\n"
   ]
  },
  {
   "cell_type": "code",
   "execution_count": null,
   "id": "17deabf9",
   "metadata": {
    "execution": {
     "iopub.execute_input": "2022-03-29T04:51:54.113614Z",
     "iopub.status.busy": "2022-03-29T04:51:54.113388Z",
     "iopub.status.idle": "2022-03-29T04:51:54.449195Z",
     "shell.execute_reply": "2022-03-29T04:51:54.448315Z"
    },
    "scrolled": true,
    "tags": []
   },
   "outputs": [],
   "source": [
    "overall_mean = ...\n",
    "overall_sd = ...\n",
    "FIFA.hist(\"Overall\", bins=np.arange(45,85,2))\n",
    "\n",
    "plots.scatter((overall_mean), 0, color='red', zorder=2, s=50);\n",
    "plots.scatter(overall_mean+overall_sd, 0, marker='^', color='blue', zorder=2, s=50);\n",
    "plots.scatter(overall_mean-overall_sd, 0, marker='^', color='blue', zorder=2, s=50);\n",
    "plots.ylim(-0.01, 0.06);"
   ]
  },
  {
   "cell_type": "code",
   "execution_count": null,
   "id": "fca698e3",
   "metadata": {
    "deletable": false,
    "editable": false
   },
   "outputs": [],
   "source": [
    "grader.check(\"q1_4\")"
   ]
  },
  {
   "cell_type": "markdown",
   "id": "f1d1d57b",
   "metadata": {},
   "source": [
    "We don’t always know how a variable will be distributed, and making assumptions about whether or not a variable will follow a normal distribution is dangerous. However, the **Central Limit Theorem** defines one distribution that always follows a normal distribution. **The distribution of the *sums* and *means* of all large random samples drawn with replacement from a single distribution (regardless of the distribution’s original shape) will be normally distributed.** Remember that the Central Limit Theorem refers to the distribution of a *statistic* calculated from a distribution, not the distribution of the original sample or population. If this is confusing, ask a staff member!\n",
    "\n",
    "The next section will explore distributions of sample means, and you will see how the standard deviation of these distributions depends on sample sizes."
   ]
  },
  {
   "cell_type": "markdown",
   "id": "f5a43dc4",
   "metadata": {},
   "source": [
    "# 2. Variability of the Sample Mean\n",
    "\n",
    "By the [Central Limit Theorem](https://www.inferentialthinking.com/chapters/14/4/Central_Limit_Theorem.html), the probability distribution of the mean or sum of a large random sample is roughly normal. The bell curve is centered at the population mean. Some of the sample means are higher and some are lower, but the deviations from the population mean are roughly symmetric on either side, as we have seen repeatedly. \n",
    "\n",
    "In our simulations, we also noticed that the means of larger samples tend to be more tightly clustered around the population mean than means of smaller samples. In this section, we will quantify the [variability of the sample mean](https://www.inferentialthinking.com/chapters/14/5/Variability_of_the_Sample_Mean.html) and develop a relation between the variability and the sample size.\n",
    "\n",
    "Let's take a look at the payroll for employees of Manhattan, New York City in 2016. The mean salary of the employees reported by the city government was about $65,890.00.\n",
    "\n",
    "*Note: If you get stuck on any part of this lab, please refer to [Chapter 14 of the textbook](https://www.inferentialthinking.com/chapters/14/Why_the_Mean_Matters.html).*"
   ]
  },
  {
   "cell_type": "code",
   "execution_count": null,
   "id": "f9c86acb",
   "metadata": {},
   "outputs": [],
   "source": [
    "NYC_payroll = Table.read_table('NYC_payroll_2016.csv').select(\"Base Salary\")\n",
    "NYC_payroll.show(5)"
   ]
  },
  {
   "cell_type": "code",
   "execution_count": null,
   "id": "db16f07a",
   "metadata": {},
   "outputs": [],
   "source": [
    "NYC_payroll_mean = np.mean(NYC_payroll.column('Base Salary'))\n",
    "NYC_payroll_mean\n",
    "print('Mean salary of Manhattan employees in 2016: ', NYC_payroll_mean.round(2))"
   ]
  },
  {
   "cell_type": "code",
   "execution_count": null,
   "id": "9510ae5e",
   "metadata": {},
   "outputs": [],
   "source": [
    "NYC_payroll.hist('Base Salary', bins=np.arange(0, 220000+10000*2, 10000))\n",
    "plots.scatter(NYC_payroll_mean, 0, color='red', zorder=2, s=50)\n",
    "plots.title('2016 salaries of NYC employees')\n",
    "plots.ylim(-0.0000005, 0.000025);"
   ]
  },
  {
   "cell_type": "markdown",
   "id": "a69ecdb5",
   "metadata": {},
   "source": [
    "Clearly, the population *does not* follow a normal distribution. Keep that in mind as we progress through these exercises.\n",
    "\n",
    "Let's take random samples **with replacement** and look at the probability distribution of the sample mean. As usual, we will use simulation to get an empirical approximation to this distribution."
   ]
  },
  {
   "cell_type": "markdown",
   "id": "3c343dd5",
   "metadata": {},
   "source": [
    "**Question 2.1.** Define a function `get_sample_mean`. Its arguments should be `table` (the name of a table), `label` (the label of the column containing the variable), and `sample_size`(the number of employees in the sample). It should sample with replacement from the table and\n",
    "return the mean of the `label` column of the sample.\n"
   ]
  },
  {
   "cell_type": "code",
   "execution_count": null,
   "id": "a13963f5",
   "metadata": {
    "execution": {
     "iopub.execute_input": "2022-03-29T04:51:54.889202Z",
     "iopub.status.busy": "2022-03-29T04:51:54.888501Z",
     "iopub.status.idle": "2022-03-29T04:51:54.893074Z",
     "shell.execute_reply": "2022-03-29T04:51:54.892270Z"
    },
    "tags": []
   },
   "outputs": [],
   "source": [
    "def get_sample_mean(table, label, sample_size):\n",
    "    sample_data = ...\n",
    "    sample_data_mean = ...\n",
    "    ..."
   ]
  },
  {
   "cell_type": "code",
   "execution_count": null,
   "id": "3113a135",
   "metadata": {
    "deletable": false,
    "editable": false
   },
   "outputs": [],
   "source": [
    "grader.check(\"q2_1\")"
   ]
  },
  {
   "cell_type": "markdown",
   "id": "63af83c3",
   "metadata": {},
   "source": [
    "**Question 2.2.** Use `get_sample_mean` to define a function `simulate_sample_mean`. The arguments are the name of the `table`, the `label` of the column containing the variable, the `sample_size`, and the number of simulations (`repetitions`).\n",
    "\n",
    "The function should sample with replacement from the table and calculate the mean of each sample. It should save the sample means in an array called `means_array`. The remaining code in the function displays an empirical histogram of the sample means.\n",
    "\n",
    "*Note: We round all values to 2 decimal places because we are working with salaries.*\n"
   ]
  },
  {
   "cell_type": "code",
   "execution_count": null,
   "id": "94fb30fa",
   "metadata": {
    "deletable": false,
    "execution": {
     "iopub.execute_input": "2022-03-29T04:51:54.906057Z",
     "iopub.status.busy": "2022-03-29T04:51:54.905787Z",
     "iopub.status.idle": "2022-03-29T04:51:54.913844Z",
     "shell.execute_reply": "2022-03-29T04:51:54.912977Z"
    },
    "tags": []
   },
   "outputs": [],
   "source": [
    "\"\"\"Empirical distribution of random sample means\"\"\"\n",
    "\n",
    "def simulate_sample_mean(table, label, sample_size, repetitions):\n",
    "    \n",
    "    means_array = make_array()\n",
    "\n",
    "    for i in np.arange(repetitions):\n",
    "        new_sample_mean = ...\n",
    "        means_array = ...\n",
    "\n",
    "    means_table = Table().with_column('Sample Means', means_array)\n",
    "    \n",
    "    # Display empirical histogram and print all relevant quantities – don't change this!\n",
    "    means_table.hist(bins=20)\n",
    "    plots.xlabel('Sample Means')\n",
    "    plots.title('Sample Size {sample_size}; {repetitions} Resamples'.format(sample_size=sample_size, repetitions=repetitions))\n",
    "    print(\"Sample size: \", sample_size)\n",
    "    print(\"Population mean:\", np.mean(table.column(label)).round(2))\n",
    "    print(\"Average of sample means: \", np.mean(means_array).round(2))\n",
    "    print(\"Population SD:\", np.std(table.column(label)).round(2))\n",
    "    print(\"SD of sample means:\", np.std(means_array).round(2))\n",
    "    return np.std(means_array)"
   ]
  },
  {
   "cell_type": "markdown",
   "id": "edd05898",
   "metadata": {},
   "source": [
    "Verify with a peer or TA that you've implemented the function above correctly. If you haven't implemented it correctly, the rest of the lab won't work properly, so this step is crucial."
   ]
  },
  {
   "cell_type": "markdown",
   "id": "33bdc949",
   "metadata": {},
   "source": [
    " In the following cell, we will create a sample of size 100 from `salaries` and graph it using our new `simulate_sample_mean` function.\n",
    " \n",
    " *Hint: You should see a distribution similar to something we've been talking about. If not, check your function.*"
   ]
  },
  {
   "cell_type": "code",
   "execution_count": null,
   "id": "e8f0cab3",
   "metadata": {
    "execution": {
     "iopub.execute_input": "2022-03-29T04:51:54.917446Z",
     "iopub.status.busy": "2022-03-29T04:51:54.916805Z",
     "iopub.status.idle": "2022-03-29T04:51:56.169374Z",
     "shell.execute_reply": "2022-03-29T04:51:56.168628Z"
    }
   },
   "outputs": [],
   "source": [
    "simulate_sample_mean(NYC_payroll, 'Base Salary', 100, 12000) \n",
    "plots.xlim(50000, 100000);"
   ]
  },
  {
   "cell_type": "markdown",
   "id": "cd7cb46c",
   "metadata": {},
   "source": [
    "Notice that our distribution of *sample means* looks approximately normal! Did it matter if our original distribution was normally distributed?"
   ]
  },
  {
   "cell_type": "markdown",
   "id": "21b0fedf",
   "metadata": {},
   "source": [
    "**Question 2.3.** Simulate two sample means, one for a sample of 300 salaries and one for a sample of 550 salaries. In each case, perform 12,000 repetitions. Don't worry about the `plots.xlim` or `plots.ylim` lines – they just make sure that all of the plots have the same x-axis and y-axis, respectively. \n"
   ]
  },
  {
   "cell_type": "code",
   "execution_count": null,
   "id": "73e3393a",
   "metadata": {
    "execution": {
     "iopub.execute_input": "2022-03-29T04:51:56.173026Z",
     "iopub.status.busy": "2022-03-29T04:51:56.172383Z",
     "iopub.status.idle": "2022-03-29T04:52:01.409951Z",
     "shell.execute_reply": "2022-03-29T04:52:01.409047Z"
    },
    "for_assignment_type": "solution",
    "tags": []
   },
   "outputs": [],
   "source": [
    "simulate_sample_mean(..., ..., ..., ...)\n",
    "plots.xlim(50000, 100000)\n",
    "plots.ylim(0, 0.0002)\n",
    "plots.show();\n",
    "print('\\n')\n",
    "simulate_sample_mean(..., ..., ..., ...)\n",
    "plots.xlim(50000, 100000)\n",
    "plots.ylim(0, 0.0002)\n",
    "plots.show();"
   ]
  },
  {
   "cell_type": "markdown",
   "id": "34940c00",
   "metadata": {},
   "source": [
    "**Question 2.4.** Assign `q2_4` to an array of numbers corresponding to true statement(s) about the plots from 2.3. \n",
    "\n",
    "*Hint*: If a distribution is bell-shaped, what type of curve does it follow? \n",
    "\n",
    "1. The Central Limit Theorem doesn't apply because the population is not bell-shaped.\n",
    "2. The Central Limit Theorem applies because even though the population distribution is skewed, the distribution of sample means appears  bell-shaped.\n",
    "3. The sample mean of 550 salaries is likely to be closer to the population mean compared to the sample mean of 300 salaries according to the CLT. \n",
    "4. According to the CLT the mean of all the sample means usually equals the value of a particular sample mean.\n",
    "5. The CLT requires we draw a large random sample with replacement.\n",
    "6. The SD of the mean increases in value with larger sample sizes.\n"
   ]
  },
  {
   "cell_type": "code",
   "execution_count": null,
   "id": "d0a54589",
   "metadata": {
    "execution": {
     "iopub.execute_input": "2022-03-29T04:52:01.414245Z",
     "iopub.status.busy": "2022-03-29T04:52:01.413400Z",
     "iopub.status.idle": "2022-03-29T04:52:01.417924Z",
     "shell.execute_reply": "2022-03-29T04:52:01.417203Z"
    },
    "for_assignment_type": "solution",
    "tags": []
   },
   "outputs": [],
   "source": [
    "q2_4 = ..."
   ]
  },
  {
   "cell_type": "code",
   "execution_count": null,
   "id": "d23a567b",
   "metadata": {
    "deletable": false,
    "editable": false
   },
   "outputs": [],
   "source": [
    "grader.check(\"q2_4\")"
   ]
  },
  {
   "cell_type": "markdown",
   "id": "1eac588a",
   "metadata": {},
   "source": [
    "**Question 2.5.** Assign `q2_5` to an array of numbers corresponding to true statement(s) about the plots from 2.3.\n",
    "\n",
    "1. The distribution of sample means for sample size 550 has **more** variability than the distribution of sample means for size 300.\n",
    "2. The distribution of sample means for sample size 550 has **less** variability than the distribution of sample means for size 300.\n",
    "3. The mean of the plots in 2.3 is approximately equal to the mean of one of the samples.\n",
    "4. The mean of the plots in 2.3 is approximately equal to the population mean.\n"
   ]
  },
  {
   "cell_type": "code",
   "execution_count": null,
   "id": "b439239b",
   "metadata": {
    "execution": {
     "iopub.execute_input": "2022-03-29T04:52:01.429936Z",
     "iopub.status.busy": "2022-03-29T04:52:01.429212Z",
     "iopub.status.idle": "2022-03-29T04:52:01.432731Z",
     "shell.execute_reply": "2022-03-29T04:52:01.432137Z"
    },
    "tags": []
   },
   "outputs": [],
   "source": [
    "q2_5 = ..."
   ]
  },
  {
   "cell_type": "code",
   "execution_count": null,
   "id": "c78f33a4",
   "metadata": {
    "deletable": false,
    "editable": false
   },
   "outputs": [],
   "source": [
    "grader.check(\"q2_5\")"
   ]
  },
  {
   "cell_type": "markdown",
   "id": "09220e0d",
   "metadata": {},
   "source": [
    "Below, we'll look at what happens when we take an **increasing number of resamples of a fixed sample size.** Notice what number in the code changes, and what stays the same. How does the distribution of the resampled means change?"
   ]
  },
  {
   "cell_type": "code",
   "execution_count": null,
   "id": "1cf38ae9",
   "metadata": {
    "execution": {
     "iopub.execute_input": "2022-03-29T04:52:01.461414Z",
     "iopub.status.busy": "2022-03-29T04:52:01.461102Z",
     "iopub.status.idle": "2022-03-29T04:52:01.778814Z",
     "shell.execute_reply": "2022-03-29T04:52:01.778091Z"
    }
   },
   "outputs": [],
   "source": [
    "simulate_sample_mean(NYC_payroll, 'Base Salary', 100, 500)\n",
    "plots.xlim(50000, 100000)\n",
    "plots.ylim(0, 0.00016);"
   ]
  },
  {
   "cell_type": "code",
   "execution_count": null,
   "id": "31599f27",
   "metadata": {
    "execution": {
     "iopub.execute_input": "2022-03-29T04:52:01.782767Z",
     "iopub.status.busy": "2022-03-29T04:52:01.782185Z",
     "iopub.status.idle": "2022-03-29T04:52:02.247705Z",
     "shell.execute_reply": "2022-03-29T04:52:02.247051Z"
    }
   },
   "outputs": [],
   "source": [
    "simulate_sample_mean(NYC_payroll, 'Base Salary', 100, 1000)\n",
    "plots.xlim(50000, 100000);\n",
    "plots.ylim(0, 0.00015);"
   ]
  },
  {
   "cell_type": "code",
   "execution_count": null,
   "id": "06ed40bd",
   "metadata": {
    "execution": {
     "iopub.execute_input": "2022-03-29T04:52:02.257140Z",
     "iopub.status.busy": "2022-03-29T04:52:02.256900Z",
     "iopub.status.idle": "2022-03-29T04:52:03.046475Z",
     "shell.execute_reply": "2022-03-29T04:52:03.045726Z"
    }
   },
   "outputs": [],
   "source": [
    "simulate_sample_mean(NYC_payroll, 'Base Salary', 100, 5000)\n",
    "plots.xlim(50000, 100000);\n",
    "plots.ylim(0, 0.00015);"
   ]
  },
  {
   "cell_type": "code",
   "execution_count": null,
   "id": "4f91693f",
   "metadata": {
    "execution": {
     "iopub.execute_input": "2022-03-29T04:52:03.056713Z",
     "iopub.status.busy": "2022-03-29T04:52:03.056047Z",
     "iopub.status.idle": "2022-03-29T04:52:04.464977Z",
     "shell.execute_reply": "2022-03-29T04:52:04.464231Z"
    }
   },
   "outputs": [],
   "source": [
    "simulate_sample_mean(NYC_payroll, 'Base Salary', 100, 10000)\n",
    "plots.xlim(50000, 100000);\n",
    "plots.ylim(0, 0.00015);"
   ]
  },
  {
   "cell_type": "markdown",
   "id": "5820bdf5",
   "metadata": {},
   "source": [
    "What did you notice about the distributions of sample means in the four histograms above? Discuss with your peers or ask a staff member."
   ]
  },
  {
   "cell_type": "markdown",
   "id": "f7bd14bc",
   "metadata": {},
   "source": [
    "**Question 2.6.** Assign the variable `SD_of_sample_means` to the integer corresponding to your answer to the following question:\n",
    "\n",
    "When I increase the number of *resamples* that I take, for a *fixed* sample size, the SD of my sample means will...\n",
    "\n",
    "1. Stay about the same\n",
    "2. Decrease\n",
    "3. Increase\n",
    "4. Vary widely\n"
   ]
  },
  {
   "cell_type": "code",
   "execution_count": null,
   "id": "1856d589",
   "metadata": {
    "deletable": false,
    "execution": {
     "iopub.execute_input": "2022-03-29T04:52:04.468258Z",
     "iopub.status.busy": "2022-03-29T04:52:04.468002Z",
     "iopub.status.idle": "2022-03-29T04:52:04.472127Z",
     "shell.execute_reply": "2022-03-29T04:52:04.471071Z"
    },
    "tags": []
   },
   "outputs": [],
   "source": [
    "SD_of_sample_means = ..."
   ]
  },
  {
   "cell_type": "markdown",
   "id": "15b3196e",
   "metadata": {},
   "source": [
    "**Question 2.7.** Let's think about how the relationships between population SD, sample SD, and SD of sample means change with varying sample size. Which of the following is true? Assign the variable `pop_vs_sample` to an array of integer(s) that correspond to true statement(s).\n",
    "\n",
    "*Hint 1:* The sample SD is different from the SD of sample means. \n",
    "\n",
    "1. As the sample size increases, the SD of sample means increases.\n",
    "2. As the sample size increases, the SD of sample means decreases.\n",
    "3. As the sample size increases, the SD of sample means stays the same.\n",
    "4. As the sample size increases, the sample SD increases.\n",
    "5. As the sample size increases, the sample SD decreases.\n",
    "6. As the sample size increases, the sample SD becomes more consistent with population SD.\n"
   ]
  },
  {
   "cell_type": "code",
   "execution_count": null,
   "id": "68eff429",
   "metadata": {
    "deletable": false,
    "execution": {
     "iopub.execute_input": "2022-03-29T04:52:04.484013Z",
     "iopub.status.busy": "2022-03-29T04:52:04.483796Z",
     "iopub.status.idle": "2022-03-29T04:52:04.487488Z",
     "shell.execute_reply": "2022-03-29T04:52:04.486800Z"
    },
    "tags": []
   },
   "outputs": [],
   "source": [
    "pop_vs_sample = ..."
   ]
  },
  {
   "cell_type": "code",
   "execution_count": null,
   "id": "a352ba0d",
   "metadata": {
    "deletable": false,
    "editable": false
   },
   "outputs": [],
   "source": [
    "grader.check(\"q2_7\")"
   ]
  },
  {
   "cell_type": "markdown",
   "id": "34af1a85",
   "metadata": {},
   "source": [
    "**Question 2.8.** Is there a relationship between the sample size and the standard deviation of the sample means? Assign `q2_8` to the number corresponding to the statement that answers this question.\n",
    "\n",
    "*Hint:* [Chapter 14.5](https://inferentialthinking.com/chapters/14/5/Variability_of_the_Sample_Mean.html) of the textbook may be helpful.\n",
    "\n",
    "1. There is no relationship between the sample size and the the SD of the sample means.\n",
    "2. The SD of the sample means is equal to the population SD divided by the square of the sample size.\n",
    "3. The SD of the sample means is equal to the population SD.\n",
    "4. The SD of the sample means is equal to the population SD divided by the square root of sample size.\n"
   ]
  },
  {
   "cell_type": "code",
   "execution_count": null,
   "id": "07010c12",
   "metadata": {
    "execution": {
     "iopub.execute_input": "2022-03-29T04:52:04.501433Z",
     "iopub.status.busy": "2022-03-29T04:52:04.500645Z",
     "iopub.status.idle": "2022-03-29T04:52:04.504459Z",
     "shell.execute_reply": "2022-03-29T04:52:04.503648Z"
    },
    "tags": []
   },
   "outputs": [],
   "source": [
    "q2_8 = ..."
   ]
  },
  {
   "cell_type": "markdown",
   "id": "3657c4d7",
   "metadata": {},
   "source": [
    "Throughout this lab, we have been taking many random samples from a population. However, all of these principles hold for bootstrapped resamples from a single sample. If your original sample is relatively large, all of your re-samples will also be relatively large, and so the SD of resampled means will be relatively small. \n",
    "\n",
    "In order to change the variability of your sample mean, you’d have to change the size of the original sample from which you are taking bootstrapped resamples."
   ]
  },
  {
   "cell_type": "markdown",
   "id": "54c847bc",
   "metadata": {},
   "source": [
    "## 3. Submission\n",
    "\n",
    "<img src=\"jim.jpg\" alt=\"drawing\" width=\"300\"/>\n",
    "\n",
    "Jim really wanted to congratulate you on completing Lab 8!\n",
    "\n",
    "**Important submission steps:** \n",
    "1. Run the tests and verify that they all pass.\n",
    "2. Choose **Save Notebook** from the **File** menu, then **run the final cell**. \n",
    "3. Click the link to download the zip file.\n",
    "4. Then submit the zip file to the corresponding assignment according to your instructor's directions. \n",
    "\n",
    "**It is your responsibility to make sure your work is saved before running the last cell.**"
   ]
  },
  {
   "cell_type": "markdown",
   "id": "6e52dc37",
   "metadata": {
    "deletable": false,
    "editable": false
   },
   "source": [
    "## Submission\n",
    "\n",
    "Make sure you have run all cells in your notebook in order before running the cell below, so that all images/graphs appear in the output. The cell below will generate a zip file for you to submit. **Please save before exporting!**"
   ]
  },
  {
   "cell_type": "code",
   "execution_count": null,
   "id": "85c7b57d",
   "metadata": {
    "deletable": false,
    "editable": false
   },
   "outputs": [],
   "source": [
    "# Save your notebook first, then run this cell to export your submission.\n",
    "grader.export(pdf=False, run_tests=True)"
   ]
  },
  {
   "cell_type": "markdown",
   "id": "a342c83c",
   "metadata": {},
   "source": [
    " "
   ]
  }
 ],
 "metadata": {
  "kernelspec": {
   "display_name": "Python 3 (ipykernel)",
   "language": "python",
   "name": "python3"
  },
  "language_info": {
   "codemirror_mode": {
    "name": "ipython",
    "version": 3
   },
   "file_extension": ".py",
   "mimetype": "text/x-python",
   "name": "python",
   "nbconvert_exporter": "python",
   "pygments_lexer": "ipython3",
   "version": "3.10.11"
  },
  "otter": {
   "OK_FORMAT": true,
   "tests": {
    "q1_3": {
     "name": "q1_3",
     "points": null,
     "suites": [
      {
       "cases": [
        {
         "code": ">>> round(mean_age, 3) == 23.128\nTrue",
         "hidden": false,
         "locked": false
        },
        {
         "code": ">>> round(sd_age, 3) == 4.640\nTrue",
         "hidden": false,
         "locked": false
        }
       ],
       "scored": true,
       "setup": "",
       "teardown": "",
       "type": "doctest"
      }
     ]
    },
    "q1_4": {
     "name": "q1_4",
     "points": null,
     "suites": [
      {
       "cases": [
        {
         "code": ">>> round(overall_mean, 3) == 63.370\nTrue",
         "hidden": false,
         "locked": false
        },
        {
         "code": ">>> round(overall_sd, 3) == 8.036\nTrue",
         "hidden": false,
         "locked": false
        }
       ],
       "scored": true,
       "setup": "",
       "teardown": "",
       "type": "doctest"
      }
     ]
    },
    "q2_1": {
     "name": "q2_1",
     "points": null,
     "suites": [
      {
       "cases": [
        {
         "code": ">>> np.random.seed(8)\n>>> np.round(get_sample_mean(NYC_payroll, 'Base Salary', 100), 3) == 60441.993\nTrue",
         "hidden": false,
         "locked": false
        }
       ],
       "scored": true,
       "setup": "",
       "teardown": "",
       "type": "doctest"
      }
     ]
    },
    "q2_4": {
     "name": "q2_4",
     "points": null,
     "suites": [
      {
       "cases": [
        {
         "code": ">>> import hashlib # This imports a hashing library for the autograder.\n>>> def get_hash(num):\n...     \"\"\"Helper function for assessing correctness.\"\"\"\n...     return hashlib.md5(str(num).encode()).hexdigest()\n>>> \n>>> hash_user = get_hash(set(np.array(q2_4).astype(int)))\n>>> hash_expected = get_hash(set(np.array(make_array(2, 3, 5)).astype(int)))\n>>> hash_user == hash_expected\nTrue",
         "hidden": false,
         "locked": false
        }
       ],
       "scored": true,
       "setup": "",
       "teardown": "",
       "type": "doctest"
      }
     ]
    },
    "q2_5": {
     "name": "q2_5",
     "points": null,
     "suites": [
      {
       "cases": [
        {
         "code": ">>> import hashlib # This imports a hashing library for the autograder.\n>>> def get_hash(num):\n...     \"\"\"Helper function for assessing correctness.\"\"\"\n...     return hashlib.md5(str(num).encode()).hexdigest()\n>>> \n>>> hash_user = get_hash(set(np.array(q2_5).astype(int)))\n>>> hash_expected = get_hash(set(np.array(make_array(2, 4)).astype(int)))\n>>> hash_user == hash_expected\nTrue",
         "hidden": false,
         "locked": false
        }
       ],
       "scored": true,
       "setup": "",
       "teardown": "",
       "type": "doctest"
      }
     ]
    },
    "q2_6": {
     "name": "q2_6",
     "points": null,
     "suites": [
      {
       "cases": [],
       "scored": true,
       "setup": "",
       "teardown": "",
       "type": "doctest"
      }
     ]
    },
    "q2_7": {
     "name": "q2_7",
     "points": null,
     "suites": [
      {
       "cases": [
        {
         "code": ">>> import hashlib # This imports a hashing library for the autograder.\n>>> def get_hash(num):\n...     \"\"\"Helper function for assessing correctness.\"\"\"\n...     return hashlib.md5(str(num).encode()).hexdigest()\n>>> \n>>> hash_user = get_hash(set(np.array(pop_vs_sample).astype(int)))\n>>> hash_expected = get_hash(set(np.array(make_array(2, 6)).astype(int)))\n>>> hash_user == hash_expected\nTrue",
         "hidden": false,
         "locked": false
        }
       ],
       "scored": true,
       "setup": "",
       "teardown": "",
       "type": "doctest"
      }
     ]
    },
    "q2_8": {
     "name": "q2_8",
     "points": null,
     "suites": [
      {
       "cases": [],
       "scored": true,
       "setup": "",
       "teardown": "",
       "type": "doctest"
      }
     ]
    }
   }
  }
 },
 "nbformat": 4,
 "nbformat_minor": 5
}
